{
 "nbformat": 4,
 "nbformat_minor": 0,
 "metadata": {
  "colab": {
   "provenance": [],
   "authorship_tag": "ABX9TyNffTUIWG1YztPoN27lKfyJ"
  },
  "kernelspec": {
   "name": "python3",
   "display_name": "Python 3 (ipykernel)",
   "language": "python"
  },
  "language_info": {
   "name": "python"
  }
 },
 "cells": [
  {
   "metadata": {},
   "cell_type": "markdown",
   "source": "### **GPT4 Data Masking**"
  },
  {
   "cell_type": "code",
   "metadata": {
    "id": "91pgfD2gwRie",
    "ExecuteTime": {
     "end_time": "2025-08-07T18:37:42.824917Z",
     "start_time": "2025-08-07T18:37:38.089998Z"
    }
   },
   "source": [
    "from openai import OpenAI\n",
    "import pandas as pd\n",
    "import json\n",
    "from tqdm import tqdm\n",
    "\n",
    "from config import API_TOKEN"
   ],
   "outputs": [],
   "execution_count": 1
  },
  {
   "metadata": {},
   "cell_type": "markdown",
   "source": "#### Configure prompt"
  },
  {
   "metadata": {
    "ExecuteTime": {
     "end_time": "2025-08-07T18:37:50.810433Z",
     "start_time": "2025-08-07T18:37:50.796203Z"
    }
   },
   "cell_type": "code",
   "source": [
    "def process_output(id_note: int, output_split: list) -> dict:\n",
    "\n",
    "    anonym_text = output_split[1]\n",
    "    obscured_entities = output_split[3].split(',')\n",
    "\n",
    "    # Remove [\n",
    "    if obscured_entities[0].strip().startswith('['):\n",
    "        obscured_entities[0] = obscured_entities[0].strip()[1:]\n",
    "\n",
    "    # Remove ]\n",
    "    if obscured_entities[-1].strip().endswith(']'):\n",
    "        obscured_entities[-1] = obscured_entities[-1].strip()[:-1]\n",
    "\n",
    "    data = {\n",
    "        \"id_note\": id_note,\n",
    "        \"anonym_text\": anonym_text,\n",
    "        \"obscured_entities\": set(obscured_entities)\n",
    "    }\n",
    "\n",
    "    # Remove ' '\n",
    "    data['anonym_text'] = data['anonym_text'].lstrip()\n",
    "\n",
    "    # Remove ' '\n",
    "    data['obscured_entities'] = {entity.lstrip() for entity in data['obscured_entities']}\n",
    "\n",
    "    return data"
   ],
   "outputs": [],
   "execution_count": 2
  },
  {
   "metadata": {
    "ExecuteTime": {
     "end_time": "2025-08-07T18:37:56.878800Z",
     "start_time": "2025-08-07T18:37:56.858483Z"
    }
   },
   "cell_type": "code",
   "source": [
    "example_note = \"A a sixteen year-old girl, presented to our Outpatient department with the complaints of discomfort in the neck and lower back as well as restriction of body movements. She was not able to maintain an erect posture and would tend to fall on either side while standing up from a sitting position. She would keep her head turned to the right and upwards due to the sustained contraction of the neck muscles. There was a sideways bending of the back in the lumbar region. To counter the abnormal positioning of the back and neck, she would keep her limbs in a specific position to allow her body weight to be supported. Due to the restrictions with the body movements at the neck and in the lumbar region, she would require assistance in standing and walking. She would require her parents to help her with daily chores, including all activities of self-care.She had been experiencing these difficulties for the past four months since when she was introduced to olanzapine tablets for the control of her exacerbated mental illness. This was not her first experience with this drug over the past seven years since she had been diagnosed with bipolar affective disorder. Her first episode of the affective disorder was that of mania at the age of eleven which was managed with the use of olanzapine tablets in 2.5–10 mg doses per day at different times. The patient developed pain and discomfort in her neck within the second week of being put on tablet olanzapine at a dose of 5 mg per day. This was associated with a sustained and abnormal contraction of the neck muscles that would pull her head to the right in an upward direction. These features had persisted for the first three years of her illness with a varying intensity, distress, and dysfunction which would tend to correlate with the dose of olanzapine. Apart from a brief period of around three weeks when she was given tablet trihexyphenidyl 4 mg per day for rigidity in her upper limbs, she was not prescribed any other psychotropic medication. The rigidity showed good response to this medication which was subsequently\"\n",
    "\n",
    "example_masked_note = \"An adolescent patient presented to our Outpatient department with complaints of di******** in th* ne** an* lo*** ba** as well as re********* of bo** mo*******. The patient was un**** to ma****** an er*** po***** and would tend to f*** on ei**** si** while st****** up fr** a si***** po******. The head was kept tu**** to th* ri*** an* up***** due to a su******* co********* of the ne** mu******. There was a si****** be***** of the ba** in the lu**** re****. To counter the ab****** po********* of the ba** an* ne**, the limbs were kept in a sp****** po****** to support the body's weight. Due to re********* wi** bo** mo******* at the ne** an* in the lu**** re****, the patient required as******** in st****** and wa******, including help with all activities of self-care. These difficulties had been experienced for several months since being introduced to ol******** tablets for an exacerbated mental illness. This was not the first experience with this drug over several years, since being diagnosed with an affective disorder. The first episode of the disorder was manic in nature, occurring in early adolescence, and was managed with the use of ol******** at varying doses. The patient developed pa** an* di******** in the ne** early in the treatment with ol******** at a specific dose. This was associated with a su******* an* ab****** co********* of the ne** mu****** that would p*** the he** to the ri*** in an up**** di*******. These features had persisted for a prolonged period with varying intensity, distress, and dysfunction, which tended to correlate with the dose of ol********. Apart from a brief period when the patient was given tr************* at a therapeutic dose for ri****** in th* up*** li***, no other psychotropic medication was prescribed. The ri****** showed a good response to this medication which was subsequently\"\n",
    "\n",
    "# Create prompt for evaluating note.\n",
    "def create_prompt(note: str) -> str:\n",
    "    prompt = f\"\"\"\n",
    "        You are an AI assistant specializing in the anonymization of sensitive medical information, adhering to the standards set by GDPR, specifically Articles 4 and 9. You must apply either Data Masking (partially obscuring sensitive entities) or Generalization (replacing specific details with broader categories) to all potentially identifiable entities.\n",
    "\n",
    "        The sensitive entities to be anonymized are:\n",
    "        - Patient's age, name, and gender\n",
    "        - Psychiatric diagnoses and detailed clinical history\n",
    "        - Specific pharmacological therapies (e.g., olanzapine, trihexyphenidyl) and their dosages\n",
    "        - Side effects and neurological/motor symptoms\n",
    "        - Functional data and personal autonomy details\n",
    "        - Detailed clinical and therapeutic timelines\n",
    "\n",
    "        For example, given the following clinical note:\n",
    "        \\\"\\\"\\\"\n",
    "        {example_note}\n",
    "        \\\"\\\"\\\"\n",
    "\n",
    "        Becomes:\n",
    "        \\\"\\\"\\\"\n",
    "        {example_masked_note}\n",
    "        \\\"\\\"\\\"\n",
    "\n",
    "        Given the following original medical text:\n",
    "        \\\"\\\"\\\"\n",
    "        {note}\n",
    "        \\\"\\\"\\\"\n",
    "\n",
    "        Your output must be formatted as follows:\n",
    "\n",
    "        Anonymized Text:\n",
    "        [Anonymized version of the note]\n",
    "\n",
    "        Obscured Entities from Original Medical Text:\n",
    "        [original sensitive entity 1, original sensitive entity 2, ...]\n",
    "\n",
    "        Do not explain or comment on the output.\n",
    "        \"\"\"\n",
    "    return prompt"
   ],
   "outputs": [],
   "execution_count": 3
  },
  {
   "metadata": {},
   "cell_type": "markdown",
   "source": "#### Reading sample masked dataset"
  },
  {
   "metadata": {
    "ExecuteTime": {
     "end_time": "2025-08-07T18:38:51.456453Z",
     "start_time": "2025-08-07T18:38:49.022123Z"
    }
   },
   "cell_type": "code",
   "source": "df = pd.read_csv(\"../../datasets/sample/masked_dataset_sample.csv\")",
   "outputs": [],
   "execution_count": 4
  },
  {
   "metadata": {
    "ExecuteTime": {
     "end_time": "2025-08-07T20:05:48.429114Z",
     "start_time": "2025-08-07T20:05:48.413733Z"
    }
   },
   "cell_type": "code",
   "source": [
    "def make_inference():\n",
    "\n",
    "    gpt4_masked_sample_text = {'index': [], 'note': [], 'masked_note': [], 'sensitive_entity_note': []}\n",
    "\n",
    "    for i in tqdm(range(0, len(df)), desc=\"GPT4 Requests\"):\n",
    "\n",
    "        client = OpenAI(api_key=API_TOKEN, base_url=\"https://api.gpt4-all.xyz/v1\")\n",
    "\n",
    "        # Read original note\n",
    "        note = df['note'][i]\n",
    "        index = int(df['index'][i])\n",
    "\n",
    "        # Create formatted prompt to send to GPT4.\n",
    "        prompt = create_prompt(note=note)\n",
    "\n",
    "        try:\n",
    "\n",
    "            # Request to API.\n",
    "            api_response = client.chat.completions.create(\n",
    "                model=\"gpt-4.1\",\n",
    "                messages=[{\"role\": \"user\", \"content\": prompt}],\n",
    "                temperature=0.7,\n",
    "                top_p=0.95,\n",
    "                stream=False,\n",
    "            )\n",
    "\n",
    "            # Output of model.\n",
    "            output = api_response.choices[0].message.content\n",
    "\n",
    "            # Process output.\n",
    "            output_split = output.split('\\n')\n",
    "            if '' in output_split: output_split.remove('')\n",
    "            formatted_data = process_output(id_note=index, output_split=output_split)\n",
    "\n",
    "            # Append text\n",
    "            gpt4_masked_sample_text['index'].append(index)\n",
    "            gpt4_masked_sample_text['note'].append(note)\n",
    "            gpt4_masked_sample_text['masked_note'].append(formatted_data['anonym_text'])\n",
    "            gpt4_masked_sample_text['sensitive_entity_note'].append(formatted_data['obscured_entities'])\n",
    "\n",
    "        except Exception as e:\n",
    "\n",
    "            # Append text\n",
    "            gpt4_masked_sample_text['index'].append(index)\n",
    "            gpt4_masked_sample_text['note'].append(note)\n",
    "            gpt4_masked_sample_text['masked_note'].append('')\n",
    "            gpt4_masked_sample_text['sensitive_entity_note'].append('')\n",
    "\n",
    "    pd.DataFrame(gpt4_masked_sample_text).to_csv(\"../../datasets/sample/gpt4_masked_dataset_sample.csv\", index=False)"
   ],
   "outputs": [],
   "execution_count": 19
  },
  {
   "metadata": {
    "ExecuteTime": {
     "end_time": "2025-08-08T06:18:18.781571Z",
     "start_time": "2025-08-07T20:06:03.770654Z"
    }
   },
   "cell_type": "code",
   "source": "make_inference()",
   "outputs": [
    {
     "name": "stderr",
     "output_type": "stream",
     "text": [
      "GPT4 Requests: 100%|██████████| 5000/5000 [10:12:13<00:00,  7.35s/it]  \n"
     ]
    }
   ],
   "execution_count": 20
  }
 ]
}
