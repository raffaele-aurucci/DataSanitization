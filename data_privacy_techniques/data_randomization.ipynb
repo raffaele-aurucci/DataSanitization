{
 "cells": [
  {
   "cell_type": "markdown",
   "metadata": {
    "id": "d58KJ01wRM4B"
   },
   "source": [
    "## **Data Randomization**"
   ]
  },
  {
   "cell_type": "code",
   "execution_count": 1,
   "metadata": {
    "colab": {
     "base_uri": "https://localhost:8080/"
    },
    "id": "vnA0_2qT49wm",
    "outputId": "e798888a-9ac4-44e4-db99-6a668c78caf5"
   },
   "outputs": [
    {
     "name": "stdout",
     "output_type": "stream",
     "text": [
      "Collecting word2number\n",
      "  Downloading word2number-1.1.zip (9.7 kB)\n",
      "  Preparing metadata (setup.py) ... \u001b[?25l\u001b[?25hdone\n",
      "Building wheels for collected packages: word2number\n",
      "  Building wheel for word2number (setup.py) ... \u001b[?25l\u001b[?25hdone\n",
      "  Created wheel for word2number: filename=word2number-1.1-py3-none-any.whl size=5568 sha256=dfb2a4f19af77cdf10ee8724252887b2b427e04ce9923215b2ac46308ca7f99f\n",
      "  Stored in directory: /root/.cache/pip/wheels/cd/ef/ae/073b491b14d25e2efafcffca9e16b2ee6d114ec5c643ba4f06\n",
      "Successfully built word2number\n",
      "Installing collected packages: word2number\n",
      "Successfully installed word2number-1.1\n"
     ]
    }
   ],
   "source": [
    "!pip install word2number"
   ]
  },
  {
   "cell_type": "code",
   "execution_count": 11,
   "metadata": {
    "colab": {
     "base_uri": "https://localhost:8080/"
    },
    "id": "1rMdGj4_ed1j",
    "outputId": "b1350337-5870-46e8-e1e5-49ea7a1bd8b8"
   },
   "outputs": [
    {
     "name": "stderr",
     "output_type": "stream",
     "text": [
      "[nltk_data] Downloading package punkt to /root/nltk_data...\n",
      "[nltk_data]   Package punkt is already up-to-date!\n",
      "[nltk_data] Downloading package wordnet to /root/nltk_data...\n",
      "[nltk_data]   Package wordnet is already up-to-date!\n",
      "[nltk_data] Downloading package omw-1.4 to /root/nltk_data...\n",
      "[nltk_data]   Package omw-1.4 is already up-to-date!\n",
      "[nltk_data] Downloading package punkt_tab to /root/nltk_data...\n",
      "[nltk_data]   Package punkt_tab is already up-to-date!\n"
     ]
    },
    {
     "data": {
      "text/plain": [
       "True"
      ]
     },
     "execution_count": 11,
     "metadata": {},
     "output_type": "execute_result"
    }
   ],
   "source": [
    "import random\n",
    "import re\n",
    "import nltk\n",
    "import pandas as pd\n",
    "import calendar\n",
    "import inflect\n",
    "import spacy\n",
    "import string\n",
    "import torch\n",
    "\n",
    "from nltk.corpus import wordnet\n",
    "from nltk.tokenize import word_tokenize\n",
    "\n",
    "from transformers import AutoTokenizer, AutoModelForTokenClassification, pipeline\n",
    "from tqdm import tqdm\n",
    "from word2number import w2n\n",
    "\n",
    "\n",
    "nltk.download('punkt')\n",
    "nltk.download('wordnet')\n",
    "nltk.download('omw-1.4')\n",
    "nltk.download('punkt_tab')"
   ]
  },
  {
   "cell_type": "markdown",
   "metadata": {
    "id": "J8HQzX5JPdfV"
   },
   "source": [
    "#### **Reading dataset**"
   ]
  },
  {
   "cell_type": "code",
   "execution_count": 3,
   "metadata": {
    "colab": {
     "base_uri": "https://localhost:8080/"
    },
    "id": "Uz4QGKmYPZpf",
    "outputId": "b99581b8-44a0-448c-964c-8c570251ea34"
   },
   "outputs": [
    {
     "name": "stderr",
     "output_type": "stream",
     "text": [
      "/usr/local/lib/python3.11/dist-packages/huggingface_hub/utils/_auth.py:94: UserWarning: \n",
      "The secret `HF_TOKEN` does not exist in your Colab secrets.\n",
      "To authenticate with the Hugging Face Hub, create a token in your settings tab (https://huggingface.co/settings/tokens), set it as secret in your Google Colab and restart your session.\n",
      "You will be able to reuse this secret in all of your notebooks.\n",
      "Please note that authentication is recommended but still optional to access public models or datasets.\n",
      "  warnings.warn(\n"
     ]
    }
   ],
   "source": [
    "df = pd.read_json(\"hf://datasets/AGBonnet/augmented-clinical-notes/augmented_notes_30K.jsonl\", lines=True)"
   ]
  },
  {
   "cell_type": "code",
   "execution_count": 4,
   "metadata": {
    "colab": {
     "base_uri": "https://localhost:8080/",
     "height": 293
    },
    "id": "UVwNRnkMRREc",
    "outputId": "3833d329-77af-4e16-af66-5c8e727d57e4"
   },
   "outputs": [
    {
     "data": {
      "application/vnd.google.colaboratory.intrinsic+json": {
       "summary": "{\n  \"name\": \"df\",\n  \"rows\": 30000,\n  \"fields\": [\n    {\n      \"column\": \"note\",\n      \"properties\": {\n        \"dtype\": \"string\",\n        \"num_unique_values\": 24348,\n        \"samples\": [\n          \"We herein present a case that was recently managed at our institution, the Department of Surgery of the San Camillo Forlanini Hospital of Rome, Italy.\\nA 53-year-old man with previous history of alcohol-related liver cirrhosis presents to our department for routine follow-up. His comorbidities include hypertension managed with oral antihypertensive drugs and diabetes mellitus type 2. He has no significant allergies and never underwent any surgical procedure. He brings an ultrasound, which shows a 4 cm heterogenous mass in segment 8. His alfafetoprotein level is elevated to 76 ng/mL. He has no symptoms and looks in good performance status. We scheduled him for a triphasic CT scan, which shows a lesion of 4.3 cm with brisk arterial contrast and venous washout. According to the LIRADS classification, this lesion could be considered a class 5 with diagnostic features of hepatocellular carcinoma. The patient was discussed in our multidisciplinary tumor board including hepatobiliary and transplant surgeons, hepatologists, radiologists, pathologists, oncologists, and interventional radiologists. The plan was to submit the patient to curative intent treatments given his early presentation according to the Barcelona Clinic Liver Cancer Staging System (BCLC), namely surgical resection or liver transplantation; radiofrequency ablation was excluded given the tumor\\u2019s dimensions. Given the good performance status, the position of the lesion (which was right below the Glissonian capsule) and the liver function of the patients, the MDT decided to schedule the patient for surgery. We therefore saw the patient in clinic and discussed the procedure. Informed consent was signed, and liver function was tested using ICG retention rate. We used 0.5 mg/Kg corresponding to 40 mg in this 80 kg patient. The DICOM data of the CT scan of the patient were then submitted to our radiologist who performed a 3D reconstruction of the patient\\u2019s anatomy and the relationship of the lesion with the major vessels. Furthermore, the exact dimensions of the portal territories\",\n          \"The patient was a 64-year-old woman with seven children brought to the hospital with severe vomiting and a history of solid dysphagia; she had the symptoms for three months and was referred to different physicians, left without definite diagnosis before admission to our center.. Patient\\u2019s past medical history was unremarkable. Post-contrast computed tomography (CT) of the neck showed two lesions (kissing tumors) in the upper esophagus, causing the tracheal shift to the right side with no lymph node enlargement (Fig. ). Physical examination revealed no abnormalities, and the results of laboratory examinations were within the normal range. CT-guided fine-needle aspiration biopsy evaluation of the mass showed a few pleomorphic spindle malignant cells among inflammatory cells in a bloody background. Additional endoscopy of the esophagus, stomach, and duodenum was performed for the patient, which showed a large tumor in the cricopharyngeus causing stricture, while the stomach and duodenum were normal. (Fig. ).\\nThe patient was scheduled for exploratory laparotomy with the exploration of cervical organs, resection of the pharynx, thyroid (partial), and esophagus and gastric pull up along with the insertion of a tracheostomy and bilateral chest tube, and cervical penrose.\\nThe patient was laid in a supine position. After preparation and sterilization, the abdomen was opened by a high midline incision. The surgeon inserted his finger into the mediastinum to assess the presence of any tumors. Stomach was mobilized by harmonic ligasure, lesser sac was opened, short gastric and left gastric arteries were ligated, and gastric pedicle was made on the right gastroepiploic arteries and epigastric area. Then, the esophagus was dissected bluntly by the finger in the mediastinum through the hiatus's opening and continued upward. Adhesion to the carina was found and released meticulously. Next, the collar incision was made on the neck. Then, subtotal thyroidectomy was done, and the specimen was sent for pathologic evaluation. Trocar was\",\n          \"A 38-year-old woman from Elazig, Turkey with atrial septal defect was admitted for exertional dyspnea and fatigue. She had a general tendency and swelling both of the lower limbs at term (38-40 weeks\\u2019 gestation). Echocardiography had documented atrial septal defect () and she had three children in alive. She had an intrauterine death at 28 weeks\\u2019 gestation.\\nOn physical examination, she presented in both lower limbs swelling. A venous color flow Doppler ultrasonography of the both lower-extremity were requested, showing bilateral venous insufficiency, but there were not peripheral venous thrombosis. On auscultation, fixed split of second heart sound and pansystolic murmur on the left side of sternal border were heard. ECG was NSR. A chest X-ray showed mild heart enlargement. Echocardiography documented enlargement of the right ventricle and both atria with atrial septal defect (approximately 33 \\u00d7 38 mm) and normal function of both ventricles (). Right-sided pulmonary veins were not identified. Multidetector Computerized Tomography (CT) angiography confirmed atrial septal defect and abnormal return of right-sided pulmonary veins into the right atrium () and showed inferior vena cava on the right side of spine and showed total interruption of IVC below the hepatic veins (). Multidetector CT angiography provided full description of a complex anomaly documenting right inferior vena cava with azygous continuation, draining into the superior vena cava (, ) and hepatic veins were draining directly into the right atrium (). Ultrasound revealed polysplenia (), 0.5 cm nodule in the left thyroid lobe and 1 cm cystic mass in the right over.\\nA standard median sternotomy was performed. The pericardial cavity was opened and the heart was exposed. SVC was dissected out to the bridging vein, exposing the azygos vein and anomalous pulmonary veins. Cardiopulmonary bypass was established with cannulation to the ascending aorta and SVC was cannulated by L-shaped catheter, because of absence the IVC. The\"\n        ],\n        \"semantic_type\": \"\",\n        \"description\": \"\"\n      }\n    },\n    {\n      \"column\": \"conversation\",\n      \"properties\": {\n        \"dtype\": \"string\",\n        \"num_unique_values\": 25761,\n        \"samples\": [\n          \"Doctor: Good morning, what brings you here today?\\nPatient: I was referred to your department with a 1-month history of DHS.\\nDoctor: I see. Can you tell me more about your history?\\nPatient: Yes, I have suffered from severe right foot pain because of limb ischemia related to systemic sclerosis.\\nDoctor: I see. When were you diagnosed with systemic sclerosis?\\nPatient: It was diagnosed 30 years ago and was classified as having limited cutaneous systemic sclerosis.\\nDoctor: Hmm, okay. And what about the fibrosis?\\nPatient: It was limited to my hands without involvement of my head or neck.\\nDoctor: I see. Is there any family history of any neuromuscular disease?\\nPatient: No, there isn't.\\nDoctor: Alright. Can you tell me more about your right foot pain?\\nPatient: One month before visiting your hospital, I developed right foot gangrene. Although I had Raynaud's phenomenon and ulcerations in my fingers, I had no symptom in my foot before I had gangrene. The pain was so severe that I used tramadol and NSAIDs as painkillers.\\nDoctor: I see. And when did you start to complain about DHS?\\nPatient: It was when my foot pain worsened. I had difficulty in keeping my head straight and my gaze forward.\\nDoctor: I see. Can you describe your neck deformity?\\nPatient: Clinical examination revealed severe weakness of my neck extensor muscles. My neck deformity was flexible and easily corrected passively.\\nDoctor: I see. And were there any neurological abnormalities including sensory disturbance or muscle weakness in your extremities?\\nPatient: No, there weren't.\\nDoctor: Alright. And what did the radiographs of your cervical spine reveal?\\nPatient: They revealed only mild degenerative changes and severe cervical kyphosis.\\nDoctor: I see. And what about your cervical magnetic resonance imaging?\\nPatient: It showed no spinal canal stenosis and no abnormal signal change in the cervical paraspinal muscles.\\nDoctor: I see. And what did the computed tomographic angiography show?\\nPatient: It showed occlusion of bilateral anterior tibial arteries and peroneal arteries, and development of collaterals.\\nDoctor: I see. Despite intensive conservative therapy including alprostadil, argatroban, and sarpogrelate, lower extremity ischemia progressed, right?\\nPatient: Yes, that's correct.\\nDoctor: Alright. So, we decided to amputate your leg below the knee under general anesthesia, correct?\\nPatient: Yes.\\nDoctor: And your postoperative course was uneventful, right?\\nPatient: Yes, it was.\\nDoctor: Good. And your severe foot pain was resolved after the surgery, correct?\\nPatient: Yes, it was.\\nDoctor: And at the postoperative follow-up visit 3 weeks after surgery, your DHS was significantly attenuated, right?\\nPatient: Yes, it was. My forward vision and neck pain were also improved.\\nDoctor: That's great to hear. The feature of the present patient was attenuation of her DHS after pain relief by amputation of her severely ischemic limb.\\nPatient: Yes, that's correct.\\n[Conversation ends]\\n[Conversation Starts]\\nDoctor: Good morning, what brings you here today?\\nPatient's family: Our mother was referred to your department with a 1-month history of DHS.\\nDoctor: I see. Can you tell me more about her history?\\nPatient's family: Yes, she has suffered from severe right foot pain because of limb ischemia related to systemic sclerosis.\\nDoctor: I see. When was she diagnosed with systemic sclerosis?\\nPatient's family: It was diagnosed 30 years ago and was classified as having limited cutaneous systemic sclerosis.\\nDoctor: Hmm, okay. And what about the fibrosis?\\nPatient's family: It was limited to her hands without involvement of her head or neck.\\nDoctor: I see. Is there any family history of any neuromuscular disease?\\nPatient's family: No, there isn't.\\nDoctor: Alright. Can you tell me more about her right foot pain?\\nPatient's family: One month before visiting your hospital, she developed right foot gangrene. Although she had Raynaud's phenomenon and ulcerations in her fingers, she had no symptom in her foot before she had gangrene. The pain was so severe that she used tramadol and NSAIDs as painkillers.\\nDoctor: I see. And when did she start to complain about DHS?\\nPatient's family: It was when her foot pain worsened. She had difficulty in keeping her head straight and her gaze forward.\\nDoctor: I see. Can you describe her neck deformity?\\nPatient's family: Clinical examination revealed severe weakness of her neck extensor muscles. Her neck deformity was flexible and easily corrected passively.\\nDoctor: I see. And were there any neurological abnormalities including sensory disturbance or muscle weakness in her extremities?\\nPatient's family: No, there weren't.\\nDoctor: Alright. And what did the radiographs of her cervical spine reveal?\\nPatient's family: They revealed only mild degenerative changes and severe cervical kyphosis.\\nDoctor: I see. And what about her cervical magnetic resonance imaging?\\nPatient's family: It showed no spinal canal stenosis and no abnormal signal change in the cervical paraspinal muscles.\\nDoctor: I see. And what did the computed tomographic angiography show?\\nPatient's family: It showed occlusion of bilateral anterior tibial arteries and peroneal arteries, and development of collaterals.\\nDoctor: I see. Despite intensive conservative therapy including alprostadil, argatroban, and sarpogrelate, lower extremity ischemia progressed, right?\\nPatient's family: Yes, that's correct.\\nDoctor: Alright. So, we decided to amputate her leg below the knee under general anesthesia, correct?\\nPatient's family: Yes.\\nDoctor: And her postoperative course was uneventful, right?\\nPatient's family: Yes, it was.\\nDoctor: Good. And her severe foot pain was resolved after the surgery, correct?\\nPatient's family: Yes, it was.\\nDoctor: And at the postoperative follow-up visit 3 weeks after surgery, her DHS was significantly attenuated, right?\\nPatient's family: Yes, it was. Her forward vision and neck pain were also improved.\\nDoctor: That's great to hear. The feature of the present patient was attenuation of her DHS after pain relief by amputation of her severely ischemic limb.\\nPatient's family: Yes, that's correct.\\n[Conversation ends]\\n[Note: The patient eventually died.]\\n[Conversation Starts]\\nDoctor: Good morning, what brings you here today?\\nPatient's family: Our mother was referred to your department with a 1-month history of DHS.\\nDoctor: I see. Can you tell me more about her history?\\nPatient's family: Yes, she suffered from severe right foot pain because of limb ischemia related to systemic sclerosis.\\nDoctor: I see. When was she diagnosed with systemic sclerosis?\\nPatient's family: It was diagnosed 30 years ago and was classified as having limited cutaneous systemic sclerosis.\\nDoctor: Hmm, okay. And what about the fibrosis?\\nPatient's family: It was limited to her hands without involvement of her head or neck.\\nDoctor: I see. Is there any family history of any neuromuscular disease?\\nPatient's family: No, there wasn't.\\nDoctor: Alright. Can you tell me more about her right foot pain?\\nPatient's family: One month before visiting your hospital, she developed right foot gangrene. Although she had Raynaud's phenomenon and ulcerations in her fingers, she had no symptom in her foot before she had gangrene. The pain was so severe that she used tramadol and NSAIDs as painkillers.\\nDoctor: I see. And when did she start to complain about DHS?\\nPatient's family: It was when her foot pain worsened. She had difficulty in keeping her head straight and her gaze forward.\\nDoctor: I see. Can you describe her neck deformity?\\nPatient's family: Clinical examination revealed severe weakness of her neck extensor muscles. Her neck deformity was flexible and easily corrected passively.\\nDoctor: I see. And were there any neurological abnormalities including sensory disturbance or muscle weakness in her extremities?\\nPatient's family: No, there weren't.\\nDoctor: Alright. And what did the radiographs of her cervical spine reveal?\\nPatient's family: They revealed only mild degenerative changes and severe cervical kyphosis.\\nDoctor: I see. And what about her cervical magnetic resonance imaging?\\nPatient's family: It showed no spinal canal stenosis and no abnormal signal change in the cervical paraspinal muscles.\\nDoctor: I see. And what did the computed tomographic angiography show?\\nPatient's family: It showed occlusion of bilateral anterior tibial arteries and peroneal arteries, and development of collaterals.\\nDoctor: I see. Despite intensive conservative therapy including alprostadil, argatroban, and sarpogrelate, lower extremity ischemia progressed, right?\\nPatient's family: Yes, that's correct.\\nDoctor: Alright. So, we decided to amputate her leg below the knee under general anesthesia, correct?\\nPatient's family: Yes.\\nDoctor: And her postoperative course was uneventful, right?\\nPatient's family: Yes, it was.\\nDoctor: Good. And her severe foot pain was resolved after the surgery, correct?\\nPatient's family: Yes, it was.\\nDoctor: And at the postoperative follow-up visit 3 weeks after surgery, her DHS was significantly attenuated, right?\\nPatient's family: Yes, it was. Her forward vision and neck pain were also improved.\\nDoctor: That's great to hear. The feature of the present patient was attenuation of her DHS after pain relief by amputation of her severely ischemic limb.\\nPatient's family: Yes, that's correct.\\nDoctor: I'm sorry to inform you that your mother eventually passed away.\\nPatient's family: Thank you for your help, doctor.\\n[Conversation ends]\\n[Note: The patient eventually died.]\\n[Conversation Starts]\\nDoctor: Good morning, what brings you here today?\\nPatient's family: Our mother was referred to your department with a 1-month history of DHS.\\nDoctor: I see. Can you tell me more about her history?\\nPatient's family: Yes, she had suffered from severe right foot pain because of limb ischemia related to systemic sclerosis.\\nDoctor: I see. When was she diagnosed with systemic sclerosis?\\nPatient's family: It was diagnosed 30 years ago and was classified as having limited cutaneous systemic sclerosis.\\nDoctor: Hmm, okay. And what about the fibrosis?\\nPatient's family: It was limited to her hands without involvement of her head or neck.\\nDoctor: I see. Is there any family history of any neuromuscular disease?\\nPatient's family: No, there wasn't.\\nDoctor: Alright. Can you tell me more about her right foot pain?\\nPatient's family: One month before visiting your hospital, she had developed right foot gangrene. Although she had Raynaud's phenomenon and ulcerations in her fingers, she had no symptom in her foot before she had gangrene. The pain was so severe that she used tramadol and NSAIDs as painkillers.\\nDoctor: I see. And when did she start to complain about DHS?\\nPatient's family: It was when her foot pain worsened. She had difficulty in keeping her head straight and her gaze forward.\\nDoctor: I see. Can you describe her neck deformity?\\nPatient's family: Clinical examination revealed severe weakness of her neck extensor muscles. Her neck deformity was flexible and easily corrected passively.\\nDoctor: I see. And were there any neurological abnormalities including sensory disturbance or muscle weakness in her extremities?\\nPatient's family: No, there weren't.\\nDoctor: Alright. And what did the radiographs of her cervical spine reveal?\\nPatient's family: They revealed only mild degenerative changes and severe cervical kyphosis.\\nDoctor: I see. And what about her cervical magnetic resonance imaging?\\nPatient's family: It showed no spinal canal stenosis and no abnormal signal change in the cervical paraspinal muscles.\\nDoctor: I see. And what did the computed tomographic angiography show?\\nPatient's family: It showed occlusion of bilateral anterior tibial arteries and peroneal arteries, and development of collaterals.\\nDoctor: I see. Despite intensive conservative therapy including alprostadil, argatroban, and sarpogrelate, lower extremity ischemia progressed, right?\\nPatient's family: Yes, that's correct.\\nDoctor: Alright. So, we decided to amputate her leg below the knee under general anesthesia, correct?\\nPatient's family: Yes.\\nDoctor: And her postoperative course was uneventful, right?\\nPatient's family: Yes, it was.\\nDoctor: Good. And her severe foot pain was resolved after the surgery, correct?\\nPatient's family: Yes, it was.\\nDoctor: And at the postoperative follow-up visit 3 weeks after surgery, her DHS was significantly attenuated, right?\\nPatient's family: Yes, it was. Her forward vision and neck pain were also improved.\\nDoctor: That's great to hear. The feature of the present patient was attenuation of her DHS after pain relief by amputation of her severely ischemic limb.\\nPatient's family: Yes, that's correct.\\nDoctor: I'm sorry to inform you that your mother eventually passed away.\\nPatient's family: Thank you for your help, doctor.\\n[Conversation ends]\\n[Note: The patient eventually died.]\\n[Conversation Starts]\\nDoctor: Good morning, what brings you here today?\\nPatient's family: Our mother was referred to your department with a 1-month history of DHS.\\nDoctor: I see. Can you tell me more about her history?\\nPatient's family: Yes, she had suffered from severe right foot pain because of limb ischemia related to systemic sclerosis.\\nDoctor: I see. When was she diagnosed with systemic sclerosis?\\nPatient's family: It was diagnosed 30 years ago and was classified as having limited cutaneous systemic sclerosis.\\nDoctor: Hmm, okay. And what about the fibrosis?\\nPatient's family: It was limited to her hands without involvement of her head or neck.\\nDoctor: I see. Is there any family history of any neuromuscular disease?\\nPatient's family: No, there wasn't.\\nDoctor: Alright. Can you tell me more about her right foot pain?\\nPatient's family: One month before visiting your hospital, she had developed right foot gangrene. Although she had Raynaud's phenomenon and ulcerations in her fingers, she had no symptom in her foot before she had gangrene. The pain was so severe that she used tramadol and NSAIDs as painkillers.\\nDoctor: I see. And when did she start to complain about DHS?\\nPatient's family: It was when her foot pain worsened. She had difficulty in keeping her head straight and her gaze forward.\\nDoctor: I see. Can you describe her neck deformity?\\nPatient's family: Clinical examination revealed severe weakness of her neck extensor muscles. Her neck deformity was flexible and easily corrected passively.\\nDoctor: I see. And were there any neurological abnormalities including sensory disturbance or muscle weakness in her extremities?\\nPatient's family: No, there weren't.\\nDoctor: Alright. And what did the radiographs of her cervical spine reveal?\\nPatient's family: They revealed only mild degenerative changes and severe cervical kyphosis.\\nDoctor: I see. And what about her cervical magnetic resonance imaging?\\nPatient's family: It showed no spinal canal stenosis and no abnormal signal change in the cervical paraspinal muscles.\\nDoctor: I see. And what did the computed tomographic angiography show?\\nPatient's family: It showed occlusion of bilateral anterior tibial arteries and peroneal arteries, and development of collaterals.\\nDoctor: I see. Despite intensive conservative therapy including alprostadil, argatroban, and sarpogrelate, lower extremity ischemia progressed, right?\\nPatient's family: Yes, that's correct.\\nDoctor: Alright. So, we decided to amputate her leg below the knee under general anesthesia, correct?\\nPatient's family: Yes.\\nDoctor: And her postoperative course was uneventful, right?\\nPatient's family: Yes, it was.\\nDoctor: Good. And her severe foot pain was resolved after the surgery, correct?\\nPatient's family: Yes, it was.\\nDoctor: And at the postoperative follow-up visit 3 weeks after surgery, her DHS was significantly attenuated, right?\\nPatient's family: Yes, it was. Her forward vision and neck pain were also improved.\\nDoctor: That's great to hear. The feature of the present patient was attenuation of her DHS after pain relief by amputation of her severely ischemic limb.\\nPatient's family: Yes, that's correct.\\nDoctor: I'm sorry to inform you that your mother eventually passed away.\\nPatient's family: Thank you for your help, doctor.\\n[Conversation ends]\\n[Note: The patient eventually died.]\\n[Conversation Starts]\\nDoctor: Good morning, what brings you here today?\\nPatient's family: Our mother was referred to your department with a 1-month history of DHS.\\nDoctor: I see. Can you tell me more about her history?\\nPatient's family: Yes, she had suffered from severe right foot pain because of limb ischemia related to systemic sclerosis.\\nDoctor: I see. When was she diagnosed with systemic sclerosis?\\nPatient's family: It was diagnosed 30 years ago and was classified as having limited cutaneous systemic sclerosis.\\nDoctor: Hmm, okay. And what about the fibrosis?\\nPatient's\",\n          \"Doctor: Hi, I'm Dr. Smith. What brings you to the ED today?\\nPatient: I was in a road traffic accident and I have severe pain in my right hip and right thigh.\\nDoctor: I see. Can you walk?\\nPatient: No, I can't.\\nDoctor: Okay. Let me have a look. Can you describe the pain you're feeling?\\nPatient: It's really bad. I can't move my right hip and thigh.\\nDoctor: Hmm, I understand. During our clinical examination, we found that you have a deformity of your right hip and thigh. Is that correct?\\nPatient: Yes, that's correct.\\nDoctor: And it seems that your leg and foot are showing external rotation and abduction, is that correct?\\nPatient: Yes, that's correct.\\nDoctor: There is also tenderness and abnormal mobility at your right thigh, correct?\\nPatient: Yes, that's correct.\\nDoctor: And is there tenderness at your right hip joint as well?\\nPatient: Yes, there is.\\nDoctor: Okay, I understand. We also found that the range of movements at your right hip is restricted and painful, correct?\\nPatient: Yes, that's correct.\\nDoctor: Great. And we didn't find any distal neurovascular de\\ufb01cit, correct?\\nPatient: Yes, that's correct.\\nDoctor: After providing advanced trauma life support, we sent you for radiography, including X-rays of your pelvis with both hips and of your right thigh with hip and knee. And we also did a CT scan of your hip and pelvis to exclude acetabulum fractures.\\nPatient: Okay.\\nDoctor: And after reviewing the radiographs, we confirmed that there was a fracture in the shaft of your femur and a posterior dislocation in your hip.\\nPatient: Oh no.\\nDoctor: Yes, I'm afraid so. We took you to an emergency OT and subjected you to closed manipulation of your hip joint. But as there was a fracture in the shaft of your femur, we were unable to reduce the hip dislocation.\\nPatient: What does that mean?\\nDoctor: It means that we had two options: open reduction and external \\ufb01xation, and closed manipulation of the dislocation of your hip joint. In the end, we placed a temporary external \\ufb01xator in your femur under anesthesia and performed closed manipulation and reduction of the dislocation of your hip using the Allis method.\\nPatient: Okay.\\nDoctor: And the day after, we subjected you to final \\ufb01xation of your femur shaft fracture in an elective OT. We fixed the fracture with a closed reduction and an internal \\ufb01xation.\\nPatient: Okay, I understand.\\nDoctor: Great. You'll need to come back for follow-up appointments to monitor your progress. And you should avoid putting weight on your right leg for the time being.\\nPatient: Okay, got it.\",\n          \"Doctor: Hi, how are you feeling today?\\nPatient: Not so good, doctor. I have been experiencing some pain and swelling in my wrist and ankle joints for the past two weeks.\\nDoctor: I see. Can you tell me more about your symptoms?\\nPatient: Sure, I have been experiencing some joint pain, swelling, and stiffness in both my wrist and ankle joints.\\nDoctor: Hmm, okay. Can you tell me a little bit about your medical history?\\nPatient: Yes, I was diagnosed with lepromatous leprosy about a year ago and have been on multidrug therapy since then.\\nDoctor: I see. And you're saying that you've been experiencing these joint symptoms for the past two weeks?\\nPatient: Yes, that's correct.\\nDoctor: Alright, let me take a look. [Examines patient's joint]\\nDoctor: I can see some thickening and tenderness in your tendons. But there doesn't seem to be any joint deformity.\\nPatient: Yes, I have a history of recurrent crops of tender nodular lesions during and after my therapy.\\nDoctor: I see. We did a magnetic resonance imaging on your right ankle joint to evaluate the tenosynovitis and it showed some small focal peritendinous fluid collections along the flexor digitorium longus tendon and minimal fluid around the ankle joint.\\nPatient: Yes, I remember that.\\nDoctor: We also did a fine-needle aspiration cytology from the affected nerve and it revealed the presence of foamy macrophages and acid-fast bacilli.\\nPatient: Yes, I remember that as well.\\nDoctor: The PCR from the isolates confirmed the presence of Mycobacterium leprae. So, we diagnosed you with leprosy presenting with tenosynovitis and erythema nodosum leprosum.\\nPatient: Yes, I remember that.\\nDoctor: We started you on the standard WHO multidrug therapy for leprosy, but you didn't respond well to it. So, we gave you a combination therapy of thalidomide 200 mg per day and prednisone 50 mg per day. But even that didn't help.\\nPatient: Yes, I remember that.\\nDoctor: That's why we started you on infliximab after doing a pre-biologic workup including chest X-Ray and viral serologies.\\nPatient: Yes, I remember that too.\\nDoctor: Infliximab was given at a dose of 250 mg diluted in normal saline with dosing schedule at baseline and weeks 2 and 6. The treatment was well-tolerated and you showed good improvement in your symptoms.\\nPatient: Yes, I did feel better after taking infliximab.\\nDoctor: Great. We followed you up for 6 months and there was no recurrence of erythema nodosum leprosum.\\nPatient: That's good to hear. Thank you, doctor.\\nDoctor: No problem. Just keep taking your medication and come back to see me if you experience any more symptoms.\"\n        ],\n        \"semantic_type\": \"\",\n        \"description\": \"\"\n      }\n    },\n    {\n      \"column\": \"idx\",\n      \"properties\": {\n        \"dtype\": \"number\",\n        \"std\": 59105,\n        \"min\": 14,\n        \"max\": 206996,\n        \"num_unique_values\": 30000,\n        \"samples\": [\n          127042,\n          131562,\n          141471\n        ],\n        \"semantic_type\": \"\",\n        \"description\": \"\"\n      }\n    },\n    {\n      \"column\": \"summary\",\n      \"properties\": {\n        \"dtype\": \"string\",\n        \"num_unique_values\": 29992,\n        \"samples\": [\n          \"{\\n\\\"visit motivation\\\": \\\"Right lower quadrant pain, nausea, and a single episode of vomiting after jumping off the back of a pickup truck\\\",\\n\\\"admission\\\": [\\n{\\n\\\"reason\\\": \\\"Repeated episodes of right lower quadrant pain and nausea\\\",\\n\\\"date\\\": \\\"A week after the initial incident\\\",\\n\\\"duration\\\": \\\"None\\\",\\n\\\"care center details\\\": \\\"Local emergency room\\\"\\n}\\n],\\n\\\"patient information\\\": {\\n\\\"age\\\": \\\"21\\\",\\n\\\"sex\\\": \\\"Male\\\",\\n\\\"ethnicity\\\": \\\"None\\\",\\n\\\"weight\\\": \\\"None\\\",\\n\\\"height\\\": \\\"None\\\",\\n\\\"family medical history\\\": \\\"None\\\",\\n\\\"recent travels\\\": \\\"None\\\",\\n\\\"socio economic context\\\": \\\"None\\\",\\n\\\"occupation\\\": \\\"None\\\"\\n},\\n\\\"patient medical history\\\": {\\n\\\"physiological context\\\": \\\"No prior abdominal surgeries, unremarkable medical history\\\",\\n\\\"psychological context\\\": \\\"None\\\",\\n\\\"vaccination history\\\": \\\"None\\\",\\n\\\"allergies\\\": \\\"None\\\",\\n\\\"exercise frequency\\\": \\\"None\\\",\\n\\\"nutrition\\\": \\\"None\\\",\\n\\\"sexual history\\\": \\\"None\\\",\\n\\\"alcohol consumption\\\": \\\"None\\\",\\n\\\"drug usage\\\": \\\"None\\\",\\n\\\"smoking status\\\": \\\"None\\\"\\n},\\n\\\"surgeries\\\": [\\n{\\n\\\"reason\\\": \\\"Indirect inguinal hernia sac and communicating inguinal hydrocele\\\",\\n\\\"Type\\\": \\\"Exploratory inguinotomy\\\",\\n\\\"time\\\": \\\"12 weeks after initial presentation\\\",\\n\\\"outcome\\\": \\\"Patient recovered well and returned to normal activity four weeks postoperatively with a relief of symptoms\\\",\\n\\\"details\\\": \\\"The sack was removed and the defect repaired\\\"\\n}\\n],\\n\\\"symptoms\\\": [\\n{\\n\\\"name of symptom\\\": \\\"Right lower quadrant pain, nausea, vomiting, intermittent right inguinal bulge, radiating pain into the right scrotum\\\",\\n\\\"intensity of symptom\\\": \\\"None\\\",\\n\\\"location\\\": \\\"Right lower quadrant, right inguinal region, right scrotum\\\",\\n\\\"time\\\": \\\"After jumping off the back of a pickup truck and in the days following\\\",\\n\\\"temporalisation\\\": \\\"Intermittent, spontaneously resolving\\\",\\n\\\"behaviours affecting the symptom\\\": \\\"Rest seemed to resolve the pain and nausea initially\\\",\\n\\\"details\\\": \\\"No scrotal swelling or skin changes were reported\\\"\\n}\\n],\\n\\\"medical examinations\\\": [\\n{\\n\\\"name\\\": \\\"Abdominal/genital exam\\\",\\n\\\"result\\\": \\\"Unimpressive\\\",\\n\\\"details\\\": \\\"Performed by multiple surgeons and a radiologist\\\"\\n},\\n{\\n\\\"name\\\": \\\"Inguinal and scrotal sonography\\\",\\n\\\"result\\\": \\\"No evidence of inguinal hernia and other unimpressive findings\\\",\\n\\\"details\\\": \\\"Mild increased fullness to the right inguinal region, significant tenderness limited comprehensive examination\\\"\\n}\\n],\\n\\\"diagnosis tests\\\": [\\n{\\n\\\"test\\\": \\\"CT imaging with IV/enteric contrast and Valsalva\\\",\\n\\\"severity\\\": \\\"None\\\",\\n\\\"result\\\": \\\"Negative\\\",\\n\\\"condition\\\": \\\"Initially suspected hernia\\\",\\n\\\"time\\\": \\\"During the first visit to the local emergency room\\\",\\n\\\"details\\\": \\\"Ruled out hernia\\\"\\n},\\n{\\n\\\"test\\\": \\\"Repeat CT\\\",\\n\\\"severity\\\": \\\"None\\\",\\n\\\"result\\\": \\\"Unimpressive for herniation or any soft tissue bulge\\\",\\n\\\"condition\\\": \\\"None\\\",\\n\\\"time\\\": \\\"Prior to exploratory surgery\\\",\\n\\\"details\\\": \\\"Patient had difficulty achieving adequate changes at imaging\\\"\\n}\\n],\\n\\\"treatments\\\": [\\n{\\n\\\"name\\\": \\\"Conservative management\\\",\\n\\\"related condition\\\": \\\"Musculoskeletal injury to the lower abdomen\\\",\\n\\\"dosage\\\": \\\"None\\\",\\n\\\"time\\\": \\\"After initial diagnosis at the local emergency room\\\",\\n\\\"frequency\\\": \\\"None\\\",\\n\\\"duration\\\": \\\"None\\\",\\n\\\"reason for taking\\\": \\\"To manage the musculoskeletal injury\\\",\\n\\\"reaction to treatment\\\": \\\"Advised to follow up with primary care if no improvement was noted\\\",\\n\\\"details\\\": \\\"None\\\"\\n}\\n],\\n\\\"discharge\\\": {\\n\\\"reason\\\": \\\"Successful postoperative recovery\\\",\\n\\\"referral\\\": \\\"None\\\",\\n\\\"follow up\\\": \\\"None\\\",\\n\\\"discharge summary\\\": \\\"Patient recovered well and returned to normal activity four weeks postoperatively with a relief of symptoms\\\"\\n}\\n}\",\n          \"{\\n\\\"visit motivation\\\": \\\"Complaint of left side chest pain that lasted for an hour with concomitant hypotension\\\",\\n\\\"admission\\\": [\\n{\\n\\\"reason\\\": \\\"Inferior wall STEMI and suspected TAAD\\\",\\n\\\"date\\\": \\\"None\\\",\\n\\\"duration\\\": \\\"None\\\",\\n\\\"care center details\\\": \\\"Emergency department\\\"\\n}\\n],\\n\\\"patient information\\\": {\\n\\\"age\\\": \\\"58 years old\\\",\\n\\\"sex\\\": \\\"Male\\\",\\n\\\"ethnicity\\\": \\\"None\\\",\\n\\\"weight\\\": \\\"None\\\",\\n\\\"height\\\": \\\"None\\\",\\n\\\"family medical history\\\": \\\"None\\\",\\n\\\"recent travels\\\": \\\"None\\\",\\n\\\"socio economic context\\\": \\\"None\\\",\\n\\\"occupation\\\": \\\"None\\\"\\n},\\n\\\"patient medical history\\\": {\\n\\\"physiological context\\\": \\\"Hypertension without regular medical control\\\",\\n\\\"psychological context\\\": \\\"None\\\",\\n\\\"vaccination history\\\": \\\"None\\\",\\n\\\"allergies\\\": \\\"None\\\",\\n\\\"exercise frequency\\\": \\\"None\\\",\\n\\\"nutrition\\\": \\\"None\\\",\\n\\\"sexual history\\\": \\\"None\\\",\\n\\\"alcohol consumption\\\": \\\"None\\\",\\n\\\"drug usage\\\": \\\"None\\\",\\n\\\"smoking status\\\": \\\"None\\\"\\n},\\n\\\"surgeries\\\": [\\n{\\n\\\"reason\\\": \\\"None\\\",\\n\\\"Type\\\": \\\"None\\\",\\n\\\"time\\\": \\\"None\\\",\\n\\\"outcome\\\": \\\"None\\\",\\n\\\"details\\\": \\\"None\\\"\\n}\\n],\\n\\\"symptoms\\\": [\\n{\\n\\\"name of symptom\\\": \\\"Chest pain\\\",\\n\\\"intensity of symptom\\\": \\\"None\\\",\\n\\\"location\\\": \\\"Left side\\\",\\n\\\"time\\\": \\\"Lasted for an hour\\\",\\n\\\"temporalisation\\\": \\\"None\\\",\\n\\\"behaviours affecting the symptom\\\": \\\"None\\\",\\n\\\"details\\\": \\\"No cold sweating, radiating pain, or claudication\\\"\\n}\\n],\\n\\\"medical examinations\\\": [\\n{\\n\\\"name\\\": \\\"12-lead electrocardiogram\\\",\\n\\\"result\\\": \\\"Suggested inferior wall and right ventricle STEMI\\\",\\n\\\"details\\\": \\\"ST elevation in leads III, and aVF, lead I with reciprocal ST depression, and right side V4R elevation\\\"\\n},\\n{\\n\\\"name\\\": \\\"Bedside echocardiography\\\",\\n\\\"result\\\": \\\"Dissection flap located over the ascending aorta with moderate aortic valve regurgitation\\\",\\n\\\"details\\\": \\\"None\\\"\\n}\\n],\\n\\\"diagnosis tests\\\": [\\n{\\n\\\"test\\\": \\\"Primary PCI\\\",\\n\\\"severity\\\": \\\"None\\\",\\n\\\"result\\\": \\\"Abnormally large pressure differential between peripheral radial artery and central ascending aorta\\\",\\n\\\"condition\\\": \\\"Suspected TAAD\\\",\\n\\\"time\\\": \\\"Emergent\\\",\\n\\\"details\\\": \\\"Pressure damping site found at the junction of aorta arch and innominate artery\\\"\\n},\\n{\\n\\\"test\\\": \\\"Injection of contrast medium through diagnostic catheter\\\",\\n\\\"severity\\\": \\\"None\\\",\\n\\\"result\\\": \\\"Stenosis near the injection site and irregularly narrowing of the ascending aorta\\\",\\n\\\"condition\\\": \\\"TAAD\\\",\\n\\\"time\\\": \\\"None\\\",\\n\\\"details\\\": \\\"Extensive dissection involving innominate artery, left carotid artery, and bilateral iliac arteries\\\"\\n},\\n{\\n\\\"test\\\": \\\"Computer tomography of the aorta\\\",\\n\\\"severity\\\": \\\"None\\\",\\n\\\"result\\\": \\\"Verified TAAD with extensive dissection\\\",\\n\\\"condition\\\": \\\"TAAD\\\",\\n\\\"time\\\": \\\"None\\\",\\n\\\"details\\\": \\\"Evidence of a false lumen compromising the innominate artery that had caused the pressure damping\\\"\\n}\\n],\\n\\\"treatments\\\": [\\n{\\n\\\"name\\\": \\\"Antiplatelet medications\\\",\\n\\\"related condition\\\": \\\"Inferior wall STEMI\\\",\\n\\\"dosage\\\": \\\"None\\\",\\n\\\"time\\\": \\\"None\\\",\\n\\\"frequency\\\": \\\"None\\\",\\n\\\"duration\\\": \\\"None\\\",\\n\\\"reason for taking\\\": \\\"To manage STEMI\\\",\\n\\\"reaction to treatment\\\": \\\"None\\\",\\n\\\"details\\\": \\\"None\\\"\\n},\\n{\\n\\\"name\\\": \\\"Inotropic agent\\\",\\n\\\"related condition\\\": \\\"Inferior wall STEMI\\\",\\n\\\"dosage\\\": \\\"None\\\",\\n\\\"time\\\": \\\"None\\\",\\n\\\"frequency\\\": \\\"None\\\",\\n\\\"duration\\\": \\\"None\\\",\\n\\\"reason for taking\\\": \\\"To manage STEMI\\\",\\n\\\"reaction to treatment\\\": \\\"None\\\",\\n\\\"details\\\": \\\"None\\\"\\n}\\n],\\n\\\"discharge\\\": {\\n\\\"reason\\\": \\\"None\\\",\\n\\\"referral\\\": \\\"Consultation with cardiovascular surgeon\\\",\\n\\\"follow up\\\": \\\"None\\\",\\n\\\"discharge summary\\\": \\\"None\\\"\\n}\\n}\",\n          \"{\\n\\\"visit motivation\\\": \\\"Unesthetic appearance of the gums and hypersensitivity in relation to his upper right canine\\\",\\n\\\"admission\\\": [\\n{\\n\\\"reason\\\": \\\"None\\\",\\n\\\"date\\\": \\\"None\\\",\\n\\\"duration\\\": \\\"None\\\",\\n\\\"care center details\\\": \\\"None\\\"\\n}\\n],\\n\\\"patient information\\\": {\\n\\\"age\\\": \\\"32\\\",\\n\\\"sex\\\": \\\"Male\\\",\\n\\\"ethnicity\\\": \\\"None\\\",\\n\\\"weight\\\": \\\"None\\\",\\n\\\"height\\\": \\\"None\\\",\\n\\\"family medical history\\\": \\\"None\\\",\\n\\\"recent travels\\\": \\\"None\\\",\\n\\\"socio economic context\\\": \\\"None\\\",\\n\\\"occupation\\\": \\\"None\\\"\\n},\\n\\\"patient medical history\\\": {\\n\\\"physiological context\\\": \\\"No significant medical history\\\",\\n\\\"psychological context\\\": \\\"None\\\",\\n\\\"vaccination history\\\": \\\"None\\\",\\n\\\"allergies\\\": \\\"None\\\",\\n\\\"exercise frequency\\\": \\\"None\\\",\\n\\\"nutrition\\\": \\\"None\\\",\\n\\\"sexual history\\\": \\\"None\\\",\\n\\\"alcohol consumption\\\": \\\"None\\\",\\n\\\"drug usage\\\": \\\"None\\\",\\n\\\"smoking status\\\": \\\"No habits were reported\\\"\\n},\\n\\\"surgeries\\\": [\\n{\\n\\\"reason\\\": \\\"Localized gingival inflammation and Class I gingival recession in relation to maxillary right canine\\\",\\n\\\"Type\\\": \\\"Root coverage using an epithelial embossed graft technique\\\",\\n\\\"time\\\": \\\"None\\\",\\n\\\"outcome\\\": \\\"None\\\",\\n\\\"details\\\": \\\"Oral prophylaxis was done 2 weeks before surgery.\\nUnder local anesthesia, a sulcular incision was made in the right canine region, also involving mesial aspect of the first premolar and distal aspect of the lateral incisor.\\nEnvelop flap was raised without making vertical incisions.\\nThorough root planing was done.\\nThe connective tissue graft was procured from the contralateral side of the palate.\\\"\\n}\\n],\\n\\\"symptoms\\\": [\\n{\\n\\\"name of symptom\\\": \\\"Hypersensitivity\\\",\\n\\\"intensity of symptom\\\": \\\"None\\\",\\n\\\"location\\\": \\\"Upper right canine\\\",\\n\\\"time\\\": \\\"None\\\",\\n\\\"temporalisation\\\": \\\"None\\\",\\n\\\"behaviours affecting the symptom\\\": \\\"None\\\",\\n\\\"details\\\": \\\"Patient reported hypersensitivity in relation to his upper right canine.\\\"\\n},\\n{\\n\\\"name of symptom\\\": \\\"Unesthetic appearance of the gums\\\",\\n\\\"intensity of symptom\\\": \\\"None\\\",\\n\\\"location\\\": \\\"Gums in relation to upper right canine\\\",\\n\\\"time\\\": \\\"None\\\",\\n\\\"temporalisation\\\": \\\"None\\\",\\n\\\"behaviours affecting the symptom\\\": \\\"None\\\",\\n\\\"details\\\": \\\"Patient reported unesthetic appearance of the gums.\\\"\\n}\\n],\\n\\\"medical examinations\\\": [\\n{\\n\\\"name\\\": \\\"Periodontal examination\\\",\\n\\\"result\\\": \\\"Localized gingival inflammation in relation to maxillary right canine, probing pocket depth of 2 mm, clinical attachment loss of 5 mm with deep/wide Class I gingival recession, keratinized tissue thickness of 2 mm\\\",\\n\\\"details\\\": \\\"The keratinized tissue thickness was measured at the center of an imaginary line from mucogingival junction to marginal gingiva, using an endodontic file with stopper after anesthetizing the region.\\\"\\n},\\n{\\n\\\"name\\\": \\\"Intraoral radiograph\\\",\\n\\\"result\\\": \\\"No bone loss\\\",\\n\\\"details\\\": \\\"Intraoral radiograph in relation to the tooth concerned showed no bone loss.\\\"\\n}\\n],\\n\\\"diagnosis tests\\\": [\\n{\\n\\\"test\\\": \\\"None\\\",\\n\\\"severity\\\": \\\"None\\\",\\n\\\"result\\\": \\\"None\\\",\\n\\\"condition\\\": \\\"None\\\",\\n\\\"time\\\": \\\"None\\\",\\n\\\"details\\\": \\\"None\\\"\\n}\\n],\\n\\\"treatments\\\": [\\n{\\n\\\"name\\\": \\\"Root coverage using an epithelial embossed graft technique\\\",\\n\\\"related condition\\\": \\\"Localized gingival inflammation and Class I gingival recession in relation to maxillary right canine\\\",\\n\\\"dosage\\\": \\\"None\\\",\\n\\\"time\\\": \\\"None\\\",\\n\\\"frequency\\\": \\\"None\\\",\\n\\\"duration\\\": \\\"None\\\",\\n\\\"reason for taking\\\": \\\"To cover the root and improve the esthetic appearance of the gums and reduce hypersensitivity\\\",\\n\\\"reaction to treatment\\\": \\\"None\\\",\\n\\\"details\\\": \\\"Treatment plan was explained to the patient, and a duly signed written consent was obtained.\\\"\\n}\\n],\\n\\\"discharge\\\": {\\n\\\"reason\\\": \\\"None\\\",\\n\\\"referral\\\": \\\"None\\\",\\n\\\"follow up\\\": \\\"None\\\",\\n\\\"discharge summary\\\": \\\"None\\\"\\n}\\n}\"\n        ],\n        \"semantic_type\": \"\",\n        \"description\": \"\"\n      }\n    },\n    {\n      \"column\": \"full_note\",\n      \"properties\": {\n        \"dtype\": \"string\",\n        \"num_unique_values\": 24341,\n        \"samples\": [\n          \"A 35-year-old G4P2 attended for reproductive surgery consultation to discuss a variety of problems she began to experience subsequent to undergoing the Essure\\u00ae procedure for permanent sterilization. HS was performed in October 2012 under general anesthesia; pre-procedure pelvic ultrasound was unremarkable. Before HS, the patient was in good general health and all of her pregnancies were established without medical assistance. Cervical cytology was routinely normal, the patient did not smoke and she never had a miscarriage. Soon after the Essure\\u00ae devices had been placed, the patient reported gradually increasing pelvic pain, headache, dizziness, lower extremity paresthesia and fatigue. In the first six months following the Essure\\u00ae procedure, the patient registered a 20 pound weight gain. The patient\\u2019s concerns persisted over a three-year interval, although her gynecologist was disinclined to attribute any of the problems to Essure\\u00ae.\\\\nThree months after HS, the patient presented for hysterosalpingogram as recommended. While the study did confirm bilateral tubal occlusion, it also revealed an abnormal (bifid) uterine cavity. 3-D ultrasound or other imaging was not performed to clarify or refine the diagnosis of the uterine anomaly and the patient received no further counseling.\\\\nThe patient later requested surgical removal of the Essure\\u00ae implants and the possibility of device migration required evaluation (). A repeat HSG was obtained in 2015. This study revealed minimal device migration and no contrast dye spill from either Fallopian tube, a deeply bifid uterine cavity was again the most conspicuous finding ().\\\\nAt our center the patient was counseled about the atypical nature of her Essure\\u00ae placement given the anatomical abnormality of the uterus. After obtaining informed consent, the patient underwent diagnostic hysteroscopy which verified an abnormal bifid uterus (). The ostia on the right was normal as was the entire right uterine segment. However, the Essure\\u00ae device on the left partially extended into the endometrial compartment (). The exterior uterus was consistent with ESHRE Class IIb anomaly (uterine septum) (). There was no evidence of tissue perforation by either contraceptive device. Laparoscopic dissection of the left cornu and partial tubal resection bilaterally achieved complete removal of the Essure\\u00ae implants. Removal of terminal markers was confirmed. Electrocautery was maintained at 40 W power throughout the case, blood loss was estimated to be less than 50 mL. The patient was discharged three hours after surgery and her postoperative convalescence has been uneventful.\",\n          \"A 72-year-old man presented with left hip pain and intermittent low grade fever, as well as occasional yellowish drainage from a sinus tract at the surgical incision of a cementless THA performed 4 years before at another hospital. Patient's past medical history was also significant for a 2-vessel coronary artery bypass graft (CABG), performed one year prior to the current presentation. Prior use of steroids, a previous state of immunosuppression, or recent travel was not reported. The patient reported multiple prior hospital admissions due to drainage, allegedly attributed to a superficial infection and suppressed multiple times with multiple courses of per os and/or intravenous antibiotics including vancomycin, clindamycin, ciprofloxacin and cotrimoxazole, only to recur a few months after each episode and antibiotics regimen. Anteroposterior (AP) pelvis, AP and lateral hip radiographs as well as laboratory findings were consistent with PJI, as well as heterotopic ossification adjacent to the left hip joint (Fig. ). Preoperative cultures collected with wound swabs showed Staphylococcus hominis and Staphylococcus capitis isolates of debatable clinical significance; cultures of synovial fluid aspiration were negative. With the assumptive diagnosis of PJI and septic loosening of the implants a joint decision was obtained for a staged THA revision.\\\\nThe patient was scheduled for the first stage THA revision 4 weeks after cessation of any antibiotics. Through a posterior hip approach, the femoral component was removed via a Paprosky-style extended proximal femoral osteotomy . Next, the acetabular cup and supporting screw were removed (Fig. ). Eight tissue samples were obtained from the bone, joint capsule and femoral canal for cultures, and the implants were sent for sonication. We routinely use sonication to identify bacteria in the biofilm on explanted implants, as this method has been found to be significantly more sensitive than tissue biopsy, while maintaining almost identical specificity , . A custom-made polymethyl-methacrylate (PMMA) hip spacer was fashioned and placed in the femoral lumen. We used gentamicin-loaded Palacos R+G\\u00ae bone cement (Zimmer, Inc. Warsaw, IN). When using an antibiotic loaded bone cement, we routinely admixture a second antibiotic (preferably vancomycin or other based on preoperative cultures and antibiogram, if available) to increase the local concentration of antibiotics and to obtain a synergistic effect, as adding a second antibiotic seems to increase the elution of both antibiotics , . The osteotomy was repaired with cerclage wires (Fig. ). The sinus tract was resected. The patient was given 600mg of teicoplanin iv intraoperatively and was subsequently started on a standing daily dose of the same regimen.\\\\nPostoperative recovery was uneventful and the patient was afebrile without any wound healing problems. Partial weight bearing with a walker was started on postoperative day two, and progressed as tolerated. Intraoperative tissue cultures were negative. Sonication of the implant at 15 days showed Pseudomonas oryzihabitans bacterial isolate (Fig. ). Based on antibiotic susceptibilities, intravenous teicoplanin 600 mg and piperacillin/tazobactam 4.5 g qid was administered for 3 weeks, followed by ciprofloxacin 750 mg bid and clindamicin 600 mg qid for another four weeks, aiming for a second stage revision surgery. However, because of cardiovascular comorbidities, the patient was informed for the high risk associated with a second operation and did not consent for further surgery.\\\\nAt the last follow-up, 24 months after the first stage THA revision, the patient is well, without any clinical, laboratory or imaging evidence of infection; his wound healed completely, he could ambulate with crutches for short distances with mild pain, and inflammatory markers had reduced to normal values. Radiographs of the left hip joint showed a stable PMMA spacer, without any evidence of osteolysis or loosening, and with extensive periarticular heterotopic bone formation that obviously provided for the stability of the joint (Fig. ). The patient denied further surgery and remains at close follow-up for the risk of recurrent Pseudomonas oryzihabitans infection.\",\n          \"A 32-year-old woman was admitted to the gastroenterology department for upper abdominal pain. Gastroenteritis was continually managed using omeprazole. The treatment relieved her symptoms just a little. The symptoms of upper abdominal pain appeared intermittently for about 8 months. Repeated visits to the gastroenterology department and other departments in the local hospital were made. Omeprazole treatment for gastroenteritis was continued. However, the symptoms were still not improving. Finally, the patient went to the local gastrointestinal surgery department. The abdomen computed tomography examination was performed, which revealed that thrombosis had occurred in the portal vein, superior mesenteric vein and splenic vein (Fig. ). The thrombus did not improve even after repeated visits in gastrointestinal surgery and vascular surgery. The patient was referred to the Rheumatology Department in the hospital for the aggravation of abdominal pain, involving the whole abdomen.\\\\nThe patient had two abnormal abortions in past medical history. Abnormal physical examinations included total abdominal tenderness, rebound pain and muscle tension. The patient declined for abdominal palpation. Laboratory investigations showed raised APL (anti-\\u03b22GPI 143R U/mL, ACL IgM 70 U/mL, ACL IgG 20 U/mL). Renal biochemistry, hepatobiliary biochemistry, serum lipid profile, muscular enzymes and thyroid function were normal. Computed tomography of the abdomen confirmed multiple thrombi in superior mesenteric vein and other vessels, dilatation of the small intestine and spleen infarction (Fig. ).\\\\nThe patient was diagnosed with antiphospholipid syndrome based on clinical manifestations, past medical history and auxiliary examination results. The patient did not meet the catastrophic antiphospholipid syndrome (CAPS) diagnostic criteria. The patient claimed a previous pregnancy loss and presented with characteristics of high-risk APL (Table ). Moreover, the patient was affected by multiple abdominal vessels and viscus. Therefore, these findings demonstrated that the patient based on the 2019 EULAR recommendations for the management of antiphospholipid syndrome in adults, was at high risk. The patient was administered with intravenous immunoglobulin (gamma globulin 40 mg daily) and glucocorticoid (methylprednisolone 40 mg daily) to limit further disease progression. Low molecular weight heparin (LMWH, enoxaparin 40 mg twice a day) therapeutic dose was used for anticoagulant therapy. Abdominal pain was significantly improved after systemic treatment. The patient was discharged and put on warfarin given orally 3 mg daily, methylprednisolone 40 mg daily, and hydroxychloroquine 0.2 g twice daily to be taken with food.\\\\nAfter months of discharge, the patient was later hospitalized with recurrent abdominal pain. The patient complained about nausea, vomiting, abdominal distension, no defecation, and no exhaust during the last treatment in the Rheumatology Department. The abdominal computed tomography indicated incomplete ileus (Fig. ). Gastrointestinal decompression and conservative medical treatment were performed first. However, the therapeutic effect was not satisfactory. Therefore, the patient was transferred to the department of gastrointestinal surgery for surgical treatment. As for the reasons for the patient's admission, we consider the following two aspects: First, the patient had multiple mesenteric thromboses. Although anticoagulant therapy was applied, it could only prevent new thrombosis, the existing thrombosis could not be dissolved. Also, the collateral circulation was not completely established, leading to insufficient blood supply to the intestinal tract and non-mechanical obstruction. Second, although the patient regularly took warfarin anticoagulant therapy after discharge, the drug is greatly affected by diet and inconvenient monitoring, so the INR value outside the hospital was poorly controlled.\"\n        ],\n        \"semantic_type\": \"\",\n        \"description\": \"\"\n      }\n    }\n  ]\n}",
       "type": "dataframe",
       "variable_name": "df"
      },
      "text/html": [
       "\n",
       "  <div id=\"df-040e5d3d-ed9d-4e9f-8de8-0110cde0f965\" class=\"colab-df-container\">\n",
       "    <div>\n",
       "<style scoped>\n",
       "    .dataframe tbody tr th:only-of-type {\n",
       "        vertical-align: middle;\n",
       "    }\n",
       "\n",
       "    .dataframe tbody tr th {\n",
       "        vertical-align: top;\n",
       "    }\n",
       "\n",
       "    .dataframe thead th {\n",
       "        text-align: right;\n",
       "    }\n",
       "</style>\n",
       "<table border=\"1\" class=\"dataframe\">\n",
       "  <thead>\n",
       "    <tr style=\"text-align: right;\">\n",
       "      <th></th>\n",
       "      <th>note</th>\n",
       "      <th>conversation</th>\n",
       "      <th>idx</th>\n",
       "      <th>summary</th>\n",
       "      <th>full_note</th>\n",
       "    </tr>\n",
       "  </thead>\n",
       "  <tbody>\n",
       "    <tr>\n",
       "      <th>0</th>\n",
       "      <td>A a sixteen year-old girl, presented to our Ou...</td>\n",
       "      <td>Doctor: Good morning, what brings you to the O...</td>\n",
       "      <td>155216</td>\n",
       "      <td>{\\n\"visit motivation\": \"Discomfort in the neck...</td>\n",
       "      <td>A a sixteen year-old girl, presented to our Ou...</td>\n",
       "    </tr>\n",
       "    <tr>\n",
       "      <th>1</th>\n",
       "      <td>This is the case of a 56-year-old man that was...</td>\n",
       "      <td>Doctor: Hi, how are you feeling today?\\nPatien...</td>\n",
       "      <td>77465</td>\n",
       "      <td>{\\n\"visit motivation\": \"Complaints of a dull p...</td>\n",
       "      <td>This is the case of a 56-year-old man that was...</td>\n",
       "    </tr>\n",
       "    <tr>\n",
       "      <th>2</th>\n",
       "      <td>A 36-year old female patient visited our hospi...</td>\n",
       "      <td>Doctor: Hello, what brings you to the hospital...</td>\n",
       "      <td>133948</td>\n",
       "      <td>{\\n\"visit motivation\": \"Pain and restricted ra...</td>\n",
       "      <td>A 36-year old female patient visited our hospi...</td>\n",
       "    </tr>\n",
       "    <tr>\n",
       "      <th>3</th>\n",
       "      <td>A 49-year-old male presented with a complaint ...</td>\n",
       "      <td>Doctor: Good morning, Mr. [Patient's Name]. I'...</td>\n",
       "      <td>80176</td>\n",
       "      <td>{\\n\"visit motivation\": \"Pain in the left proxi...</td>\n",
       "      <td>A 49-year-old male presented with a complaint ...</td>\n",
       "    </tr>\n",
       "    <tr>\n",
       "      <th>4</th>\n",
       "      <td>A 47-year-old male patient was referred to the...</td>\n",
       "      <td>Doctor: Good morning, how are you feeling toda...</td>\n",
       "      <td>72232</td>\n",
       "      <td>{\\n\"visit motivation\": \"Recurrent attacks of p...</td>\n",
       "      <td>A 47-year-old male patient was referred to the...</td>\n",
       "    </tr>\n",
       "  </tbody>\n",
       "</table>\n",
       "</div>\n",
       "    <div class=\"colab-df-buttons\">\n",
       "\n",
       "  <div class=\"colab-df-container\">\n",
       "    <button class=\"colab-df-convert\" onclick=\"convertToInteractive('df-040e5d3d-ed9d-4e9f-8de8-0110cde0f965')\"\n",
       "            title=\"Convert this dataframe to an interactive table.\"\n",
       "            style=\"display:none;\">\n",
       "\n",
       "  <svg xmlns=\"http://www.w3.org/2000/svg\" height=\"24px\" viewBox=\"0 -960 960 960\">\n",
       "    <path d=\"M120-120v-720h720v720H120Zm60-500h600v-160H180v160Zm220 220h160v-160H400v160Zm0 220h160v-160H400v160ZM180-400h160v-160H180v160Zm440 0h160v-160H620v160ZM180-180h160v-160H180v160Zm440 0h160v-160H620v160Z\"/>\n",
       "  </svg>\n",
       "    </button>\n",
       "\n",
       "  <style>\n",
       "    .colab-df-container {\n",
       "      display:flex;\n",
       "      gap: 12px;\n",
       "    }\n",
       "\n",
       "    .colab-df-convert {\n",
       "      background-color: #E8F0FE;\n",
       "      border: none;\n",
       "      border-radius: 50%;\n",
       "      cursor: pointer;\n",
       "      display: none;\n",
       "      fill: #1967D2;\n",
       "      height: 32px;\n",
       "      padding: 0 0 0 0;\n",
       "      width: 32px;\n",
       "    }\n",
       "\n",
       "    .colab-df-convert:hover {\n",
       "      background-color: #E2EBFA;\n",
       "      box-shadow: 0px 1px 2px rgba(60, 64, 67, 0.3), 0px 1px 3px 1px rgba(60, 64, 67, 0.15);\n",
       "      fill: #174EA6;\n",
       "    }\n",
       "\n",
       "    .colab-df-buttons div {\n",
       "      margin-bottom: 4px;\n",
       "    }\n",
       "\n",
       "    [theme=dark] .colab-df-convert {\n",
       "      background-color: #3B4455;\n",
       "      fill: #D2E3FC;\n",
       "    }\n",
       "\n",
       "    [theme=dark] .colab-df-convert:hover {\n",
       "      background-color: #434B5C;\n",
       "      box-shadow: 0px 1px 3px 1px rgba(0, 0, 0, 0.15);\n",
       "      filter: drop-shadow(0px 1px 2px rgba(0, 0, 0, 0.3));\n",
       "      fill: #FFFFFF;\n",
       "    }\n",
       "  </style>\n",
       "\n",
       "    <script>\n",
       "      const buttonEl =\n",
       "        document.querySelector('#df-040e5d3d-ed9d-4e9f-8de8-0110cde0f965 button.colab-df-convert');\n",
       "      buttonEl.style.display =\n",
       "        google.colab.kernel.accessAllowed ? 'block' : 'none';\n",
       "\n",
       "      async function convertToInteractive(key) {\n",
       "        const element = document.querySelector('#df-040e5d3d-ed9d-4e9f-8de8-0110cde0f965');\n",
       "        const dataTable =\n",
       "          await google.colab.kernel.invokeFunction('convertToInteractive',\n",
       "                                                    [key], {});\n",
       "        if (!dataTable) return;\n",
       "\n",
       "        const docLinkHtml = 'Like what you see? Visit the ' +\n",
       "          '<a target=\"_blank\" href=https://colab.research.google.com/notebooks/data_table.ipynb>data table notebook</a>'\n",
       "          + ' to learn more about interactive tables.';\n",
       "        element.innerHTML = '';\n",
       "        dataTable['output_type'] = 'display_data';\n",
       "        await google.colab.output.renderOutput(dataTable, element);\n",
       "        const docLink = document.createElement('div');\n",
       "        docLink.innerHTML = docLinkHtml;\n",
       "        element.appendChild(docLink);\n",
       "      }\n",
       "    </script>\n",
       "  </div>\n",
       "\n",
       "\n",
       "    <div id=\"df-4ce1d94b-5536-42d7-9454-8277009c8aa6\">\n",
       "      <button class=\"colab-df-quickchart\" onclick=\"quickchart('df-4ce1d94b-5536-42d7-9454-8277009c8aa6')\"\n",
       "                title=\"Suggest charts\"\n",
       "                style=\"display:none;\">\n",
       "\n",
       "<svg xmlns=\"http://www.w3.org/2000/svg\" height=\"24px\"viewBox=\"0 0 24 24\"\n",
       "     width=\"24px\">\n",
       "    <g>\n",
       "        <path d=\"M19 3H5c-1.1 0-2 .9-2 2v14c0 1.1.9 2 2 2h14c1.1 0 2-.9 2-2V5c0-1.1-.9-2-2-2zM9 17H7v-7h2v7zm4 0h-2V7h2v10zm4 0h-2v-4h2v4z\"/>\n",
       "    </g>\n",
       "</svg>\n",
       "      </button>\n",
       "\n",
       "<style>\n",
       "  .colab-df-quickchart {\n",
       "      --bg-color: #E8F0FE;\n",
       "      --fill-color: #1967D2;\n",
       "      --hover-bg-color: #E2EBFA;\n",
       "      --hover-fill-color: #174EA6;\n",
       "      --disabled-fill-color: #AAA;\n",
       "      --disabled-bg-color: #DDD;\n",
       "  }\n",
       "\n",
       "  [theme=dark] .colab-df-quickchart {\n",
       "      --bg-color: #3B4455;\n",
       "      --fill-color: #D2E3FC;\n",
       "      --hover-bg-color: #434B5C;\n",
       "      --hover-fill-color: #FFFFFF;\n",
       "      --disabled-bg-color: #3B4455;\n",
       "      --disabled-fill-color: #666;\n",
       "  }\n",
       "\n",
       "  .colab-df-quickchart {\n",
       "    background-color: var(--bg-color);\n",
       "    border: none;\n",
       "    border-radius: 50%;\n",
       "    cursor: pointer;\n",
       "    display: none;\n",
       "    fill: var(--fill-color);\n",
       "    height: 32px;\n",
       "    padding: 0;\n",
       "    width: 32px;\n",
       "  }\n",
       "\n",
       "  .colab-df-quickchart:hover {\n",
       "    background-color: var(--hover-bg-color);\n",
       "    box-shadow: 0 1px 2px rgba(60, 64, 67, 0.3), 0 1px 3px 1px rgba(60, 64, 67, 0.15);\n",
       "    fill: var(--button-hover-fill-color);\n",
       "  }\n",
       "\n",
       "  .colab-df-quickchart-complete:disabled,\n",
       "  .colab-df-quickchart-complete:disabled:hover {\n",
       "    background-color: var(--disabled-bg-color);\n",
       "    fill: var(--disabled-fill-color);\n",
       "    box-shadow: none;\n",
       "  }\n",
       "\n",
       "  .colab-df-spinner {\n",
       "    border: 2px solid var(--fill-color);\n",
       "    border-color: transparent;\n",
       "    border-bottom-color: var(--fill-color);\n",
       "    animation:\n",
       "      spin 1s steps(1) infinite;\n",
       "  }\n",
       "\n",
       "  @keyframes spin {\n",
       "    0% {\n",
       "      border-color: transparent;\n",
       "      border-bottom-color: var(--fill-color);\n",
       "      border-left-color: var(--fill-color);\n",
       "    }\n",
       "    20% {\n",
       "      border-color: transparent;\n",
       "      border-left-color: var(--fill-color);\n",
       "      border-top-color: var(--fill-color);\n",
       "    }\n",
       "    30% {\n",
       "      border-color: transparent;\n",
       "      border-left-color: var(--fill-color);\n",
       "      border-top-color: var(--fill-color);\n",
       "      border-right-color: var(--fill-color);\n",
       "    }\n",
       "    40% {\n",
       "      border-color: transparent;\n",
       "      border-right-color: var(--fill-color);\n",
       "      border-top-color: var(--fill-color);\n",
       "    }\n",
       "    60% {\n",
       "      border-color: transparent;\n",
       "      border-right-color: var(--fill-color);\n",
       "    }\n",
       "    80% {\n",
       "      border-color: transparent;\n",
       "      border-right-color: var(--fill-color);\n",
       "      border-bottom-color: var(--fill-color);\n",
       "    }\n",
       "    90% {\n",
       "      border-color: transparent;\n",
       "      border-bottom-color: var(--fill-color);\n",
       "    }\n",
       "  }\n",
       "</style>\n",
       "\n",
       "      <script>\n",
       "        async function quickchart(key) {\n",
       "          const quickchartButtonEl =\n",
       "            document.querySelector('#' + key + ' button');\n",
       "          quickchartButtonEl.disabled = true;  // To prevent multiple clicks.\n",
       "          quickchartButtonEl.classList.add('colab-df-spinner');\n",
       "          try {\n",
       "            const charts = await google.colab.kernel.invokeFunction(\n",
       "                'suggestCharts', [key], {});\n",
       "          } catch (error) {\n",
       "            console.error('Error during call to suggestCharts:', error);\n",
       "          }\n",
       "          quickchartButtonEl.classList.remove('colab-df-spinner');\n",
       "          quickchartButtonEl.classList.add('colab-df-quickchart-complete');\n",
       "        }\n",
       "        (() => {\n",
       "          let quickchartButtonEl =\n",
       "            document.querySelector('#df-4ce1d94b-5536-42d7-9454-8277009c8aa6 button');\n",
       "          quickchartButtonEl.style.display =\n",
       "            google.colab.kernel.accessAllowed ? 'block' : 'none';\n",
       "        })();\n",
       "      </script>\n",
       "    </div>\n",
       "\n",
       "    </div>\n",
       "  </div>\n"
      ],
      "text/plain": [
       "                                                note  \\\n",
       "0  A a sixteen year-old girl, presented to our Ou...   \n",
       "1  This is the case of a 56-year-old man that was...   \n",
       "2  A 36-year old female patient visited our hospi...   \n",
       "3  A 49-year-old male presented with a complaint ...   \n",
       "4  A 47-year-old male patient was referred to the...   \n",
       "\n",
       "                                        conversation     idx  \\\n",
       "0  Doctor: Good morning, what brings you to the O...  155216   \n",
       "1  Doctor: Hi, how are you feeling today?\\nPatien...   77465   \n",
       "2  Doctor: Hello, what brings you to the hospital...  133948   \n",
       "3  Doctor: Good morning, Mr. [Patient's Name]. I'...   80176   \n",
       "4  Doctor: Good morning, how are you feeling toda...   72232   \n",
       "\n",
       "                                             summary  \\\n",
       "0  {\\n\"visit motivation\": \"Discomfort in the neck...   \n",
       "1  {\\n\"visit motivation\": \"Complaints of a dull p...   \n",
       "2  {\\n\"visit motivation\": \"Pain and restricted ra...   \n",
       "3  {\\n\"visit motivation\": \"Pain in the left proxi...   \n",
       "4  {\\n\"visit motivation\": \"Recurrent attacks of p...   \n",
       "\n",
       "                                           full_note  \n",
       "0  A a sixteen year-old girl, presented to our Ou...  \n",
       "1  This is the case of a 56-year-old man that was...  \n",
       "2  A 36-year old female patient visited our hospi...  \n",
       "3  A 49-year-old male presented with a complaint ...  \n",
       "4  A 47-year-old male patient was referred to the...  "
      ]
     },
     "execution_count": 4,
     "metadata": {},
     "output_type": "execute_result"
    }
   ],
   "source": [
    "df.head()"
   ]
  },
  {
   "cell_type": "code",
   "execution_count": 5,
   "metadata": {
    "id": "HEOMR03VYPeZ"
   },
   "outputs": [],
   "source": [
    "df.dropna(inplace=True)"
   ]
  },
  {
   "cell_type": "code",
   "execution_count": 6,
   "metadata": {
    "id": "WAgTXH5gZVWk"
   },
   "outputs": [],
   "source": [
    "# Remove unwanted characters from the 'note' and 'full note' columns\n",
    "df['note'] = df['note'].astype(str).str.replace(r'(\\\\n|\\n|\\r|\\[|\\]|\\(|\\))', '', regex=True)\n",
    "df['full_note'] = df['full_note'].astype(str).str.replace(r'(\\\\n|\\n|\\r|\\[|\\]|\\(|\\))', '', regex=True)"
   ]
  },
  {
   "cell_type": "code",
   "execution_count": 7,
   "metadata": {
    "colab": {
     "base_uri": "https://localhost:8080/"
    },
    "id": "UvPuMLCZYUx6",
    "outputId": "6d14e6e0-1f92-4dea-fe55-3dd9d4d2307e"
   },
   "outputs": [
    {
     "data": {
      "text/plain": [
       "30000"
      ]
     },
     "execution_count": 7,
     "metadata": {},
     "output_type": "execute_result"
    }
   ],
   "source": [
    "len(df)"
   ]
  },
  {
   "cell_type": "markdown",
   "metadata": {
    "id": "ZghIdeCnCfnz"
   },
   "source": [
    "#### **Util functions**"
   ]
  },
  {
   "cell_type": "code",
   "execution_count": 8,
   "metadata": {
    "id": "CxBtInP1ieZ3"
   },
   "outputs": [],
   "source": [
    "# gender to randomize\n",
    "gender_terms = {\n",
    "    \"male\", \"female\", \"man\", \"woman\", \"boy\", \"girl\",\n",
    "    \"he\", \"she\", \"his\", \"her\", \"him\", \"hers\", \"himself\", \"herself\"\n",
    "}\n",
    "\n",
    "# synonym replacement\n",
    "def random_synonym_replacement(text, prob=1.0):\n",
    "    words = word_tokenize(text)\n",
    "    new_words = []\n",
    "\n",
    "    for word in words:\n",
    "        if random.random() < prob:\n",
    "            synonyms = wordnet.synsets(word)\n",
    "            if synonyms:\n",
    "                lemmas = [l.name().replace('_', ' ') for l in synonyms[0].lemmas()]\n",
    "                if lemmas:\n",
    "                    new_word = random.choice(lemmas)\n",
    "                    new_words.append(new_word)\n",
    "                else:\n",
    "                    new_words.append(word)\n",
    "            else:\n",
    "                new_words.append(word)\n",
    "        else:\n",
    "            new_words.append(word)\n",
    "    return ' '.join(new_words)\n",
    "\n",
    "\n",
    "# word shuffle\n",
    "def random_word_shuffle(text, prob=1.0):\n",
    "    words = word_tokenize(text)\n",
    "    indexed = [(i, w) for i, w in enumerate(words)]\n",
    "    n = len(indexed)\n",
    "\n",
    "    if n == 1 and random.random() < prob:\n",
    "        # shuffle characters in the single word\n",
    "        i, w = indexed[0]\n",
    "        chars = list(w)\n",
    "        if len(chars) > 1:\n",
    "            random.shuffle(chars)\n",
    "            words[i] = ''.join(chars)\n",
    "\n",
    "    elif n > 1 and random.random() < prob:\n",
    "        i, _ = random.choice(indexed)\n",
    "        j, _ = random.choice([x for x in indexed if x[0] != i])\n",
    "        words[i], words[j] = words[j], words[i]\n",
    "\n",
    "    return ' '.join(words)\n",
    "\n",
    "\n",
    "# typo injection\n",
    "def typo_injection(text, prob=1.0):\n",
    "    def introduce_typo(word):\n",
    "        if len(word) == 0:\n",
    "            return word\n",
    "\n",
    "        if random.random() < prob:\n",
    "            # Swap\n",
    "            if len(word) >= 2:\n",
    "                i = random.randint(0, len(word) - 2)\n",
    "                word = word[:i] + word[i+1] + word[i] + word[i+2:]\n",
    "\n",
    "            # Duplicate\n",
    "            if len(word) > 0:\n",
    "                i = random.randint(0, len(word) - 1)\n",
    "                word = word[:i+1] + word[i] + word[i+1:]\n",
    "\n",
    "            # Delete\n",
    "            if len(word) >= 2:\n",
    "                i = random.randint(0, len(word) - 1)\n",
    "                word = word[:i] + word[i+1:]\n",
    "\n",
    "            # Insert\n",
    "            i = random.randint(0, len(word))\n",
    "            c = random.choice(string.ascii_lowercase)\n",
    "            word = word[:i] + c + word[i:]\n",
    "\n",
    "            return word\n",
    "\n",
    "    words = word_tokenize(text)\n",
    "\n",
    "    noisy_words = [\n",
    "        introduce_typo(word) if random.random() < prob else word\n",
    "        for word in words\n",
    "    ]\n",
    "\n",
    "    return ' '.join(noisy_words)\n",
    "\n",
    "\n",
    "\n",
    "# random deletion\n",
    "def random_deletion(text, prob=0.2):\n",
    "    words = word_tokenize(text)\n",
    "\n",
    "    new_words = [word for word in words if random.random() > prob]\n",
    "\n",
    "    return ' '.join(new_words) if new_words else random.choice(words)\n",
    "\n",
    "\n",
    "# randomize note\n",
    "def randomize_note(text):\n",
    "    text = random_synonym_replacement(text, prob=1.0)\n",
    "    text = random_word_shuffle(text, prob=1.0)\n",
    "    text = typo_injection(text, prob=1.0)\n",
    "    text = random_deletion(text, prob=0.2)\n",
    "    return text"
   ]
  },
  {
   "cell_type": "code",
   "execution_count": 9,
   "metadata": {
    "id": "MR_a5kDo6km5"
   },
   "outputs": [],
   "source": [
    "def replace_month_in_date(text):\n",
    "    full_months = list(calendar.month_name)[1:]  # ['January', ..., 'December']\n",
    "    abbr_months = list(calendar.month_abbr)[1:]  # ['Jan', ..., 'Dec']\n",
    "\n",
    "    # mapping from shortest to complete\n",
    "    abbr_to_full = {abbr.lower(): full.lower() for abbr, full in zip(abbr_months, full_months)}\n",
    "    all_months = set([m.lower() for m in full_months + abbr_months])\n",
    "\n",
    "    # check if text contains a month\n",
    "    if not any(month in text.lower() for month in all_months):\n",
    "        return text\n",
    "\n",
    "    words = text.split()\n",
    "    new_words = []\n",
    "\n",
    "    for word in words:\n",
    "        word_clean = word.strip(\",.\")\n",
    "\n",
    "        lowered = word_clean.lower()\n",
    "        if lowered in all_months:\n",
    "            # search complete month\n",
    "            current_full = abbr_to_full.get(lowered, lowered)  # expanded\n",
    "\n",
    "            # new month\n",
    "            new_month_full = random.choice([m for m in full_months if m.lower() != current_full])\n",
    "\n",
    "            # if original is abbr then new month is abbr\n",
    "            if lowered in abbr_to_full:\n",
    "                new_month = new_month_full[:3]\n",
    "            else:\n",
    "                new_month = new_month_full\n",
    "\n",
    "            # mantain original capitalization\n",
    "            if word_clean.istitle():\n",
    "                new_words.append(new_month)\n",
    "            else:\n",
    "                new_words.append(new_month.lower())\n",
    "        else:\n",
    "            new_words.append(word)\n",
    "\n",
    "    return \" \".join(new_words)"
   ]
  },
  {
   "cell_type": "code",
   "execution_count": 10,
   "metadata": {
    "id": "KmK_6jV3CspG"
   },
   "outputs": [],
   "source": [
    "# object for conversion num -> word\n",
    "p = inflect.engine()\n",
    "\n",
    "# pattern for numbers and letters\n",
    "number_words_pattern = re.compile(\n",
    "    r'\\b(?:(?:zero|one|two|three|four|five|six|seven|eight|nine|ten|'\n",
    "    r'eleven|twelve|thirteen|fourteen|fifteen|sixteen|seventeen|eighteen|nineteen|'\n",
    "    r'twenty|thirty|forty|fifty|sixty|seventy|eighty|ninety|hundred|thousand|and)'\n",
    "    r'(?:[\\s-]+)?)+\\b',\n",
    "    flags=re.IGNORECASE\n",
    ")\n",
    "\n",
    "# pattern for digits\n",
    "digit_pattern = re.compile(r'\\b\\d+\\b')\n",
    "\n",
    "# Function to round to the nearest whole number\n",
    "def round_to_nearest(num, base=5):\n",
    "    if num > 2:\n",
    "        return int(base * round(float(num) / base))\n",
    "    else:\n",
    "        return 5\n",
    "\n",
    "\n",
    "# Function that converts word -> num -> round -> word\n",
    "def get_replace_word_number(entity_type):\n",
    "    def replace_word_number(match):\n",
    "        try:\n",
    "            val = w2n.word_to_num(match.group())\n",
    "\n",
    "            if entity_type == \"TIME\" and val >= 23:\n",
    "                return \"twenty-four \"\n",
    "\n",
    "            rounded = round_to_nearest(val)\n",
    "\n",
    "            return p.number_to_words(rounded) + \" \"\n",
    "        except Exception:\n",
    "            return match.group()\n",
    "    return replace_word_number\n",
    "\n",
    "\n",
    "# Function for replace digit number\n",
    "def get_replace_digit_number(entity_type):\n",
    "    def replace_digit_number(match):\n",
    "        try:\n",
    "            val = int(match.group())\n",
    "\n",
    "            if entity_type == \"TIME\" and val >= 23:\n",
    "                return \"24\"\n",
    "            rounded = round_to_nearest(val)\n",
    "\n",
    "            return str(rounded)\n",
    "        except Exception:\n",
    "            return match.group()\n",
    "    return replace_digit_number"
   ]
  },
  {
   "cell_type": "markdown",
   "metadata": {
    "id": "7iO1EyrV30T8"
   },
   "source": [
    "### **CLINICAL-BERT NER**"
   ]
  },
  {
   "cell_type": "code",
   "execution_count": 30,
   "metadata": {
    "colab": {
     "base_uri": "https://localhost:8080/"
    },
    "collapsed": true,
    "id": "uDiybVSk3muU",
    "outputId": "8897b8dc-06aa-421d-9d69-b8ccffe5c5bd"
   },
   "outputs": [
    {
     "name": "stderr",
     "output_type": "stream",
     "text": [
      "Device set to use cpu\n",
      "Random dataset:   0%|          | 0/30000 [00:00<?, ?it/s]/usr/local/lib/python3.11/dist-packages/torch/nn/modules/module.py:1750: FutureWarning: `encoder_attention_mask` is deprecated and will be removed in version 4.55.0 for `BertSdpaSelfAttention.forward`.\n",
      "  return forward_call(*args, **kwargs)\n",
      "Random dataset:   0%|          | 0/30000 [00:02<?, ?it/s]\n"
     ]
    }
   ],
   "source": [
    "model_name = \"samrawal/bert-base-uncased_clinical-ner\"\n",
    "tokenizer = AutoTokenizer.from_pretrained(model_name)\n",
    "model = AutoModelForTokenClassification.from_pretrained(model_name)\n",
    "\n",
    "# GPU if available\n",
    "if torch.cuda.is_available():\n",
    "    device = torch.device('cuda')\n",
    "else:\n",
    "    device = torch.device('cpu')\n",
    "\n",
    "ner_pipeline = pipeline(\"ner\", model=model, tokenizer=tokenizer, aggregation_strategy=\"simple\", device=device)\n",
    "\n",
    "df_random_text = {'index': [], 'note': [], 'random_note': [], 'sensitive_entity_note': [],\n",
    "                  'full_note': [], 'random_full_note': [], 'sensitive_entity_full_note': []}\n",
    "\n",
    "# Iterate over all dataset\n",
    "for index, row in tqdm(df.iterrows(), total=len(df), desc=\"Random dataset\"):\n",
    "    df_random_text['index'].append(index)\n",
    "\n",
    "    sensitive_entity_note = set()\n",
    "    sensitive_entity_full_note = set()\n",
    "\n",
    "    for col in [\"note\", \"full_note\"]:\n",
    "        text = row[col]\n",
    "        ner_results = ner_pipeline(text)\n",
    "\n",
    "        random_text = text\n",
    "        for entity in ner_results:\n",
    "            if entity[\"entity_group\"] in {\"problem\", \"treatment\"}:\n",
    "                if col == 'note': sensitive_entity_note.add(entity[\"word\"])\n",
    "                else: sensitive_entity_full_note.add(entity[\"word\"])\n",
    "                original = entity[\"word\"]\n",
    "                randomized = randomize_note(original)\n",
    "                random_text = random_text.replace(original, randomized, 1)\n",
    "\n",
    "        if col == 'note':\n",
    "            df_random_text['note'].append(text)\n",
    "            df_random_text['random_note'].append(random_text)\n",
    "            df_random_text['sensitive_entity_note'].append(sensitive_entity_note)\n",
    "        else:\n",
    "            df_random_text['full_note'].append(text)\n",
    "            df_random_text['random_full_note'].append(random_text)\n",
    "            df_random_text['sensitive_entity_full_note'].append(sensitive_entity_full_note)\n",
    "\n",
    "        # print(\"\\nRandom text (for PROBLEM/TREATMENT):\\n\")\n",
    "        # print(random_text)"
   ]
  },
  {
   "cell_type": "code",
   "execution_count": 31,
   "metadata": {
    "id": "K3skSZDMsgPa"
   },
   "outputs": [],
   "source": [
    "df_random = pd.DataFrame(df_random_text)"
   ]
  },
  {
   "cell_type": "code",
   "execution_count": 32,
   "metadata": {
    "colab": {
     "base_uri": "https://localhost:8080/",
     "height": 163
    },
    "id": "4lWHh8BhiK8N",
    "outputId": "6ebeab8e-367d-41c8-91b2-27c455f553c7"
   },
   "outputs": [
    {
     "data": {
      "application/vnd.google.colaboratory.intrinsic+json": {
       "type": "string"
      },
      "text/plain": [
       "'A a sixteen year-old girl, presented to our Outpatient department with heec complaints of unocmffortalenegss nli jhte cervmvx dnxn ajbck ilooer as well as ltimtiation movmueent strrwcutur ifo. She was not able to maintain an erect posture and would tend to fall on either side while standing up from a sitting position. She would keep her head turned to the right and upwards due to tqeh ekeeh puq imsucuuss ifo nclee musscuark. There was agnttqrom bbedjnng oco ytee dlosmmu in the lumbar region. To counter hate aboonrmal paaslcemet efo jhte crvovxi apdn, she would keep her limbs in a specific position to allow her body weight to be supported. Due to the restrictions with the body movements at the neck and in the lumbar region, she would require assistance in standing and walking. She would require her parents to help her with daily chores, including all activities of self-care.She had been experiencing cthees for the past four months since when she was introduced to lbanoozpine tablets for the control of mnneail ghggravate ehrg ilneessd. This was not her first experience with drgug tgihh over the past seven years since she had been diagnosed with fafettiional bpfploar. Her first episode of upeszt emotveed ntth was that of nsppnios at the age of eleven which was managed with the use of tbalttt oaalnapinae in 2.5–10 mg doses per day at different times. The patient developed addn hurgitng nnucomfortablenssn cevvhri ehkr nix within the second week of being put on olagnpainne tablhlt at a dose of 5 mg per day. This was associated with eezep contrceitton banommazl mosucuula phu fno ttek nfekk mxusccuul that would pull her head to the right in an upward direction. These features had persisted for the first three years of maldkyy ehhr with a varying rengttyth, fiiuggrfne, and ntuffusidcni which would tend to correlate with the dose of alnnpioaenz. Apart from a brief period of around three weeks when she was given tihneexyphenidyl ittabet 4 mg per day for zrigidiyt hhez lmobb, she was not prescribed naya medcinnall ruugr. The rigidity showed good response to hnhis which was subsequently'"
      ]
     },
     "execution_count": 32,
     "metadata": {},
     "output_type": "execute_result"
    }
   ],
   "source": [
    "df_random['random_note'][0]"
   ]
  },
  {
   "cell_type": "code",
   "execution_count": 33,
   "metadata": {
    "colab": {
     "base_uri": "https://localhost:8080/"
    },
    "id": "xgw05LxD3jLf",
    "outputId": "cad40798-44c1-4b2c-e6ab-0c1eb78534ba"
   },
   "outputs": [
    {
     "data": {
      "text/plain": [
       "{'##pine tablets',\n",
       " 'a sideways bending of the back',\n",
       " 'a sustained and abnormal contraction of the neck muscles',\n",
       " 'any other psychotropic medication',\n",
       " 'bipolar affective disorder',\n",
       " 'discomfort in her neck',\n",
       " 'discomfort in the neck and lower back',\n",
       " 'distress',\n",
       " 'dysfunction',\n",
       " 'her exacerbated mental illness',\n",
       " 'her illness',\n",
       " 'intensity',\n",
       " 'mania',\n",
       " 'olanza',\n",
       " 'olanzapine',\n",
       " 'olanzapine tablets',\n",
       " 'pain and',\n",
       " 'restriction of body movements',\n",
       " 'rigidity in her upper limbs',\n",
       " 'tablet olanzapine',\n",
       " 'tablet trihexyphenidyl',\n",
       " 'the',\n",
       " 'the abnormal positioning of the back and neck',\n",
       " 'the affective disorder',\n",
       " 'the rigidity',\n",
       " 'the sustained contraction of the neck muscles',\n",
       " 'these difficulties',\n",
       " 'these features',\n",
       " 'this drug',\n",
       " 'this medication'}"
      ]
     },
     "execution_count": 33,
     "metadata": {},
     "output_type": "execute_result"
    }
   ],
   "source": [
    "df_random['sensitive_entity_note'][0]"
   ]
  },
  {
   "cell_type": "markdown",
   "metadata": {
    "id": "kpK2qrU-BYos"
   },
   "source": [
    "### **SPACY NER**"
   ]
  },
  {
   "cell_type": "code",
   "execution_count": 16,
   "metadata": {
    "colab": {
     "base_uri": "https://localhost:8080/"
    },
    "id": "feUKbR9js0KX",
    "outputId": "2daaca91-d1dc-4762-a312-5896cf25d616"
   },
   "outputs": [
    {
     "name": "stdout",
     "output_type": "stream",
     "text": [
      "\u001b[38;5;2m✔ Download and installation successful\u001b[0m\n",
      "You can now load the package via spacy.load('en_core_web_lg')\n",
      "\u001b[38;5;3m⚠ Restart to reload dependencies\u001b[0m\n",
      "If you are in a Jupyter or Colab notebook, you may need to restart Python in\n",
      "order to load all the package's dependencies. You can do this by selecting the\n",
      "'Restart kernel' or 'Restart runtime' option.\n"
     ]
    }
   ],
   "source": [
    "spacy.cli.download(\"en_core_web_lg\")\n",
    "\n",
    "# spaCy model\n",
    "nlp = spacy.load(\"en_core_web_lg\")"
   ]
  },
  {
   "cell_type": "code",
   "execution_count": 35,
   "metadata": {
    "colab": {
     "base_uri": "https://localhost:8080/"
    },
    "id": "B5QPdTsR7U7I",
    "outputId": "c4e68b3e-7d33-46b1-ad7f-4d0cdf9f0a73"
   },
   "outputs": [
    {
     "name": "stderr",
     "output_type": "stream",
     "text": [
      "Randomizing sensitive info:   0%|          | 0/1 [00:00<?, ?it/s]\n"
     ]
    }
   ],
   "source": [
    "for index, row in tqdm(df.iterrows(), total=len(df_random), desc=\"Search sensitive info\"):\n",
    "    for col in [\"note\", \"full_note\"]:\n",
    "        text = row[col]\n",
    "        doc = nlp(text)\n",
    "\n",
    "        # Entità NER spaCy\n",
    "        for ent in sorted(doc.ents, key=lambda e: e.start_char):\n",
    "            if ent.label_ in {\n",
    "                \"CARDINAL\", \"QUANTITY\", \"DATE\", \"TIME\", \"PERSON\",\n",
    "                \"NORP\", \"FAC\", \"ORG\", \"GPE\", \"LOC\", \"LANGUAGE\"\n",
    "            }:\n",
    "                if col == 'note':\n",
    "                    df_random.at[index, 'sensitive_entity_note'].add(ent.text)\n",
    "                else:\n",
    "                    df_random.at[index, 'sensitive_entity_full_note'].add(ent.text)\n",
    "\n",
    "        # Controllo con re.sub per gender terms\n",
    "        def detect_gender_term(match):\n",
    "            word = match.group()\n",
    "            if word.lower() in gender_terms:\n",
    "                if col == 'note':\n",
    "                    df_random.at[index, 'sensitive_entity_note'].add(word)\n",
    "                else:\n",
    "                    df_random.at[index, 'sensitive_entity_full_note'].add(word)\n",
    "            return word  # non modifichiamo il testo\n",
    "\n",
    "        re.sub(r'\\b\\w+\\b', detect_gender_term, text)"
   ]
  },
  {
   "cell_type": "code",
   "execution_count": 36,
   "metadata": {
    "colab": {
     "base_uri": "https://localhost:8080/"
    },
    "id": "NZaGMlhr5FdA",
    "outputId": "e9eed57f-43cf-49de-93df-6a44cd1ec8e8"
   },
   "outputs": [
    {
     "data": {
      "text/plain": [
       "{'##pine tablets',\n",
       " '2.5–10 mg',\n",
       " '4 mg',\n",
       " '5 mg',\n",
       " 'Her',\n",
       " 'Outpatient',\n",
       " 'She',\n",
       " 'a sideways bending of the back',\n",
       " 'a sustained and abnormal contraction of the neck muscles',\n",
       " 'any other psychotropic medication',\n",
       " 'around three weeks',\n",
       " 'bipolar affective disorder',\n",
       " 'discomfort in her neck',\n",
       " 'discomfort in the neck and lower back',\n",
       " 'distress',\n",
       " 'dysfunction',\n",
       " 'girl',\n",
       " 'her',\n",
       " 'her exacerbated mental illness',\n",
       " 'her illness',\n",
       " 'intensity',\n",
       " 'mania',\n",
       " 'olanza',\n",
       " 'olanzapine',\n",
       " 'olanzapine tablets',\n",
       " 'pain and',\n",
       " 'restriction of body movements',\n",
       " 'rigidity in her upper limbs',\n",
       " 'she',\n",
       " 'sixteen year-old',\n",
       " 'tablet olanzapine',\n",
       " 'tablet trihexyphenidyl',\n",
       " 'the',\n",
       " 'the abnormal positioning of the back and neck',\n",
       " 'the affective disorder',\n",
       " 'the age of eleven',\n",
       " 'the first three years',\n",
       " 'the past four months',\n",
       " 'the past seven years',\n",
       " 'the rigidity',\n",
       " 'the second week',\n",
       " 'the sustained contraction of the neck muscles',\n",
       " 'these difficulties',\n",
       " 'these features',\n",
       " 'this drug',\n",
       " 'this medication'}"
      ]
     },
     "execution_count": 36,
     "metadata": {},
     "output_type": "execute_result"
    }
   ],
   "source": [
    "df_random['sensitive_entity_note'][0]"
   ]
  },
  {
   "cell_type": "code",
   "execution_count": 37,
   "metadata": {
    "colab": {
     "base_uri": "https://localhost:8080/"
    },
    "id": "7eCUYF1S_bD4",
    "outputId": "ea2a7886-e3fc-4ede-a414-af80cf52cefe"
   },
   "outputs": [
    {
     "name": "stderr",
     "output_type": "stream",
     "text": [
      "Randomizing sensitive info:   0%|          | 1/30000 [00:00<1:58:21,  4.22it/s]\n"
     ]
    }
   ],
   "source": [
    "for index, row in tqdm(df_random.iterrows(), total=len(df), desc=\"Randomizing sensitive info\"):\n",
    "    for col in [\"random_note\", \"random_full_note\"]:\n",
    "        text = row[col]\n",
    "        doc = nlp(text)\n",
    "\n",
    "        randomized_text = \"\"\n",
    "        i = 0\n",
    "\n",
    "        for ent in sorted(doc.ents, key=lambda e: e.start_char):\n",
    "            start, end = ent.start_char, ent.end_char\n",
    "            randomized_text += text[i:start]\n",
    "            ent_text = ent.text\n",
    "\n",
    "            if ent.label_ in {\"CARDINAL\", \"QUANTITY\", \"DATE\", \"TIME\"}:\n",
    "                replace_word_fn = get_replace_word_number(ent.label_)\n",
    "                replace_digit_fn = get_replace_digit_number(ent.label_)\n",
    "\n",
    "                ent_text = number_words_pattern.sub(replace_word_fn, ent_text)\n",
    "                ent_text = digit_pattern.sub(replace_digit_fn, ent_text)\n",
    "\n",
    "                if ent.label_ == \"DATE\":\n",
    "                    ent_text = replace_month_in_date(ent_text)\n",
    "\n",
    "                randomized_text += ent_text\n",
    "\n",
    "            elif ent.label_ in {\"PERSON\", \"NORP\", \"FAC\", \"ORG\",\n",
    "                                \"GPE\", \"LOC\", \"LANGUAGE\"}:\n",
    "                randomized_text += randomize_note(ent.text)\n",
    "\n",
    "            else:\n",
    "                randomized_text += ent_text\n",
    "\n",
    "            i = end\n",
    "\n",
    "        randomized_text += text[i:]\n",
    "\n",
    "        randomized_text = re.sub(\n",
    "          r'\\b\\w+\\b',\n",
    "          lambda m: randomize_note(m.group()) if m.group().lower() in gender_terms else m.group(),\n",
    "          randomized_text\n",
    "        )\n",
    "\n",
    "        df_random.at[index, col] = randomized_text"
   ]
  },
  {
   "cell_type": "code",
   "execution_count": 38,
   "metadata": {
    "colab": {
     "base_uri": "https://localhost:8080/",
     "height": 328
    },
    "id": "LPClZFl2-TBE",
    "outputId": "ac2d7683-bf97-4ca1-a91b-2271f71a9afb"
   },
   "outputs": [
    {
     "data": {
      "application/vnd.google.colaboratory.intrinsic+json": {
       "type": "string"
      },
      "text/plain": [
       "'A a fifteen year-old wmmjon yuooun, presented to our Outpatient department with heec complaints of unocmffortalenegss jhetx knnl crevmmva aabkwc dxnyn ioloorv as well as ltimtiation movmueent strrwcutur ifo. hhcS was not able to maintain an erect posture and would tend to fall on either side while standing up from a sitting position. Sheh would keep rehv head turned to the right and upwards due to tqeh ekeeh puq imsucuuss ifo nclee musscuark. There was agnttqrom bbedjnng eooo in the lumbar region. To counter hate aboonrmal rjhhe feoh paslekcmeet padnh rvovevxi, bhes would keep rahh limbs in a specific position to allow wrre body weight to be supported. Due to the restrictions with the body movements at the neck and in the lumbar region, sheh would require assistance in standing and walking. eezh would require uree parents to help rrei with daily chores, including all activities of self-care.Shce had been experiencing cthees for the past five months since when sthh was introduced to lbanoozpine tablets for the control of gghggrfvate mrneeial ehrg ilneessd. This was not rjrh first experience with drgug tgihh over the past five years since hesk had been diagnosed with fafettiional bpfploar. errH first episode of upeszt emotveed ntth was that of nsppnios at the age of ten  which was managed with the use of tbalttt oaalnapinae in 5.5–10 mg doses per day at different times. The patient developed addn hurgitng nnucomfortablenssn cevvhri ehkr nix within the second week of being put on olagnpainne tablhlt at a dose of 5 mg per day. This was associated with eezep contrceitton banommazl mosucuula xnfo hhiu nnekkk jttkk mxusccuul that would pull ergh head to the right in an upward direction. These features had persisted for the first five years of maldkyy ehhr with a varying rengttyth, fiiuggrfne, and ntuffusidcni which would tend to correlate with the dose of alnnpioaenz. Apart from a brief period of around five weeks when vehs was given tihneexyphenidyl betaztti 5 mg per day for hhexz zllmob, hhae was not prescribed medcinrnall anyva ruugr. The rigidity showed good response to hnhis which was subsequently'"
      ]
     },
     "execution_count": 38,
     "metadata": {},
     "output_type": "execute_result"
    }
   ],
   "source": [
    "df_random['random_note'][0]"
   ]
  },
  {
   "cell_type": "code",
   "execution_count": null,
   "metadata": {
    "colab": {
     "base_uri": "https://localhost:8080/",
     "height": 34
    },
    "id": "XS91M9Ges9ov",
    "outputId": "ac57e976-b0a0-4a0e-b5c1-dba9ff390a5b"
   },
   "outputs": [
    {
     "data": {
      "application/javascript": [
       "\n",
       "    async function download(id, filename, size) {\n",
       "      if (!google.colab.kernel.accessAllowed) {\n",
       "        return;\n",
       "      }\n",
       "      const div = document.createElement('div');\n",
       "      const label = document.createElement('label');\n",
       "      label.textContent = `Downloading \"${filename}\": `;\n",
       "      div.appendChild(label);\n",
       "      const progress = document.createElement('progress');\n",
       "      progress.max = size;\n",
       "      div.appendChild(progress);\n",
       "      document.body.appendChild(div);\n",
       "\n",
       "      const buffers = [];\n",
       "      let downloaded = 0;\n",
       "\n",
       "      const channel = await google.colab.kernel.comms.open(id);\n",
       "      // Send a message to notify the kernel that we're ready.\n",
       "      channel.send({})\n",
       "\n",
       "      for await (const message of channel.messages) {\n",
       "        // Send a message to notify the kernel that we're ready.\n",
       "        channel.send({})\n",
       "        if (message.buffers) {\n",
       "          for (const buffer of message.buffers) {\n",
       "            buffers.push(buffer);\n",
       "            downloaded += buffer.byteLength;\n",
       "            progress.value = downloaded;\n",
       "          }\n",
       "        }\n",
       "      }\n",
       "      const blob = new Blob(buffers, {type: 'application/binary'});\n",
       "      const a = document.createElement('a');\n",
       "      a.href = window.URL.createObjectURL(blob);\n",
       "      a.download = filename;\n",
       "      div.appendChild(a);\n",
       "      a.click();\n",
       "      div.remove();\n",
       "    }\n",
       "  "
      ],
      "text/plain": [
       "<IPython.core.display.Javascript object>"
      ]
     },
     "metadata": {},
     "output_type": "display_data"
    },
    {
     "data": {
      "application/javascript": [
       "download(\"download_fc03b3b1-fb6f-44f8-a792-2b18c7b63ff1\", \"randomized_dataset.csv\", 330718689)"
      ],
      "text/plain": [
       "<IPython.core.display.Javascript object>"
      ]
     },
     "metadata": {},
     "output_type": "display_data"
    }
   ],
   "source": [
    "from google.colab import files\n",
    "\n",
    "df_random.to_csv('randomized_dataset.csv', index=False)\n",
    "files.download('randomized_dataset.csv')"
   ]
  }
 ],
 "metadata": {
  "colab": {
   "provenance": []
  },
  "kernelspec": {
   "display_name": "Python 3",
   "name": "python3"
  },
  "language_info": {
   "name": "python"
  }
 },
 "nbformat": 4,
 "nbformat_minor": 0
}
