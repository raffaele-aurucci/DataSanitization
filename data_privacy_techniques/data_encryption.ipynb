{
 "cells": [
  {
   "cell_type": "markdown",
   "metadata": {
    "id": "-ax3t641WR_5"
   },
   "source": [
    "## **Data Encryption**"
   ]
  },
  {
   "cell_type": "code",
   "execution_count": null,
   "metadata": {
    "colab": {
     "base_uri": "https://localhost:8080/"
    },
    "id": "1ZSpfjx701H-",
    "outputId": "67446358-c676-464b-e32e-b3849c8c2dee"
   },
   "outputs": [
    {
     "name": "stdout",
     "output_type": "stream",
     "text": [
      "Requirement already satisfied: transformers in /usr/local/lib/python3.11/dist-packages (4.54.1)\n",
      "Requirement already satisfied: torch in /usr/local/lib/python3.11/dist-packages (2.6.0+cu124)\n",
      "Requirement already satisfied: filelock in /usr/local/lib/python3.11/dist-packages (from transformers) (3.18.0)\n",
      "Requirement already satisfied: huggingface-hub<1.0,>=0.34.0 in /usr/local/lib/python3.11/dist-packages (from transformers) (0.34.3)\n",
      "Requirement already satisfied: numpy>=1.17 in /usr/local/lib/python3.11/dist-packages (from transformers) (2.0.2)\n",
      "Requirement already satisfied: packaging>=20.0 in /usr/local/lib/python3.11/dist-packages (from transformers) (25.0)\n",
      "Requirement already satisfied: pyyaml>=5.1 in /usr/local/lib/python3.11/dist-packages (from transformers) (6.0.2)\n",
      "Requirement already satisfied: regex!=2019.12.17 in /usr/local/lib/python3.11/dist-packages (from transformers) (2024.11.6)\n",
      "Requirement already satisfied: requests in /usr/local/lib/python3.11/dist-packages (from transformers) (2.32.3)\n",
      "Requirement already satisfied: tokenizers<0.22,>=0.21 in /usr/local/lib/python3.11/dist-packages (from transformers) (0.21.4)\n",
      "Requirement already satisfied: safetensors>=0.4.3 in /usr/local/lib/python3.11/dist-packages (from transformers) (0.5.3)\n",
      "Requirement already satisfied: tqdm>=4.27 in /usr/local/lib/python3.11/dist-packages (from transformers) (4.67.1)\n",
      "Requirement already satisfied: typing-extensions>=4.10.0 in /usr/local/lib/python3.11/dist-packages (from torch) (4.14.1)\n",
      "Requirement already satisfied: networkx in /usr/local/lib/python3.11/dist-packages (from torch) (3.5)\n",
      "Requirement already satisfied: jinja2 in /usr/local/lib/python3.11/dist-packages (from torch) (3.1.6)\n",
      "Requirement already satisfied: fsspec in /usr/local/lib/python3.11/dist-packages (from torch) (2025.3.0)\n",
      "Collecting nvidia-cuda-nvrtc-cu12==12.4.127 (from torch)\n",
      "  Downloading nvidia_cuda_nvrtc_cu12-12.4.127-py3-none-manylinux2014_x86_64.whl.metadata (1.5 kB)\n",
      "Collecting nvidia-cuda-runtime-cu12==12.4.127 (from torch)\n",
      "  Downloading nvidia_cuda_runtime_cu12-12.4.127-py3-none-manylinux2014_x86_64.whl.metadata (1.5 kB)\n",
      "Collecting nvidia-cuda-cupti-cu12==12.4.127 (from torch)\n",
      "  Downloading nvidia_cuda_cupti_cu12-12.4.127-py3-none-manylinux2014_x86_64.whl.metadata (1.6 kB)\n",
      "Collecting nvidia-cudnn-cu12==9.1.0.70 (from torch)\n",
      "  Downloading nvidia_cudnn_cu12-9.1.0.70-py3-none-manylinux2014_x86_64.whl.metadata (1.6 kB)\n",
      "Collecting nvidia-cublas-cu12==12.4.5.8 (from torch)\n",
      "  Downloading nvidia_cublas_cu12-12.4.5.8-py3-none-manylinux2014_x86_64.whl.metadata (1.5 kB)\n",
      "Collecting nvidia-cufft-cu12==11.2.1.3 (from torch)\n",
      "  Downloading nvidia_cufft_cu12-11.2.1.3-py3-none-manylinux2014_x86_64.whl.metadata (1.5 kB)\n",
      "Collecting nvidia-curand-cu12==10.3.5.147 (from torch)\n",
      "  Downloading nvidia_curand_cu12-10.3.5.147-py3-none-manylinux2014_x86_64.whl.metadata (1.5 kB)\n",
      "Collecting nvidia-cusolver-cu12==11.6.1.9 (from torch)\n",
      "  Downloading nvidia_cusolver_cu12-11.6.1.9-py3-none-manylinux2014_x86_64.whl.metadata (1.6 kB)\n",
      "Collecting nvidia-cusparse-cu12==12.3.1.170 (from torch)\n",
      "  Downloading nvidia_cusparse_cu12-12.3.1.170-py3-none-manylinux2014_x86_64.whl.metadata (1.6 kB)\n",
      "Requirement already satisfied: nvidia-cusparselt-cu12==0.6.2 in /usr/local/lib/python3.11/dist-packages (from torch) (0.6.2)\n",
      "Requirement already satisfied: nvidia-nccl-cu12==2.21.5 in /usr/local/lib/python3.11/dist-packages (from torch) (2.21.5)\n",
      "Requirement already satisfied: nvidia-nvtx-cu12==12.4.127 in /usr/local/lib/python3.11/dist-packages (from torch) (12.4.127)\n",
      "Collecting nvidia-nvjitlink-cu12==12.4.127 (from torch)\n",
      "  Downloading nvidia_nvjitlink_cu12-12.4.127-py3-none-manylinux2014_x86_64.whl.metadata (1.5 kB)\n",
      "Requirement already satisfied: triton==3.2.0 in /usr/local/lib/python3.11/dist-packages (from torch) (3.2.0)\n",
      "Requirement already satisfied: sympy==1.13.1 in /usr/local/lib/python3.11/dist-packages (from torch) (1.13.1)\n",
      "Requirement already satisfied: mpmath<1.4,>=1.1.0 in /usr/local/lib/python3.11/dist-packages (from sympy==1.13.1->torch) (1.3.0)\n",
      "Requirement already satisfied: hf-xet<2.0.0,>=1.1.3 in /usr/local/lib/python3.11/dist-packages (from huggingface-hub<1.0,>=0.34.0->transformers) (1.1.5)\n",
      "Requirement already satisfied: MarkupSafe>=2.0 in /usr/local/lib/python3.11/dist-packages (from jinja2->torch) (3.0.2)\n",
      "Requirement already satisfied: charset-normalizer<4,>=2 in /usr/local/lib/python3.11/dist-packages (from requests->transformers) (3.4.2)\n",
      "Requirement already satisfied: idna<4,>=2.5 in /usr/local/lib/python3.11/dist-packages (from requests->transformers) (3.10)\n",
      "Requirement already satisfied: urllib3<3,>=1.21.1 in /usr/local/lib/python3.11/dist-packages (from requests->transformers) (2.5.0)\n",
      "Requirement already satisfied: certifi>=2017.4.17 in /usr/local/lib/python3.11/dist-packages (from requests->transformers) (2025.7.14)\n",
      "Downloading nvidia_cublas_cu12-12.4.5.8-py3-none-manylinux2014_x86_64.whl (363.4 MB)\n",
      "\u001b[2K   \u001b[90m━━━━━━━━━━━━━━━━━━━━━━━━━━━━━━━━━━━━━━━━\u001b[0m \u001b[32m363.4/363.4 MB\u001b[0m \u001b[31m4.4 MB/s\u001b[0m eta \u001b[36m0:00:00\u001b[0m\n",
      "\u001b[?25hDownloading nvidia_cuda_cupti_cu12-12.4.127-py3-none-manylinux2014_x86_64.whl (13.8 MB)\n",
      "\u001b[2K   \u001b[90m━━━━━━━━━━━━━━━━━━━━━━━━━━━━━━━━━━━━━━━━\u001b[0m \u001b[32m13.8/13.8 MB\u001b[0m \u001b[31m51.7 MB/s\u001b[0m eta \u001b[36m0:00:00\u001b[0m\n",
      "\u001b[?25hDownloading nvidia_cuda_nvrtc_cu12-12.4.127-py3-none-manylinux2014_x86_64.whl (24.6 MB)\n",
      "\u001b[2K   \u001b[90m━━━━━━━━━━━━━━━━━━━━━━━━━━━━━━━━━━━━━━━━\u001b[0m \u001b[32m24.6/24.6 MB\u001b[0m \u001b[31m62.2 MB/s\u001b[0m eta \u001b[36m0:00:00\u001b[0m\n",
      "\u001b[?25hDownloading nvidia_cuda_runtime_cu12-12.4.127-py3-none-manylinux2014_x86_64.whl (883 kB)\n",
      "\u001b[2K   \u001b[90m━━━━━━━━━━━━━━━━━━━━━━━━━━━━━━━━━━━━━━━━\u001b[0m \u001b[32m883.7/883.7 kB\u001b[0m \u001b[31m38.7 MB/s\u001b[0m eta \u001b[36m0:00:00\u001b[0m\n",
      "\u001b[?25hDownloading nvidia_cudnn_cu12-9.1.0.70-py3-none-manylinux2014_x86_64.whl (664.8 MB)\n",
      "\u001b[2K   \u001b[90m━━━━━━━━━━━━━━━━━━━━━━━━━━━━━━━━━━━━━━━━\u001b[0m \u001b[32m664.8/664.8 MB\u001b[0m \u001b[31m2.0 MB/s\u001b[0m eta \u001b[36m0:00:00\u001b[0m\n",
      "\u001b[?25hDownloading nvidia_cufft_cu12-11.2.1.3-py3-none-manylinux2014_x86_64.whl (211.5 MB)\n",
      "\u001b[2K   \u001b[90m━━━━━━━━━━━━━━━━━━━━━━━━━━━━━━━━━━━━━━━━\u001b[0m \u001b[32m211.5/211.5 MB\u001b[0m \u001b[31m7.3 MB/s\u001b[0m eta \u001b[36m0:00:00\u001b[0m\n",
      "\u001b[?25hDownloading nvidia_curand_cu12-10.3.5.147-py3-none-manylinux2014_x86_64.whl (56.3 MB)\n",
      "\u001b[2K   \u001b[90m━━━━━━━━━━━━━━━━━━━━━━━━━━━━━━━━━━━━━━━━\u001b[0m \u001b[32m56.3/56.3 MB\u001b[0m \u001b[31m17.8 MB/s\u001b[0m eta \u001b[36m0:00:00\u001b[0m\n",
      "\u001b[?25hDownloading nvidia_cusolver_cu12-11.6.1.9-py3-none-manylinux2014_x86_64.whl (127.9 MB)\n",
      "\u001b[2K   \u001b[90m━━━━━━━━━━━━━━━━━━━━━━━━━━━━━━━━━━━━━━━━\u001b[0m \u001b[32m127.9/127.9 MB\u001b[0m \u001b[31m7.9 MB/s\u001b[0m eta \u001b[36m0:00:00\u001b[0m\n",
      "\u001b[?25hDownloading nvidia_cusparse_cu12-12.3.1.170-py3-none-manylinux2014_x86_64.whl (207.5 MB)\n",
      "\u001b[2K   \u001b[90m━━━━━━━━━━━━━━━━━━━━━━━━━━━━━━━━━━━━━━━━\u001b[0m \u001b[32m207.5/207.5 MB\u001b[0m \u001b[31m3.4 MB/s\u001b[0m eta \u001b[36m0:00:00\u001b[0m\n",
      "\u001b[?25hDownloading nvidia_nvjitlink_cu12-12.4.127-py3-none-manylinux2014_x86_64.whl (21.1 MB)\n",
      "\u001b[2K   \u001b[90m━━━━━━━━━━━━━━━━━━━━━━━━━━━━━━━━━━━━━━━━\u001b[0m \u001b[32m21.1/21.1 MB\u001b[0m \u001b[31m75.3 MB/s\u001b[0m eta \u001b[36m0:00:00\u001b[0m\n",
      "\u001b[?25hInstalling collected packages: nvidia-nvjitlink-cu12, nvidia-curand-cu12, nvidia-cufft-cu12, nvidia-cuda-runtime-cu12, nvidia-cuda-nvrtc-cu12, nvidia-cuda-cupti-cu12, nvidia-cublas-cu12, nvidia-cusparse-cu12, nvidia-cudnn-cu12, nvidia-cusolver-cu12\n",
      "  Attempting uninstall: nvidia-nvjitlink-cu12\n",
      "    Found existing installation: nvidia-nvjitlink-cu12 12.5.82\n",
      "    Uninstalling nvidia-nvjitlink-cu12-12.5.82:\n",
      "      Successfully uninstalled nvidia-nvjitlink-cu12-12.5.82\n",
      "  Attempting uninstall: nvidia-curand-cu12\n",
      "    Found existing installation: nvidia-curand-cu12 10.3.6.82\n",
      "    Uninstalling nvidia-curand-cu12-10.3.6.82:\n",
      "      Successfully uninstalled nvidia-curand-cu12-10.3.6.82\n",
      "  Attempting uninstall: nvidia-cufft-cu12\n",
      "    Found existing installation: nvidia-cufft-cu12 11.2.3.61\n",
      "    Uninstalling nvidia-cufft-cu12-11.2.3.61:\n",
      "      Successfully uninstalled nvidia-cufft-cu12-11.2.3.61\n",
      "  Attempting uninstall: nvidia-cuda-runtime-cu12\n",
      "    Found existing installation: nvidia-cuda-runtime-cu12 12.5.82\n",
      "    Uninstalling nvidia-cuda-runtime-cu12-12.5.82:\n",
      "      Successfully uninstalled nvidia-cuda-runtime-cu12-12.5.82\n",
      "  Attempting uninstall: nvidia-cuda-nvrtc-cu12\n",
      "    Found existing installation: nvidia-cuda-nvrtc-cu12 12.5.82\n",
      "    Uninstalling nvidia-cuda-nvrtc-cu12-12.5.82:\n",
      "      Successfully uninstalled nvidia-cuda-nvrtc-cu12-12.5.82\n",
      "  Attempting uninstall: nvidia-cuda-cupti-cu12\n",
      "    Found existing installation: nvidia-cuda-cupti-cu12 12.5.82\n",
      "    Uninstalling nvidia-cuda-cupti-cu12-12.5.82:\n",
      "      Successfully uninstalled nvidia-cuda-cupti-cu12-12.5.82\n",
      "  Attempting uninstall: nvidia-cublas-cu12\n",
      "    Found existing installation: nvidia-cublas-cu12 12.5.3.2\n",
      "    Uninstalling nvidia-cublas-cu12-12.5.3.2:\n",
      "      Successfully uninstalled nvidia-cublas-cu12-12.5.3.2\n",
      "  Attempting uninstall: nvidia-cusparse-cu12\n",
      "    Found existing installation: nvidia-cusparse-cu12 12.5.1.3\n",
      "    Uninstalling nvidia-cusparse-cu12-12.5.1.3:\n",
      "      Successfully uninstalled nvidia-cusparse-cu12-12.5.1.3\n",
      "  Attempting uninstall: nvidia-cudnn-cu12\n",
      "    Found existing installation: nvidia-cudnn-cu12 9.3.0.75\n",
      "    Uninstalling nvidia-cudnn-cu12-9.3.0.75:\n",
      "      Successfully uninstalled nvidia-cudnn-cu12-9.3.0.75\n",
      "  Attempting uninstall: nvidia-cusolver-cu12\n",
      "    Found existing installation: nvidia-cusolver-cu12 11.6.3.83\n",
      "    Uninstalling nvidia-cusolver-cu12-11.6.3.83:\n",
      "      Successfully uninstalled nvidia-cusolver-cu12-11.6.3.83\n",
      "Successfully installed nvidia-cublas-cu12-12.4.5.8 nvidia-cuda-cupti-cu12-12.4.127 nvidia-cuda-nvrtc-cu12-12.4.127 nvidia-cuda-runtime-cu12-12.4.127 nvidia-cudnn-cu12-9.1.0.70 nvidia-cufft-cu12-11.2.1.3 nvidia-curand-cu12-10.3.5.147 nvidia-cusolver-cu12-11.6.1.9 nvidia-cusparse-cu12-12.3.1.170 nvidia-nvjitlink-cu12-12.4.127\n"
     ]
    }
   ],
   "source": [
    "%pip install transformers torch"
   ]
  },
  {
   "cell_type": "code",
   "execution_count": 6,
   "metadata": {
    "id": "_QZktNg4ayNd"
   },
   "outputs": [],
   "source": [
    "import pandas as pd\n",
    "import re\n",
    "from transformers import AutoTokenizer, AutoModelForTokenClassification, pipeline\n",
    "from tqdm import tqdm\n",
    "import spacy\n",
    "import torch"
   ]
  },
  {
   "cell_type": "markdown",
   "metadata": {
    "id": "J8HQzX5JPdfV"
   },
   "source": [
    "#### Reading dataset"
   ]
  },
  {
   "cell_type": "code",
   "execution_count": 2,
   "metadata": {
    "id": "Uz4QGKmYPZpf"
   },
   "outputs": [],
   "source": [
    "df = pd.read_json(\"hf://datasets/AGBonnet/augmented-clinical-notes/augmented_notes_30K.jsonl\", lines=True)"
   ]
  },
  {
   "cell_type": "code",
   "execution_count": null,
   "metadata": {
    "colab": {
     "base_uri": "https://localhost:8080/",
     "height": 206
    },
    "id": "UVwNRnkMRREc",
    "outputId": "ab9ecf9f-58ba-4a6f-edda-a849bc99cfcb"
   },
   "outputs": [
    {
     "data": {
      "application/vnd.google.colaboratory.intrinsic+json": {
       "summary": "{\n  \"name\": \"df\",\n  \"rows\": 30000,\n  \"fields\": [\n    {\n      \"column\": \"note\",\n      \"properties\": {\n        \"dtype\": \"string\",\n        \"num_unique_values\": 24348,\n        \"samples\": [\n          \"We herein present a case that was recently managed at our institution, the Department of Surgery of the San Camillo Forlanini Hospital of Rome, Italy.\\nA 53-year-old man with previous history of alcohol-related liver cirrhosis presents to our department for routine follow-up. His comorbidities include hypertension managed with oral antihypertensive drugs and diabetes mellitus type 2. He has no significant allergies and never underwent any surgical procedure. He brings an ultrasound, which shows a 4 cm heterogenous mass in segment 8. His alfafetoprotein level is elevated to 76 ng/mL. He has no symptoms and looks in good performance status. We scheduled him for a triphasic CT scan, which shows a lesion of 4.3 cm with brisk arterial contrast and venous washout. According to the LIRADS classification, this lesion could be considered a class 5 with diagnostic features of hepatocellular carcinoma. The patient was discussed in our multidisciplinary tumor board including hepatobiliary and transplant surgeons, hepatologists, radiologists, pathologists, oncologists, and interventional radiologists. The plan was to submit the patient to curative intent treatments given his early presentation according to the Barcelona Clinic Liver Cancer Staging System (BCLC), namely surgical resection or liver transplantation; radiofrequency ablation was excluded given the tumor\\u2019s dimensions. Given the good performance status, the position of the lesion (which was right below the Glissonian capsule) and the liver function of the patients, the MDT decided to schedule the patient for surgery. We therefore saw the patient in clinic and discussed the procedure. Informed consent was signed, and liver function was tested using ICG retention rate. We used 0.5 mg/Kg corresponding to 40 mg in this 80 kg patient. The DICOM data of the CT scan of the patient were then submitted to our radiologist who performed a 3D reconstruction of the patient\\u2019s anatomy and the relationship of the lesion with the major vessels. Furthermore, the exact dimensions of the portal territories\",\n          \"The patient was a 64-year-old woman with seven children brought to the hospital with severe vomiting and a history of solid dysphagia; she had the symptoms for three months and was referred to different physicians, left without definite diagnosis before admission to our center.. Patient\\u2019s past medical history was unremarkable. Post-contrast computed tomography (CT) of the neck showed two lesions (kissing tumors) in the upper esophagus, causing the tracheal shift to the right side with no lymph node enlargement (Fig. ). Physical examination revealed no abnormalities, and the results of laboratory examinations were within the normal range. CT-guided fine-needle aspiration biopsy evaluation of the mass showed a few pleomorphic spindle malignant cells among inflammatory cells in a bloody background. Additional endoscopy of the esophagus, stomach, and duodenum was performed for the patient, which showed a large tumor in the cricopharyngeus causing stricture, while the stomach and duodenum were normal. (Fig. ).\\nThe patient was scheduled for exploratory laparotomy with the exploration of cervical organs, resection of the pharynx, thyroid (partial), and esophagus and gastric pull up along with the insertion of a tracheostomy and bilateral chest tube, and cervical penrose.\\nThe patient was laid in a supine position. After preparation and sterilization, the abdomen was opened by a high midline incision. The surgeon inserted his finger into the mediastinum to assess the presence of any tumors. Stomach was mobilized by harmonic ligasure, lesser sac was opened, short gastric and left gastric arteries were ligated, and gastric pedicle was made on the right gastroepiploic arteries and epigastric area. Then, the esophagus was dissected bluntly by the finger in the mediastinum through the hiatus's opening and continued upward. Adhesion to the carina was found and released meticulously. Next, the collar incision was made on the neck. Then, subtotal thyroidectomy was done, and the specimen was sent for pathologic evaluation. Trocar was\",\n          \"A 38-year-old woman from Elazig, Turkey with atrial septal defect was admitted for exertional dyspnea and fatigue. She had a general tendency and swelling both of the lower limbs at term (38-40 weeks\\u2019 gestation). Echocardiography had documented atrial septal defect () and she had three children in alive. She had an intrauterine death at 28 weeks\\u2019 gestation.\\nOn physical examination, she presented in both lower limbs swelling. A venous color flow Doppler ultrasonography of the both lower-extremity were requested, showing bilateral venous insufficiency, but there were not peripheral venous thrombosis. On auscultation, fixed split of second heart sound and pansystolic murmur on the left side of sternal border were heard. ECG was NSR. A chest X-ray showed mild heart enlargement. Echocardiography documented enlargement of the right ventricle and both atria with atrial septal defect (approximately 33 \\u00d7 38 mm) and normal function of both ventricles (). Right-sided pulmonary veins were not identified. Multidetector Computerized Tomography (CT) angiography confirmed atrial septal defect and abnormal return of right-sided pulmonary veins into the right atrium () and showed inferior vena cava on the right side of spine and showed total interruption of IVC below the hepatic veins (). Multidetector CT angiography provided full description of a complex anomaly documenting right inferior vena cava with azygous continuation, draining into the superior vena cava (, ) and hepatic veins were draining directly into the right atrium (). Ultrasound revealed polysplenia (), 0.5 cm nodule in the left thyroid lobe and 1 cm cystic mass in the right over.\\nA standard median sternotomy was performed. The pericardial cavity was opened and the heart was exposed. SVC was dissected out to the bridging vein, exposing the azygos vein and anomalous pulmonary veins. Cardiopulmonary bypass was established with cannulation to the ascending aorta and SVC was cannulated by L-shaped catheter, because of absence the IVC. The\"\n        ],\n        \"semantic_type\": \"\",\n        \"description\": \"\"\n      }\n    },\n    {\n      \"column\": \"conversation\",\n      \"properties\": {\n        \"dtype\": \"string\",\n        \"num_unique_values\": 25761,\n        \"samples\": [\n          \"Doctor: Good morning, what brings you here today?\\nPatient: I was referred to your department with a 1-month history of DHS.\\nDoctor: I see. Can you tell me more about your history?\\nPatient: Yes, I have suffered from severe right foot pain because of limb ischemia related to systemic sclerosis.\\nDoctor: I see. When were you diagnosed with systemic sclerosis?\\nPatient: It was diagnosed 30 years ago and was classified as having limited cutaneous systemic sclerosis.\\nDoctor: Hmm, okay. And what about the fibrosis?\\nPatient: It was limited to my hands without involvement of my head or neck.\\nDoctor: I see. Is there any family history of any neuromuscular disease?\\nPatient: No, there isn't.\\nDoctor: Alright. Can you tell me more about your right foot pain?\\nPatient: One month before visiting your hospital, I developed right foot gangrene. Although I had Raynaud's phenomenon and ulcerations in my fingers, I had no symptom in my foot before I had gangrene. The pain was so severe that I used tramadol and NSAIDs as painkillers.\\nDoctor: I see. And when did you start to complain about DHS?\\nPatient: It was when my foot pain worsened. I had difficulty in keeping my head straight and my gaze forward.\\nDoctor: I see. Can you describe your neck deformity?\\nPatient: Clinical examination revealed severe weakness of my neck extensor muscles. My neck deformity was flexible and easily corrected passively.\\nDoctor: I see. And were there any neurological abnormalities including sensory disturbance or muscle weakness in your extremities?\\nPatient: No, there weren't.\\nDoctor: Alright. And what did the radiographs of your cervical spine reveal?\\nPatient: They revealed only mild degenerative changes and severe cervical kyphosis.\\nDoctor: I see. And what about your cervical magnetic resonance imaging?\\nPatient: It showed no spinal canal stenosis and no abnormal signal change in the cervical paraspinal muscles.\\nDoctor: I see. And what did the computed tomographic angiography show?\\nPatient: It showed occlusion of bilateral anterior tibial arteries and peroneal arteries, and development of collaterals.\\nDoctor: I see. Despite intensive conservative therapy including alprostadil, argatroban, and sarpogrelate, lower extremity ischemia progressed, right?\\nPatient: Yes, that's correct.\\nDoctor: Alright. So, we decided to amputate your leg below the knee under general anesthesia, correct?\\nPatient: Yes.\\nDoctor: And your postoperative course was uneventful, right?\\nPatient: Yes, it was.\\nDoctor: Good. And your severe foot pain was resolved after the surgery, correct?\\nPatient: Yes, it was.\\nDoctor: And at the postoperative follow-up visit 3 weeks after surgery, your DHS was significantly attenuated, right?\\nPatient: Yes, it was. My forward vision and neck pain were also improved.\\nDoctor: That's great to hear. The feature of the present patient was attenuation of her DHS after pain relief by amputation of her severely ischemic limb.\\nPatient: Yes, that's correct.\\n[Conversation ends]\\n[Conversation Starts]\\nDoctor: Good morning, what brings you here today?\\nPatient's family: Our mother was referred to your department with a 1-month history of DHS.\\nDoctor: I see. Can you tell me more about her history?\\nPatient's family: Yes, she has suffered from severe right foot pain because of limb ischemia related to systemic sclerosis.\\nDoctor: I see. When was she diagnosed with systemic sclerosis?\\nPatient's family: It was diagnosed 30 years ago and was classified as having limited cutaneous systemic sclerosis.\\nDoctor: Hmm, okay. And what about the fibrosis?\\nPatient's family: It was limited to her hands without involvement of her head or neck.\\nDoctor: I see. Is there any family history of any neuromuscular disease?\\nPatient's family: No, there isn't.\\nDoctor: Alright. Can you tell me more about her right foot pain?\\nPatient's family: One month before visiting your hospital, she developed right foot gangrene. Although she had Raynaud's phenomenon and ulcerations in her fingers, she had no symptom in her foot before she had gangrene. The pain was so severe that she used tramadol and NSAIDs as painkillers.\\nDoctor: I see. And when did she start to complain about DHS?\\nPatient's family: It was when her foot pain worsened. She had difficulty in keeping her head straight and her gaze forward.\\nDoctor: I see. Can you describe her neck deformity?\\nPatient's family: Clinical examination revealed severe weakness of her neck extensor muscles. Her neck deformity was flexible and easily corrected passively.\\nDoctor: I see. And were there any neurological abnormalities including sensory disturbance or muscle weakness in her extremities?\\nPatient's family: No, there weren't.\\nDoctor: Alright. And what did the radiographs of her cervical spine reveal?\\nPatient's family: They revealed only mild degenerative changes and severe cervical kyphosis.\\nDoctor: I see. And what about her cervical magnetic resonance imaging?\\nPatient's family: It showed no spinal canal stenosis and no abnormal signal change in the cervical paraspinal muscles.\\nDoctor: I see. And what did the computed tomographic angiography show?\\nPatient's family: It showed occlusion of bilateral anterior tibial arteries and peroneal arteries, and development of collaterals.\\nDoctor: I see. Despite intensive conservative therapy including alprostadil, argatroban, and sarpogrelate, lower extremity ischemia progressed, right?\\nPatient's family: Yes, that's correct.\\nDoctor: Alright. So, we decided to amputate her leg below the knee under general anesthesia, correct?\\nPatient's family: Yes.\\nDoctor: And her postoperative course was uneventful, right?\\nPatient's family: Yes, it was.\\nDoctor: Good. And her severe foot pain was resolved after the surgery, correct?\\nPatient's family: Yes, it was.\\nDoctor: And at the postoperative follow-up visit 3 weeks after surgery, her DHS was significantly attenuated, right?\\nPatient's family: Yes, it was. Her forward vision and neck pain were also improved.\\nDoctor: That's great to hear. The feature of the present patient was attenuation of her DHS after pain relief by amputation of her severely ischemic limb.\\nPatient's family: Yes, that's correct.\\n[Conversation ends]\\n[Note: The patient eventually died.]\\n[Conversation Starts]\\nDoctor: Good morning, what brings you here today?\\nPatient's family: Our mother was referred to your department with a 1-month history of DHS.\\nDoctor: I see. Can you tell me more about her history?\\nPatient's family: Yes, she suffered from severe right foot pain because of limb ischemia related to systemic sclerosis.\\nDoctor: I see. When was she diagnosed with systemic sclerosis?\\nPatient's family: It was diagnosed 30 years ago and was classified as having limited cutaneous systemic sclerosis.\\nDoctor: Hmm, okay. And what about the fibrosis?\\nPatient's family: It was limited to her hands without involvement of her head or neck.\\nDoctor: I see. Is there any family history of any neuromuscular disease?\\nPatient's family: No, there wasn't.\\nDoctor: Alright. Can you tell me more about her right foot pain?\\nPatient's family: One month before visiting your hospital, she developed right foot gangrene. Although she had Raynaud's phenomenon and ulcerations in her fingers, she had no symptom in her foot before she had gangrene. The pain was so severe that she used tramadol and NSAIDs as painkillers.\\nDoctor: I see. And when did she start to complain about DHS?\\nPatient's family: It was when her foot pain worsened. She had difficulty in keeping her head straight and her gaze forward.\\nDoctor: I see. Can you describe her neck deformity?\\nPatient's family: Clinical examination revealed severe weakness of her neck extensor muscles. Her neck deformity was flexible and easily corrected passively.\\nDoctor: I see. And were there any neurological abnormalities including sensory disturbance or muscle weakness in her extremities?\\nPatient's family: No, there weren't.\\nDoctor: Alright. And what did the radiographs of her cervical spine reveal?\\nPatient's family: They revealed only mild degenerative changes and severe cervical kyphosis.\\nDoctor: I see. And what about her cervical magnetic resonance imaging?\\nPatient's family: It showed no spinal canal stenosis and no abnormal signal change in the cervical paraspinal muscles.\\nDoctor: I see. And what did the computed tomographic angiography show?\\nPatient's family: It showed occlusion of bilateral anterior tibial arteries and peroneal arteries, and development of collaterals.\\nDoctor: I see. Despite intensive conservative therapy including alprostadil, argatroban, and sarpogrelate, lower extremity ischemia progressed, right?\\nPatient's family: Yes, that's correct.\\nDoctor: Alright. So, we decided to amputate her leg below the knee under general anesthesia, correct?\\nPatient's family: Yes.\\nDoctor: And her postoperative course was uneventful, right?\\nPatient's family: Yes, it was.\\nDoctor: Good. And her severe foot pain was resolved after the surgery, correct?\\nPatient's family: Yes, it was.\\nDoctor: And at the postoperative follow-up visit 3 weeks after surgery, her DHS was significantly attenuated, right?\\nPatient's family: Yes, it was. Her forward vision and neck pain were also improved.\\nDoctor: That's great to hear. The feature of the present patient was attenuation of her DHS after pain relief by amputation of her severely ischemic limb.\\nPatient's family: Yes, that's correct.\\nDoctor: I'm sorry to inform you that your mother eventually passed away.\\nPatient's family: Thank you for your help, doctor.\\n[Conversation ends]\\n[Note: The patient eventually died.]\\n[Conversation Starts]\\nDoctor: Good morning, what brings you here today?\\nPatient's family: Our mother was referred to your department with a 1-month history of DHS.\\nDoctor: I see. Can you tell me more about her history?\\nPatient's family: Yes, she had suffered from severe right foot pain because of limb ischemia related to systemic sclerosis.\\nDoctor: I see. When was she diagnosed with systemic sclerosis?\\nPatient's family: It was diagnosed 30 years ago and was classified as having limited cutaneous systemic sclerosis.\\nDoctor: Hmm, okay. And what about the fibrosis?\\nPatient's family: It was limited to her hands without involvement of her head or neck.\\nDoctor: I see. Is there any family history of any neuromuscular disease?\\nPatient's family: No, there wasn't.\\nDoctor: Alright. Can you tell me more about her right foot pain?\\nPatient's family: One month before visiting your hospital, she had developed right foot gangrene. Although she had Raynaud's phenomenon and ulcerations in her fingers, she had no symptom in her foot before she had gangrene. The pain was so severe that she used tramadol and NSAIDs as painkillers.\\nDoctor: I see. And when did she start to complain about DHS?\\nPatient's family: It was when her foot pain worsened. She had difficulty in keeping her head straight and her gaze forward.\\nDoctor: I see. Can you describe her neck deformity?\\nPatient's family: Clinical examination revealed severe weakness of her neck extensor muscles. Her neck deformity was flexible and easily corrected passively.\\nDoctor: I see. And were there any neurological abnormalities including sensory disturbance or muscle weakness in her extremities?\\nPatient's family: No, there weren't.\\nDoctor: Alright. And what did the radiographs of her cervical spine reveal?\\nPatient's family: They revealed only mild degenerative changes and severe cervical kyphosis.\\nDoctor: I see. And what about her cervical magnetic resonance imaging?\\nPatient's family: It showed no spinal canal stenosis and no abnormal signal change in the cervical paraspinal muscles.\\nDoctor: I see. And what did the computed tomographic angiography show?\\nPatient's family: It showed occlusion of bilateral anterior tibial arteries and peroneal arteries, and development of collaterals.\\nDoctor: I see. Despite intensive conservative therapy including alprostadil, argatroban, and sarpogrelate, lower extremity ischemia progressed, right?\\nPatient's family: Yes, that's correct.\\nDoctor: Alright. So, we decided to amputate her leg below the knee under general anesthesia, correct?\\nPatient's family: Yes.\\nDoctor: And her postoperative course was uneventful, right?\\nPatient's family: Yes, it was.\\nDoctor: Good. And her severe foot pain was resolved after the surgery, correct?\\nPatient's family: Yes, it was.\\nDoctor: And at the postoperative follow-up visit 3 weeks after surgery, her DHS was significantly attenuated, right?\\nPatient's family: Yes, it was. Her forward vision and neck pain were also improved.\\nDoctor: That's great to hear. The feature of the present patient was attenuation of her DHS after pain relief by amputation of her severely ischemic limb.\\nPatient's family: Yes, that's correct.\\nDoctor: I'm sorry to inform you that your mother eventually passed away.\\nPatient's family: Thank you for your help, doctor.\\n[Conversation ends]\\n[Note: The patient eventually died.]\\n[Conversation Starts]\\nDoctor: Good morning, what brings you here today?\\nPatient's family: Our mother was referred to your department with a 1-month history of DHS.\\nDoctor: I see. Can you tell me more about her history?\\nPatient's family: Yes, she had suffered from severe right foot pain because of limb ischemia related to systemic sclerosis.\\nDoctor: I see. When was she diagnosed with systemic sclerosis?\\nPatient's family: It was diagnosed 30 years ago and was classified as having limited cutaneous systemic sclerosis.\\nDoctor: Hmm, okay. And what about the fibrosis?\\nPatient's family: It was limited to her hands without involvement of her head or neck.\\nDoctor: I see. Is there any family history of any neuromuscular disease?\\nPatient's family: No, there wasn't.\\nDoctor: Alright. Can you tell me more about her right foot pain?\\nPatient's family: One month before visiting your hospital, she had developed right foot gangrene. Although she had Raynaud's phenomenon and ulcerations in her fingers, she had no symptom in her foot before she had gangrene. The pain was so severe that she used tramadol and NSAIDs as painkillers.\\nDoctor: I see. And when did she start to complain about DHS?\\nPatient's family: It was when her foot pain worsened. She had difficulty in keeping her head straight and her gaze forward.\\nDoctor: I see. Can you describe her neck deformity?\\nPatient's family: Clinical examination revealed severe weakness of her neck extensor muscles. Her neck deformity was flexible and easily corrected passively.\\nDoctor: I see. And were there any neurological abnormalities including sensory disturbance or muscle weakness in her extremities?\\nPatient's family: No, there weren't.\\nDoctor: Alright. And what did the radiographs of her cervical spine reveal?\\nPatient's family: They revealed only mild degenerative changes and severe cervical kyphosis.\\nDoctor: I see. And what about her cervical magnetic resonance imaging?\\nPatient's family: It showed no spinal canal stenosis and no abnormal signal change in the cervical paraspinal muscles.\\nDoctor: I see. And what did the computed tomographic angiography show?\\nPatient's family: It showed occlusion of bilateral anterior tibial arteries and peroneal arteries, and development of collaterals.\\nDoctor: I see. Despite intensive conservative therapy including alprostadil, argatroban, and sarpogrelate, lower extremity ischemia progressed, right?\\nPatient's family: Yes, that's correct.\\nDoctor: Alright. So, we decided to amputate her leg below the knee under general anesthesia, correct?\\nPatient's family: Yes.\\nDoctor: And her postoperative course was uneventful, right?\\nPatient's family: Yes, it was.\\nDoctor: Good. And her severe foot pain was resolved after the surgery, correct?\\nPatient's family: Yes, it was.\\nDoctor: And at the postoperative follow-up visit 3 weeks after surgery, her DHS was significantly attenuated, right?\\nPatient's family: Yes, it was. Her forward vision and neck pain were also improved.\\nDoctor: That's great to hear. The feature of the present patient was attenuation of her DHS after pain relief by amputation of her severely ischemic limb.\\nPatient's family: Yes, that's correct.\\nDoctor: I'm sorry to inform you that your mother eventually passed away.\\nPatient's family: Thank you for your help, doctor.\\n[Conversation ends]\\n[Note: The patient eventually died.]\\n[Conversation Starts]\\nDoctor: Good morning, what brings you here today?\\nPatient's family: Our mother was referred to your department with a 1-month history of DHS.\\nDoctor: I see. Can you tell me more about her history?\\nPatient's family: Yes, she had suffered from severe right foot pain because of limb ischemia related to systemic sclerosis.\\nDoctor: I see. When was she diagnosed with systemic sclerosis?\\nPatient's family: It was diagnosed 30 years ago and was classified as having limited cutaneous systemic sclerosis.\\nDoctor: Hmm, okay. And what about the fibrosis?\\nPatient's\",\n          \"Doctor: Hi, I'm Dr. Smith. What brings you to the ED today?\\nPatient: I was in a road traffic accident and I have severe pain in my right hip and right thigh.\\nDoctor: I see. Can you walk?\\nPatient: No, I can't.\\nDoctor: Okay. Let me have a look. Can you describe the pain you're feeling?\\nPatient: It's really bad. I can't move my right hip and thigh.\\nDoctor: Hmm, I understand. During our clinical examination, we found that you have a deformity of your right hip and thigh. Is that correct?\\nPatient: Yes, that's correct.\\nDoctor: And it seems that your leg and foot are showing external rotation and abduction, is that correct?\\nPatient: Yes, that's correct.\\nDoctor: There is also tenderness and abnormal mobility at your right thigh, correct?\\nPatient: Yes, that's correct.\\nDoctor: And is there tenderness at your right hip joint as well?\\nPatient: Yes, there is.\\nDoctor: Okay, I understand. We also found that the range of movements at your right hip is restricted and painful, correct?\\nPatient: Yes, that's correct.\\nDoctor: Great. And we didn't find any distal neurovascular de\\ufb01cit, correct?\\nPatient: Yes, that's correct.\\nDoctor: After providing advanced trauma life support, we sent you for radiography, including X-rays of your pelvis with both hips and of your right thigh with hip and knee. And we also did a CT scan of your hip and pelvis to exclude acetabulum fractures.\\nPatient: Okay.\\nDoctor: And after reviewing the radiographs, we confirmed that there was a fracture in the shaft of your femur and a posterior dislocation in your hip.\\nPatient: Oh no.\\nDoctor: Yes, I'm afraid so. We took you to an emergency OT and subjected you to closed manipulation of your hip joint. But as there was a fracture in the shaft of your femur, we were unable to reduce the hip dislocation.\\nPatient: What does that mean?\\nDoctor: It means that we had two options: open reduction and external \\ufb01xation, and closed manipulation of the dislocation of your hip joint. In the end, we placed a temporary external \\ufb01xator in your femur under anesthesia and performed closed manipulation and reduction of the dislocation of your hip using the Allis method.\\nPatient: Okay.\\nDoctor: And the day after, we subjected you to final \\ufb01xation of your femur shaft fracture in an elective OT. We fixed the fracture with a closed reduction and an internal \\ufb01xation.\\nPatient: Okay, I understand.\\nDoctor: Great. You'll need to come back for follow-up appointments to monitor your progress. And you should avoid putting weight on your right leg for the time being.\\nPatient: Okay, got it.\",\n          \"Doctor: Hi, how are you feeling today?\\nPatient: Not so good, doctor. I have been experiencing some pain and swelling in my wrist and ankle joints for the past two weeks.\\nDoctor: I see. Can you tell me more about your symptoms?\\nPatient: Sure, I have been experiencing some joint pain, swelling, and stiffness in both my wrist and ankle joints.\\nDoctor: Hmm, okay. Can you tell me a little bit about your medical history?\\nPatient: Yes, I was diagnosed with lepromatous leprosy about a year ago and have been on multidrug therapy since then.\\nDoctor: I see. And you're saying that you've been experiencing these joint symptoms for the past two weeks?\\nPatient: Yes, that's correct.\\nDoctor: Alright, let me take a look. [Examines patient's joint]\\nDoctor: I can see some thickening and tenderness in your tendons. But there doesn't seem to be any joint deformity.\\nPatient: Yes, I have a history of recurrent crops of tender nodular lesions during and after my therapy.\\nDoctor: I see. We did a magnetic resonance imaging on your right ankle joint to evaluate the tenosynovitis and it showed some small focal peritendinous fluid collections along the flexor digitorium longus tendon and minimal fluid around the ankle joint.\\nPatient: Yes, I remember that.\\nDoctor: We also did a fine-needle aspiration cytology from the affected nerve and it revealed the presence of foamy macrophages and acid-fast bacilli.\\nPatient: Yes, I remember that as well.\\nDoctor: The PCR from the isolates confirmed the presence of Mycobacterium leprae. So, we diagnosed you with leprosy presenting with tenosynovitis and erythema nodosum leprosum.\\nPatient: Yes, I remember that.\\nDoctor: We started you on the standard WHO multidrug therapy for leprosy, but you didn't respond well to it. So, we gave you a combination therapy of thalidomide 200 mg per day and prednisone 50 mg per day. But even that didn't help.\\nPatient: Yes, I remember that.\\nDoctor: That's why we started you on infliximab after doing a pre-biologic workup including chest X-Ray and viral serologies.\\nPatient: Yes, I remember that too.\\nDoctor: Infliximab was given at a dose of 250 mg diluted in normal saline with dosing schedule at baseline and weeks 2 and 6. The treatment was well-tolerated and you showed good improvement in your symptoms.\\nPatient: Yes, I did feel better after taking infliximab.\\nDoctor: Great. We followed you up for 6 months and there was no recurrence of erythema nodosum leprosum.\\nPatient: That's good to hear. Thank you, doctor.\\nDoctor: No problem. Just keep taking your medication and come back to see me if you experience any more symptoms.\"\n        ],\n        \"semantic_type\": \"\",\n        \"description\": \"\"\n      }\n    },\n    {\n      \"column\": \"idx\",\n      \"properties\": {\n        \"dtype\": \"number\",\n        \"std\": 59105,\n        \"min\": 14,\n        \"max\": 206996,\n        \"num_unique_values\": 30000,\n        \"samples\": [\n          127042,\n          131562,\n          141471\n        ],\n        \"semantic_type\": \"\",\n        \"description\": \"\"\n      }\n    },\n    {\n      \"column\": \"summary\",\n      \"properties\": {\n        \"dtype\": \"string\",\n        \"num_unique_values\": 29992,\n        \"samples\": [\n          \"{\\n\\\"visit motivation\\\": \\\"Right lower quadrant pain, nausea, and a single episode of vomiting after jumping off the back of a pickup truck\\\",\\n\\\"admission\\\": [\\n{\\n\\\"reason\\\": \\\"Repeated episodes of right lower quadrant pain and nausea\\\",\\n\\\"date\\\": \\\"A week after the initial incident\\\",\\n\\\"duration\\\": \\\"None\\\",\\n\\\"care center details\\\": \\\"Local emergency room\\\"\\n}\\n],\\n\\\"patient information\\\": {\\n\\\"age\\\": \\\"21\\\",\\n\\\"sex\\\": \\\"Male\\\",\\n\\\"ethnicity\\\": \\\"None\\\",\\n\\\"weight\\\": \\\"None\\\",\\n\\\"height\\\": \\\"None\\\",\\n\\\"family medical history\\\": \\\"None\\\",\\n\\\"recent travels\\\": \\\"None\\\",\\n\\\"socio economic context\\\": \\\"None\\\",\\n\\\"occupation\\\": \\\"None\\\"\\n},\\n\\\"patient medical history\\\": {\\n\\\"physiological context\\\": \\\"No prior abdominal surgeries, unremarkable medical history\\\",\\n\\\"psychological context\\\": \\\"None\\\",\\n\\\"vaccination history\\\": \\\"None\\\",\\n\\\"allergies\\\": \\\"None\\\",\\n\\\"exercise frequency\\\": \\\"None\\\",\\n\\\"nutrition\\\": \\\"None\\\",\\n\\\"sexual history\\\": \\\"None\\\",\\n\\\"alcohol consumption\\\": \\\"None\\\",\\n\\\"drug usage\\\": \\\"None\\\",\\n\\\"smoking status\\\": \\\"None\\\"\\n},\\n\\\"surgeries\\\": [\\n{\\n\\\"reason\\\": \\\"Indirect inguinal hernia sac and communicating inguinal hydrocele\\\",\\n\\\"Type\\\": \\\"Exploratory inguinotomy\\\",\\n\\\"time\\\": \\\"12 weeks after initial presentation\\\",\\n\\\"outcome\\\": \\\"Patient recovered well and returned to normal activity four weeks postoperatively with a relief of symptoms\\\",\\n\\\"details\\\": \\\"The sack was removed and the defect repaired\\\"\\n}\\n],\\n\\\"symptoms\\\": [\\n{\\n\\\"name of symptom\\\": \\\"Right lower quadrant pain, nausea, vomiting, intermittent right inguinal bulge, radiating pain into the right scrotum\\\",\\n\\\"intensity of symptom\\\": \\\"None\\\",\\n\\\"location\\\": \\\"Right lower quadrant, right inguinal region, right scrotum\\\",\\n\\\"time\\\": \\\"After jumping off the back of a pickup truck and in the days following\\\",\\n\\\"temporalisation\\\": \\\"Intermittent, spontaneously resolving\\\",\\n\\\"behaviours affecting the symptom\\\": \\\"Rest seemed to resolve the pain and nausea initially\\\",\\n\\\"details\\\": \\\"No scrotal swelling or skin changes were reported\\\"\\n}\\n],\\n\\\"medical examinations\\\": [\\n{\\n\\\"name\\\": \\\"Abdominal/genital exam\\\",\\n\\\"result\\\": \\\"Unimpressive\\\",\\n\\\"details\\\": \\\"Performed by multiple surgeons and a radiologist\\\"\\n},\\n{\\n\\\"name\\\": \\\"Inguinal and scrotal sonography\\\",\\n\\\"result\\\": \\\"No evidence of inguinal hernia and other unimpressive findings\\\",\\n\\\"details\\\": \\\"Mild increased fullness to the right inguinal region, significant tenderness limited comprehensive examination\\\"\\n}\\n],\\n\\\"diagnosis tests\\\": [\\n{\\n\\\"test\\\": \\\"CT imaging with IV/enteric contrast and Valsalva\\\",\\n\\\"severity\\\": \\\"None\\\",\\n\\\"result\\\": \\\"Negative\\\",\\n\\\"condition\\\": \\\"Initially suspected hernia\\\",\\n\\\"time\\\": \\\"During the first visit to the local emergency room\\\",\\n\\\"details\\\": \\\"Ruled out hernia\\\"\\n},\\n{\\n\\\"test\\\": \\\"Repeat CT\\\",\\n\\\"severity\\\": \\\"None\\\",\\n\\\"result\\\": \\\"Unimpressive for herniation or any soft tissue bulge\\\",\\n\\\"condition\\\": \\\"None\\\",\\n\\\"time\\\": \\\"Prior to exploratory surgery\\\",\\n\\\"details\\\": \\\"Patient had difficulty achieving adequate changes at imaging\\\"\\n}\\n],\\n\\\"treatments\\\": [\\n{\\n\\\"name\\\": \\\"Conservative management\\\",\\n\\\"related condition\\\": \\\"Musculoskeletal injury to the lower abdomen\\\",\\n\\\"dosage\\\": \\\"None\\\",\\n\\\"time\\\": \\\"After initial diagnosis at the local emergency room\\\",\\n\\\"frequency\\\": \\\"None\\\",\\n\\\"duration\\\": \\\"None\\\",\\n\\\"reason for taking\\\": \\\"To manage the musculoskeletal injury\\\",\\n\\\"reaction to treatment\\\": \\\"Advised to follow up with primary care if no improvement was noted\\\",\\n\\\"details\\\": \\\"None\\\"\\n}\\n],\\n\\\"discharge\\\": {\\n\\\"reason\\\": \\\"Successful postoperative recovery\\\",\\n\\\"referral\\\": \\\"None\\\",\\n\\\"follow up\\\": \\\"None\\\",\\n\\\"discharge summary\\\": \\\"Patient recovered well and returned to normal activity four weeks postoperatively with a relief of symptoms\\\"\\n}\\n}\",\n          \"{\\n\\\"visit motivation\\\": \\\"Complaint of left side chest pain that lasted for an hour with concomitant hypotension\\\",\\n\\\"admission\\\": [\\n{\\n\\\"reason\\\": \\\"Inferior wall STEMI and suspected TAAD\\\",\\n\\\"date\\\": \\\"None\\\",\\n\\\"duration\\\": \\\"None\\\",\\n\\\"care center details\\\": \\\"Emergency department\\\"\\n}\\n],\\n\\\"patient information\\\": {\\n\\\"age\\\": \\\"58 years old\\\",\\n\\\"sex\\\": \\\"Male\\\",\\n\\\"ethnicity\\\": \\\"None\\\",\\n\\\"weight\\\": \\\"None\\\",\\n\\\"height\\\": \\\"None\\\",\\n\\\"family medical history\\\": \\\"None\\\",\\n\\\"recent travels\\\": \\\"None\\\",\\n\\\"socio economic context\\\": \\\"None\\\",\\n\\\"occupation\\\": \\\"None\\\"\\n},\\n\\\"patient medical history\\\": {\\n\\\"physiological context\\\": \\\"Hypertension without regular medical control\\\",\\n\\\"psychological context\\\": \\\"None\\\",\\n\\\"vaccination history\\\": \\\"None\\\",\\n\\\"allergies\\\": \\\"None\\\",\\n\\\"exercise frequency\\\": \\\"None\\\",\\n\\\"nutrition\\\": \\\"None\\\",\\n\\\"sexual history\\\": \\\"None\\\",\\n\\\"alcohol consumption\\\": \\\"None\\\",\\n\\\"drug usage\\\": \\\"None\\\",\\n\\\"smoking status\\\": \\\"None\\\"\\n},\\n\\\"surgeries\\\": [\\n{\\n\\\"reason\\\": \\\"None\\\",\\n\\\"Type\\\": \\\"None\\\",\\n\\\"time\\\": \\\"None\\\",\\n\\\"outcome\\\": \\\"None\\\",\\n\\\"details\\\": \\\"None\\\"\\n}\\n],\\n\\\"symptoms\\\": [\\n{\\n\\\"name of symptom\\\": \\\"Chest pain\\\",\\n\\\"intensity of symptom\\\": \\\"None\\\",\\n\\\"location\\\": \\\"Left side\\\",\\n\\\"time\\\": \\\"Lasted for an hour\\\",\\n\\\"temporalisation\\\": \\\"None\\\",\\n\\\"behaviours affecting the symptom\\\": \\\"None\\\",\\n\\\"details\\\": \\\"No cold sweating, radiating pain, or claudication\\\"\\n}\\n],\\n\\\"medical examinations\\\": [\\n{\\n\\\"name\\\": \\\"12-lead electrocardiogram\\\",\\n\\\"result\\\": \\\"Suggested inferior wall and right ventricle STEMI\\\",\\n\\\"details\\\": \\\"ST elevation in leads III, and aVF, lead I with reciprocal ST depression, and right side V4R elevation\\\"\\n},\\n{\\n\\\"name\\\": \\\"Bedside echocardiography\\\",\\n\\\"result\\\": \\\"Dissection flap located over the ascending aorta with moderate aortic valve regurgitation\\\",\\n\\\"details\\\": \\\"None\\\"\\n}\\n],\\n\\\"diagnosis tests\\\": [\\n{\\n\\\"test\\\": \\\"Primary PCI\\\",\\n\\\"severity\\\": \\\"None\\\",\\n\\\"result\\\": \\\"Abnormally large pressure differential between peripheral radial artery and central ascending aorta\\\",\\n\\\"condition\\\": \\\"Suspected TAAD\\\",\\n\\\"time\\\": \\\"Emergent\\\",\\n\\\"details\\\": \\\"Pressure damping site found at the junction of aorta arch and innominate artery\\\"\\n},\\n{\\n\\\"test\\\": \\\"Injection of contrast medium through diagnostic catheter\\\",\\n\\\"severity\\\": \\\"None\\\",\\n\\\"result\\\": \\\"Stenosis near the injection site and irregularly narrowing of the ascending aorta\\\",\\n\\\"condition\\\": \\\"TAAD\\\",\\n\\\"time\\\": \\\"None\\\",\\n\\\"details\\\": \\\"Extensive dissection involving innominate artery, left carotid artery, and bilateral iliac arteries\\\"\\n},\\n{\\n\\\"test\\\": \\\"Computer tomography of the aorta\\\",\\n\\\"severity\\\": \\\"None\\\",\\n\\\"result\\\": \\\"Verified TAAD with extensive dissection\\\",\\n\\\"condition\\\": \\\"TAAD\\\",\\n\\\"time\\\": \\\"None\\\",\\n\\\"details\\\": \\\"Evidence of a false lumen compromising the innominate artery that had caused the pressure damping\\\"\\n}\\n],\\n\\\"treatments\\\": [\\n{\\n\\\"name\\\": \\\"Antiplatelet medications\\\",\\n\\\"related condition\\\": \\\"Inferior wall STEMI\\\",\\n\\\"dosage\\\": \\\"None\\\",\\n\\\"time\\\": \\\"None\\\",\\n\\\"frequency\\\": \\\"None\\\",\\n\\\"duration\\\": \\\"None\\\",\\n\\\"reason for taking\\\": \\\"To manage STEMI\\\",\\n\\\"reaction to treatment\\\": \\\"None\\\",\\n\\\"details\\\": \\\"None\\\"\\n},\\n{\\n\\\"name\\\": \\\"Inotropic agent\\\",\\n\\\"related condition\\\": \\\"Inferior wall STEMI\\\",\\n\\\"dosage\\\": \\\"None\\\",\\n\\\"time\\\": \\\"None\\\",\\n\\\"frequency\\\": \\\"None\\\",\\n\\\"duration\\\": \\\"None\\\",\\n\\\"reason for taking\\\": \\\"To manage STEMI\\\",\\n\\\"reaction to treatment\\\": \\\"None\\\",\\n\\\"details\\\": \\\"None\\\"\\n}\\n],\\n\\\"discharge\\\": {\\n\\\"reason\\\": \\\"None\\\",\\n\\\"referral\\\": \\\"Consultation with cardiovascular surgeon\\\",\\n\\\"follow up\\\": \\\"None\\\",\\n\\\"discharge summary\\\": \\\"None\\\"\\n}\\n}\",\n          \"{\\n\\\"visit motivation\\\": \\\"Unesthetic appearance of the gums and hypersensitivity in relation to his upper right canine\\\",\\n\\\"admission\\\": [\\n{\\n\\\"reason\\\": \\\"None\\\",\\n\\\"date\\\": \\\"None\\\",\\n\\\"duration\\\": \\\"None\\\",\\n\\\"care center details\\\": \\\"None\\\"\\n}\\n],\\n\\\"patient information\\\": {\\n\\\"age\\\": \\\"32\\\",\\n\\\"sex\\\": \\\"Male\\\",\\n\\\"ethnicity\\\": \\\"None\\\",\\n\\\"weight\\\": \\\"None\\\",\\n\\\"height\\\": \\\"None\\\",\\n\\\"family medical history\\\": \\\"None\\\",\\n\\\"recent travels\\\": \\\"None\\\",\\n\\\"socio economic context\\\": \\\"None\\\",\\n\\\"occupation\\\": \\\"None\\\"\\n},\\n\\\"patient medical history\\\": {\\n\\\"physiological context\\\": \\\"No significant medical history\\\",\\n\\\"psychological context\\\": \\\"None\\\",\\n\\\"vaccination history\\\": \\\"None\\\",\\n\\\"allergies\\\": \\\"None\\\",\\n\\\"exercise frequency\\\": \\\"None\\\",\\n\\\"nutrition\\\": \\\"None\\\",\\n\\\"sexual history\\\": \\\"None\\\",\\n\\\"alcohol consumption\\\": \\\"None\\\",\\n\\\"drug usage\\\": \\\"None\\\",\\n\\\"smoking status\\\": \\\"No habits were reported\\\"\\n},\\n\\\"surgeries\\\": [\\n{\\n\\\"reason\\\": \\\"Localized gingival inflammation and Class I gingival recession in relation to maxillary right canine\\\",\\n\\\"Type\\\": \\\"Root coverage using an epithelial embossed graft technique\\\",\\n\\\"time\\\": \\\"None\\\",\\n\\\"outcome\\\": \\\"None\\\",\\n\\\"details\\\": \\\"Oral prophylaxis was done 2 weeks before surgery.\\nUnder local anesthesia, a sulcular incision was made in the right canine region, also involving mesial aspect of the first premolar and distal aspect of the lateral incisor.\\nEnvelop flap was raised without making vertical incisions.\\nThorough root planing was done.\\nThe connective tissue graft was procured from the contralateral side of the palate.\\\"\\n}\\n],\\n\\\"symptoms\\\": [\\n{\\n\\\"name of symptom\\\": \\\"Hypersensitivity\\\",\\n\\\"intensity of symptom\\\": \\\"None\\\",\\n\\\"location\\\": \\\"Upper right canine\\\",\\n\\\"time\\\": \\\"None\\\",\\n\\\"temporalisation\\\": \\\"None\\\",\\n\\\"behaviours affecting the symptom\\\": \\\"None\\\",\\n\\\"details\\\": \\\"Patient reported hypersensitivity in relation to his upper right canine.\\\"\\n},\\n{\\n\\\"name of symptom\\\": \\\"Unesthetic appearance of the gums\\\",\\n\\\"intensity of symptom\\\": \\\"None\\\",\\n\\\"location\\\": \\\"Gums in relation to upper right canine\\\",\\n\\\"time\\\": \\\"None\\\",\\n\\\"temporalisation\\\": \\\"None\\\",\\n\\\"behaviours affecting the symptom\\\": \\\"None\\\",\\n\\\"details\\\": \\\"Patient reported unesthetic appearance of the gums.\\\"\\n}\\n],\\n\\\"medical examinations\\\": [\\n{\\n\\\"name\\\": \\\"Periodontal examination\\\",\\n\\\"result\\\": \\\"Localized gingival inflammation in relation to maxillary right canine, probing pocket depth of 2 mm, clinical attachment loss of 5 mm with deep/wide Class I gingival recession, keratinized tissue thickness of 2 mm\\\",\\n\\\"details\\\": \\\"The keratinized tissue thickness was measured at the center of an imaginary line from mucogingival junction to marginal gingiva, using an endodontic file with stopper after anesthetizing the region.\\\"\\n},\\n{\\n\\\"name\\\": \\\"Intraoral radiograph\\\",\\n\\\"result\\\": \\\"No bone loss\\\",\\n\\\"details\\\": \\\"Intraoral radiograph in relation to the tooth concerned showed no bone loss.\\\"\\n}\\n],\\n\\\"diagnosis tests\\\": [\\n{\\n\\\"test\\\": \\\"None\\\",\\n\\\"severity\\\": \\\"None\\\",\\n\\\"result\\\": \\\"None\\\",\\n\\\"condition\\\": \\\"None\\\",\\n\\\"time\\\": \\\"None\\\",\\n\\\"details\\\": \\\"None\\\"\\n}\\n],\\n\\\"treatments\\\": [\\n{\\n\\\"name\\\": \\\"Root coverage using an epithelial embossed graft technique\\\",\\n\\\"related condition\\\": \\\"Localized gingival inflammation and Class I gingival recession in relation to maxillary right canine\\\",\\n\\\"dosage\\\": \\\"None\\\",\\n\\\"time\\\": \\\"None\\\",\\n\\\"frequency\\\": \\\"None\\\",\\n\\\"duration\\\": \\\"None\\\",\\n\\\"reason for taking\\\": \\\"To cover the root and improve the esthetic appearance of the gums and reduce hypersensitivity\\\",\\n\\\"reaction to treatment\\\": \\\"None\\\",\\n\\\"details\\\": \\\"Treatment plan was explained to the patient, and a duly signed written consent was obtained.\\\"\\n}\\n],\\n\\\"discharge\\\": {\\n\\\"reason\\\": \\\"None\\\",\\n\\\"referral\\\": \\\"None\\\",\\n\\\"follow up\\\": \\\"None\\\",\\n\\\"discharge summary\\\": \\\"None\\\"\\n}\\n}\"\n        ],\n        \"semantic_type\": \"\",\n        \"description\": \"\"\n      }\n    },\n    {\n      \"column\": \"full_note\",\n      \"properties\": {\n        \"dtype\": \"string\",\n        \"num_unique_values\": 24341,\n        \"samples\": [\n          \"A 35-year-old G4P2 attended for reproductive surgery consultation to discuss a variety of problems she began to experience subsequent to undergoing the Essure\\u00ae procedure for permanent sterilization. HS was performed in October 2012 under general anesthesia; pre-procedure pelvic ultrasound was unremarkable. Before HS, the patient was in good general health and all of her pregnancies were established without medical assistance. Cervical cytology was routinely normal, the patient did not smoke and she never had a miscarriage. Soon after the Essure\\u00ae devices had been placed, the patient reported gradually increasing pelvic pain, headache, dizziness, lower extremity paresthesia and fatigue. In the first six months following the Essure\\u00ae procedure, the patient registered a 20 pound weight gain. The patient\\u2019s concerns persisted over a three-year interval, although her gynecologist was disinclined to attribute any of the problems to Essure\\u00ae.\\\\nThree months after HS, the patient presented for hysterosalpingogram as recommended. While the study did confirm bilateral tubal occlusion, it also revealed an abnormal (bifid) uterine cavity. 3-D ultrasound or other imaging was not performed to clarify or refine the diagnosis of the uterine anomaly and the patient received no further counseling.\\\\nThe patient later requested surgical removal of the Essure\\u00ae implants and the possibility of device migration required evaluation (). A repeat HSG was obtained in 2015. This study revealed minimal device migration and no contrast dye spill from either Fallopian tube, a deeply bifid uterine cavity was again the most conspicuous finding ().\\\\nAt our center the patient was counseled about the atypical nature of her Essure\\u00ae placement given the anatomical abnormality of the uterus. After obtaining informed consent, the patient underwent diagnostic hysteroscopy which verified an abnormal bifid uterus (). The ostia on the right was normal as was the entire right uterine segment. However, the Essure\\u00ae device on the left partially extended into the endometrial compartment (). The exterior uterus was consistent with ESHRE Class IIb anomaly (uterine septum) (). There was no evidence of tissue perforation by either contraceptive device. Laparoscopic dissection of the left cornu and partial tubal resection bilaterally achieved complete removal of the Essure\\u00ae implants. Removal of terminal markers was confirmed. Electrocautery was maintained at 40 W power throughout the case, blood loss was estimated to be less than 50 mL. The patient was discharged three hours after surgery and her postoperative convalescence has been uneventful.\",\n          \"A 72-year-old man presented with left hip pain and intermittent low grade fever, as well as occasional yellowish drainage from a sinus tract at the surgical incision of a cementless THA performed 4 years before at another hospital. Patient's past medical history was also significant for a 2-vessel coronary artery bypass graft (CABG), performed one year prior to the current presentation. Prior use of steroids, a previous state of immunosuppression, or recent travel was not reported. The patient reported multiple prior hospital admissions due to drainage, allegedly attributed to a superficial infection and suppressed multiple times with multiple courses of per os and/or intravenous antibiotics including vancomycin, clindamycin, ciprofloxacin and cotrimoxazole, only to recur a few months after each episode and antibiotics regimen. Anteroposterior (AP) pelvis, AP and lateral hip radiographs as well as laboratory findings were consistent with PJI, as well as heterotopic ossification adjacent to the left hip joint (Fig. ). Preoperative cultures collected with wound swabs showed Staphylococcus hominis and Staphylococcus capitis isolates of debatable clinical significance; cultures of synovial fluid aspiration were negative. With the assumptive diagnosis of PJI and septic loosening of the implants a joint decision was obtained for a staged THA revision.\\\\nThe patient was scheduled for the first stage THA revision 4 weeks after cessation of any antibiotics. Through a posterior hip approach, the femoral component was removed via a Paprosky-style extended proximal femoral osteotomy . Next, the acetabular cup and supporting screw were removed (Fig. ). Eight tissue samples were obtained from the bone, joint capsule and femoral canal for cultures, and the implants were sent for sonication. We routinely use sonication to identify bacteria in the biofilm on explanted implants, as this method has been found to be significantly more sensitive than tissue biopsy, while maintaining almost identical specificity , . A custom-made polymethyl-methacrylate (PMMA) hip spacer was fashioned and placed in the femoral lumen. We used gentamicin-loaded Palacos R+G\\u00ae bone cement (Zimmer, Inc. Warsaw, IN). When using an antibiotic loaded bone cement, we routinely admixture a second antibiotic (preferably vancomycin or other based on preoperative cultures and antibiogram, if available) to increase the local concentration of antibiotics and to obtain a synergistic effect, as adding a second antibiotic seems to increase the elution of both antibiotics , . The osteotomy was repaired with cerclage wires (Fig. ). The sinus tract was resected. The patient was given 600mg of teicoplanin iv intraoperatively and was subsequently started on a standing daily dose of the same regimen.\\\\nPostoperative recovery was uneventful and the patient was afebrile without any wound healing problems. Partial weight bearing with a walker was started on postoperative day two, and progressed as tolerated. Intraoperative tissue cultures were negative. Sonication of the implant at 15 days showed Pseudomonas oryzihabitans bacterial isolate (Fig. ). Based on antibiotic susceptibilities, intravenous teicoplanin 600 mg and piperacillin/tazobactam 4.5 g qid was administered for 3 weeks, followed by ciprofloxacin 750 mg bid and clindamicin 600 mg qid for another four weeks, aiming for a second stage revision surgery. However, because of cardiovascular comorbidities, the patient was informed for the high risk associated with a second operation and did not consent for further surgery.\\\\nAt the last follow-up, 24 months after the first stage THA revision, the patient is well, without any clinical, laboratory or imaging evidence of infection; his wound healed completely, he could ambulate with crutches for short distances with mild pain, and inflammatory markers had reduced to normal values. Radiographs of the left hip joint showed a stable PMMA spacer, without any evidence of osteolysis or loosening, and with extensive periarticular heterotopic bone formation that obviously provided for the stability of the joint (Fig. ). The patient denied further surgery and remains at close follow-up for the risk of recurrent Pseudomonas oryzihabitans infection.\",\n          \"A 32-year-old woman was admitted to the gastroenterology department for upper abdominal pain. Gastroenteritis was continually managed using omeprazole. The treatment relieved her symptoms just a little. The symptoms of upper abdominal pain appeared intermittently for about 8 months. Repeated visits to the gastroenterology department and other departments in the local hospital were made. Omeprazole treatment for gastroenteritis was continued. However, the symptoms were still not improving. Finally, the patient went to the local gastrointestinal surgery department. The abdomen computed tomography examination was performed, which revealed that thrombosis had occurred in the portal vein, superior mesenteric vein and splenic vein (Fig. ). The thrombus did not improve even after repeated visits in gastrointestinal surgery and vascular surgery. The patient was referred to the Rheumatology Department in the hospital for the aggravation of abdominal pain, involving the whole abdomen.\\\\nThe patient had two abnormal abortions in past medical history. Abnormal physical examinations included total abdominal tenderness, rebound pain and muscle tension. The patient declined for abdominal palpation. Laboratory investigations showed raised APL (anti-\\u03b22GPI 143R U/mL, ACL IgM 70 U/mL, ACL IgG 20 U/mL). Renal biochemistry, hepatobiliary biochemistry, serum lipid profile, muscular enzymes and thyroid function were normal. Computed tomography of the abdomen confirmed multiple thrombi in superior mesenteric vein and other vessels, dilatation of the small intestine and spleen infarction (Fig. ).\\\\nThe patient was diagnosed with antiphospholipid syndrome based on clinical manifestations, past medical history and auxiliary examination results. The patient did not meet the catastrophic antiphospholipid syndrome (CAPS) diagnostic criteria. The patient claimed a previous pregnancy loss and presented with characteristics of high-risk APL (Table ). Moreover, the patient was affected by multiple abdominal vessels and viscus. Therefore, these findings demonstrated that the patient based on the 2019 EULAR recommendations for the management of antiphospholipid syndrome in adults, was at high risk. The patient was administered with intravenous immunoglobulin (gamma globulin 40 mg daily) and glucocorticoid (methylprednisolone 40 mg daily) to limit further disease progression. Low molecular weight heparin (LMWH, enoxaparin 40 mg twice a day) therapeutic dose was used for anticoagulant therapy. Abdominal pain was significantly improved after systemic treatment. The patient was discharged and put on warfarin given orally 3 mg daily, methylprednisolone 40 mg daily, and hydroxychloroquine 0.2 g twice daily to be taken with food.\\\\nAfter months of discharge, the patient was later hospitalized with recurrent abdominal pain. The patient complained about nausea, vomiting, abdominal distension, no defecation, and no exhaust during the last treatment in the Rheumatology Department. The abdominal computed tomography indicated incomplete ileus (Fig. ). Gastrointestinal decompression and conservative medical treatment were performed first. However, the therapeutic effect was not satisfactory. Therefore, the patient was transferred to the department of gastrointestinal surgery for surgical treatment. As for the reasons for the patient's admission, we consider the following two aspects: First, the patient had multiple mesenteric thromboses. Although anticoagulant therapy was applied, it could only prevent new thrombosis, the existing thrombosis could not be dissolved. Also, the collateral circulation was not completely established, leading to insufficient blood supply to the intestinal tract and non-mechanical obstruction. Second, although the patient regularly took warfarin anticoagulant therapy after discharge, the drug is greatly affected by diet and inconvenient monitoring, so the INR value outside the hospital was poorly controlled.\"\n        ],\n        \"semantic_type\": \"\",\n        \"description\": \"\"\n      }\n    }\n  ]\n}",
       "type": "dataframe",
       "variable_name": "df"
      },
      "text/html": [
       "\n",
       "  <div id=\"df-02c5d3a0-b449-4382-9e2a-5f4d321fd77b\" class=\"colab-df-container\">\n",
       "    <div>\n",
       "<style scoped>\n",
       "    .dataframe tbody tr th:only-of-type {\n",
       "        vertical-align: middle;\n",
       "    }\n",
       "\n",
       "    .dataframe tbody tr th {\n",
       "        vertical-align: top;\n",
       "    }\n",
       "\n",
       "    .dataframe thead th {\n",
       "        text-align: right;\n",
       "    }\n",
       "</style>\n",
       "<table border=\"1\" class=\"dataframe\">\n",
       "  <thead>\n",
       "    <tr style=\"text-align: right;\">\n",
       "      <th></th>\n",
       "      <th>note</th>\n",
       "      <th>conversation</th>\n",
       "      <th>idx</th>\n",
       "      <th>summary</th>\n",
       "      <th>full_note</th>\n",
       "    </tr>\n",
       "  </thead>\n",
       "  <tbody>\n",
       "    <tr>\n",
       "      <th>0</th>\n",
       "      <td>A a sixteen year-old girl, presented to our Ou...</td>\n",
       "      <td>Doctor: Good morning, what brings you to the O...</td>\n",
       "      <td>155216</td>\n",
       "      <td>{\\n\"visit motivation\": \"Discomfort in the neck...</td>\n",
       "      <td>A a sixteen year-old girl, presented to our Ou...</td>\n",
       "    </tr>\n",
       "    <tr>\n",
       "      <th>1</th>\n",
       "      <td>This is the case of a 56-year-old man that was...</td>\n",
       "      <td>Doctor: Hi, how are you feeling today?\\nPatien...</td>\n",
       "      <td>77465</td>\n",
       "      <td>{\\n\"visit motivation\": \"Complaints of a dull p...</td>\n",
       "      <td>This is the case of a 56-year-old man that was...</td>\n",
       "    </tr>\n",
       "    <tr>\n",
       "      <th>2</th>\n",
       "      <td>A 36-year old female patient visited our hospi...</td>\n",
       "      <td>Doctor: Hello, what brings you to the hospital...</td>\n",
       "      <td>133948</td>\n",
       "      <td>{\\n\"visit motivation\": \"Pain and restricted ra...</td>\n",
       "      <td>A 36-year old female patient visited our hospi...</td>\n",
       "    </tr>\n",
       "    <tr>\n",
       "      <th>3</th>\n",
       "      <td>A 49-year-old male presented with a complaint ...</td>\n",
       "      <td>Doctor: Good morning, Mr. [Patient's Name]. I'...</td>\n",
       "      <td>80176</td>\n",
       "      <td>{\\n\"visit motivation\": \"Pain in the left proxi...</td>\n",
       "      <td>A 49-year-old male presented with a complaint ...</td>\n",
       "    </tr>\n",
       "    <tr>\n",
       "      <th>4</th>\n",
       "      <td>A 47-year-old male patient was referred to the...</td>\n",
       "      <td>Doctor: Good morning, how are you feeling toda...</td>\n",
       "      <td>72232</td>\n",
       "      <td>{\\n\"visit motivation\": \"Recurrent attacks of p...</td>\n",
       "      <td>A 47-year-old male patient was referred to the...</td>\n",
       "    </tr>\n",
       "  </tbody>\n",
       "</table>\n",
       "</div>\n",
       "    <div class=\"colab-df-buttons\">\n",
       "\n",
       "  <div class=\"colab-df-container\">\n",
       "    <button class=\"colab-df-convert\" onclick=\"convertToInteractive('df-02c5d3a0-b449-4382-9e2a-5f4d321fd77b')\"\n",
       "            title=\"Convert this dataframe to an interactive table.\"\n",
       "            style=\"display:none;\">\n",
       "\n",
       "  <svg xmlns=\"http://www.w3.org/2000/svg\" height=\"24px\" viewBox=\"0 -960 960 960\">\n",
       "    <path d=\"M120-120v-720h720v720H120Zm60-500h600v-160H180v160Zm220 220h160v-160H400v160Zm0 220h160v-160H400v160ZM180-400h160v-160H180v160Zm440 0h160v-160H620v160ZM180-180h160v-160H180v160Zm440 0h160v-160H620v160Z\"/>\n",
       "  </svg>\n",
       "    </button>\n",
       "\n",
       "  <style>\n",
       "    .colab-df-container {\n",
       "      display:flex;\n",
       "      gap: 12px;\n",
       "    }\n",
       "\n",
       "    .colab-df-convert {\n",
       "      background-color: #E8F0FE;\n",
       "      border: none;\n",
       "      border-radius: 50%;\n",
       "      cursor: pointer;\n",
       "      display: none;\n",
       "      fill: #1967D2;\n",
       "      height: 32px;\n",
       "      padding: 0 0 0 0;\n",
       "      width: 32px;\n",
       "    }\n",
       "\n",
       "    .colab-df-convert:hover {\n",
       "      background-color: #E2EBFA;\n",
       "      box-shadow: 0px 1px 2px rgba(60, 64, 67, 0.3), 0px 1px 3px 1px rgba(60, 64, 67, 0.15);\n",
       "      fill: #174EA6;\n",
       "    }\n",
       "\n",
       "    .colab-df-buttons div {\n",
       "      margin-bottom: 4px;\n",
       "    }\n",
       "\n",
       "    [theme=dark] .colab-df-convert {\n",
       "      background-color: #3B4455;\n",
       "      fill: #D2E3FC;\n",
       "    }\n",
       "\n",
       "    [theme=dark] .colab-df-convert:hover {\n",
       "      background-color: #434B5C;\n",
       "      box-shadow: 0px 1px 3px 1px rgba(0, 0, 0, 0.15);\n",
       "      filter: drop-shadow(0px 1px 2px rgba(0, 0, 0, 0.3));\n",
       "      fill: #FFFFFF;\n",
       "    }\n",
       "  </style>\n",
       "\n",
       "    <script>\n",
       "      const buttonEl =\n",
       "        document.querySelector('#df-02c5d3a0-b449-4382-9e2a-5f4d321fd77b button.colab-df-convert');\n",
       "      buttonEl.style.display =\n",
       "        google.colab.kernel.accessAllowed ? 'block' : 'none';\n",
       "\n",
       "      async function convertToInteractive(key) {\n",
       "        const element = document.querySelector('#df-02c5d3a0-b449-4382-9e2a-5f4d321fd77b');\n",
       "        const dataTable =\n",
       "          await google.colab.kernel.invokeFunction('convertToInteractive',\n",
       "                                                    [key], {});\n",
       "        if (!dataTable) return;\n",
       "\n",
       "        const docLinkHtml = 'Like what you see? Visit the ' +\n",
       "          '<a target=\"_blank\" href=https://colab.research.google.com/notebooks/data_table.ipynb>data table notebook</a>'\n",
       "          + ' to learn more about interactive tables.';\n",
       "        element.innerHTML = '';\n",
       "        dataTable['output_type'] = 'display_data';\n",
       "        await google.colab.output.renderOutput(dataTable, element);\n",
       "        const docLink = document.createElement('div');\n",
       "        docLink.innerHTML = docLinkHtml;\n",
       "        element.appendChild(docLink);\n",
       "      }\n",
       "    </script>\n",
       "  </div>\n",
       "\n",
       "\n",
       "    <div id=\"df-6b6423e3-29a3-45cf-a2ca-922742a7ce61\">\n",
       "      <button class=\"colab-df-quickchart\" onclick=\"quickchart('df-6b6423e3-29a3-45cf-a2ca-922742a7ce61')\"\n",
       "                title=\"Suggest charts\"\n",
       "                style=\"display:none;\">\n",
       "\n",
       "<svg xmlns=\"http://www.w3.org/2000/svg\" height=\"24px\"viewBox=\"0 0 24 24\"\n",
       "     width=\"24px\">\n",
       "    <g>\n",
       "        <path d=\"M19 3H5c-1.1 0-2 .9-2 2v14c0 1.1.9 2 2 2h14c1.1 0 2-.9 2-2V5c0-1.1-.9-2-2-2zM9 17H7v-7h2v7zm4 0h-2V7h2v10zm4 0h-2v-4h2v4z\"/>\n",
       "    </g>\n",
       "</svg>\n",
       "      </button>\n",
       "\n",
       "<style>\n",
       "  .colab-df-quickchart {\n",
       "      --bg-color: #E8F0FE;\n",
       "      --fill-color: #1967D2;\n",
       "      --hover-bg-color: #E2EBFA;\n",
       "      --hover-fill-color: #174EA6;\n",
       "      --disabled-fill-color: #AAA;\n",
       "      --disabled-bg-color: #DDD;\n",
       "  }\n",
       "\n",
       "  [theme=dark] .colab-df-quickchart {\n",
       "      --bg-color: #3B4455;\n",
       "      --fill-color: #D2E3FC;\n",
       "      --hover-bg-color: #434B5C;\n",
       "      --hover-fill-color: #FFFFFF;\n",
       "      --disabled-bg-color: #3B4455;\n",
       "      --disabled-fill-color: #666;\n",
       "  }\n",
       "\n",
       "  .colab-df-quickchart {\n",
       "    background-color: var(--bg-color);\n",
       "    border: none;\n",
       "    border-radius: 50%;\n",
       "    cursor: pointer;\n",
       "    display: none;\n",
       "    fill: var(--fill-color);\n",
       "    height: 32px;\n",
       "    padding: 0;\n",
       "    width: 32px;\n",
       "  }\n",
       "\n",
       "  .colab-df-quickchart:hover {\n",
       "    background-color: var(--hover-bg-color);\n",
       "    box-shadow: 0 1px 2px rgba(60, 64, 67, 0.3), 0 1px 3px 1px rgba(60, 64, 67, 0.15);\n",
       "    fill: var(--button-hover-fill-color);\n",
       "  }\n",
       "\n",
       "  .colab-df-quickchart-complete:disabled,\n",
       "  .colab-df-quickchart-complete:disabled:hover {\n",
       "    background-color: var(--disabled-bg-color);\n",
       "    fill: var(--disabled-fill-color);\n",
       "    box-shadow: none;\n",
       "  }\n",
       "\n",
       "  .colab-df-spinner {\n",
       "    border: 2px solid var(--fill-color);\n",
       "    border-color: transparent;\n",
       "    border-bottom-color: var(--fill-color);\n",
       "    animation:\n",
       "      spin 1s steps(1) infinite;\n",
       "  }\n",
       "\n",
       "  @keyframes spin {\n",
       "    0% {\n",
       "      border-color: transparent;\n",
       "      border-bottom-color: var(--fill-color);\n",
       "      border-left-color: var(--fill-color);\n",
       "    }\n",
       "    20% {\n",
       "      border-color: transparent;\n",
       "      border-left-color: var(--fill-color);\n",
       "      border-top-color: var(--fill-color);\n",
       "    }\n",
       "    30% {\n",
       "      border-color: transparent;\n",
       "      border-left-color: var(--fill-color);\n",
       "      border-top-color: var(--fill-color);\n",
       "      border-right-color: var(--fill-color);\n",
       "    }\n",
       "    40% {\n",
       "      border-color: transparent;\n",
       "      border-right-color: var(--fill-color);\n",
       "      border-top-color: var(--fill-color);\n",
       "    }\n",
       "    60% {\n",
       "      border-color: transparent;\n",
       "      border-right-color: var(--fill-color);\n",
       "    }\n",
       "    80% {\n",
       "      border-color: transparent;\n",
       "      border-right-color: var(--fill-color);\n",
       "      border-bottom-color: var(--fill-color);\n",
       "    }\n",
       "    90% {\n",
       "      border-color: transparent;\n",
       "      border-bottom-color: var(--fill-color);\n",
       "    }\n",
       "  }\n",
       "</style>\n",
       "\n",
       "      <script>\n",
       "        async function quickchart(key) {\n",
       "          const quickchartButtonEl =\n",
       "            document.querySelector('#' + key + ' button');\n",
       "          quickchartButtonEl.disabled = true;  // To prevent multiple clicks.\n",
       "          quickchartButtonEl.classList.add('colab-df-spinner');\n",
       "          try {\n",
       "            const charts = await google.colab.kernel.invokeFunction(\n",
       "                'suggestCharts', [key], {});\n",
       "          } catch (error) {\n",
       "            console.error('Error during call to suggestCharts:', error);\n",
       "          }\n",
       "          quickchartButtonEl.classList.remove('colab-df-spinner');\n",
       "          quickchartButtonEl.classList.add('colab-df-quickchart-complete');\n",
       "        }\n",
       "        (() => {\n",
       "          let quickchartButtonEl =\n",
       "            document.querySelector('#df-6b6423e3-29a3-45cf-a2ca-922742a7ce61 button');\n",
       "          quickchartButtonEl.style.display =\n",
       "            google.colab.kernel.accessAllowed ? 'block' : 'none';\n",
       "        })();\n",
       "      </script>\n",
       "    </div>\n",
       "\n",
       "    </div>\n",
       "  </div>\n"
      ],
      "text/plain": [
       "                                                note  \\\n",
       "0  A a sixteen year-old girl, presented to our Ou...   \n",
       "1  This is the case of a 56-year-old man that was...   \n",
       "2  A 36-year old female patient visited our hospi...   \n",
       "3  A 49-year-old male presented with a complaint ...   \n",
       "4  A 47-year-old male patient was referred to the...   \n",
       "\n",
       "                                        conversation     idx  \\\n",
       "0  Doctor: Good morning, what brings you to the O...  155216   \n",
       "1  Doctor: Hi, how are you feeling today?\\nPatien...   77465   \n",
       "2  Doctor: Hello, what brings you to the hospital...  133948   \n",
       "3  Doctor: Good morning, Mr. [Patient's Name]. I'...   80176   \n",
       "4  Doctor: Good morning, how are you feeling toda...   72232   \n",
       "\n",
       "                                             summary  \\\n",
       "0  {\\n\"visit motivation\": \"Discomfort in the neck...   \n",
       "1  {\\n\"visit motivation\": \"Complaints of a dull p...   \n",
       "2  {\\n\"visit motivation\": \"Pain and restricted ra...   \n",
       "3  {\\n\"visit motivation\": \"Pain in the left proxi...   \n",
       "4  {\\n\"visit motivation\": \"Recurrent attacks of p...   \n",
       "\n",
       "                                           full_note  \n",
       "0  A a sixteen year-old girl, presented to our Ou...  \n",
       "1  This is the case of a 56-year-old man that was...  \n",
       "2  A 36-year old female patient visited our hospi...  \n",
       "3  A 49-year-old male presented with a complaint ...  \n",
       "4  A 47-year-old male patient was referred to the...  "
      ]
     },
     "execution_count": 4,
     "metadata": {},
     "output_type": "execute_result"
    }
   ],
   "source": [
    "df.head()"
   ]
  },
  {
   "cell_type": "code",
   "execution_count": null,
   "metadata": {
    "id": "HEOMR03VYPeZ"
   },
   "outputs": [],
   "source": [
    "df.dropna(inplace=True)"
   ]
  },
  {
   "cell_type": "code",
   "execution_count": 3,
   "metadata": {
    "id": "nnkj8dCyXMaS"
   },
   "outputs": [],
   "source": [
    "# Remove unwanted characters from the 'note' and 'full note' columns\n",
    "df['note'] = df['note'].astype(str).str.replace(r'(\\\\n|\\n|\\r|\\[|\\]|\\(|\\))', '', regex=True)\n",
    "df['full_note'] = df['full_note'].astype(str).str.replace(r'(\\\\n|\\n|\\r|\\[|\\]|\\(|\\))', '', regex=True)"
   ]
  },
  {
   "cell_type": "code",
   "execution_count": null,
   "metadata": {
    "colab": {
     "base_uri": "https://localhost:8080/"
    },
    "id": "UvPuMLCZYUx6",
    "outputId": "52e5af06-50e8-4cd9-871a-4986aab5a1f6"
   },
   "outputs": [
    {
     "data": {
      "text/plain": [
       "30000"
      ]
     },
     "execution_count": 7,
     "metadata": {},
     "output_type": "execute_result"
    }
   ],
   "source": [
    "len(df)"
   ]
  },
  {
   "cell_type": "markdown",
   "metadata": {
    "id": "7iO1EyrV30T8"
   },
   "source": [
    "### **CLINICAL-BERT NER**"
   ]
  },
  {
   "cell_type": "code",
   "execution_count": 4,
   "metadata": {
    "id": "XAafJyx2bK2m"
   },
   "outputs": [],
   "source": [
    "# gender to mask\n",
    "gender_terms = {\n",
    "    \"male\", \"female\", \"man\", \"woman\", \"boy\", \"girl\",\n",
    "    \"he\", \"she\", \"his\", \"her\", \"him\", \"hers\", \"himself\", \"herself\"\n",
    "}\n",
    "\n",
    "\n",
    "from cryptography.hazmat.primitives.ciphers import Cipher, algorithms, modes\n",
    "from cryptography.hazmat.primitives import padding\n",
    "from cryptography.hazmat.backends import default_backend\n",
    "import base64\n",
    "import hashlib\n",
    "\n",
    "# Secret Key AES (16, 24 o 32 byte)\n",
    "SECRET_KEY = hashlib.sha256(b\"my-secret-key\").digest()\n",
    "\n",
    "# AES setup\n",
    "def encrypt_word_aes(word, key=SECRET_KEY):\n",
    "    word = word.lower()\n",
    "\n",
    "    # Pad the word to AES block size (128 bit)\n",
    "    padder = padding.PKCS7(128).padder()\n",
    "    padded_data = padder.update(word.encode()) + padder.finalize()\n",
    "\n",
    "    # ECB mode (deterministic; for individual words)\n",
    "    cipher = Cipher(algorithms.AES(key), modes.ECB(), backend=default_backend())\n",
    "    encryptor = cipher.encryptor()\n",
    "    ct = encryptor.update(padded_data) + encryptor.finalize()\n",
    "\n",
    "    # Return as base64 to make it readable\n",
    "    return base64.urlsafe_b64encode(ct).decode()[:10]  # truncate for readability\n",
    "\n",
    "# Core masking function\n",
    "def encrypt_word(word):\n",
    "    if word.isdigit() or word.lower() in gender_terms:\n",
    "        return encrypt_word_aes(word)\n",
    "    return encrypt_word_aes(word)"
   ]
  },
  {
   "cell_type": "code",
   "execution_count": 7,
   "metadata": {
    "colab": {
     "base_uri": "https://localhost:8080/"
    },
    "collapsed": true,
    "id": "PZjcGnPaS7sG",
    "outputId": "f7a5975d-e865-4ef9-9918-e2ab8e356d0b"
   },
   "outputs": [
    {
     "name": "stderr",
     "output_type": "stream",
     "text": [
      "Device set to use cuda\n",
      "Encrypt dataset:   0%|          | 0/30000 [00:00<?, ?it/s]/usr/local/lib/python3.11/dist-packages/torch/nn/modules/module.py:1750: FutureWarning: `encoder_attention_mask` is deprecated and will be removed in version 4.55.0 for `BertSdpaSelfAttention.forward`.\n",
      "  return forward_call(*args, **kwargs)\n",
      "Encrypt dataset:   0%|          | 0/30000 [00:00<?, ?it/s]\n"
     ]
    }
   ],
   "source": [
    "model_name = \"samrawal/bert-base-uncased_clinical-ner\"\n",
    "tokenizer = AutoTokenizer.from_pretrained(model_name)\n",
    "model = AutoModelForTokenClassification.from_pretrained(model_name)\n",
    "\n",
    "# GPU if available\n",
    "if torch.cuda.is_available():\n",
    "    device = torch.device('cuda')\n",
    "else:\n",
    "    device = torch.device('cpu')\n",
    "\n",
    "ner_pipeline = pipeline(\"ner\", model=model, tokenizer=tokenizer, aggregation_strategy=\"simple\", device=device)\n",
    "\n",
    "df_encrypt_text = {'index': [], 'note': [], 'encrypt_note': [], 'sensitive_entity_note': [],\n",
    "                  'full_note': [], 'encrypt_full_note': [], 'sensitive_entity_full_note': [],\n",
    "                  }\n",
    "\n",
    "# Iterate over all dataset\n",
    "for index, row in tqdm(df.iterrows(), total=len(df), desc=\"Encrypt dataset\"):\n",
    "    df_encrypt_text['index'].append(index)\n",
    "\n",
    "    sensitive_entity_note = set()\n",
    "    sensitive_entity_full_note = set()\n",
    "\n",
    "    for col in [\"note\", \"full_note\"]:\n",
    "        text = row[col]\n",
    "        ner_results = ner_pipeline(text)\n",
    "\n",
    "        # Map of masked intervals\n",
    "        to_mask = []\n",
    "        for entity in ner_results:\n",
    "            if entity[\"entity_group\"] in {\"problem\", \"treatment\"}:\n",
    "                if col == 'note': sensitive_entity_note.add(entity[\"word\"])\n",
    "                else: sensitive_entity_full_note.add(entity[\"word\"])\n",
    "                to_mask.append((entity[\"start\"], entity[\"end\"]))\n",
    "\n",
    "        # Mask words in specif ranges\n",
    "        encrypt_text = \"\"\n",
    "        i = 0\n",
    "        for start, end in sorted(to_mask):\n",
    "            encrypt_text += text[i:start]\n",
    "            original = text[start:end]\n",
    "            encrypt = re.sub(r'\\b\\w+\\b', lambda m: encrypt_word(m.group()), original)\n",
    "            encrypt_text += encrypt\n",
    "            i = end\n",
    "\n",
    "        encrypt_text += text[i:]\n",
    "\n",
    "        if col == 'note':\n",
    "            df_encrypt_text['note'].append(text)\n",
    "            df_encrypt_text['encrypt_note'].append(encrypt_text)\n",
    "            df_encrypt_text['sensitive_entity_note'].append(sensitive_entity_note)\n",
    "        else:\n",
    "            df_encrypt_text['full_note'].append(text)\n",
    "            df_encrypt_text['encrypt_full_note'].append(encrypt_text)\n",
    "            df_encrypt_text['sensitive_entity_full_note'].append(sensitive_entity_full_note)\n",
    "\n",
    "        # print(\"\\nMasked text (first two letter are visible for PROBLEM/TREATMENT):\\n\")\n",
    "        # print(masked_text)"
   ]
  },
  {
   "cell_type": "code",
   "execution_count": 8,
   "metadata": {
    "id": "_USB17NicYlC"
   },
   "outputs": [],
   "source": [
    "df_encrypt = pd.DataFrame(df_encrypt_text)"
   ]
  },
  {
   "cell_type": "code",
   "execution_count": 9,
   "metadata": {
    "colab": {
     "base_uri": "https://localhost:8080/"
    },
    "id": "chFzXLxQYVAD",
    "outputId": "71ddfc9d-13e0-4afc-b8ad-88f950974894"
   },
   "outputs": [
    {
     "name": "stdout",
     "output_type": "stream",
     "text": [
      "A a sixteen year-old girl, presented to our Outpatient department with the complaints of oW0rmunCQo okdVVRgc1- 0NRdXTHwsy jH-m6AIIYd 4R72SxIbI1 8Fep4XoCQH 3wYsXFPPXd as well as 7W_ekE_y9e O8mbpBC7UG UMKHQWk52S 6LqK8wobRq. She was not able to maintain an erect posture and would tend to fall on either side while standing up from a sitting position. She would keep her head turned to the right and upwards due to 0NRdXTHwsy OumdYBy91J QhmKbiIHnV O8mbpBC7UG 0NRdXTHwsy jH-m6AIIYd kNMKyrorwl. There was nMubxnGZ3r bympupTB6X _TUtNj-9u0 O8mbpBC7UG 0NRdXTHwsy 3wYsXFPPXd in the lumbar region. To counter 0NRdXTHwsy HaRCGlbzwE UjIgU4tf-- O8mbpBC7UG 0NRdXTHwsy 3wYsXFPPXd 4R72SxIbI1 jH-m6AIIYd, she would keep her limbs in a specific position to allow her body weight to be supported. Due to 0NRdXTHwsy restrictions with the body movements at the neck and in the lumbar region, she would require assistance in standing and walking. She would require her parents to help her with daily chores, including all activities of self-care.She had been experiencing _4gfdj6-vY luXp999Jcj for the past four months since when she was introduced to x0iv6DM9l6oGDHKRG-uB t4-z2O8jm- for the control of yerD4tQZHH fGv6bNeLI4 44lQ-8OZJE hJDihQWsRN. This was not her first experience with LKRUt7ti1l cUett8glWd over the past seven years since she had been diagnosed with 95ARiw-Dza boIk0gV9rQ 266uEjIT-y. Her first episode of 0NRdXTHwsy boIk0gV9rQ 266uEjIT-y was that of Di4unkCHTA at the age of eleven which was managed with the use of 8-eDuT3Gpt t4-z2O8jm- in 2.5–10 mg doses per day at different times. The patient developed MwRVCEv_2V 4R72SxIbI1 oW0rmunCQo okdVVRgc1- yerD4tQZHH jH-m6AIIYd within the second week of being put on L9anbbYgFs 8-eDuT3Gpt at a dose of 5 mg per day. This was associated with nMubxnGZ3r OumdYBy91J 4R72SxIbI1 HaRCGlbzwE QhmKbiIHnV O8mbpBC7UG 0NRdXTHwsy jH-m6AIIYd kNMKyrorwl that would pull her head to the right in an upward direction. _4gfdj6-vY BT81pzYrbu had persisted for the first three years of yerD4tQZHH hJDihQWsRN with a varying VQhDeUXgMZ, 60DHr5Uoe1, and IzrO7Kh40S which would tend to correlate with the dose of 8-eDuT3Gpt. Apart from a brief period of around three weeks when she was given L9anbbYgFs KhjKU0sf6P 4 mg per day for 5C4ZC4F0Un okdVVRgc1- yerD4tQZHH h2A-e3UotJ u2O6HY-lYr, she was not prescribed heOHz8fVdB t3X-NKrglA pGx63m7OrO QDeBo0MLHP. 0NRdXTHwsy 5C4ZC4F0Un showed good response to LKRUt7ti1l QDeBo0MLHP which was subsequently\n"
     ]
    }
   ],
   "source": [
    "print(df_encrypt['encrypt_note'][0])"
   ]
  },
  {
   "cell_type": "code",
   "execution_count": 11,
   "metadata": {
    "colab": {
     "base_uri": "https://localhost:8080/"
    },
    "id": "EbMI9_ZzZsGR",
    "outputId": "19377f2b-d087-4faf-96e5-78f90aeda87a"
   },
   "outputs": [
    {
     "data": {
      "text/plain": [
       "{'##pine tablets',\n",
       " 'a sideways bending of the back',\n",
       " 'a sustained and abnormal contraction of the neck muscles',\n",
       " 'any other psychotropic medication',\n",
       " 'bipolar affective disorder',\n",
       " 'discomfort in her neck',\n",
       " 'discomfort in the neck and lower back',\n",
       " 'distress',\n",
       " 'dysfunction',\n",
       " 'her exacerbated mental illness',\n",
       " 'her illness',\n",
       " 'intensity',\n",
       " 'mania',\n",
       " 'olanza',\n",
       " 'olanzapine',\n",
       " 'olanzapine tablets',\n",
       " 'pain and',\n",
       " 'restriction of body movements',\n",
       " 'rigidity in her upper limbs',\n",
       " 'tablet olanzapine',\n",
       " 'tablet trihexyphenidyl',\n",
       " 'the',\n",
       " 'the abnormal positioning of the back and neck',\n",
       " 'the affective disorder',\n",
       " 'the rigidity',\n",
       " 'the sustained contraction of the neck muscles',\n",
       " 'these difficulties',\n",
       " 'these features',\n",
       " 'this drug',\n",
       " 'this medication'}"
      ]
     },
     "execution_count": 11,
     "metadata": {},
     "output_type": "execute_result"
    }
   ],
   "source": [
    "df_encrypt['sensitive_entity_note'][0]"
   ]
  },
  {
   "cell_type": "markdown",
   "metadata": {
    "id": "Nkx4WFaqDpRh"
   },
   "source": [
    "### **SPACY NER**"
   ]
  },
  {
   "cell_type": "code",
   "execution_count": 12,
   "metadata": {
    "colab": {
     "base_uri": "https://localhost:8080/"
    },
    "id": "MB6kKSJM-9VF",
    "outputId": "4846d63d-9910-4cdb-b5d6-099257363b1f"
   },
   "outputs": [
    {
     "name": "stdout",
     "output_type": "stream",
     "text": [
      "\u001b[38;5;2m✔ Download and installation successful\u001b[0m\n",
      "You can now load the package via spacy.load('en_core_web_lg')\n",
      "\u001b[38;5;3m⚠ Restart to reload dependencies\u001b[0m\n",
      "If you are in a Jupyter or Colab notebook, you may need to restart Python in\n",
      "order to load all the package's dependencies. You can do this by selecting the\n",
      "'Restart kernel' or 'Restart runtime' option.\n"
     ]
    }
   ],
   "source": [
    "spacy.cli.download(\"en_core_web_lg\")\n",
    "\n",
    "# spaCy model\n",
    "nlp = spacy.load(\"en_core_web_lg\")"
   ]
  },
  {
   "cell_type": "code",
   "execution_count": 13,
   "metadata": {
    "colab": {
     "base_uri": "https://localhost:8080/"
    },
    "id": "CC2Iws_EK2iA",
    "outputId": "5f0cca11-7476-47a7-c849-0649901ab57c"
   },
   "outputs": [
    {
     "name": "stderr",
     "output_type": "stream",
     "text": [
      "Search sensitive info:   0%|          | 0/1 [00:00<?, ?it/s]\n"
     ]
    }
   ],
   "source": [
    "for index, row in tqdm(df.iterrows(), total=len(df_encrypt), desc=\"Search sensitive info\"):\n",
    "    for col in [\"note\", \"full_note\"]:\n",
    "        text = row[col]\n",
    "        doc = nlp(text)\n",
    "\n",
    "        # NER spaCy\n",
    "        for ent in sorted(doc.ents, key=lambda e: e.start_char):\n",
    "            if ent.label_ in {\n",
    "                \"CARDINAL\", \"QUANTITY\", \"DATE\", \"TIME\", \"PERSON\",\n",
    "                \"NORP\", \"FAC\", \"ORG\", \"GPE\", \"LOC\", \"LANGUAGE\"\n",
    "            }:\n",
    "                if col == 'note':\n",
    "                    df_encrypt.at[index, 'sensitive_entity_note'].add(ent.text)\n",
    "                else:\n",
    "                    df_encrypt.at[index, 'sensitive_entity_full_note'].add(ent.text)\n",
    "\n",
    "        # gender terms\n",
    "        def detect_gender_term(match):\n",
    "            word = match.group()\n",
    "            if word.lower() in gender_terms:\n",
    "                if col == 'note':\n",
    "                    df_encrypt.at[index, 'sensitive_entity_note'].add(word)\n",
    "                else:\n",
    "                    df_encrypt.at[index, 'sensitive_entity_full_note'].add(word)\n",
    "            return word\n",
    "\n",
    "        re.sub(r'\\b\\w+\\b', detect_gender_term, text)"
   ]
  },
  {
   "cell_type": "code",
   "execution_count": 15,
   "metadata": {
    "colab": {
     "base_uri": "https://localhost:8080/"
    },
    "id": "Ts9ZqNsEanZT",
    "outputId": "709de101-52bd-4ec2-f4eb-8dea637d22a1"
   },
   "outputs": [
    {
     "data": {
      "text/plain": [
       "{'##pine tablets',\n",
       " '2.5–10 mg',\n",
       " '4 mg',\n",
       " '5 mg',\n",
       " 'Her',\n",
       " 'Outpatient',\n",
       " 'She',\n",
       " 'a sideways bending of the back',\n",
       " 'a sustained and abnormal contraction of the neck muscles',\n",
       " 'any other psychotropic medication',\n",
       " 'around three weeks',\n",
       " 'bipolar affective disorder',\n",
       " 'discomfort in her neck',\n",
       " 'discomfort in the neck and lower back',\n",
       " 'distress',\n",
       " 'dysfunction',\n",
       " 'girl',\n",
       " 'her',\n",
       " 'her exacerbated mental illness',\n",
       " 'her illness',\n",
       " 'intensity',\n",
       " 'mania',\n",
       " 'olanza',\n",
       " 'olanzapine',\n",
       " 'olanzapine tablets',\n",
       " 'pain and',\n",
       " 'restriction of body movements',\n",
       " 'rigidity in her upper limbs',\n",
       " 'she',\n",
       " 'sixteen year-old',\n",
       " 'tablet olanzapine',\n",
       " 'tablet trihexyphenidyl',\n",
       " 'the',\n",
       " 'the abnormal positioning of the back and neck',\n",
       " 'the affective disorder',\n",
       " 'the age of eleven',\n",
       " 'the first three years',\n",
       " 'the past four months',\n",
       " 'the past seven years',\n",
       " 'the rigidity',\n",
       " 'the second week',\n",
       " 'the sustained contraction of the neck muscles',\n",
       " 'these difficulties',\n",
       " 'these features',\n",
       " 'this drug',\n",
       " 'this medication'}"
      ]
     },
     "execution_count": 15,
     "metadata": {},
     "output_type": "execute_result"
    }
   ],
   "source": [
    "df_encrypt['sensitive_entity_note'][0]"
   ]
  },
  {
   "cell_type": "code",
   "execution_count": 16,
   "metadata": {
    "colab": {
     "base_uri": "https://localhost:8080/"
    },
    "id": "Ha144X9_p2lt",
    "outputId": "1f1ef7ce-4322-4873-fc33-8b701d5034a7"
   },
   "outputs": [
    {
     "name": "stderr",
     "output_type": "stream",
     "text": [
      "Encrypt dataset: 100%|██████████| 1/1 [00:00<00:00,  1.76it/s]\n"
     ]
    }
   ],
   "source": [
    "# Entity type to mask\n",
    "entities_to_encrypt = {\"PERSON\", \"NORP\", \"DATE\", \"CARDINAL\", \"QUANTITY\", \"FAC\", \"ORG\",\n",
    "                    \"GPE\", \"LOC\", \"LANGUAGE\", \"TIME\"}\n",
    "\n",
    "for index, row in tqdm(df_encrypt.iterrows(), total=len(df_encrypt), desc=\"Encrypt dataset\"):\n",
    "    for col in [\"encrypt_note\", \"encrypt_full_note\"]:\n",
    "        text = row[col]\n",
    "        to_encrypt = []\n",
    "        doc = nlp(text)\n",
    "\n",
    "        for ent in doc.ents:\n",
    "            if ent.label_ in entities_to_encrypt:\n",
    "                to_encrypt.append((ent.start_char, ent.end_char))\n",
    "\n",
    "        encrypt_text_new = \"\"\n",
    "        i = 0\n",
    "        for start, end in sorted(to_encrypt):\n",
    "            encrypt_text_new += text[i:start]\n",
    "            original = text[start:end]\n",
    "            encrypt = re.sub(r'\\b\\w+\\b', lambda m: encrypt_word(m.group()), original)\n",
    "            encrypt_text_new += encrypt\n",
    "            i = end\n",
    "\n",
    "        encrypt_text_new += text[i:]\n",
    "\n",
    "        encrypt_text_new = re.sub(\n",
    "          r'\\b\\w+\\b',\n",
    "          lambda m: encrypt_word(m.group()) if m.group().lower() in gender_terms else m.group(),\n",
    "          encrypt_text_new\n",
    "        )\n",
    "\n",
    "        df_encrypt.at[index, col] = encrypt_text_new"
   ]
  },
  {
   "cell_type": "code",
   "execution_count": null,
   "metadata": {
    "colab": {
     "base_uri": "https://localhost:8080/",
     "height": 17
    },
    "id": "9TBmm2BRcl7h",
    "outputId": "6b853857-7ddc-43cc-cb60-5e78de9c4aee"
   },
   "outputs": [
    {
     "data": {
      "application/javascript": [
       "\n",
       "    async function download(id, filename, size) {\n",
       "      if (!google.colab.kernel.accessAllowed) {\n",
       "        return;\n",
       "      }\n",
       "      const div = document.createElement('div');\n",
       "      const label = document.createElement('label');\n",
       "      label.textContent = `Downloading \"${filename}\": `;\n",
       "      div.appendChild(label);\n",
       "      const progress = document.createElement('progress');\n",
       "      progress.max = size;\n",
       "      div.appendChild(progress);\n",
       "      document.body.appendChild(div);\n",
       "\n",
       "      const buffers = [];\n",
       "      let downloaded = 0;\n",
       "\n",
       "      const channel = await google.colab.kernel.comms.open(id);\n",
       "      // Send a message to notify the kernel that we're ready.\n",
       "      channel.send({})\n",
       "\n",
       "      for await (const message of channel.messages) {\n",
       "        // Send a message to notify the kernel that we're ready.\n",
       "        channel.send({})\n",
       "        if (message.buffers) {\n",
       "          for (const buffer of message.buffers) {\n",
       "            buffers.push(buffer);\n",
       "            downloaded += buffer.byteLength;\n",
       "            progress.value = downloaded;\n",
       "          }\n",
       "        }\n",
       "      }\n",
       "      const blob = new Blob(buffers, {type: 'application/binary'});\n",
       "      const a = document.createElement('a');\n",
       "      a.href = window.URL.createObjectURL(blob);\n",
       "      a.download = filename;\n",
       "      div.appendChild(a);\n",
       "      a.click();\n",
       "      div.remove();\n",
       "    }\n",
       "  "
      ],
      "text/plain": [
       "<IPython.core.display.Javascript object>"
      ]
     },
     "metadata": {},
     "output_type": "display_data"
    },
    {
     "data": {
      "application/javascript": [
       "download(\"download_44bf76d5-c8cc-47e1-8c98-2c990cc710c8\", \"encrypt_dataset.csv\", 361033387)"
      ],
      "text/plain": [
       "<IPython.core.display.Javascript object>"
      ]
     },
     "metadata": {},
     "output_type": "display_data"
    }
   ],
   "source": [
    "from google.colab import files\n",
    "\n",
    "df_encrypt.to_csv('encrypt_dataset.csv', index=False)\n",
    "files.download('encrypt_dataset.csv')"
   ]
  },
  {
   "cell_type": "markdown",
   "metadata": {
    "id": "mVxXMPaTWT2O"
   },
   "source": [
    "Reading masked dataset"
   ]
  },
  {
   "cell_type": "code",
   "execution_count": 17,
   "metadata": {
    "colab": {
     "base_uri": "https://localhost:8080/"
    },
    "id": "Ne1Ms648Y6ct",
    "outputId": "647cbc5e-503e-494c-f68d-58ab0968d11d"
   },
   "outputs": [
    {
     "name": "stdout",
     "output_type": "stream",
     "text": [
      "A a wWsbMiy__S Seor8VO9yQ-zR9BxL4QEb zKBSYREgGq, presented to our RaxhORD2AF department with the complaints of oW0rmunCQo okdVVRgc1- trMGughzM0 jH-m6AIIYd 4R72SxIbI1 8Fep4XoCQH 3wYsXFPPXd as well as Ozmo-oSFxe O8mbpBC7UG UMKHQWk52S 6LqK8wobRq. Kcg24XvmAz was not able to maintain an erect posture and would tend to fall on either side while standing up from a sitting position. Kcg24XvmAz would keep yerD4tQZHH head turned to the right and upwards due to trMGughzM0 OumdYBy91J QhmKbiIHnV O8mbpBC7UG trMGughzM0 jH-m6AIIYd kNMKyrorwl. There was nMubxnGZ3r a5z2O3uVDN _TUtNj-9u0 O8mbpBC7UG trMGughzM0 GV-cLbRWUy in the lumbar region. To counter trMGughzM0 HaRCGlbzwE UjIgU4tf-- O8mbpBC7UG trMGughzM0 GV-cLbRWUy 7P_j3E4hfb jH-m6AIIYd, Kcg24XvmAz would keep yerD4tQZHH limbs in a specific position to allow yerD4tQZHH body weight to be supported. Due to trMGughzM0 restrictions with the body movements at the neck and in the lumbar region, Kcg24XvmAz would require assistance in standing and walking. Kcg24XvmAz would require yerD4tQZHH parents to help yerD4tQZHH with daily chores, including all activities of self-care.Kcg24XvmAz had been experiencing _6V3a8Q7G9--vY luXp999Jcj for 0NRdXTHwsy Nl4CN-ShHE 2hAYF1lpFi fwUA86GGUW since when Kcg24XvmAz was introduced to x0iv6DM9l6oGDHKRG-uB t4-z2O8jm- for the control of OjL1tUjBMJ Jw2hf51iPF 9lM7_f9Yf8-pJcHB7X_PH hJDihQWsRN. This was not yerD4tQZHH first experience with LKRUt7ti1l cUett8glWd over 0NRdXTHwsy Nl4CN-ShHE N5oKBcZzQL Pc_hk92R9D since Kcg24XvmAz had been diagnosed with cg1D73SNKU-Dza boIk0gV9rQ W1EmaXStQb-7p3SgnsfUB. yerD4tQZHH first episode of trMGughzM0 MYgXfoF0-6 266uEjIT-y was that of Di4unkCHTA at 0NRdXTHwsy UZJls6Ztos O8mbpBC7UG AlzBNrct4l which was managed with the use of n-JN5ao347-eDuT3Gpt t4-z2O8jm- in Zg_uccl2aA.6eqTqCnxqL–oQcrI5N5Xb mg doses per day at different times. The patient developed MwRVCEv_2V 4R72SxIbI1 oW0rmunCQo okdVVRgc1- yerD4tQZHH jH-m6AIIYd within 0NRdXTHwsy ww3_Mcb2Pe eFIx0jXgh2 of being put on L9anbbYgFs n-JN5ao347-eDuT3Gpt at a dose of 6eqTqCnxqL o88Kw1_79y per day. This was associated with nMubxnGZ3r OumdYBy91J 7P_j3E4hfb HaRCGlbzwE QhmKbiIHnV O8mbpBC7UG trMGughzM0 jH-m6AIIYd kNMKyrorwl that would pull yerD4tQZHH head to the right in an upward direction. _6V3a8Q7G9--vY BT81pzYrbu had persisted for 0NRdXTHwsy IHHc-OA7sx zCSXFdbwHE Pc_hk92R9D of yerD4tQZHH hJDihQWsRN with a varying VQhDeUXgMZ, 0x2UPKtP_g, and bQzoq7qbEe which would tend to correlate with the dose of n-JN5ao347-eDuT3Gpt. Apart from a brief period of PWWbXNM1eg zCSXFdbwHE DGjY5uY-AM when Kcg24XvmAz was given L9anbbYgFs KhjKU0sf6P ZS4Fji96Ix o88Kw1_79y per day for J1olbV2LeO okdVVRgc1- OjL1tUjBMJ SJ24xftebD-2fBSOtl6nt u2O6HY-lYr, Kcg24XvmAz was not prescribed heOHz8fVdB t3X-NKrglA pGx63m7OrO QDeBo0MLHP. 0NRdXTHwsy 5C4ZC4F0Un showed good response to LKRUt7ti1l QDeBo0MLHP which was subsequently\n"
     ]
    }
   ],
   "source": [
    "print(df_encrypt['encrypt_note'][0])"
   ]
  },
  {
   "cell_type": "code",
   "execution_count": null,
   "metadata": {
    "id": "GgZaGX6mbolQ"
   },
   "outputs": [],
   "source": [
    "print(df_encrypt['encrypt_full_note'][0])"
   ]
  }
 ],
 "metadata": {
  "accelerator": "GPU",
  "colab": {
   "gpuType": "T4",
   "provenance": []
  },
  "kernelspec": {
   "display_name": "Python 3",
   "name": "python3"
  },
  "language_info": {
   "name": "python"
  }
 },
 "nbformat": 4,
 "nbformat_minor": 0
}
