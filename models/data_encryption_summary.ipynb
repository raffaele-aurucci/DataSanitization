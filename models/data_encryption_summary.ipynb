{
 "cells": [
  {
   "cell_type": "markdown",
   "metadata": {
    "id": "BsAfz2vUCl8N"
   },
   "source": [
    "### **Text Summarization on encrypted data**"
   ]
  },
  {
   "cell_type": "code",
   "execution_count": 6,
   "metadata": {
    "colab": {
     "base_uri": "https://localhost:8080/"
    },
    "id": "k7vZIpestvW-",
    "outputId": "ccba972b-b752-439c-d637-fd7540921515"
   },
   "outputs": [
    {
     "name": "stdout",
     "output_type": "stream",
     "text": [
      "Requirement already satisfied: transformers in /usr/local/lib/python3.12/dist-packages (4.55.2)\n",
      "Requirement already satisfied: datasets in /usr/local/lib/python3.12/dist-packages (4.0.0)\n",
      "Requirement already satisfied: accelerate in /usr/local/lib/python3.12/dist-packages (1.10.0)\n",
      "Requirement already satisfied: filelock in /usr/local/lib/python3.12/dist-packages (from transformers) (3.19.1)\n",
      "Requirement already satisfied: huggingface-hub<1.0,>=0.34.0 in /usr/local/lib/python3.12/dist-packages (from transformers) (0.34.4)\n",
      "Requirement already satisfied: numpy>=1.17 in /usr/local/lib/python3.12/dist-packages (from transformers) (2.0.2)\n",
      "Requirement already satisfied: packaging>=20.0 in /usr/local/lib/python3.12/dist-packages (from transformers) (25.0)\n",
      "Requirement already satisfied: pyyaml>=5.1 in /usr/local/lib/python3.12/dist-packages (from transformers) (6.0.2)\n",
      "Requirement already satisfied: regex!=2019.12.17 in /usr/local/lib/python3.12/dist-packages (from transformers) (2024.11.6)\n",
      "Requirement already satisfied: requests in /usr/local/lib/python3.12/dist-packages (from transformers) (2.32.4)\n",
      "Requirement already satisfied: tokenizers<0.22,>=0.21 in /usr/local/lib/python3.12/dist-packages (from transformers) (0.21.4)\n",
      "Requirement already satisfied: safetensors>=0.4.3 in /usr/local/lib/python3.12/dist-packages (from transformers) (0.6.2)\n",
      "Requirement already satisfied: tqdm>=4.27 in /usr/local/lib/python3.12/dist-packages (from transformers) (4.67.1)\n",
      "Requirement already satisfied: pyarrow>=15.0.0 in /usr/local/lib/python3.12/dist-packages (from datasets) (18.1.0)\n",
      "Requirement already satisfied: dill<0.3.9,>=0.3.0 in /usr/local/lib/python3.12/dist-packages (from datasets) (0.3.8)\n",
      "Requirement already satisfied: pandas in /usr/local/lib/python3.12/dist-packages (from datasets) (2.2.2)\n",
      "Requirement already satisfied: xxhash in /usr/local/lib/python3.12/dist-packages (from datasets) (3.5.0)\n",
      "Requirement already satisfied: multiprocess<0.70.17 in /usr/local/lib/python3.12/dist-packages (from datasets) (0.70.16)\n",
      "Requirement already satisfied: fsspec<=2025.3.0,>=2023.1.0 in /usr/local/lib/python3.12/dist-packages (from fsspec[http]<=2025.3.0,>=2023.1.0->datasets) (2025.3.0)\n",
      "Requirement already satisfied: psutil in /usr/local/lib/python3.12/dist-packages (from accelerate) (5.9.5)\n",
      "Requirement already satisfied: torch>=2.0.0 in /usr/local/lib/python3.12/dist-packages (from accelerate) (2.8.0+cu126)\n",
      "Requirement already satisfied: aiohttp!=4.0.0a0,!=4.0.0a1 in /usr/local/lib/python3.12/dist-packages (from fsspec[http]<=2025.3.0,>=2023.1.0->datasets) (3.12.15)\n",
      "Requirement already satisfied: typing-extensions>=3.7.4.3 in /usr/local/lib/python3.12/dist-packages (from huggingface-hub<1.0,>=0.34.0->transformers) (4.14.1)\n",
      "Requirement already satisfied: hf-xet<2.0.0,>=1.1.3 in /usr/local/lib/python3.12/dist-packages (from huggingface-hub<1.0,>=0.34.0->transformers) (1.1.7)\n",
      "Requirement already satisfied: charset_normalizer<4,>=2 in /usr/local/lib/python3.12/dist-packages (from requests->transformers) (3.4.3)\n",
      "Requirement already satisfied: idna<4,>=2.5 in /usr/local/lib/python3.12/dist-packages (from requests->transformers) (3.10)\n",
      "Requirement already satisfied: urllib3<3,>=1.21.1 in /usr/local/lib/python3.12/dist-packages (from requests->transformers) (2.5.0)\n",
      "Requirement already satisfied: certifi>=2017.4.17 in /usr/local/lib/python3.12/dist-packages (from requests->transformers) (2025.8.3)\n",
      "Requirement already satisfied: setuptools in /usr/local/lib/python3.12/dist-packages (from torch>=2.0.0->accelerate) (75.2.0)\n",
      "Requirement already satisfied: sympy>=1.13.3 in /usr/local/lib/python3.12/dist-packages (from torch>=2.0.0->accelerate) (1.13.3)\n",
      "Requirement already satisfied: networkx in /usr/local/lib/python3.12/dist-packages (from torch>=2.0.0->accelerate) (3.5)\n",
      "Requirement already satisfied: jinja2 in /usr/local/lib/python3.12/dist-packages (from torch>=2.0.0->accelerate) (3.1.6)\n",
      "Requirement already satisfied: nvidia-cuda-nvrtc-cu12==12.6.77 in /usr/local/lib/python3.12/dist-packages (from torch>=2.0.0->accelerate) (12.6.77)\n",
      "Requirement already satisfied: nvidia-cuda-runtime-cu12==12.6.77 in /usr/local/lib/python3.12/dist-packages (from torch>=2.0.0->accelerate) (12.6.77)\n",
      "Requirement already satisfied: nvidia-cuda-cupti-cu12==12.6.80 in /usr/local/lib/python3.12/dist-packages (from torch>=2.0.0->accelerate) (12.6.80)\n",
      "Requirement already satisfied: nvidia-cudnn-cu12==9.10.2.21 in /usr/local/lib/python3.12/dist-packages (from torch>=2.0.0->accelerate) (9.10.2.21)\n",
      "Requirement already satisfied: nvidia-cublas-cu12==12.6.4.1 in /usr/local/lib/python3.12/dist-packages (from torch>=2.0.0->accelerate) (12.6.4.1)\n",
      "Requirement already satisfied: nvidia-cufft-cu12==11.3.0.4 in /usr/local/lib/python3.12/dist-packages (from torch>=2.0.0->accelerate) (11.3.0.4)\n",
      "Requirement already satisfied: nvidia-curand-cu12==10.3.7.77 in /usr/local/lib/python3.12/dist-packages (from torch>=2.0.0->accelerate) (10.3.7.77)\n",
      "Requirement already satisfied: nvidia-cusolver-cu12==11.7.1.2 in /usr/local/lib/python3.12/dist-packages (from torch>=2.0.0->accelerate) (11.7.1.2)\n",
      "Requirement already satisfied: nvidia-cusparse-cu12==12.5.4.2 in /usr/local/lib/python3.12/dist-packages (from torch>=2.0.0->accelerate) (12.5.4.2)\n",
      "Requirement already satisfied: nvidia-cusparselt-cu12==0.7.1 in /usr/local/lib/python3.12/dist-packages (from torch>=2.0.0->accelerate) (0.7.1)\n",
      "Requirement already satisfied: nvidia-nccl-cu12==2.27.3 in /usr/local/lib/python3.12/dist-packages (from torch>=2.0.0->accelerate) (2.27.3)\n",
      "Requirement already satisfied: nvidia-nvtx-cu12==12.6.77 in /usr/local/lib/python3.12/dist-packages (from torch>=2.0.0->accelerate) (12.6.77)\n",
      "Requirement already satisfied: nvidia-nvjitlink-cu12==12.6.85 in /usr/local/lib/python3.12/dist-packages (from torch>=2.0.0->accelerate) (12.6.85)\n",
      "Requirement already satisfied: nvidia-cufile-cu12==1.11.1.6 in /usr/local/lib/python3.12/dist-packages (from torch>=2.0.0->accelerate) (1.11.1.6)\n",
      "Requirement already satisfied: triton==3.4.0 in /usr/local/lib/python3.12/dist-packages (from torch>=2.0.0->accelerate) (3.4.0)\n",
      "Requirement already satisfied: python-dateutil>=2.8.2 in /usr/local/lib/python3.12/dist-packages (from pandas->datasets) (2.9.0.post0)\n",
      "Requirement already satisfied: pytz>=2020.1 in /usr/local/lib/python3.12/dist-packages (from pandas->datasets) (2025.2)\n",
      "Requirement already satisfied: tzdata>=2022.7 in /usr/local/lib/python3.12/dist-packages (from pandas->datasets) (2025.2)\n",
      "Requirement already satisfied: aiohappyeyeballs>=2.5.0 in /usr/local/lib/python3.12/dist-packages (from aiohttp!=4.0.0a0,!=4.0.0a1->fsspec[http]<=2025.3.0,>=2023.1.0->datasets) (2.6.1)\n",
      "Requirement already satisfied: aiosignal>=1.4.0 in /usr/local/lib/python3.12/dist-packages (from aiohttp!=4.0.0a0,!=4.0.0a1->fsspec[http]<=2025.3.0,>=2023.1.0->datasets) (1.4.0)\n",
      "Requirement already satisfied: attrs>=17.3.0 in /usr/local/lib/python3.12/dist-packages (from aiohttp!=4.0.0a0,!=4.0.0a1->fsspec[http]<=2025.3.0,>=2023.1.0->datasets) (25.3.0)\n",
      "Requirement already satisfied: frozenlist>=1.1.1 in /usr/local/lib/python3.12/dist-packages (from aiohttp!=4.0.0a0,!=4.0.0a1->fsspec[http]<=2025.3.0,>=2023.1.0->datasets) (1.7.0)\n",
      "Requirement already satisfied: multidict<7.0,>=4.5 in /usr/local/lib/python3.12/dist-packages (from aiohttp!=4.0.0a0,!=4.0.0a1->fsspec[http]<=2025.3.0,>=2023.1.0->datasets) (6.6.4)\n",
      "Requirement already satisfied: propcache>=0.2.0 in /usr/local/lib/python3.12/dist-packages (from aiohttp!=4.0.0a0,!=4.0.0a1->fsspec[http]<=2025.3.0,>=2023.1.0->datasets) (0.3.2)\n",
      "Requirement already satisfied: yarl<2.0,>=1.17.0 in /usr/local/lib/python3.12/dist-packages (from aiohttp!=4.0.0a0,!=4.0.0a1->fsspec[http]<=2025.3.0,>=2023.1.0->datasets) (1.20.1)\n",
      "Requirement already satisfied: six>=1.5 in /usr/local/lib/python3.12/dist-packages (from python-dateutil>=2.8.2->pandas->datasets) (1.17.0)\n",
      "Requirement already satisfied: mpmath<1.4,>=1.1.0 in /usr/local/lib/python3.12/dist-packages (from sympy>=1.13.3->torch>=2.0.0->accelerate) (1.3.0)\n",
      "Requirement already satisfied: MarkupSafe>=2.0 in /usr/local/lib/python3.12/dist-packages (from jinja2->torch>=2.0.0->accelerate) (3.0.2)\n"
     ]
    }
   ],
   "source": [
    "!pip install --upgrade --no-cache-dir transformers datasets accelerate"
   ]
  },
  {
   "cell_type": "code",
   "execution_count": 7,
   "metadata": {
    "colab": {
     "base_uri": "https://localhost:8080/"
    },
    "id": "wm96sdvprasH",
    "outputId": "bb52a976-ad90-45ab-98ab-7c3022f19296"
   },
   "outputs": [
    {
     "name": "stdout",
     "output_type": "stream",
     "text": [
      "Requirement already satisfied: evaluate in /usr/local/lib/python3.12/dist-packages (0.4.5)\n",
      "Requirement already satisfied: datasets>=2.0.0 in /usr/local/lib/python3.12/dist-packages (from evaluate) (4.0.0)\n",
      "Requirement already satisfied: numpy>=1.17 in /usr/local/lib/python3.12/dist-packages (from evaluate) (2.0.2)\n",
      "Requirement already satisfied: dill in /usr/local/lib/python3.12/dist-packages (from evaluate) (0.3.8)\n",
      "Requirement already satisfied: pandas in /usr/local/lib/python3.12/dist-packages (from evaluate) (2.2.2)\n",
      "Requirement already satisfied: requests>=2.19.0 in /usr/local/lib/python3.12/dist-packages (from evaluate) (2.32.4)\n",
      "Requirement already satisfied: tqdm>=4.62.1 in /usr/local/lib/python3.12/dist-packages (from evaluate) (4.67.1)\n",
      "Requirement already satisfied: xxhash in /usr/local/lib/python3.12/dist-packages (from evaluate) (3.5.0)\n",
      "Requirement already satisfied: multiprocess in /usr/local/lib/python3.12/dist-packages (from evaluate) (0.70.16)\n",
      "Requirement already satisfied: fsspec>=2021.05.0 in /usr/local/lib/python3.12/dist-packages (from fsspec[http]>=2021.05.0->evaluate) (2025.3.0)\n",
      "Requirement already satisfied: huggingface-hub>=0.7.0 in /usr/local/lib/python3.12/dist-packages (from evaluate) (0.34.4)\n",
      "Requirement already satisfied: packaging in /usr/local/lib/python3.12/dist-packages (from evaluate) (25.0)\n",
      "Requirement already satisfied: filelock in /usr/local/lib/python3.12/dist-packages (from datasets>=2.0.0->evaluate) (3.19.1)\n",
      "Requirement already satisfied: pyarrow>=15.0.0 in /usr/local/lib/python3.12/dist-packages (from datasets>=2.0.0->evaluate) (18.1.0)\n",
      "Requirement already satisfied: pyyaml>=5.1 in /usr/local/lib/python3.12/dist-packages (from datasets>=2.0.0->evaluate) (6.0.2)\n",
      "Requirement already satisfied: aiohttp!=4.0.0a0,!=4.0.0a1 in /usr/local/lib/python3.12/dist-packages (from fsspec[http]>=2021.05.0->evaluate) (3.12.15)\n",
      "Requirement already satisfied: typing-extensions>=3.7.4.3 in /usr/local/lib/python3.12/dist-packages (from huggingface-hub>=0.7.0->evaluate) (4.14.1)\n",
      "Requirement already satisfied: hf-xet<2.0.0,>=1.1.3 in /usr/local/lib/python3.12/dist-packages (from huggingface-hub>=0.7.0->evaluate) (1.1.7)\n",
      "Requirement already satisfied: charset_normalizer<4,>=2 in /usr/local/lib/python3.12/dist-packages (from requests>=2.19.0->evaluate) (3.4.3)\n",
      "Requirement already satisfied: idna<4,>=2.5 in /usr/local/lib/python3.12/dist-packages (from requests>=2.19.0->evaluate) (3.10)\n",
      "Requirement already satisfied: urllib3<3,>=1.21.1 in /usr/local/lib/python3.12/dist-packages (from requests>=2.19.0->evaluate) (2.5.0)\n",
      "Requirement already satisfied: certifi>=2017.4.17 in /usr/local/lib/python3.12/dist-packages (from requests>=2.19.0->evaluate) (2025.8.3)\n",
      "Requirement already satisfied: python-dateutil>=2.8.2 in /usr/local/lib/python3.12/dist-packages (from pandas->evaluate) (2.9.0.post0)\n",
      "Requirement already satisfied: pytz>=2020.1 in /usr/local/lib/python3.12/dist-packages (from pandas->evaluate) (2025.2)\n",
      "Requirement already satisfied: tzdata>=2022.7 in /usr/local/lib/python3.12/dist-packages (from pandas->evaluate) (2025.2)\n",
      "Requirement already satisfied: aiohappyeyeballs>=2.5.0 in /usr/local/lib/python3.12/dist-packages (from aiohttp!=4.0.0a0,!=4.0.0a1->fsspec[http]>=2021.05.0->evaluate) (2.6.1)\n",
      "Requirement already satisfied: aiosignal>=1.4.0 in /usr/local/lib/python3.12/dist-packages (from aiohttp!=4.0.0a0,!=4.0.0a1->fsspec[http]>=2021.05.0->evaluate) (1.4.0)\n",
      "Requirement already satisfied: attrs>=17.3.0 in /usr/local/lib/python3.12/dist-packages (from aiohttp!=4.0.0a0,!=4.0.0a1->fsspec[http]>=2021.05.0->evaluate) (25.3.0)\n",
      "Requirement already satisfied: frozenlist>=1.1.1 in /usr/local/lib/python3.12/dist-packages (from aiohttp!=4.0.0a0,!=4.0.0a1->fsspec[http]>=2021.05.0->evaluate) (1.7.0)\n",
      "Requirement already satisfied: multidict<7.0,>=4.5 in /usr/local/lib/python3.12/dist-packages (from aiohttp!=4.0.0a0,!=4.0.0a1->fsspec[http]>=2021.05.0->evaluate) (6.6.4)\n",
      "Requirement already satisfied: propcache>=0.2.0 in /usr/local/lib/python3.12/dist-packages (from aiohttp!=4.0.0a0,!=4.0.0a1->fsspec[http]>=2021.05.0->evaluate) (0.3.2)\n",
      "Requirement already satisfied: yarl<2.0,>=1.17.0 in /usr/local/lib/python3.12/dist-packages (from aiohttp!=4.0.0a0,!=4.0.0a1->fsspec[http]>=2021.05.0->evaluate) (1.20.1)\n",
      "Requirement already satisfied: six>=1.5 in /usr/local/lib/python3.12/dist-packages (from python-dateutil>=2.8.2->pandas->evaluate) (1.17.0)\n"
     ]
    }
   ],
   "source": [
    "!pip install evaluate"
   ]
  },
  {
   "cell_type": "code",
   "execution_count": 8,
   "metadata": {
    "colab": {
     "base_uri": "https://localhost:8080/"
    },
    "id": "BzN_BWigso3L",
    "outputId": "2620ed15-48d0-4664-a26c-71f437a75747"
   },
   "outputs": [
    {
     "name": "stdout",
     "output_type": "stream",
     "text": [
      "Requirement already satisfied: rouge_score in /usr/local/lib/python3.12/dist-packages (0.1.2)\n",
      "Requirement already satisfied: absl-py in /usr/local/lib/python3.12/dist-packages (from rouge_score) (1.4.0)\n",
      "Requirement already satisfied: nltk in /usr/local/lib/python3.12/dist-packages (from rouge_score) (3.9.1)\n",
      "Requirement already satisfied: numpy in /usr/local/lib/python3.12/dist-packages (from rouge_score) (2.0.2)\n",
      "Requirement already satisfied: six>=1.14.0 in /usr/local/lib/python3.12/dist-packages (from rouge_score) (1.17.0)\n",
      "Requirement already satisfied: click in /usr/local/lib/python3.12/dist-packages (from nltk->rouge_score) (8.2.1)\n",
      "Requirement already satisfied: joblib in /usr/local/lib/python3.12/dist-packages (from nltk->rouge_score) (1.5.1)\n",
      "Requirement already satisfied: regex>=2021.8.3 in /usr/local/lib/python3.12/dist-packages (from nltk->rouge_score) (2024.11.6)\n",
      "Requirement already satisfied: tqdm in /usr/local/lib/python3.12/dist-packages (from nltk->rouge_score) (4.67.1)\n"
     ]
    }
   ],
   "source": [
    "!pip install rouge_score"
   ]
  },
  {
   "cell_type": "code",
   "execution_count": null,
   "metadata": {
    "id": "U_B6GbW00RC5"
   },
   "outputs": [],
   "source": [
    "!pip install bert-score"
   ]
  },
  {
   "cell_type": "markdown",
   "metadata": {
    "id": "g1gAIXMpGYpj"
   },
   "source": [
    "#### **TRAINING**"
   ]
  },
  {
   "cell_type": "code",
   "metadata": {
    "colab": {
     "base_uri": "https://localhost:8080/",
     "height": 183,
     "referenced_widgets": [
      "5e42ca5f777f42a2983cd058675b17b0",
      "837f2222236a4e5cbf3255c4a060547d",
      "432ec8648f944cab887bd1bbe8c4c620",
      "cbc270c6d52d4ac895228b2b2df5332e",
      "0c3021ac94b0487b9b9612225d39fb86",
      "64c86678f3ef4a4c8b42c78622f3ade3",
      "1d6dbf025d774346b89cd3902ca95e0b",
      "6b7cfd2f9c3148ac8b0df4be57b49d45",
      "4bb7beb1f12f40c6ab5adc2f35a75582",
      "8a78d9a7f9bb45ce814c565ae5d23c17",
      "5c627446c8954900a0dce5d5c2271089",
      "1ba48525262b4bbaa928ae10b964da03",
      "a97364e26d2140f2a4a3802c83d343f3",
      "0b8924208d674fa28e0e83a0bb1aba7f",
      "41338cba5acf46a2bcdd580f2732d58d",
      "e7077cddb2f945689afe74f5e615e9ba",
      "b83ee34a7d1c478b92354b769c270a54",
      "0bc615ee711f48c0b7ac3f22d4d1e19a",
      "448bff0fc5c947d28fdc2850fa185c2a",
      "690812805d7e41bb99b3c576b6b61fc0",
      "b2acd06f8ccf49e5b2c2dfc401d4a8ec",
      "534404db2d2b42f7a64b11bd9147380b",
      "89184d8972fc43ae9f3e9d6e12c86eaa",
      "d9df60950ae94c66a328cd657c490353",
      "10540f06935441d49431346e29a29104",
      "6cc2958bc30c40f48c14288e311bfb9b",
      "17d968e5c1d1478fbf4a83eb2fc1f110",
      "feb10242569c4443a510d20ed5888ae1",
      "6c1b88f2dd1f4ca2b254b9bb8d72bd14",
      "b041291e283a487385f5d19592e2055a",
      "334c71afcc89441b80628f807eab5a1f",
      "04b8d58128d34dd385e672c7c8e69186",
      "08bf1007941549dbb53198b609440ef5",
      "bd1e09ee6d6645e19370088b3efee51f",
      "063224b28bdc4b76a9c02e01a67f30e1",
      "d9b4bf4d4fd64e35b3edbdfb543dcc12",
      "e29f0a35564d4626a9a5673e4d421e82",
      "955a2a5ecb3d4d28a97627cf8fb5afcf",
      "8ff4c68e7d21444a804a82f1678c1d98",
      "aed9f78c8688416087ff3e87377afd56",
      "2e565bb0df564985b46fda1a4335ca8a",
      "9a8cd521b3474fdfadda875c616f2ca0",
      "8defb8d655f04961aec8bfbc16d7ca2f",
      "a77dbc9d92dc4f21ba7e42817a1916f3"
     ]
    },
    "id": "SaCwqAenNwvy",
    "outputId": "9c81f016-5046-469b-cc2f-68ce29d6bac2",
    "ExecuteTime": {
     "end_time": "2025-09-02T12:11:14.742212Z",
     "start_time": "2025-09-02T12:10:59.286502Z"
    }
   },
   "source": [
    "# Hugging Face Transformers\n",
    "from transformers import Trainer, TrainingArguments\n",
    "from datasets import load_dataset\n",
    "from transformers import LEDTokenizer, LEDForConditionalGeneration\n",
    "\n",
    "\n",
    "# Loading datasets\n",
    "dataset = load_dataset(\"csv\", data_files=\"../datasets/sample/encrypted_dataset_sample.csv\", sep=',', split='train')\n",
    "print(dataset.column_names)\n",
    "\n",
    "dataset = dataset.map(lambda x: {\"full_note\": x[\"full_note\"], \"summary\": x[\"encrypt_note\"]})\n",
    "dataset_split = dataset.train_test_split(test_size=0.2, seed=42)\n",
    "train_data = dataset_split[\"train\"]\n",
    "test_data = dataset_split[\"test\"]\n",
    "\n",
    "# Tokenization\n",
    "tokenizer = LEDTokenizer.from_pretrained(\"allenai/led-base-16384\")\n",
    "\n",
    "def preprocess(example):\n",
    "    inputs = tokenizer(example[\"full_note\"], truncation=True, padding=\"max_length\", max_length=4096)\n",
    "    targets = tokenizer(example[\"summary\"], truncation=True, padding=\"max_length\", max_length=512)\n",
    "    inputs[\"labels\"] = targets[\"input_ids\"]\n",
    "    return inputs\n",
    "\n",
    "train_data = train_data.map(preprocess, batched=True)\n",
    "test_data = test_data.map(preprocess, batched=True)"
   ],
   "outputs": [
    {
     "name": "stderr",
     "output_type": "stream",
     "text": [
      "C:\\Users\\rafau\\Documents\\PythonProjects\\DataSanitization\\venv\\Lib\\site-packages\\tqdm\\auto.py:21: TqdmWarning: IProgress not found. Please update jupyter and ipywidgets. See https://ipywidgets.readthedocs.io/en/stable/user_install.html\n",
      "  from .autonotebook import tqdm as notebook_tqdm\n"
     ]
    },
    {
     "name": "stdout",
     "output_type": "stream",
     "text": [
      "['index', 'note', 'encrypt_note', 'sensitive_entity_note', 'full_note', 'encrypt_full_note', 'sensitive_entity_full_note']\n"
     ]
    }
   ],
   "execution_count": 1
  },
  {
   "cell_type": "code",
   "execution_count": 10,
   "metadata": {
    "colab": {
     "base_uri": "https://localhost:8080/",
     "height": 113,
     "referenced_widgets": [
      "0a83dbf38af14cf18a0288573804b8c2",
      "d48e3372371b4bfabf37d90870dcfc4b",
      "d6330a8982d14083a9aea796465b1dd7",
      "e0a19b39882c4177bee8496f471f82d9",
      "f6346c4039e04d1998ab635e5dc3843b",
      "3064ac07ffba4a59bc01a77612bab72a",
      "3abee7bd0d6c40c087f9df9a0c56c042",
      "933a727bd15f437481947a846345828a",
      "11891913432040a793792003e0c22861",
      "c9f19a72563e41fd9825b32363f51e4d",
      "4250eb52058e47a686a051c2efde752b",
      "ae02f952f53e446e8f0da20c30cca0b8",
      "80e2fcbe53544d98a101614e2ba12c2f",
      "19367364a590497b80f19686c26864a5",
      "a4adc53559684b1fba21fffd19f042bb",
      "dfd32f8e1ae446008d21c2259ba5ade5",
      "b4e7ca0c2590442c808d035516a86e6c",
      "a813f39784064a6081739c7006ecbc70",
      "36d24b38684c41b2aa80943c9d23965a",
      "369ef703375d43cabc1cd8b91e8c9df5",
      "fa8298317d594cfaa56df474a29da585",
      "914c522f0d114d29a3ed6c59235d219f",
      "e5984f4e7e364a909b23db642984012b",
      "189dffa04374442e882c5b119fc5803d",
      "8f420ecb94954e798f575cb0acab10e2",
      "f84491c37dff40efa16749aca34a8a88",
      "0fa9761cbbe743ebaefaf625cdc7607d",
      "2fc498da9d154c159c06080ff36e59d2",
      "06e38182a7fe4192b53007dac8b205d1",
      "3761cc5ca38b47988fe787476d91648c",
      "6213b1873e2549b2b773f2bceb18c34b",
      "a2ff85d3bb2840028bbea737a71a0373",
      "f199d825b877458da400ce2209fd1f35"
     ]
    },
    "id": "6rrviDImPnXJ",
    "outputId": "69d1f680-17dd-475b-b397-061f7143c2c0"
   },
   "outputs": [
    {
     "data": {
      "application/vnd.jupyter.widget-view+json": {
       "model_id": "0a83dbf38af14cf18a0288573804b8c2",
       "version_major": 2,
       "version_minor": 0
      },
      "text/plain": [
       "pytorch_model.bin:   0%|          | 0.00/648M [00:00<?, ?B/s]"
      ]
     },
     "metadata": {},
     "output_type": "display_data"
    },
    {
     "data": {
      "application/vnd.jupyter.widget-view+json": {
       "model_id": "ae02f952f53e446e8f0da20c30cca0b8",
       "version_major": 2,
       "version_minor": 0
      },
      "text/plain": [
       "model.safetensors:   0%|          | 0.00/648M [00:00<?, ?B/s]"
      ]
     },
     "metadata": {},
     "output_type": "display_data"
    },
    {
     "data": {
      "application/vnd.jupyter.widget-view+json": {
       "model_id": "e5984f4e7e364a909b23db642984012b",
       "version_major": 2,
       "version_minor": 0
      },
      "text/plain": [
       "generation_config.json:   0%|          | 0.00/168 [00:00<?, ?B/s]"
      ]
     },
     "metadata": {},
     "output_type": "display_data"
    }
   ],
   "source": [
    "# Training Arguments\n",
    "from transformers import LongformerForSequenceClassification\n",
    "model_clear = LEDForConditionalGeneration.from_pretrained(\"allenai/led-base-16384\")\n",
    "\n",
    "# Enable gradient checkpointing on the model\n",
    "model_clear.gradient_checkpointing_enable()\n",
    "\n",
    "training_args = TrainingArguments(\n",
    "    output_dir=\"./results_encryption_summary\",        # folder for checkpoints\n",
    "    per_device_train_batch_size=2,\n",
    "    per_device_eval_batch_size=2,\n",
    "    gradient_accumulation_steps=8,                # effectively larger batch size\n",
    "    fp16=True,                                    # mixed precision training\n",
    "    save_strategy=\"epoch\",                        # save checkpoint at every epoch\n",
    "    num_train_epochs=2,\n",
    "\n",
    "    # Logging\n",
    "    logging_dir=\"./logs\",\n",
    "    logging_steps=50,                             # more frequent logging\n",
    "    report_to=[\"tensorboard\",\"wandb\"],            # log to TensorBoard and W&B\n",
    "\n",
    "    # Learning rate and optimization\n",
    "    learning_rate=2e-5,                           # more stable LR for small batches\n",
    "    weight_decay=0.01,                            # regularization\n",
    "    adam_beta1=0.9,\n",
    "    adam_beta2=0.999,\n",
    "    adam_epsilon=1e-8,\n",
    "    lr_scheduler_type=\"linear\",\n",
    "    warmup_steps=100                              # warmup during first steps\n",
    ")"
   ]
  },
  {
   "cell_type": "code",
   "execution_count": 11,
   "metadata": {
    "colab": {
     "base_uri": "https://localhost:8080/",
     "height": 751
    },
    "id": "PJVf3qkRPukk",
    "outputId": "357f7f39-78e2-4a9b-a969-08cd8f930885"
   },
   "outputs": [
    {
     "name": "stderr",
     "output_type": "stream",
     "text": [
      "/usr/local/lib/python3.12/dist-packages/notebook/notebookapp.py:191: SyntaxWarning: invalid escape sequence '\\/'\n",
      "  | |_| | '_ \\/ _` / _` |  _/ -_)\n"
     ]
    },
    {
     "data": {
      "application/javascript": [
       "\n",
       "        window._wandbApiKey = new Promise((resolve, reject) => {\n",
       "            function loadScript(url) {\n",
       "            return new Promise(function(resolve, reject) {\n",
       "                let newScript = document.createElement(\"script\");\n",
       "                newScript.onerror = reject;\n",
       "                newScript.onload = resolve;\n",
       "                document.body.appendChild(newScript);\n",
       "                newScript.src = url;\n",
       "            });\n",
       "            }\n",
       "            loadScript(\"https://cdn.jsdelivr.net/npm/postmate/build/postmate.min.js\").then(() => {\n",
       "            const iframe = document.createElement('iframe')\n",
       "            iframe.style.cssText = \"width:0;height:0;border:none\"\n",
       "            document.body.appendChild(iframe)\n",
       "            const handshake = new Postmate({\n",
       "                container: iframe,\n",
       "                url: 'https://wandb.ai/authorize'\n",
       "            });\n",
       "            const timeout = setTimeout(() => reject(\"Couldn't auto authenticate\"), 5000)\n",
       "            handshake.then(function(child) {\n",
       "                child.on('authorize', data => {\n",
       "                    clearTimeout(timeout)\n",
       "                    resolve(data)\n",
       "                });\n",
       "            });\n",
       "            })\n",
       "        });\n",
       "    "
      ],
      "text/plain": [
       "<IPython.core.display.Javascript object>"
      ]
     },
     "metadata": {},
     "output_type": "display_data"
    },
    {
     "name": "stderr",
     "output_type": "stream",
     "text": [
      "\u001B[34m\u001B[1mwandb\u001B[0m: Logging into wandb.ai. (Learn how to deploy a W&B server locally: https://wandb.me/wandb-server)\n",
      "\u001B[34m\u001B[1mwandb\u001B[0m: You can find your API key in your browser here: https://wandb.ai/authorize?ref=models\n",
      "wandb: Paste an API key from your profile and hit enter:"
     ]
    },
    {
     "name": "stdout",
     "output_type": "stream",
     "text": [
      " ··········\n"
     ]
    },
    {
     "name": "stderr",
     "output_type": "stream",
     "text": [
      "\u001B[34m\u001B[1mwandb\u001B[0m: \u001B[33mWARNING\u001B[0m If you're specifying your api key in code, ensure this code is not shared publicly.\n",
      "\u001B[34m\u001B[1mwandb\u001B[0m: \u001B[33mWARNING\u001B[0m Consider setting the WANDB_API_KEY environment variable, or running `wandb login` from the command line.\n",
      "\u001B[34m\u001B[1mwandb\u001B[0m: No netrc file found, creating one.\n",
      "\u001B[34m\u001B[1mwandb\u001B[0m: Appending key for api.wandb.ai to your netrc file: /root/.netrc\n",
      "\u001B[34m\u001B[1mwandb\u001B[0m: Currently logged in as: \u001B[33mraffaeleaurucci\u001B[0m (\u001B[33mraffaeleaurucci-universit-degli-studi-di-salerno\u001B[0m) to \u001B[32mhttps://api.wandb.ai\u001B[0m. Use \u001B[1m`wandb login --relogin`\u001B[0m to force relogin\n"
     ]
    },
    {
     "data": {
      "text/html": [
       "Tracking run with wandb version 0.21.1"
      ],
      "text/plain": [
       "<IPython.core.display.HTML object>"
      ]
     },
     "metadata": {},
     "output_type": "display_data"
    },
    {
     "data": {
      "text/html": [
       "Run data is saved locally in <code>/content/wandb/run-20250820_235635-g1a2dgdm</code>"
      ],
      "text/plain": [
       "<IPython.core.display.HTML object>"
      ]
     },
     "metadata": {},
     "output_type": "display_data"
    },
    {
     "data": {
      "text/html": [
       "Syncing run <strong><a href='https://wandb.ai/raffaeleaurucci-universit-degli-studi-di-salerno/huggingface/runs/g1a2dgdm' target=\"_blank\">morning-sun-29</a></strong> to <a href='https://wandb.ai/raffaeleaurucci-universit-degli-studi-di-salerno/huggingface' target=\"_blank\">Weights & Biases</a> (<a href='https://wandb.me/developer-guide' target=\"_blank\">docs</a>)<br>"
      ],
      "text/plain": [
       "<IPython.core.display.HTML object>"
      ]
     },
     "metadata": {},
     "output_type": "display_data"
    },
    {
     "data": {
      "text/html": [
       " View project at <a href='https://wandb.ai/raffaeleaurucci-universit-degli-studi-di-salerno/huggingface' target=\"_blank\">https://wandb.ai/raffaeleaurucci-universit-degli-studi-di-salerno/huggingface</a>"
      ],
      "text/plain": [
       "<IPython.core.display.HTML object>"
      ]
     },
     "metadata": {},
     "output_type": "display_data"
    },
    {
     "data": {
      "text/html": [
       " View run at <a href='https://wandb.ai/raffaeleaurucci-universit-degli-studi-di-salerno/huggingface/runs/g1a2dgdm' target=\"_blank\">https://wandb.ai/raffaeleaurucci-universit-degli-studi-di-salerno/huggingface/runs/g1a2dgdm</a>"
      ],
      "text/plain": [
       "<IPython.core.display.HTML object>"
      ]
     },
     "metadata": {},
     "output_type": "display_data"
    },
    {
     "data": {
      "text/html": [
       "\n",
       "    <div>\n",
       "      \n",
       "      <progress value='500' max='500' style='width:300px; height:20px; vertical-align: middle;'></progress>\n",
       "      [500/500 2:25:23, Epoch 2/2]\n",
       "    </div>\n",
       "    <table border=\"1\" class=\"dataframe\">\n",
       "  <thead>\n",
       " <tr style=\"text-align: left;\">\n",
       "      <th>Step</th>\n",
       "      <th>Training Loss</th>\n",
       "    </tr>\n",
       "  </thead>\n",
       "  <tbody>\n",
       "    <tr>\n",
       "      <td>50</td>\n",
       "      <td>5.471100</td>\n",
       "    </tr>\n",
       "    <tr>\n",
       "      <td>100</td>\n",
       "      <td>4.130600</td>\n",
       "    </tr>\n",
       "    <tr>\n",
       "      <td>150</td>\n",
       "      <td>3.414800</td>\n",
       "    </tr>\n",
       "    <tr>\n",
       "      <td>200</td>\n",
       "      <td>3.094400</td>\n",
       "    </tr>\n",
       "    <tr>\n",
       "      <td>250</td>\n",
       "      <td>2.873500</td>\n",
       "    </tr>\n",
       "    <tr>\n",
       "      <td>300</td>\n",
       "      <td>2.709200</td>\n",
       "    </tr>\n",
       "    <tr>\n",
       "      <td>350</td>\n",
       "      <td>2.606400</td>\n",
       "    </tr>\n",
       "    <tr>\n",
       "      <td>400</td>\n",
       "      <td>2.538000</td>\n",
       "    </tr>\n",
       "    <tr>\n",
       "      <td>450</td>\n",
       "      <td>2.498600</td>\n",
       "    </tr>\n",
       "    <tr>\n",
       "      <td>500</td>\n",
       "      <td>2.487200</td>\n",
       "    </tr>\n",
       "  </tbody>\n",
       "</table><p>"
      ],
      "text/plain": [
       "<IPython.core.display.HTML object>"
      ]
     },
     "metadata": {},
     "output_type": "display_data"
    },
    {
     "data": {
      "text/plain": [
       "TrainOutput(global_step=500, training_loss=3.182392425537109, metrics={'train_runtime': 8766.6658, 'train_samples_per_second': 0.913, 'train_steps_per_second': 0.057, 'total_flos': 2.1601638678528e+16, 'train_loss': 3.182392425537109, 'epoch': 2.0})"
      ]
     },
     "execution_count": 11,
     "metadata": {},
     "output_type": "execute_result"
    }
   ],
   "source": [
    "# Trainer\n",
    "trainer = Trainer(\n",
    "    model=model_clear,\n",
    "    args=training_args,\n",
    "    train_dataset=train_data,\n",
    "    eval_dataset=test_data,\n",
    ")\n",
    "trainer.train()"
   ]
  },
  {
   "cell_type": "code",
   "execution_count": 12,
   "metadata": {
    "colab": {
     "base_uri": "https://localhost:8080/"
    },
    "id": "vBoYW0N9Hotv",
    "outputId": "26d3d926-960b-4bc7-94b0-08a719e5f237"
   },
   "outputs": [
    {
     "name": "stdout",
     "output_type": "stream",
     "text": [
      "  adding: results_encryption_summary/checkpoint-500/ (stored 0%)\n",
      "  adding: results_encryption_summary/checkpoint-500/trainer_state.json (deflated 70%)\n",
      "  adding: results_encryption_summary/checkpoint-500/optimizer.pt (deflated 13%)\n",
      "  adding: results_encryption_summary/checkpoint-500/config.json (deflated 61%)\n",
      "  adding: results_encryption_summary/checkpoint-500/scheduler.pt (deflated 62%)\n",
      "  adding: results_encryption_summary/checkpoint-500/generation_config.json (deflated 33%)\n",
      "  adding: results_encryption_summary/checkpoint-500/model.safetensors (deflated 11%)\n",
      "  adding: results_encryption_summary/checkpoint-500/scaler.pt (deflated 64%)\n",
      "  adding: results_encryption_summary/checkpoint-500/rng_state.pth (deflated 26%)\n",
      "  adding: results_encryption_summary/checkpoint-500/training_args.bin (deflated 53%)\n"
     ]
    }
   ],
   "source": [
    "!zip -r results_encryption_summary.zip results_encryption_summary/checkpoint-500/"
   ]
  },
  {
   "cell_type": "code",
   "execution_count": 14,
   "metadata": {
    "colab": {
     "base_uri": "https://localhost:8080/"
    },
    "id": "JIUZClu-lgUh",
    "outputId": "43c72a52-b365-419a-a6b6-8b0b4d4c6661"
   },
   "outputs": [
    {
     "name": "stdout",
     "output_type": "stream",
     "text": [
      "Step 1 - Training Loss: 5.4711\n",
      "Step 2 - Training Loss: 4.1306\n",
      "Step 3 - Training Loss: 3.4148\n",
      "Step 4 - Training Loss: 3.0944\n",
      "Step 5 - Training Loss: 2.8735\n",
      "Step 6 - Training Loss: 2.7092\n",
      "Step 7 - Training Loss: 2.6064\n",
      "Step 8 - Training Loss: 2.538\n",
      "Step 9 - Training Loss: 2.4986\n",
      "Step 10 - Training Loss: 2.4872\n"
     ]
    }
   ],
   "source": [
    "losses = [x[\"loss\"] for x in trainer.state.log_history if \"loss\" in x]\n",
    "\n",
    "for step, loss in enumerate(losses, 1):\n",
    "    print(f\"Step {step} - Training Loss: {loss}\")"
   ]
  },
  {
   "cell_type": "code",
   "execution_count": 3,
   "metadata": {
    "ExecuteTime": {
     "end_time": "2025-08-28T15:07:07.197893Z",
     "start_time": "2025-08-28T15:07:06.870753Z"
    }
   },
   "outputs": [
    {
     "data": {
      "image/png": "[encoded data removed]",
      "text/plain": [
       "<Figure size 800x500 with 1 Axes>"
      ]
     },
     "metadata": {},
     "output_type": "display_data"
    }
   ],
   "source": [
    "import matplotlib.pyplot as plt\n",
    "\n",
    "# Data\n",
    "steps = [50, 100, 150, 200, 250, 300, 350, 400, 450, 500]\n",
    "train_losses = [5.4711, 4.1306, 3.4148, 3.0944, 2.8735, 2.7092, 2.6064, 2.5380, 2.4986, 2.4872]\n",
    "\n",
    "# Plot\n",
    "plt.figure(figsize=(8, 5))\n",
    "plt.plot(steps, train_losses, marker='s', linestyle='-', linewidth=2, markersize=6)\n",
    "\n",
    "# Label and title\n",
    "plt.title(\"Training Loss (Data Encryption)\", fontsize=14)\n",
    "plt.xlabel(\"Step\", fontsize=12)\n",
    "plt.ylabel(\"Training Loss\", fontsize=12)\n",
    "\n",
    "# Grid\n",
    "plt.grid(True, linestyle=\"--\", alpha=0.6)\n",
    "\n",
    "plt.show()"
   ]
  },
  {
   "cell_type": "code",
   "execution_count": 1,
   "metadata": {
    "colab": {
     "base_uri": "https://localhost:8080/"
    },
    "id": "xz5Z1uDGgHlz",
    "outputId": "66c862fc-0114-4c4d-9168-a7cb52d4c6f6"
   },
   "outputs": [
    {
     "name": "stdout",
     "output_type": "stream",
     "text": [
      "Archive:  results_encryption_summary.zip\n",
      "   creating: /content/results_encryption_summary/results_encryption_summary/checkpoint-500/\n",
      "  inflating: /content/results_encryption_summary/results_encryption_summary/checkpoint-500/trainer_state.json  \n",
      "  inflating: /content/results_encryption_summary/results_encryption_summary/checkpoint-500/optimizer.pt  \n",
      "  inflating: /content/results_encryption_summary/results_encryption_summary/checkpoint-500/config.json  \n",
      "  inflating: /content/results_encryption_summary/results_encryption_summary/checkpoint-500/scheduler.pt  \n",
      "  inflating: /content/results_encryption_summary/results_encryption_summary/checkpoint-500/generation_config.json  \n",
      "  inflating: /content/results_encryption_summary/results_encryption_summary/checkpoint-500/model.safetensors  \n",
      "  inflating: /content/results_encryption_summary/results_encryption_summary/checkpoint-500/scaler.pt  \n",
      "  inflating: /content/results_encryption_summary/results_encryption_summary/checkpoint-500/rng_state.pth  \n",
      "  inflating: /content/results_encryption_summary/results_encryption_summary/checkpoint-500/training_args.bin  \n"
     ]
    }
   ],
   "source": [
    "!unzip results_encryption_summary.zip -d /content/results_encryption_summary"
   ]
  },
  {
   "cell_type": "code",
   "execution_count": 11,
   "metadata": {
    "colab": {
     "base_uri": "https://localhost:8080/",
     "height": 195,
     "referenced_widgets": [
      "832b69d6aa1a4f4dac9cebc2ae054b03",
      "dc501562bfbe4c2fb1caa8bbef76867f",
      "b45551e34a524450b67b88b3a9616ed2",
      "cb5cc0a05ef945e5acbab5e2ea921937",
      "a662910c2a2f44c0bc4d895f86d39929",
      "a2f1c17bebea4dbea9d668f5128ec027",
      "b563be13ebf24e838891edcf55537224",
      "5e2980ed2f784a7f91444e178281644f",
      "e455ec49fa4f478c81f8c07cbb316746",
      "5ee4f2ad470040b9a8d2e1cd3a2ab11a",
      "81434ce1ffbc45499a70286b84aacfb2",
      "6768d18356714d3e9982ac9ac58fbc08",
      "96daeca50cbb4cc49237df3b86a50a43",
      "c9bbd913628a4a14bcb22df7f911d374",
      "193c30ce249f4b70bb477760721a3014",
      "fabe8439d0fa400fa7de9b0997697acb",
      "c1a00014c70047d4bb32b50f314204f6",
      "802a7d2100124a3c828a2db5113d9193",
      "ad6c8ff32cca4502acd7b74ecd6a07c1",
      "43283285d1f24766b3c369879851fb38",
      "2483b568c9f347419a8d5191b474b1a1",
      "2eca9f80a6da42cdaea27792a17fba95",
      "aad85b8beaa7441e9f5afc92dc0ad0b0",
      "cd3ad74e84a84ced8e1e40a67dbe8772",
      "380221948ef949a9ab460afc0b6bb46d",
      "4474a1ded89146a6a3239d545d4327c8",
      "63f8d3c2cbca48b4849ef2b76f6f24c0",
      "7ab897766064497b84ed27102a40599f",
      "ecdb080a03ca4886b93949f3822ec67f",
      "2343b2e9f2384b5890580aa19c524933",
      "b255a4985d23426487cb87970a728ffd",
      "dd3120d0d0b7474196a2f6592e0d9a83",
      "9721d3aa0b1f4a3bb64356823335fffb",
      "ad198e833c0d4dd1a255c95b8f91975d",
      "a38524a73927499aac966cb06c081e90",
      "a8eb483b229a405580827207985fb53f",
      "0c9382d8037c41ee8611e1629d7ceb9a",
      "847e40d828a2430fa52e601cdba9ecaa",
      "59cf251d388a452a80d49c6c6fd9305f",
      "cf87e8ad317d4856bc0be594be822d59",
      "d571796417a941e98890dd993d351f10",
      "524c5037f3df4b30bf70ece7e921fae0",
      "53a226dec9b949d4b5ba495a6113ca64",
      "e0dfdb407714484c9ec0352c05647e1b",
      "ae1ce165208b4c36a99b91bbd02decf7",
      "8617899816744b84a1891b3a6326c3d4",
      "0e37e375efd3427f907cf5e78c53d93d",
      "bbedb6f94f0d486a883d744390ea4bbe",
      "fd6650f729524c8497d2030a09cf1f68",
      "7147169d31514e5e98f1edd013b952ab",
      "32f2f89808944783abbf9aacc2380c52",
      "4d1cc326e5754ca19c659b0634c13f89",
      "49948c09a5aa426b9c2c9165d0949a29",
      "a813f00f90254c4fa54ad8ce31b02987",
      "bb24942ea010404f95c97dbb24bafced"
     ]
    },
    "id": "O2gQR5g7g4U0",
    "outputId": "2d065262-ebbc-47d4-bf70-1156b2fb77ba"
   },
   "outputs": [
    {
     "data": {
      "application/vnd.jupyter.widget-view+json": {
       "model_id": "832b69d6aa1a4f4dac9cebc2ae054b03",
       "version_major": 2,
       "version_minor": 0
      },
      "text/plain": [
       "tokenizer_config.json:   0%|          | 0.00/27.0 [00:00<?, ?B/s]"
      ]
     },
     "metadata": {},
     "output_type": "display_data"
    },
    {
     "data": {
      "application/vnd.jupyter.widget-view+json": {
       "model_id": "6768d18356714d3e9982ac9ac58fbc08",
       "version_major": 2,
       "version_minor": 0
      },
      "text/plain": [
       "vocab.json: 0.00B [00:00, ?B/s]"
      ]
     },
     "metadata": {},
     "output_type": "display_data"
    },
    {
     "data": {
      "application/vnd.jupyter.widget-view+json": {
       "model_id": "aad85b8beaa7441e9f5afc92dc0ad0b0",
       "version_major": 2,
       "version_minor": 0
      },
      "text/plain": [
       "merges.txt: 0.00B [00:00, ?B/s]"
      ]
     },
     "metadata": {},
     "output_type": "display_data"
    },
    {
     "data": {
      "application/vnd.jupyter.widget-view+json": {
       "model_id": "ad198e833c0d4dd1a255c95b8f91975d",
       "version_major": 2,
       "version_minor": 0
      },
      "text/plain": [
       "special_tokens_map.json:   0%|          | 0.00/772 [00:00<?, ?B/s]"
      ]
     },
     "metadata": {},
     "output_type": "display_data"
    },
    {
     "data": {
      "application/vnd.jupyter.widget-view+json": {
       "model_id": "ae1ce165208b4c36a99b91bbd02decf7",
       "version_major": 2,
       "version_minor": 0
      },
      "text/plain": [
       "config.json: 0.00B [00:00, ?B/s]"
      ]
     },
     "metadata": {},
     "output_type": "display_data"
    },
    {
     "name": "stdout",
     "output_type": "stream",
     "text": [
      "✅ Modello locale caricato correttamente!\n"
     ]
    }
   ],
   "source": [
    "from transformers import AutoModelForSeq2SeqLM, LEDTokenizer\n",
    "\n",
    "# Percorso locale (non repo HF)\n",
    "model_path = \"/content/results_encryption_summary/results_encryption_summary/checkpoint-500\"\n",
    "\n",
    "# Caricamento modello e tokenizer da locale\n",
    "model_clear = AutoModelForSeq2SeqLM.from_pretrained(model_path, local_files_only=True)\n",
    "tokenizer = LEDTokenizer.from_pretrained(\"allenai/led-base-16384\")\n",
    "\n",
    "print(\"✅ Modello locale caricato correttamente!\")"
   ]
  },
  {
   "cell_type": "code",
   "execution_count": 15,
   "metadata": {
    "colab": {
     "base_uri": "https://localhost:8080/"
    },
    "id": "JvTbfbU8ggZ2",
    "outputId": "ccbda97b-d3a0-423b-de7f-6e793e7b6ca3"
   },
   "outputs": [
    {
     "name": "stderr",
     "output_type": "stream",
     "text": [
      "\r",
      "Generating summary:   0%|          | 0/1000 [00:00<?, ?it/s]/usr/local/lib/python3.12/dist-packages/transformers/generation/utils.py:1636: UserWarning: Unfeasible length constraints: `min_length` (400) is larger than the maximum possible length (257). Generation will stop at the defined maximum length. You should decrease the minimum length and/or increase the maximum length.\n",
      "  warnings.warn(\n",
      "Generating summary: 100%|██████████| 1000/1000 [42:27<00:00,  2.55s/it]\n"
     ]
    },
    {
     "name": "stdout",
     "output_type": "stream",
     "text": [
      "Number of inferences: 1000\n"
     ]
    }
   ],
   "source": [
    "from transformers import pipeline, logging\n",
    "from tqdm import tqdm\n",
    "\n",
    "# Disable warnings\n",
    "logging.set_verbosity_error()\n",
    "\n",
    "# Disable gradient checkpointing\n",
    "model_clear.gradient_checkpointing_disable()\n",
    "\n",
    "# Summarization pipeline\n",
    "summarizer_clear = pipeline(\"summarization\", model=model_clear, tokenizer=tokenizer, device=0)\n",
    "\n",
    "# Test set\n",
    "test_texts = [ex[\"full_note\"] for ex in test_data]\n",
    "\n",
    "# List to store the generated summaries\n",
    "generated_summaries = []\n",
    "\n",
    "# Progress bar with tqdm\n",
    "for text in tqdm(test_texts, desc=\"Generating summary\"):\n",
    "    summary = summarizer_clear(\n",
    "        text,\n",
    "        max_length=512,\n",
    "        min_length=400,\n",
    "        truncation=True\n",
    "    )[0][\"summary_text\"]\n",
    "    generated_summaries.append(summary)\n",
    "\n",
    "# Number of inferences\n",
    "num_inferenze = len(generated_summaries)\n",
    "print(f\"Number of inferences: {num_inferenze}\")\n",
    "\n",
    "# Reference summaries\n",
    "references = [ex[\"summary\"] for ex in test_data]"
   ]
  },
  {
   "cell_type": "code",
   "execution_count": 16,
   "metadata": {
    "colab": {
     "base_uri": "https://localhost:8080/",
     "height": 127
    },
    "id": "M-YRJkpB92Zh",
    "outputId": "2decd37f-46ba-48c5-bd14-6d7010473431"
   },
   "outputs": [
    {
     "data": {
      "application/vnd.google.colaboratory.intrinsic+json": {
       "type": "string"
      },
      "text/plain": [
       "'The patient was a xUiOoi4x5l-Seor8VO9yQ-zR9BxL4QEb ZEt8W9lqk_ who presented with nMubxnGZ3r TUWycJ-ka0 of the proximal third of ZdpKlCZbNf left leg. ZdpKlCZbNf prior history included a prolonged stay in hospital for iqUcsjCc6B O8mbpBC7UG 0NRdXTHwsy iqUcsjCc6B of ZdpKlCZbNf left leg. ZdpKlCZbNf prior history included a prolonged stay in hospital for iqUcsjCc6B O8mbpBC7UG TUWycJ-ka0, when ah_zfXvr91 xUiOoi4xlc yerD4tQZHH xUiOoi4xlc was performed. y_BtX_qN0T had also previously undergone ah_zfXvr91 xUiOoi4xlc xUi'"
      ]
     },
     "execution_count": 16,
     "metadata": {},
     "output_type": "execute_result"
    }
   ],
   "source": [
    "generated_summaries[0]"
   ]
  },
  {
   "cell_type": "code",
   "execution_count": 17,
   "metadata": {
    "colab": {
     "base_uri": "https://localhost:8080/",
     "height": 140,
     "referenced_widgets": [
      "2cfbce6ed5f1477a9bcfb2b26cbc5dfa",
      "8bbb5f9c64864eb099c0d707a4928ade",
      "6b352673f42f4835946c143e91475911",
      "a9c1198871384661b23cd680eaf1998a",
      "1a62790ced5147f6854f4945d1aa8d71",
      "c8033ddda6d14b8ba0ee53167719170d",
      "8eaa1ebde5104da7abdf293f00fefad2",
      "cd1d220daff54660954f360beaff24b9",
      "fa2702c2d7e542e8b4dd379c93d5f32e",
      "e9475d0a6d044da9a3c0850ac207d238",
      "6856c156439b40b89f4668e50de3ce4d"
     ]
    },
    "id": "YKmb-6WLP4h_",
    "outputId": "8c5b49db-3fdf-4b8d-acdf-d032f090da07"
   },
   "outputs": [
    {
     "data": {
      "application/vnd.jupyter.widget-view+json": {
       "model_id": "2cfbce6ed5f1477a9bcfb2b26cbc5dfa",
       "version_major": 2,
       "version_minor": 0
      },
      "text/plain": [
       "Downloading builder script: 0.00B [00:00, ?B/s]"
      ]
     },
     "metadata": {},
     "output_type": "display_data"
    },
    {
     "name": "stdout",
     "output_type": "stream",
     "text": [
      "ROUGE - Model on anonymized data:\n",
      "rouge1: 0.2222\n",
      "rouge2: 0.1599\n",
      "rougeL: 0.1994\n",
      "rougeLsum: 0.1993\n"
     ]
    }
   ],
   "source": [
    "# Evaluations\n",
    "import evaluate\n",
    "\n",
    "# ROUGE\n",
    "rouge = evaluate.load(\"rouge\")\n",
    "\n",
    "results_clear = rouge.compute(predictions=generated_summaries, references=references)\n",
    "print(\"ROUGE - Model on encrypted data:\")\n",
    "for k, v in results_clear.items():\n",
    "    print(f\"{k}: {v:.4f}\")"
   ]
  },
  {
   "cell_type": "code",
   "execution_count": 18,
   "metadata": {
    "colab": {
     "base_uri": "https://localhost:8080/",
     "height": 131,
     "referenced_widgets": [
      "9d2ecdfe8ef144499acbfc504ed7bf6d",
      "c54527ad6201400188c223930fb2c221",
      "6668ecd960ff42d3a0e9c184d6524fc3",
      "42405b8c74af48158bc007f26244c642",
      "9f52034f7e6849a187888693ee437f62",
      "79b8224fb24246d48ee52bb6c9f4a5e2",
      "b8503a735f69439da8adc2b38139cf72",
      "c5aa0af4f8634f4c82cb4555abb5ad11",
      "fb33202538e84800aebd35d712580f04",
      "ba074668fdba435db28fb892b1cca135",
      "d6480dc17560439ab5a6a682932f1b48",
      "7a9a55aba3364f7bbba804e790443622",
      "6658be2464c2453bb07f6fee209a6f10",
      "debeddbe994e41e18ad6c37b25807157",
      "f90383fe16bc487bb699a56add8d0976",
      "23254a958db748cd97294c2ed3c44ef7",
      "a7d765afc74c42c48fbdd40d8f24249d",
      "2bec3623c0544084826ab5f17b116e2d",
      "5e9b178879394540ba6efc8c44cadba0",
      "a89f35cb57674f688b9e77e553f3892a",
      "ecdff10d7826428a91862cce9c7541b0",
      "f089babb1f594260b10cbb2b80eb497d",
      "9b7a6634ffea47a2bf1a2dc521cbb0ee",
      "260c8a997c71407eaf6fc57ca77dec29",
      "aa3bb1d434674a69ab4c1e8e5ac3515a",
      "b943d28f937e463ba7364814691d79d0",
      "ec2e582173224de9ba833a00ba186295",
      "22ba490b7ce84d8c95dee18afe87c0c3",
      "c82d2cfdda6b464ab84c00ea90ac21fb",
      "56b477108dcc4c5b909ce0215bdb2add",
      "be123efe64574af7bde7edc917378d0d",
      "2e1a6fe6577744e0afda3a5ded82a034",
      "a5b8da1d102f4ad790679c00d4c9d146"
     ]
    },
    "id": "qPybKrDg9Q0C",
    "outputId": "c9900ccd-6263-40d3-eafd-bbcf1119c899"
   },
   "outputs": [
    {
     "data": {
      "application/vnd.jupyter.widget-view+json": {
       "model_id": "9d2ecdfe8ef144499acbfc504ed7bf6d",
       "version_major": 2,
       "version_minor": 0
      },
      "text/plain": [
       "Downloading builder script: 0.00B [00:00, ?B/s]"
      ]
     },
     "metadata": {},
     "output_type": "display_data"
    },
    {
     "data": {
      "application/vnd.jupyter.widget-view+json": {
       "model_id": "7a9a55aba3364f7bbba804e790443622",
       "version_major": 2,
       "version_minor": 0
      },
      "text/plain": [
       "Downloading extra modules:   0%|          | 0.00/1.55k [00:00<?, ?B/s]"
      ]
     },
     "metadata": {},
     "output_type": "display_data"
    },
    {
     "data": {
      "application/vnd.jupyter.widget-view+json": {
       "model_id": "9b7a6634ffea47a2bf1a2dc521cbb0ee",
       "version_major": 2,
       "version_minor": 0
      },
      "text/plain": [
       "Downloading extra modules: 0.00B [00:00, ?B/s]"
      ]
     },
     "metadata": {},
     "output_type": "display_data"
    },
    {
     "name": "stdout",
     "output_type": "stream",
     "text": [
      "BLEU score: 0.0099\n"
     ]
    }
   ],
   "source": [
    "# BLEU\n",
    "bleu = evaluate.load(\"bleu\")\n",
    "\n",
    "references_bleu = [[ref] for ref in references]\n",
    "\n",
    "results_bleu = bleu.compute(predictions=generated_summaries, references=references_bleu)\n",
    "\n",
    "print(f\"BLEU score: {results_bleu['bleu']:.4f}\")"
   ]
  },
  {
   "cell_type": "code",
   "execution_count": 19,
   "metadata": {
    "colab": {
     "base_uri": "https://localhost:8080/",
     "height": 401,
     "referenced_widgets": [
      "38e668e37f1b441193832f1801e57513",
      "eeb3c0500df54c208bccc2435ee43357",
      "743397207d5941ee960dd153ee56c89a",
      "67fc8689eae64463b9827f6a235ddf9c",
      "b688a7e0b125466391d96a753b54583c",
      "be600c652ef74a66ba025172e5f60173",
      "08bab5811b0b4364b8a104efaf501932",
      "1afc3cd6158b4a3da61c178939e8c162",
      "7dfcce389ede4a5cb0415c0970542c24",
      "71a6da94cb5745659d079bdcfc4fec26",
      "79db6c25991c46f9816afa8b11bef833",
      "247b235f88e94eb0a9cdac0f095eb0fa",
      "55a7673a58cf488d961698b4bbf00c24",
      "af6887d954144c54bc43c15a410e0e6c",
      "26003c77d419403faf91bc87178688f3",
      "67dee47d27fd4b359889ff67e75dba1d",
      "9cb722312fa1415ea5c122b7c8f1a021",
      "063b8f6f101044ab8ca30ce2b6bc60d2",
      "83a1953c1acb44979bac1904a7fd4126",
      "8f70a974bf524a688d8ec7b42474fedf",
      "10212968b17e4bfb8f8cfe75b7f29109",
      "42eef0cb3e004c869aec74e8d1e6ca7a",
      "7f7c575462614a6c848de3ff8c72a8eb",
      "5ae5e85561b548e3a1776f916b0c654d",
      "c33435ff718a4ad29ddae865c52caef0",
      "e1136cdbd90548ec93392a4a0ffe583b",
      "629a8fc8f2914dfe8749232f7aa6fdad",
      "79428b04e55d4e85a8adc6cb4618f95c",
      "4fc17a1d1745486284d3d01fa5054298",
      "ef39854be9b94a91961fb2df98d03bee",
      "aa45cad8293644e3975437363755c767",
      "47142bb94d6f418cb1b99444797380bb",
      "8545eea093b949f8828d5d1d40181327",
      "bc1653c35c2c4484b47d0043c3da5ae0",
      "bec04909adaa4536a92aef63879a029e",
      "04aa46d8eb5744728c60397e83e41a89",
      "bec75b49534d4a2383e9381b5b6b8987",
      "417bcb76768649e89d362d16dac2d688",
      "cc6d4bd89cb44a0d86149e40ac0addf1",
      "0ea99b71922d4dfb9de45cafc8101d6b",
      "7b8e8aeb09af438cacb73e67852d6591",
      "675860ff519a4c98848b7f5e49a293a5",
      "0046a58a807e43ac9a00da61d6aecb46",
      "8f12b671b43942d68cda9335fb7a0214",
      "4d49d6d4a47344529287103af4342d7e",
      "5091e1a956e345058158626e765c1cbc",
      "746c97d15b554157bf3dce67617dc8c7",
      "d09658adfe7345a0a04c292576daf663",
      "65f287be07dc45bf9eac0c338475e240",
      "cea1df3e22c6497aada695d12b82694f",
      "84380e7c3478480ead7075e65c209bff",
      "6c104a286a0b4bfda53da91a6c27bb45",
      "985a500abc894570843dc3eaa30c3344",
      "6518fb6d11324e358ab31f26400fb49f",
      "556fc8071a9e470093eb9ac86c604f3d",
      "fff9759f8d1f49fcaa00a8178998f252",
      "abb0b106f45d40f186333c79ae285df0",
      "5a3e6aaa4d3d42a2a934eea4573ed712",
      "fb2770bfe1b742d8b9117a8d6fd684a6",
      "d1c3a62ed406430e99be302eed902969",
      "5f7fd2b34df04e3d8eb1aba0343459b2",
      "eb77b072b3994847bd1ddba4e696249d",
      "a5ccc09c29db45ba80af5b46dc1bda04",
      "391b46c39a9d458e882dc9d6162cc463",
      "9e28d459638b4df8bfb0c6db7b930dfd",
      "2289668f2d814a8a840da1218c22f4e5",
      "0653b078a88d4d1eb6c45fe569b998b1",
      "f9fea16d57cc4807b897b718d69e6618",
      "35f4f97481e542e1b269216c644c0f01",
      "9e39fda4a2b54812881e504a1a4c2e6d",
      "901615088cab4e5f97bc8f67e3e4908a",
      "0f40854dd7724032ac9b25472e522c71",
      "1775662482ad44df9c2321852ac4363b",
      "f368db01a9e845018d5f90fdced3f537",
      "4dbfe5d294774755948761b6e7c14871",
      "74b88e2a5f2e4551b3ce66feb23dc823",
      "6a8e8d2c176e474eaa730e201c1d7d0c",
      "e4626bac1b704c06bbd02588b8a1126d",
      "5e22ffc92836499d96ba85d878c1ac3d",
      "73e7725c31914b24892020dc99242873",
      "4b3a11c83eb24f62840a177180f7745e",
      "fbf4405431a944ecbde1aa284d8f016e",
      "b50d3978745a41a598cb87822960f1ba",
      "59a57e0325ce45dfa425f41597219c60",
      "2130b037f73a4c74b7a42bc44c3d7b8a",
      "a0d6a12d26244e5fa188abcfee71bc08",
      "a61d0fe72a7b449190acc6d5d4899f9a",
      "a9b663ad5b1448179cce40f01fbc159a"
     ]
    },
    "id": "3JJXLNFJBvcS",
    "outputId": "1684a939-ee0d-4312-ced9-824fa1de6e9d"
   },
   "outputs": [
    {
     "data": {
      "application/vnd.jupyter.widget-view+json": {
       "model_id": "38e668e37f1b441193832f1801e57513",
       "version_major": 2,
       "version_minor": 0
      },
      "text/plain": [
       "tokenizer_config.json:   0%|          | 0.00/25.0 [00:00<?, ?B/s]"
      ]
     },
     "metadata": {},
     "output_type": "display_data"
    },
    {
     "data": {
      "application/vnd.jupyter.widget-view+json": {
       "model_id": "247b235f88e94eb0a9cdac0f095eb0fa",
       "version_major": 2,
       "version_minor": 0
      },
      "text/plain": [
       "config.json:   0%|          | 0.00/482 [00:00<?, ?B/s]"
      ]
     },
     "metadata": {},
     "output_type": "display_data"
    },
    {
     "data": {
      "application/vnd.jupyter.widget-view+json": {
       "model_id": "7f7c575462614a6c848de3ff8c72a8eb",
       "version_major": 2,
       "version_minor": 0
      },
      "text/plain": [
       "vocab.json:   0%|          | 0.00/899k [00:00<?, ?B/s]"
      ]
     },
     "metadata": {},
     "output_type": "display_data"
    },
    {
     "data": {
      "application/vnd.jupyter.widget-view+json": {
       "model_id": "bc1653c35c2c4484b47d0043c3da5ae0",
       "version_major": 2,
       "version_minor": 0
      },
      "text/plain": [
       "merges.txt:   0%|          | 0.00/456k [00:00<?, ?B/s]"
      ]
     },
     "metadata": {},
     "output_type": "display_data"
    },
    {
     "data": {
      "application/vnd.jupyter.widget-view+json": {
       "model_id": "4d49d6d4a47344529287103af4342d7e",
       "version_major": 2,
       "version_minor": 0
      },
      "text/plain": [
       "tokenizer.json:   0%|          | 0.00/1.36M [00:00<?, ?B/s]"
      ]
     },
     "metadata": {},
     "output_type": "display_data"
    },
    {
     "data": {
      "application/vnd.jupyter.widget-view+json": {
       "model_id": "fff9759f8d1f49fcaa00a8178998f252",
       "version_major": 2,
       "version_minor": 0
      },
      "text/plain": [
       "model.safetensors:   0%|          | 0.00/1.42G [00:00<?, ?B/s]"
      ]
     },
     "metadata": {},
     "output_type": "display_data"
    },
    {
     "name": "stdout",
     "output_type": "stream",
     "text": [
      "calculating scores...\n",
      "computing bert embedding.\n"
     ]
    },
    {
     "data": {
      "application/vnd.jupyter.widget-view+json": {
       "model_id": "0653b078a88d4d1eb6c45fe569b998b1",
       "version_major": 2,
       "version_minor": 0
      },
      "text/plain": [
       "  0%|          | 0/32 [00:00<?, ?it/s]"
      ]
     },
     "metadata": {},
     "output_type": "display_data"
    },
    {
     "name": "stdout",
     "output_type": "stream",
     "text": [
      "computing greedy matching.\n"
     ]
    },
    {
     "data": {
      "application/vnd.jupyter.widget-view+json": {
       "model_id": "e4626bac1b704c06bbd02588b8a1126d",
       "version_major": 2,
       "version_minor": 0
      },
      "text/plain": [
       "  0%|          | 0/16 [00:00<?, ?it/s]"
      ]
     },
     "metadata": {},
     "output_type": "display_data"
    },
    {
     "name": "stdout",
     "output_type": "stream",
     "text": [
      "done in 107.30 seconds, 9.32 sentences/sec\n",
      "Precision: 0.8639\n",
      "Recall: 0.8352\n",
      "F1: 0.8492\n"
     ]
    }
   ],
   "source": [
    "from bert_score import score\n",
    "\n",
    "# BERTScore\n",
    "P, R, F1 = score(generated_summaries, references, lang=\"en\", verbose=True)\n",
    "\n",
    "print(f\"Precision: {P.mean().item():.4f}\")\n",
    "print(f\"Recall: {R.mean().item():.4f}\")\n",
    "print(f\"F1: {F1.mean().item():.4f}\")"
   ]
  },
  {
   "cell_type": "code",
   "execution_count": 17,
   "metadata": {
    "colab": {
     "base_uri": "https://localhost:8080/",
     "height": 17
    },
    "id": "ULcQPFtqCgEC",
    "outputId": "06b1cad0-010c-4b43-dd8f-4e92b7ca3d5b"
   },
   "outputs": [
    {
     "data": {
      "application/javascript": [
       "\n",
       "    async function download(id, filename, size) {\n",
       "      if (!google.colab.kernel.accessAllowed) {\n",
       "        return;\n",
       "      }\n",
       "      const div = document.createElement('div');\n",
       "      const label = document.createElement('label');\n",
       "      label.textContent = `Downloading \"${filename}\": `;\n",
       "      div.appendChild(label);\n",
       "      const progress = document.createElement('progress');\n",
       "      progress.max = size;\n",
       "      div.appendChild(progress);\n",
       "      document.body.appendChild(div);\n",
       "\n",
       "      const buffers = [];\n",
       "      let downloaded = 0;\n",
       "\n",
       "      const channel = await google.colab.kernel.comms.open(id);\n",
       "      // Send a message to notify the kernel that we're ready.\n",
       "      channel.send({})\n",
       "\n",
       "      for await (const message of channel.messages) {\n",
       "        // Send a message to notify the kernel that we're ready.\n",
       "        channel.send({})\n",
       "        if (message.buffers) {\n",
       "          for (const buffer of message.buffers) {\n",
       "            buffers.push(buffer);\n",
       "            downloaded += buffer.byteLength;\n",
       "            progress.value = downloaded;\n",
       "          }\n",
       "        }\n",
       "      }\n",
       "      const blob = new Blob(buffers, {type: 'application/binary'});\n",
       "      const a = document.createElement('a');\n",
       "      a.href = window.URL.createObjectURL(blob);\n",
       "      a.download = filename;\n",
       "      div.appendChild(a);\n",
       "      a.click();\n",
       "      div.remove();\n",
       "    }\n",
       "  "
      ],
      "text/plain": [
       "<IPython.core.display.Javascript object>"
      ]
     },
     "metadata": {},
     "output_type": "display_data"
    },
    {
     "data": {
      "application/javascript": [
       "download(\"download_5b42f1e3-24a8-4803-92e7-7dd69fe85995\", \"summaries_encryption.csv\", 3933561)"
      ],
      "text/plain": [
       "<IPython.core.display.Javascript object>"
      ]
     },
     "metadata": {},
     "output_type": "display_data"
    }
   ],
   "source": [
    "import csv\n",
    "from google.colab import files\n",
    "\n",
    "with open(\"../datasets/summaries/summaries_encryption.csv\", \"w\", newline=\"\", encoding=\"utf-8\") as f:\n",
    "    writer = csv.writer(f)\n",
    "    writer.writerow([\"full_note\", \"summary\"])\n",
    "    for full_note, summary in zip(test_texts, generated_summaries):\n",
    "        writer.writerow([full_note, summary])\n",
    "\n",
    "# Download file CSV\n",
    "files.download(\"summaries_encryption.csv\")"
   ]
  },
  {
   "cell_type": "code",
   "metadata": {
    "id": "CIzA_1c8qxHq",
    "ExecuteTime": {
     "end_time": "2025-09-02T12:27:27.310551Z",
     "start_time": "2025-09-02T12:27:27.305451Z"
    }
   },
   "source": [
    "from statistics import mean\n",
    "\n",
    "texts = [ex[\"summary\"] for ex in train_data]\n",
    "token_lengths = [len(tokenizer(text)[\"input_ids\"]) for text in texts]\n",
    "avg_tokens = mean(token_lengths)\n",
    "\n",
    "print(f\"Average token per entry in train set: {avg_tokens:.2f}\")"
   ],
   "outputs": [
    {
     "name": "stdout",
     "output_type": "stream",
     "text": [
      "Average token per entry in train set: 564.72\n"
     ]
    }
   ],
   "execution_count": 5
  },
  {
   "metadata": {
    "ExecuteTime": {
     "end_time": "2025-09-02T12:15:37.963213Z",
     "start_time": "2025-09-02T12:14:49.368346Z"
    }
   },
   "cell_type": "code",
   "source": [
    "from statistics import mean\n",
    "\n",
    "texts = [ex[\"full_note\"] for ex in train_data]\n",
    "token_lengths = [len(tokenizer(text)[\"input_ids\"]) for text in texts]\n",
    "max_token_length = max(token_lengths)\n",
    "avg_tokens = mean(token_lengths)\n",
    "\n",
    "print(f\"Average token per entry in train set: {avg_tokens:.2f}\")\n",
    "print(f\"Max token per entry in train set: {max_token_length:.2f}\")\n",
    "\n",
    "print(len([token for token in token_lengths if token > 4096]))"
   ],
   "outputs": [
    {
     "name": "stdout",
     "output_type": "stream",
     "text": [
      "Average token per entry in train set: 739.61\n",
      "Max token per entry in train set: 5454.00\n",
      "2\n"
     ]
    }
   ],
   "execution_count": 4
  }
 ],
 "metadata": {
  "accelerator": "GPU",
  "colab": {
   "gpuType": "T4",
   "provenance": []
  },
  "kernelspec": {
   "display_name": "Python 3 (ipykernel)",
   "language": "python",
   "name": "python3"
  },
  "language_info": {
   "name": "python"
  }
 },
 "nbformat": 4,
 "nbformat_minor": 0
}
