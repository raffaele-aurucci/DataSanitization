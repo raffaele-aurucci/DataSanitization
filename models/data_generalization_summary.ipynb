{
 "cells": [
  {
   "cell_type": "markdown",
   "metadata": {
    "id": "BsAfz2vUCl8N"
   },
   "source": [
    "### **Text Summarization on generalized data**"
   ]
  },
  {
   "cell_type": "code",
   "execution_count": 1,
   "metadata": {
    "colab": {
     "base_uri": "https://localhost:8080/"
    },
    "id": "k7vZIpestvW-",
    "outputId": "62134890-5066-4ba5-fecd-aa71522b5638"
   },
   "outputs": [
    {
     "name": "stdout",
     "output_type": "stream",
     "text": [
      "Requirement already satisfied: transformers in /usr/local/lib/python3.12/dist-packages (4.55.2)\n",
      "Collecting transformers\n",
      "  Downloading transformers-4.55.3-py3-none-any.whl.metadata (41 kB)\n",
      "\u001B[2K     \u001B[90m━━━━━━━━━━━━━━━━━━━━━━━━━━━━━━━━━━━━━━━━\u001B[0m \u001B[32m42.0/42.0 kB\u001B[0m \u001B[31m6.2 MB/s\u001B[0m eta \u001B[36m0:00:00\u001B[0m\n",
      "\u001B[?25hRequirement already satisfied: datasets in /usr/local/lib/python3.12/dist-packages (4.0.0)\n",
      "Requirement already satisfied: accelerate in /usr/local/lib/python3.12/dist-packages (1.10.0)\n",
      "Requirement already satisfied: filelock in /usr/local/lib/python3.12/dist-packages (from transformers) (3.19.1)\n",
      "Requirement already satisfied: huggingface-hub<1.0,>=0.34.0 in /usr/local/lib/python3.12/dist-packages (from transformers) (0.34.4)\n",
      "Requirement already satisfied: numpy>=1.17 in /usr/local/lib/python3.12/dist-packages (from transformers) (2.0.2)\n",
      "Requirement already satisfied: packaging>=20.0 in /usr/local/lib/python3.12/dist-packages (from transformers) (25.0)\n",
      "Requirement already satisfied: pyyaml>=5.1 in /usr/local/lib/python3.12/dist-packages (from transformers) (6.0.2)\n",
      "Requirement already satisfied: regex!=2019.12.17 in /usr/local/lib/python3.12/dist-packages (from transformers) (2024.11.6)\n",
      "Requirement already satisfied: requests in /usr/local/lib/python3.12/dist-packages (from transformers) (2.32.4)\n",
      "Requirement already satisfied: tokenizers<0.22,>=0.21 in /usr/local/lib/python3.12/dist-packages (from transformers) (0.21.4)\n",
      "Requirement already satisfied: safetensors>=0.4.3 in /usr/local/lib/python3.12/dist-packages (from transformers) (0.6.2)\n",
      "Requirement already satisfied: tqdm>=4.27 in /usr/local/lib/python3.12/dist-packages (from transformers) (4.67.1)\n",
      "Requirement already satisfied: pyarrow>=15.0.0 in /usr/local/lib/python3.12/dist-packages (from datasets) (18.1.0)\n",
      "Requirement already satisfied: dill<0.3.9,>=0.3.0 in /usr/local/lib/python3.12/dist-packages (from datasets) (0.3.8)\n",
      "Requirement already satisfied: pandas in /usr/local/lib/python3.12/dist-packages (from datasets) (2.2.2)\n",
      "Requirement already satisfied: xxhash in /usr/local/lib/python3.12/dist-packages (from datasets) (3.5.0)\n",
      "Requirement already satisfied: multiprocess<0.70.17 in /usr/local/lib/python3.12/dist-packages (from datasets) (0.70.16)\n",
      "Requirement already satisfied: fsspec<=2025.3.0,>=2023.1.0 in /usr/local/lib/python3.12/dist-packages (from fsspec[http]<=2025.3.0,>=2023.1.0->datasets) (2025.3.0)\n",
      "Requirement already satisfied: psutil in /usr/local/lib/python3.12/dist-packages (from accelerate) (5.9.5)\n",
      "Requirement already satisfied: torch>=2.0.0 in /usr/local/lib/python3.12/dist-packages (from accelerate) (2.8.0+cu126)\n",
      "Requirement already satisfied: aiohttp!=4.0.0a0,!=4.0.0a1 in /usr/local/lib/python3.12/dist-packages (from fsspec[http]<=2025.3.0,>=2023.1.0->datasets) (3.12.15)\n",
      "Requirement already satisfied: typing-extensions>=3.7.4.3 in /usr/local/lib/python3.12/dist-packages (from huggingface-hub<1.0,>=0.34.0->transformers) (4.14.1)\n",
      "Requirement already satisfied: hf-xet<2.0.0,>=1.1.3 in /usr/local/lib/python3.12/dist-packages (from huggingface-hub<1.0,>=0.34.0->transformers) (1.1.7)\n",
      "Requirement already satisfied: charset_normalizer<4,>=2 in /usr/local/lib/python3.12/dist-packages (from requests->transformers) (3.4.3)\n",
      "Requirement already satisfied: idna<4,>=2.5 in /usr/local/lib/python3.12/dist-packages (from requests->transformers) (3.10)\n",
      "Requirement already satisfied: urllib3<3,>=1.21.1 in /usr/local/lib/python3.12/dist-packages (from requests->transformers) (2.5.0)\n",
      "Requirement already satisfied: certifi>=2017.4.17 in /usr/local/lib/python3.12/dist-packages (from requests->transformers) (2025.8.3)\n",
      "Requirement already satisfied: setuptools in /usr/local/lib/python3.12/dist-packages (from torch>=2.0.0->accelerate) (75.2.0)\n",
      "Requirement already satisfied: sympy>=1.13.3 in /usr/local/lib/python3.12/dist-packages (from torch>=2.0.0->accelerate) (1.13.3)\n",
      "Requirement already satisfied: networkx in /usr/local/lib/python3.12/dist-packages (from torch>=2.0.0->accelerate) (3.5)\n",
      "Requirement already satisfied: jinja2 in /usr/local/lib/python3.12/dist-packages (from torch>=2.0.0->accelerate) (3.1.6)\n",
      "Requirement already satisfied: nvidia-cuda-nvrtc-cu12==12.6.77 in /usr/local/lib/python3.12/dist-packages (from torch>=2.0.0->accelerate) (12.6.77)\n",
      "Requirement already satisfied: nvidia-cuda-runtime-cu12==12.6.77 in /usr/local/lib/python3.12/dist-packages (from torch>=2.0.0->accelerate) (12.6.77)\n",
      "Requirement already satisfied: nvidia-cuda-cupti-cu12==12.6.80 in /usr/local/lib/python3.12/dist-packages (from torch>=2.0.0->accelerate) (12.6.80)\n",
      "Requirement already satisfied: nvidia-cudnn-cu12==9.10.2.21 in /usr/local/lib/python3.12/dist-packages (from torch>=2.0.0->accelerate) (9.10.2.21)\n",
      "Requirement already satisfied: nvidia-cublas-cu12==12.6.4.1 in /usr/local/lib/python3.12/dist-packages (from torch>=2.0.0->accelerate) (12.6.4.1)\n",
      "Requirement already satisfied: nvidia-cufft-cu12==11.3.0.4 in /usr/local/lib/python3.12/dist-packages (from torch>=2.0.0->accelerate) (11.3.0.4)\n",
      "Requirement already satisfied: nvidia-curand-cu12==10.3.7.77 in /usr/local/lib/python3.12/dist-packages (from torch>=2.0.0->accelerate) (10.3.7.77)\n",
      "Requirement already satisfied: nvidia-cusolver-cu12==11.7.1.2 in /usr/local/lib/python3.12/dist-packages (from torch>=2.0.0->accelerate) (11.7.1.2)\n",
      "Requirement already satisfied: nvidia-cusparse-cu12==12.5.4.2 in /usr/local/lib/python3.12/dist-packages (from torch>=2.0.0->accelerate) (12.5.4.2)\n",
      "Requirement already satisfied: nvidia-cusparselt-cu12==0.7.1 in /usr/local/lib/python3.12/dist-packages (from torch>=2.0.0->accelerate) (0.7.1)\n",
      "Requirement already satisfied: nvidia-nccl-cu12==2.27.3 in /usr/local/lib/python3.12/dist-packages (from torch>=2.0.0->accelerate) (2.27.3)\n",
      "Requirement already satisfied: nvidia-nvtx-cu12==12.6.77 in /usr/local/lib/python3.12/dist-packages (from torch>=2.0.0->accelerate) (12.6.77)\n",
      "Requirement already satisfied: nvidia-nvjitlink-cu12==12.6.85 in /usr/local/lib/python3.12/dist-packages (from torch>=2.0.0->accelerate) (12.6.85)\n",
      "Requirement already satisfied: nvidia-cufile-cu12==1.11.1.6 in /usr/local/lib/python3.12/dist-packages (from torch>=2.0.0->accelerate) (1.11.1.6)\n",
      "Requirement already satisfied: triton==3.4.0 in /usr/local/lib/python3.12/dist-packages (from torch>=2.0.0->accelerate) (3.4.0)\n",
      "Requirement already satisfied: python-dateutil>=2.8.2 in /usr/local/lib/python3.12/dist-packages (from pandas->datasets) (2.9.0.post0)\n",
      "Requirement already satisfied: pytz>=2020.1 in /usr/local/lib/python3.12/dist-packages (from pandas->datasets) (2025.2)\n",
      "Requirement already satisfied: tzdata>=2022.7 in /usr/local/lib/python3.12/dist-packages (from pandas->datasets) (2025.2)\n",
      "Requirement already satisfied: aiohappyeyeballs>=2.5.0 in /usr/local/lib/python3.12/dist-packages (from aiohttp!=4.0.0a0,!=4.0.0a1->fsspec[http]<=2025.3.0,>=2023.1.0->datasets) (2.6.1)\n",
      "Requirement already satisfied: aiosignal>=1.4.0 in /usr/local/lib/python3.12/dist-packages (from aiohttp!=4.0.0a0,!=4.0.0a1->fsspec[http]<=2025.3.0,>=2023.1.0->datasets) (1.4.0)\n",
      "Requirement already satisfied: attrs>=17.3.0 in /usr/local/lib/python3.12/dist-packages (from aiohttp!=4.0.0a0,!=4.0.0a1->fsspec[http]<=2025.3.0,>=2023.1.0->datasets) (25.3.0)\n",
      "Requirement already satisfied: frozenlist>=1.1.1 in /usr/local/lib/python3.12/dist-packages (from aiohttp!=4.0.0a0,!=4.0.0a1->fsspec[http]<=2025.3.0,>=2023.1.0->datasets) (1.7.0)\n",
      "Requirement already satisfied: multidict<7.0,>=4.5 in /usr/local/lib/python3.12/dist-packages (from aiohttp!=4.0.0a0,!=4.0.0a1->fsspec[http]<=2025.3.0,>=2023.1.0->datasets) (6.6.4)\n",
      "Requirement already satisfied: propcache>=0.2.0 in /usr/local/lib/python3.12/dist-packages (from aiohttp!=4.0.0a0,!=4.0.0a1->fsspec[http]<=2025.3.0,>=2023.1.0->datasets) (0.3.2)\n",
      "Requirement already satisfied: yarl<2.0,>=1.17.0 in /usr/local/lib/python3.12/dist-packages (from aiohttp!=4.0.0a0,!=4.0.0a1->fsspec[http]<=2025.3.0,>=2023.1.0->datasets) (1.20.1)\n",
      "Requirement already satisfied: six>=1.5 in /usr/local/lib/python3.12/dist-packages (from python-dateutil>=2.8.2->pandas->datasets) (1.17.0)\n",
      "Requirement already satisfied: mpmath<1.4,>=1.1.0 in /usr/local/lib/python3.12/dist-packages (from sympy>=1.13.3->torch>=2.0.0->accelerate) (1.3.0)\n",
      "Requirement already satisfied: MarkupSafe>=2.0 in /usr/local/lib/python3.12/dist-packages (from jinja2->torch>=2.0.0->accelerate) (3.0.2)\n",
      "Downloading transformers-4.55.3-py3-none-any.whl (11.3 MB)\n",
      "\u001B[2K   \u001B[90m━━━━━━━━━━━━━━━━━━━━━━━━━━━━━━━━━━━━━━━━\u001B[0m \u001B[32m11.3/11.3 MB\u001B[0m \u001B[31m197.0 MB/s\u001B[0m eta \u001B[36m0:00:00\u001B[0m\n",
      "\u001B[?25hInstalling collected packages: transformers\n",
      "  Attempting uninstall: transformers\n",
      "    Found existing installation: transformers 4.55.2\n",
      "    Uninstalling transformers-4.55.2:\n",
      "      Successfully uninstalled transformers-4.55.2\n",
      "Successfully installed transformers-4.55.3\n"
     ]
    }
   ],
   "source": [
    "!pip install --upgrade --no-cache-dir transformers datasets accelerate"
   ]
  },
  {
   "cell_type": "code",
   "execution_count": 2,
   "metadata": {
    "colab": {
     "base_uri": "https://localhost:8080/"
    },
    "id": "wm96sdvprasH",
    "outputId": "5cb938bd-dded-4c41-ca30-05d55f83f826"
   },
   "outputs": [
    {
     "name": "stdout",
     "output_type": "stream",
     "text": [
      "Collecting evaluate\n",
      "  Downloading evaluate-0.4.5-py3-none-any.whl.metadata (9.5 kB)\n",
      "Requirement already satisfied: datasets>=2.0.0 in /usr/local/lib/python3.12/dist-packages (from evaluate) (4.0.0)\n",
      "Requirement already satisfied: numpy>=1.17 in /usr/local/lib/python3.12/dist-packages (from evaluate) (2.0.2)\n",
      "Requirement already satisfied: dill in /usr/local/lib/python3.12/dist-packages (from evaluate) (0.3.8)\n",
      "Requirement already satisfied: pandas in /usr/local/lib/python3.12/dist-packages (from evaluate) (2.2.2)\n",
      "Requirement already satisfied: requests>=2.19.0 in /usr/local/lib/python3.12/dist-packages (from evaluate) (2.32.4)\n",
      "Requirement already satisfied: tqdm>=4.62.1 in /usr/local/lib/python3.12/dist-packages (from evaluate) (4.67.1)\n",
      "Requirement already satisfied: xxhash in /usr/local/lib/python3.12/dist-packages (from evaluate) (3.5.0)\n",
      "Requirement already satisfied: multiprocess in /usr/local/lib/python3.12/dist-packages (from evaluate) (0.70.16)\n",
      "Requirement already satisfied: fsspec>=2021.05.0 in /usr/local/lib/python3.12/dist-packages (from fsspec[http]>=2021.05.0->evaluate) (2025.3.0)\n",
      "Requirement already satisfied: huggingface-hub>=0.7.0 in /usr/local/lib/python3.12/dist-packages (from evaluate) (0.34.4)\n",
      "Requirement already satisfied: packaging in /usr/local/lib/python3.12/dist-packages (from evaluate) (25.0)\n",
      "Requirement already satisfied: filelock in /usr/local/lib/python3.12/dist-packages (from datasets>=2.0.0->evaluate) (3.19.1)\n",
      "Requirement already satisfied: pyarrow>=15.0.0 in /usr/local/lib/python3.12/dist-packages (from datasets>=2.0.0->evaluate) (18.1.0)\n",
      "Requirement already satisfied: pyyaml>=5.1 in /usr/local/lib/python3.12/dist-packages (from datasets>=2.0.0->evaluate) (6.0.2)\n",
      "Requirement already satisfied: aiohttp!=4.0.0a0,!=4.0.0a1 in /usr/local/lib/python3.12/dist-packages (from fsspec[http]>=2021.05.0->evaluate) (3.12.15)\n",
      "Requirement already satisfied: typing-extensions>=3.7.4.3 in /usr/local/lib/python3.12/dist-packages (from huggingface-hub>=0.7.0->evaluate) (4.14.1)\n",
      "Requirement already satisfied: hf-xet<2.0.0,>=1.1.3 in /usr/local/lib/python3.12/dist-packages (from huggingface-hub>=0.7.0->evaluate) (1.1.7)\n",
      "Requirement already satisfied: charset_normalizer<4,>=2 in /usr/local/lib/python3.12/dist-packages (from requests>=2.19.0->evaluate) (3.4.3)\n",
      "Requirement already satisfied: idna<4,>=2.5 in /usr/local/lib/python3.12/dist-packages (from requests>=2.19.0->evaluate) (3.10)\n",
      "Requirement already satisfied: urllib3<3,>=1.21.1 in /usr/local/lib/python3.12/dist-packages (from requests>=2.19.0->evaluate) (2.5.0)\n",
      "Requirement already satisfied: certifi>=2017.4.17 in /usr/local/lib/python3.12/dist-packages (from requests>=2.19.0->evaluate) (2025.8.3)\n",
      "Requirement already satisfied: python-dateutil>=2.8.2 in /usr/local/lib/python3.12/dist-packages (from pandas->evaluate) (2.9.0.post0)\n",
      "Requirement already satisfied: pytz>=2020.1 in /usr/local/lib/python3.12/dist-packages (from pandas->evaluate) (2025.2)\n",
      "Requirement already satisfied: tzdata>=2022.7 in /usr/local/lib/python3.12/dist-packages (from pandas->evaluate) (2025.2)\n",
      "Requirement already satisfied: aiohappyeyeballs>=2.5.0 in /usr/local/lib/python3.12/dist-packages (from aiohttp!=4.0.0a0,!=4.0.0a1->fsspec[http]>=2021.05.0->evaluate) (2.6.1)\n",
      "Requirement already satisfied: aiosignal>=1.4.0 in /usr/local/lib/python3.12/dist-packages (from aiohttp!=4.0.0a0,!=4.0.0a1->fsspec[http]>=2021.05.0->evaluate) (1.4.0)\n",
      "Requirement already satisfied: attrs>=17.3.0 in /usr/local/lib/python3.12/dist-packages (from aiohttp!=4.0.0a0,!=4.0.0a1->fsspec[http]>=2021.05.0->evaluate) (25.3.0)\n",
      "Requirement already satisfied: frozenlist>=1.1.1 in /usr/local/lib/python3.12/dist-packages (from aiohttp!=4.0.0a0,!=4.0.0a1->fsspec[http]>=2021.05.0->evaluate) (1.7.0)\n",
      "Requirement already satisfied: multidict<7.0,>=4.5 in /usr/local/lib/python3.12/dist-packages (from aiohttp!=4.0.0a0,!=4.0.0a1->fsspec[http]>=2021.05.0->evaluate) (6.6.4)\n",
      "Requirement already satisfied: propcache>=0.2.0 in /usr/local/lib/python3.12/dist-packages (from aiohttp!=4.0.0a0,!=4.0.0a1->fsspec[http]>=2021.05.0->evaluate) (0.3.2)\n",
      "Requirement already satisfied: yarl<2.0,>=1.17.0 in /usr/local/lib/python3.12/dist-packages (from aiohttp!=4.0.0a0,!=4.0.0a1->fsspec[http]>=2021.05.0->evaluate) (1.20.1)\n",
      "Requirement already satisfied: six>=1.5 in /usr/local/lib/python3.12/dist-packages (from python-dateutil>=2.8.2->pandas->evaluate) (1.17.0)\n",
      "Downloading evaluate-0.4.5-py3-none-any.whl (84 kB)\n",
      "\u001B[2K   \u001B[90m━━━━━━━━━━━━━━━━━━━━━━━━━━━━━━━━━━━━━━━━\u001B[0m \u001B[32m84.1/84.1 kB\u001B[0m \u001B[31m3.8 MB/s\u001B[0m eta \u001B[36m0:00:00\u001B[0m\n",
      "\u001B[?25hInstalling collected packages: evaluate\n",
      "Successfully installed evaluate-0.4.5\n"
     ]
    }
   ],
   "source": [
    "!pip install evaluate"
   ]
  },
  {
   "cell_type": "code",
   "execution_count": 3,
   "metadata": {
    "colab": {
     "base_uri": "https://localhost:8080/"
    },
    "id": "BzN_BWigso3L",
    "outputId": "d67c99c8-b7ae-4185-9ead-aaf05367e574"
   },
   "outputs": [
    {
     "name": "stdout",
     "output_type": "stream",
     "text": [
      "Collecting rouge_score\n",
      "  Downloading rouge_score-0.1.2.tar.gz (17 kB)\n",
      "  Preparing metadata (setup.py) ... \u001B[?25l\u001B[?25hdone\n",
      "Requirement already satisfied: absl-py in /usr/local/lib/python3.12/dist-packages (from rouge_score) (1.4.0)\n",
      "Requirement already satisfied: nltk in /usr/local/lib/python3.12/dist-packages (from rouge_score) (3.9.1)\n",
      "Requirement already satisfied: numpy in /usr/local/lib/python3.12/dist-packages (from rouge_score) (2.0.2)\n",
      "Requirement already satisfied: six>=1.14.0 in /usr/local/lib/python3.12/dist-packages (from rouge_score) (1.17.0)\n",
      "Requirement already satisfied: click in /usr/local/lib/python3.12/dist-packages (from nltk->rouge_score) (8.2.1)\n",
      "Requirement already satisfied: joblib in /usr/local/lib/python3.12/dist-packages (from nltk->rouge_score) (1.5.1)\n",
      "Requirement already satisfied: regex>=2021.8.3 in /usr/local/lib/python3.12/dist-packages (from nltk->rouge_score) (2024.11.6)\n",
      "Requirement already satisfied: tqdm in /usr/local/lib/python3.12/dist-packages (from nltk->rouge_score) (4.67.1)\n",
      "Building wheels for collected packages: rouge_score\n",
      "  Building wheel for rouge_score (setup.py) ... \u001B[?25l\u001B[?25hdone\n",
      "  Created wheel for rouge_score: filename=rouge_score-0.1.2-py3-none-any.whl size=24934 sha256=ea86a8fd580e2891d14736c98a9093653f7773ec634017c8679aa73868bb863b\n",
      "  Stored in directory: /root/.cache/pip/wheels/85/9d/af/01feefbe7d55ef5468796f0c68225b6788e85d9d0a281e7a70\n",
      "Successfully built rouge_score\n",
      "Installing collected packages: rouge_score\n",
      "Successfully installed rouge_score-0.1.2\n"
     ]
    }
   ],
   "source": [
    "!pip install rouge_score"
   ]
  },
  {
   "cell_type": "code",
   "execution_count": 4,
   "metadata": {
    "colab": {
     "base_uri": "https://localhost:8080/"
    },
    "id": "U_B6GbW00RC5",
    "outputId": "d7636cf5-27d8-4e92-e170-113b9a1b2a86"
   },
   "outputs": [
    {
     "name": "stdout",
     "output_type": "stream",
     "text": [
      "Collecting bert-score\n",
      "  Downloading bert_score-0.3.13-py3-none-any.whl.metadata (15 kB)\n",
      "Requirement already satisfied: torch>=1.0.0 in /usr/local/lib/python3.12/dist-packages (from bert-score) (2.8.0+cu126)\n",
      "Requirement already satisfied: pandas>=1.0.1 in /usr/local/lib/python3.12/dist-packages (from bert-score) (2.2.2)\n",
      "Requirement already satisfied: transformers>=3.0.0 in /usr/local/lib/python3.12/dist-packages (from bert-score) (4.55.3)\n",
      "Requirement already satisfied: numpy in /usr/local/lib/python3.12/dist-packages (from bert-score) (2.0.2)\n",
      "Requirement already satisfied: requests in /usr/local/lib/python3.12/dist-packages (from bert-score) (2.32.4)\n",
      "Requirement already satisfied: tqdm>=4.31.1 in /usr/local/lib/python3.12/dist-packages (from bert-score) (4.67.1)\n",
      "Requirement already satisfied: matplotlib in /usr/local/lib/python3.12/dist-packages (from bert-score) (3.10.0)\n",
      "Requirement already satisfied: packaging>=20.9 in /usr/local/lib/python3.12/dist-packages (from bert-score) (25.0)\n",
      "Requirement already satisfied: python-dateutil>=2.8.2 in /usr/local/lib/python3.12/dist-packages (from pandas>=1.0.1->bert-score) (2.9.0.post0)\n",
      "Requirement already satisfied: pytz>=2020.1 in /usr/local/lib/python3.12/dist-packages (from pandas>=1.0.1->bert-score) (2025.2)\n",
      "Requirement already satisfied: tzdata>=2022.7 in /usr/local/lib/python3.12/dist-packages (from pandas>=1.0.1->bert-score) (2025.2)\n",
      "Requirement already satisfied: filelock in /usr/local/lib/python3.12/dist-packages (from torch>=1.0.0->bert-score) (3.19.1)\n",
      "Requirement already satisfied: typing-extensions>=4.10.0 in /usr/local/lib/python3.12/dist-packages (from torch>=1.0.0->bert-score) (4.14.1)\n",
      "Requirement already satisfied: setuptools in /usr/local/lib/python3.12/dist-packages (from torch>=1.0.0->bert-score) (75.2.0)\n",
      "Requirement already satisfied: sympy>=1.13.3 in /usr/local/lib/python3.12/dist-packages (from torch>=1.0.0->bert-score) (1.13.3)\n",
      "Requirement already satisfied: networkx in /usr/local/lib/python3.12/dist-packages (from torch>=1.0.0->bert-score) (3.5)\n",
      "Requirement already satisfied: jinja2 in /usr/local/lib/python3.12/dist-packages (from torch>=1.0.0->bert-score) (3.1.6)\n",
      "Requirement already satisfied: fsspec in /usr/local/lib/python3.12/dist-packages (from torch>=1.0.0->bert-score) (2025.3.0)\n",
      "Requirement already satisfied: nvidia-cuda-nvrtc-cu12==12.6.77 in /usr/local/lib/python3.12/dist-packages (from torch>=1.0.0->bert-score) (12.6.77)\n",
      "Requirement already satisfied: nvidia-cuda-runtime-cu12==12.6.77 in /usr/local/lib/python3.12/dist-packages (from torch>=1.0.0->bert-score) (12.6.77)\n",
      "Requirement already satisfied: nvidia-cuda-cupti-cu12==12.6.80 in /usr/local/lib/python3.12/dist-packages (from torch>=1.0.0->bert-score) (12.6.80)\n",
      "Requirement already satisfied: nvidia-cudnn-cu12==9.10.2.21 in /usr/local/lib/python3.12/dist-packages (from torch>=1.0.0->bert-score) (9.10.2.21)\n",
      "Requirement already satisfied: nvidia-cublas-cu12==12.6.4.1 in /usr/local/lib/python3.12/dist-packages (from torch>=1.0.0->bert-score) (12.6.4.1)\n",
      "Requirement already satisfied: nvidia-cufft-cu12==11.3.0.4 in /usr/local/lib/python3.12/dist-packages (from torch>=1.0.0->bert-score) (11.3.0.4)\n",
      "Requirement already satisfied: nvidia-curand-cu12==10.3.7.77 in /usr/local/lib/python3.12/dist-packages (from torch>=1.0.0->bert-score) (10.3.7.77)\n",
      "Requirement already satisfied: nvidia-cusolver-cu12==11.7.1.2 in /usr/local/lib/python3.12/dist-packages (from torch>=1.0.0->bert-score) (11.7.1.2)\n",
      "Requirement already satisfied: nvidia-cusparse-cu12==12.5.4.2 in /usr/local/lib/python3.12/dist-packages (from torch>=1.0.0->bert-score) (12.5.4.2)\n",
      "Requirement already satisfied: nvidia-cusparselt-cu12==0.7.1 in /usr/local/lib/python3.12/dist-packages (from torch>=1.0.0->bert-score) (0.7.1)\n",
      "Requirement already satisfied: nvidia-nccl-cu12==2.27.3 in /usr/local/lib/python3.12/dist-packages (from torch>=1.0.0->bert-score) (2.27.3)\n",
      "Requirement already satisfied: nvidia-nvtx-cu12==12.6.77 in /usr/local/lib/python3.12/dist-packages (from torch>=1.0.0->bert-score) (12.6.77)\n",
      "Requirement already satisfied: nvidia-nvjitlink-cu12==12.6.85 in /usr/local/lib/python3.12/dist-packages (from torch>=1.0.0->bert-score) (12.6.85)\n",
      "Requirement already satisfied: nvidia-cufile-cu12==1.11.1.6 in /usr/local/lib/python3.12/dist-packages (from torch>=1.0.0->bert-score) (1.11.1.6)\n",
      "Requirement already satisfied: triton==3.4.0 in /usr/local/lib/python3.12/dist-packages (from torch>=1.0.0->bert-score) (3.4.0)\n",
      "Requirement already satisfied: huggingface-hub<1.0,>=0.34.0 in /usr/local/lib/python3.12/dist-packages (from transformers>=3.0.0->bert-score) (0.34.4)\n",
      "Requirement already satisfied: pyyaml>=5.1 in /usr/local/lib/python3.12/dist-packages (from transformers>=3.0.0->bert-score) (6.0.2)\n",
      "Requirement already satisfied: regex!=2019.12.17 in /usr/local/lib/python3.12/dist-packages (from transformers>=3.0.0->bert-score) (2024.11.6)\n",
      "Requirement already satisfied: tokenizers<0.22,>=0.21 in /usr/local/lib/python3.12/dist-packages (from transformers>=3.0.0->bert-score) (0.21.4)\n",
      "Requirement already satisfied: safetensors>=0.4.3 in /usr/local/lib/python3.12/dist-packages (from transformers>=3.0.0->bert-score) (0.6.2)\n",
      "Requirement already satisfied: contourpy>=1.0.1 in /usr/local/lib/python3.12/dist-packages (from matplotlib->bert-score) (1.3.3)\n",
      "Requirement already satisfied: cycler>=0.10 in /usr/local/lib/python3.12/dist-packages (from matplotlib->bert-score) (0.12.1)\n",
      "Requirement already satisfied: fonttools>=4.22.0 in /usr/local/lib/python3.12/dist-packages (from matplotlib->bert-score) (4.59.1)\n",
      "Requirement already satisfied: kiwisolver>=1.3.1 in /usr/local/lib/python3.12/dist-packages (from matplotlib->bert-score) (1.4.9)\n",
      "Requirement already satisfied: pillow>=8 in /usr/local/lib/python3.12/dist-packages (from matplotlib->bert-score) (11.3.0)\n",
      "Requirement already satisfied: pyparsing>=2.3.1 in /usr/local/lib/python3.12/dist-packages (from matplotlib->bert-score) (3.2.3)\n",
      "Requirement already satisfied: charset_normalizer<4,>=2 in /usr/local/lib/python3.12/dist-packages (from requests->bert-score) (3.4.3)\n",
      "Requirement already satisfied: idna<4,>=2.5 in /usr/local/lib/python3.12/dist-packages (from requests->bert-score) (3.10)\n",
      "Requirement already satisfied: urllib3<3,>=1.21.1 in /usr/local/lib/python3.12/dist-packages (from requests->bert-score) (2.5.0)\n",
      "Requirement already satisfied: certifi>=2017.4.17 in /usr/local/lib/python3.12/dist-packages (from requests->bert-score) (2025.8.3)\n",
      "Requirement already satisfied: hf-xet<2.0.0,>=1.1.3 in /usr/local/lib/python3.12/dist-packages (from huggingface-hub<1.0,>=0.34.0->transformers>=3.0.0->bert-score) (1.1.7)\n",
      "Requirement already satisfied: six>=1.5 in /usr/local/lib/python3.12/dist-packages (from python-dateutil>=2.8.2->pandas>=1.0.1->bert-score) (1.17.0)\n",
      "Requirement already satisfied: mpmath<1.4,>=1.1.0 in /usr/local/lib/python3.12/dist-packages (from sympy>=1.13.3->torch>=1.0.0->bert-score) (1.3.0)\n",
      "Requirement already satisfied: MarkupSafe>=2.0 in /usr/local/lib/python3.12/dist-packages (from jinja2->torch>=1.0.0->bert-score) (3.0.2)\n",
      "Downloading bert_score-0.3.13-py3-none-any.whl (61 kB)\n",
      "\u001B[2K   \u001B[90m━━━━━━━━━━━━━━━━━━━━━━━━━━━━━━━━━━━━━━━━\u001B[0m \u001B[32m61.1/61.1 kB\u001B[0m \u001B[31m4.8 MB/s\u001B[0m eta \u001B[36m0:00:00\u001B[0m\n",
      "\u001B[?25hInstalling collected packages: bert-score\n",
      "Successfully installed bert-score-0.3.13\n"
     ]
    }
   ],
   "source": [
    "!pip install bert-score"
   ]
  },
  {
   "cell_type": "markdown",
   "metadata": {
    "id": "g1gAIXMpGYpj"
   },
   "source": [
    "#### **TRAINING**"
   ]
  },
  {
   "cell_type": "code",
   "metadata": {
    "colab": {
     "base_uri": "https://localhost:8080/",
     "height": 163,
     "referenced_widgets": [
      "94924e55e4624fe784814fd0435df01d",
      "ae26150212f54771a2d4e58ac1f9a97c",
      "0582c229b5a24c76aee720da8b40c683",
      "e2803dffcfa84be5b75ece6e3354cf73",
      "e58e57fb7ac042d3b3a5e87fa1172c2b",
      "f2c30ec9158b449282a439ad6d6cd792",
      "569da44bf7f74534be2b3be14483a12c",
      "172692dda2a34a4f85cfba8f2b4adf6a",
      "9212638b49344c539a22a27973accd3c",
      "dbc8b888cc0b45c5aa190b9159ffa1dc",
      "e25fb1df4f97467caed00074cf288ebf",
      "2c77aa8b272346d8a4a06ea4642e2d74",
      "569e60088fd3437992fb2652bba9495a",
      "ea8abf28f12b4e2eb10ff11aef85e98f",
      "427f0f4ef73e419eb402d4fbed9cf561",
      "d25dfefc33a14706be56b7a55ec38acb",
      "378ca2615f6c4c42936a844445f0f3d4",
      "4fe305785b414d3b92b2c50776b0e819",
      "826dcf9116cb4990a6165bb22bd73223",
      "ceee4056058e4acd97869f23f29b2ce3",
      "3e5c6377ab814cb1b0123c75bdd44795",
      "056c7b0110ec4440bfe1cadcd2eb0961",
      "31d59df89df241119fc0a7afa8dc3c5d",
      "e9c63e4bbbe14645b39504956dddd51c",
      "511707e9cddd49fcbc8e3a2c30aef38d",
      "3f7d99aa22ea40acbee330d9838ab9eb",
      "47a03e31720a4050af33e6b7ed7c638c",
      "78f9510fd865452493e4630ac89d7a70",
      "82874ab7c2ec43438efd9455a0f4f825",
      "0c52b6d07480492195b929e15c0a7f0f",
      "371ccaa66ee643e495fde0b19acc4960",
      "cb917be173554a50b88e16fc35080755",
      "bb517c3261b2409f99f1358ce1491eb3",
      "5ede14167b814c64b7633ced737c42c7",
      "cf2f7f2431c146b1b4d060f9a814a257",
      "d9e169150d3a49519f80e9770ec1400f",
      "394543298f884c7cb918e3ad4608667f",
      "04c368d83e2643688559bccccd45be5f",
      "1c0fc39b33ce45558edf1c8b0b765a85",
      "7f608b68233a42cbab786a1e69248766",
      "b9258f941f8f4c89a90efaeeb7773b86",
      "fd8e45f1e81b4acbb4e69d62b79b79d1",
      "047ef6ac6d6a438cb03aba7e8138520a",
      "d765298c742c483a9def1b08c1e443e6"
     ]
    },
    "id": "SaCwqAenNwvy",
    "outputId": "232cfd05-76dd-4bee-9f37-702fdeb6a3ca",
    "ExecuteTime": {
     "end_time": "2025-09-02T12:31:12.929580Z",
     "start_time": "2025-09-02T12:30:59.017776Z"
    }
   },
   "source": [
    "# Hugging Face Transformers\n",
    "from transformers import Trainer, TrainingArguments\n",
    "from datasets import load_dataset\n",
    "from transformers import LEDTokenizer, LEDForConditionalGeneration\n",
    "\n",
    "\n",
    "# Loading datasets\n",
    "dataset = load_dataset(\"csv\", data_files=\"../datasets/sample/gemini_generalization_dataset_sample.csv\", sep=',', split='train')\n",
    "print(dataset.column_names)\n",
    "\n",
    "dataset = dataset.map(lambda x: {\"full_note\": x[\"full_note\"], \"summary\": x[\"anonym_note\"]})\n",
    "dataset_split = dataset.train_test_split(test_size=0.2, seed=42)\n",
    "train_data = dataset_split[\"train\"]\n",
    "test_data = dataset_split[\"test\"]\n",
    "\n",
    "# Tokenization\n",
    "tokenizer = LEDTokenizer.from_pretrained(\"allenai/led-base-16384\")\n",
    "\n",
    "def preprocess(example):\n",
    "    inputs = tokenizer(example[\"full_note\"], truncation=True, padding=\"max_length\", max_length=4096)\n",
    "    targets = tokenizer(example[\"summary\"], truncation=True, padding=\"max_length\", max_length=512)\n",
    "    inputs[\"labels\"] = targets[\"input_ids\"]\n",
    "    return inputs\n",
    "\n",
    "train_data = train_data.map(preprocess, batched=True)\n",
    "test_data = test_data.map(preprocess, batched=True)"
   ],
   "outputs": [
    {
     "name": "stderr",
     "output_type": "stream",
     "text": [
      "C:\\Users\\rafau\\Documents\\PythonProjects\\DataSanitization\\venv\\Lib\\site-packages\\tqdm\\auto.py:21: TqdmWarning: IProgress not found. Please update jupyter and ipywidgets. See https://ipywidgets.readthedocs.io/en/stable/user_install.html\n",
      "  from .autonotebook import tqdm as notebook_tqdm\n"
     ]
    },
    {
     "name": "stdout",
     "output_type": "stream",
     "text": [
      "['index', 'note', 'anonym_note', 'sensitive_entity_note', 'full_note']\n"
     ]
    }
   ],
   "execution_count": 1
  },
  {
   "cell_type": "code",
   "execution_count": 8,
   "metadata": {
    "id": "6rrviDImPnXJ"
   },
   "outputs": [],
   "source": [
    "# Training Arguments\n",
    "from transformers import LongformerForSequenceClassification\n",
    "model_clear = LEDForConditionalGeneration.from_pretrained(\"allenai/led-base-16384\")\n",
    "\n",
    "# Enable gradient checkpointing on the model\n",
    "model_clear.gradient_checkpointing_enable()\n",
    "\n",
    "training_args = TrainingArguments(\n",
    "    output_dir=\"./results_generalization_summary\",        # folder for checkpoints\n",
    "    per_device_train_batch_size=2,\n",
    "    per_device_eval_batch_size=2,\n",
    "    gradient_accumulation_steps=8,                        # effectively larger batch size\n",
    "    fp16=True,                                            # mixed precision training\n",
    "    save_strategy=\"epoch\",                                # save checkpoint at every epoch\n",
    "    num_train_epochs=2,\n",
    "\n",
    "    # Logging\n",
    "    logging_dir=\"./logs\",\n",
    "    logging_steps=50,                                     # more frequent logging\n",
    "    report_to=[\"tensorboard\",\"wandb\"],                    # log to TensorBoard and W&B\n",
    "\n",
    "    # Learning rate and optimization\n",
    "    learning_rate=2e-5,                                   # more stable LR for small batches\n",
    "    weight_decay=0.01,                                    # regularization\n",
    "    adam_beta1=0.9,\n",
    "    adam_beta2=0.999,\n",
    "    adam_epsilon=1e-8,\n",
    "    lr_scheduler_type=\"linear\",\n",
    "    warmup_steps=100                                      # warmup during first steps\n",
    ")"
   ]
  },
  {
   "cell_type": "code",
   "execution_count": 9,
   "metadata": {
    "colab": {
     "base_uri": "https://localhost:8080/",
     "height": 751
    },
    "id": "PJVf3qkRPukk",
    "outputId": "59896c4a-6f36-4e73-d455-0ed2d685023d"
   },
   "outputs": [
    {
     "name": "stderr",
     "output_type": "stream",
     "text": [
      "/usr/local/lib/python3.12/dist-packages/notebook/notebookapp.py:191: SyntaxWarning: invalid escape sequence '\\/'\n",
      "  | |_| | '_ \\/ _` / _` |  _/ -_)\n"
     ]
    },
    {
     "data": {
      "application/javascript": [
       "\n",
       "        window._wandbApiKey = new Promise((resolve, reject) => {\n",
       "            function loadScript(url) {\n",
       "            return new Promise(function(resolve, reject) {\n",
       "                let newScript = document.createElement(\"script\");\n",
       "                newScript.onerror = reject;\n",
       "                newScript.onload = resolve;\n",
       "                document.body.appendChild(newScript);\n",
       "                newScript.src = url;\n",
       "            });\n",
       "            }\n",
       "            loadScript(\"https://cdn.jsdelivr.net/npm/postmate/build/postmate.min.js\").then(() => {\n",
       "            const iframe = document.createElement('iframe')\n",
       "            iframe.style.cssText = \"width:0;height:0;border:none\"\n",
       "            document.body.appendChild(iframe)\n",
       "            const handshake = new Postmate({\n",
       "                container: iframe,\n",
       "                url: 'https://wandb.ai/authorize'\n",
       "            });\n",
       "            const timeout = setTimeout(() => reject(\"Couldn't auto authenticate\"), 5000)\n",
       "            handshake.then(function(child) {\n",
       "                child.on('authorize', data => {\n",
       "                    clearTimeout(timeout)\n",
       "                    resolve(data)\n",
       "                });\n",
       "            });\n",
       "            })\n",
       "        });\n",
       "    "
      ],
      "text/plain": [
       "<IPython.core.display.Javascript object>"
      ]
     },
     "metadata": {},
     "output_type": "display_data"
    },
    {
     "name": "stderr",
     "output_type": "stream",
     "text": [
      "\u001B[34m\u001B[1mwandb\u001B[0m: Logging into wandb.ai. (Learn how to deploy a W&B server locally: https://wandb.me/wandb-server)\n",
      "\u001B[34m\u001B[1mwandb\u001B[0m: You can find your API key in your browser here: https://wandb.ai/authorize?ref=models\n",
      "wandb: Paste an API key from your profile and hit enter:"
     ]
    },
    {
     "name": "stdout",
     "output_type": "stream",
     "text": [
      " ··········\n"
     ]
    },
    {
     "name": "stderr",
     "output_type": "stream",
     "text": [
      "\u001B[34m\u001B[1mwandb\u001B[0m: \u001B[33mWARNING\u001B[0m If you're specifying your api key in code, ensure this code is not shared publicly.\n",
      "\u001B[34m\u001B[1mwandb\u001B[0m: \u001B[33mWARNING\u001B[0m Consider setting the WANDB_API_KEY environment variable, or running `wandb login` from the command line.\n",
      "\u001B[34m\u001B[1mwandb\u001B[0m: No netrc file found, creating one.\n",
      "\u001B[34m\u001B[1mwandb\u001B[0m: Appending key for api.wandb.ai to your netrc file: /root/.netrc\n",
      "\u001B[34m\u001B[1mwandb\u001B[0m: Currently logged in as: \u001B[33mraffaeleaurucci\u001B[0m (\u001B[33mraffaeleaurucci-universit-degli-studi-di-salerno\u001B[0m) to \u001B[32mhttps://api.wandb.ai\u001B[0m. Use \u001B[1m`wandb login --relogin`\u001B[0m to force relogin\n"
     ]
    },
    {
     "data": {
      "text/html": [
       "Tracking run with wandb version 0.21.1"
      ],
      "text/plain": [
       "<IPython.core.display.HTML object>"
      ]
     },
     "metadata": {},
     "output_type": "display_data"
    },
    {
     "data": {
      "text/html": [
       "Run data is saved locally in <code>/content/wandb/run-20250821_170427-8tvqirs8</code>"
      ],
      "text/plain": [
       "<IPython.core.display.HTML object>"
      ]
     },
     "metadata": {},
     "output_type": "display_data"
    },
    {
     "data": {
      "text/html": [
       "Syncing run <strong><a href='https://wandb.ai/raffaeleaurucci-universit-degli-studi-di-salerno/huggingface/runs/8tvqirs8' target=\"_blank\">swift-galaxy-31</a></strong> to <a href='https://wandb.ai/raffaeleaurucci-universit-degli-studi-di-salerno/huggingface' target=\"_blank\">Weights & Biases</a> (<a href='https://wandb.me/developer-guide' target=\"_blank\">docs</a>)<br>"
      ],
      "text/plain": [
       "<IPython.core.display.HTML object>"
      ]
     },
     "metadata": {},
     "output_type": "display_data"
    },
    {
     "data": {
      "text/html": [
       " View project at <a href='https://wandb.ai/raffaeleaurucci-universit-degli-studi-di-salerno/huggingface' target=\"_blank\">https://wandb.ai/raffaeleaurucci-universit-degli-studi-di-salerno/huggingface</a>"
      ],
      "text/plain": [
       "<IPython.core.display.HTML object>"
      ]
     },
     "metadata": {},
     "output_type": "display_data"
    },
    {
     "data": {
      "text/html": [
       " View run at <a href='https://wandb.ai/raffaeleaurucci-universit-degli-studi-di-salerno/huggingface/runs/8tvqirs8' target=\"_blank\">https://wandb.ai/raffaeleaurucci-universit-degli-studi-di-salerno/huggingface/runs/8tvqirs8</a>"
      ],
      "text/plain": [
       "<IPython.core.display.HTML object>"
      ]
     },
     "metadata": {},
     "output_type": "display_data"
    },
    {
     "data": {
      "text/html": [
       "\n",
       "    <div>\n",
       "      \n",
       "      <progress value='500' max='500' style='width:300px; height:20px; vertical-align: middle;'></progress>\n",
       "      [500/500 2:28:10, Epoch 2/2]\n",
       "    </div>\n",
       "    <table border=\"1\" class=\"dataframe\">\n",
       "  <thead>\n",
       " <tr style=\"text-align: left;\">\n",
       "      <th>Step</th>\n",
       "      <th>Training Loss</th>\n",
       "    </tr>\n",
       "  </thead>\n",
       "  <tbody>\n",
       "    <tr>\n",
       "      <td>50</td>\n",
       "      <td>6.755200</td>\n",
       "    </tr>\n",
       "    <tr>\n",
       "      <td>100</td>\n",
       "      <td>3.292900</td>\n",
       "    </tr>\n",
       "    <tr>\n",
       "      <td>150</td>\n",
       "      <td>1.890700</td>\n",
       "    </tr>\n",
       "    <tr>\n",
       "      <td>200</td>\n",
       "      <td>1.194200</td>\n",
       "    </tr>\n",
       "    <tr>\n",
       "      <td>250</td>\n",
       "      <td>0.933000</td>\n",
       "    </tr>\n",
       "    <tr>\n",
       "      <td>300</td>\n",
       "      <td>0.821000</td>\n",
       "    </tr>\n",
       "    <tr>\n",
       "      <td>350</td>\n",
       "      <td>0.796900</td>\n",
       "    </tr>\n",
       "    <tr>\n",
       "      <td>400</td>\n",
       "      <td>0.762000</td>\n",
       "    </tr>\n",
       "    <tr>\n",
       "      <td>450</td>\n",
       "      <td>0.782300</td>\n",
       "    </tr>\n",
       "    <tr>\n",
       "      <td>500</td>\n",
       "      <td>0.771000</td>\n",
       "    </tr>\n",
       "  </tbody>\n",
       "</table><p>"
      ],
      "text/plain": [
       "<IPython.core.display.HTML object>"
      ]
     },
     "metadata": {},
     "output_type": "display_data"
    },
    {
     "data": {
      "text/plain": [
       "TrainOutput(global_step=500, training_loss=1.7999224243164063, metrics={'train_runtime': 8925.1961, 'train_samples_per_second': 0.896, 'train_steps_per_second': 0.056, 'total_flos': 2.1601638678528e+16, 'train_loss': 1.7999224243164063, 'epoch': 2.0})"
      ]
     },
     "execution_count": 9,
     "metadata": {},
     "output_type": "execute_result"
    }
   ],
   "source": [
    "# Trainer\n",
    "trainer = Trainer(\n",
    "    model=model_clear,\n",
    "    args=training_args,\n",
    "    train_dataset=train_data,\n",
    "    eval_dataset=test_data,\n",
    ")\n",
    "trainer.train()"
   ]
  },
  {
   "cell_type": "code",
   "execution_count": 4,
   "metadata": {
    "ExecuteTime": {
     "end_time": "2025-08-28T15:11:10.332717Z",
     "start_time": "2025-08-28T15:11:10.040838Z"
    }
   },
   "outputs": [
    {
     "data": {
      "image/png": "[encoded data removed]",
      "text/plain": [
       "<Figure size 800x500 with 1 Axes>"
      ]
     },
     "metadata": {},
     "output_type": "display_data"
    }
   ],
   "source": [
    "import matplotlib.pyplot as plt\n",
    "\n",
    "# Data\n",
    "steps = [50, 100, 150, 200, 250, 300, 350, 400, 450, 500]\n",
    "train_losses = [6.7552, 3.2929, 1.8907, 1.1942, 0.9330, 0.8210, 0.7969, 0.7620, 0.7823, 0.7710]\n",
    "\n",
    "# Plot\n",
    "plt.figure(figsize=(8, 5))\n",
    "plt.plot(steps, train_losses, marker='s', linestyle='-', linewidth=2, markersize=6)\n",
    "\n",
    "# Label and title\n",
    "plt.title(\"Training Loss (Data Generalization)\", fontsize=14)\n",
    "plt.xlabel(\"Step\", fontsize=12)\n",
    "plt.ylabel(\"Training Loss\", fontsize=12)\n",
    "\n",
    "# Grid\n",
    "plt.grid(True, linestyle=\"--\", alpha=0.6)\n",
    "\n",
    "plt.show()"
   ]
  },
  {
   "cell_type": "code",
   "execution_count": 10,
   "metadata": {
    "colab": {
     "base_uri": "https://localhost:8080/"
    },
    "id": "vBoYW0N9Hotv",
    "outputId": "93850122-bd83-49c5-aa29-2dd8a9275b0d"
   },
   "outputs": [
    {
     "name": "stdout",
     "output_type": "stream",
     "text": [
      "  adding: results_generalization_summary/checkpoint-500/ (stored 0%)\n",
      "  adding: results_generalization_summary/checkpoint-500/trainer_state.json (deflated 70%)\n",
      "  adding: results_generalization_summary/checkpoint-500/optimizer.pt (deflated 14%)\n",
      "  adding: results_generalization_summary/checkpoint-500/config.json (deflated 60%)\n",
      "  adding: results_generalization_summary/checkpoint-500/scheduler.pt (deflated 62%)\n",
      "  adding: results_generalization_summary/checkpoint-500/generation_config.json (deflated 33%)\n",
      "  adding: results_generalization_summary/checkpoint-500/model.safetensors (deflated 11%)\n",
      "  adding: results_generalization_summary/checkpoint-500/scaler.pt (deflated 64%)\n",
      "  adding: results_generalization_summary/checkpoint-500/rng_state.pth (deflated 26%)\n",
      "  adding: results_generalization_summary/checkpoint-500/training_args.bin (deflated 53%)\n"
     ]
    }
   ],
   "source": [
    "!zip -r results_generalization_summary.zip results_generalization_summary/checkpoint-500/"
   ]
  },
  {
   "cell_type": "code",
   "execution_count": 11,
   "metadata": {
    "colab": {
     "base_uri": "https://localhost:8080/",
     "height": 34
    },
    "id": "A8JsKlc54wMw",
    "outputId": "cf32cd56-f81c-4dec-c3b0-d7b1846eb9f1"
   },
   "outputs": [
    {
     "data": {
      "application/javascript": [
       "\n",
       "    async function download(id, filename, size) {\n",
       "      if (!google.colab.kernel.accessAllowed) {\n",
       "        return;\n",
       "      }\n",
       "      const div = document.createElement('div');\n",
       "      const label = document.createElement('label');\n",
       "      label.textContent = `Downloading \"${filename}\": `;\n",
       "      div.appendChild(label);\n",
       "      const progress = document.createElement('progress');\n",
       "      progress.max = size;\n",
       "      div.appendChild(progress);\n",
       "      document.body.appendChild(div);\n",
       "\n",
       "      const buffers = [];\n",
       "      let downloaded = 0;\n",
       "\n",
       "      const channel = await google.colab.kernel.comms.open(id);\n",
       "      // Send a message to notify the kernel that we're ready.\n",
       "      channel.send({})\n",
       "\n",
       "      for await (const message of channel.messages) {\n",
       "        // Send a message to notify the kernel that we're ready.\n",
       "        channel.send({})\n",
       "        if (message.buffers) {\n",
       "          for (const buffer of message.buffers) {\n",
       "            buffers.push(buffer);\n",
       "            downloaded += buffer.byteLength;\n",
       "            progress.value = downloaded;\n",
       "          }\n",
       "        }\n",
       "      }\n",
       "      const blob = new Blob(buffers, {type: 'application/binary'});\n",
       "      const a = document.createElement('a');\n",
       "      a.href = window.URL.createObjectURL(blob);\n",
       "      a.download = filename;\n",
       "      div.appendChild(a);\n",
       "      a.click();\n",
       "      div.remove();\n",
       "    }\n",
       "  "
      ],
      "text/plain": [
       "<IPython.core.display.Javascript object>"
      ]
     },
     "metadata": {},
     "output_type": "display_data"
    },
    {
     "data": {
      "application/javascript": [
       "download(\"download_64eb1869-df26-46a4-99d0-f0e6859498d6\", \"results_generalization_summary.zip\", 1620322768)"
      ],
      "text/plain": [
       "<IPython.core.display.Javascript object>"
      ]
     },
     "metadata": {},
     "output_type": "display_data"
    }
   ],
   "source": [
    "from google.colab import files\n",
    "\n",
    "# Download file CSV\n",
    "files.download(\"results_generalization_summary.zip\")"
   ]
  },
  {
   "cell_type": "code",
   "execution_count": 12,
   "metadata": {
    "colab": {
     "base_uri": "https://localhost:8080/"
    },
    "id": "JIUZClu-lgUh",
    "outputId": "1e5ca909-92f9-4a38-8e07-9b3f9570199d"
   },
   "outputs": [
    {
     "name": "stdout",
     "output_type": "stream",
     "text": [
      "Step 1 - Training Loss: 6.7552\n",
      "Step 2 - Training Loss: 3.2929\n",
      "Step 3 - Training Loss: 1.8907\n",
      "Step 4 - Training Loss: 1.1942\n",
      "Step 5 - Training Loss: 0.933\n",
      "Step 6 - Training Loss: 0.821\n",
      "Step 7 - Training Loss: 0.7969\n",
      "Step 8 - Training Loss: 0.762\n",
      "Step 9 - Training Loss: 0.7823\n",
      "Step 10 - Training Loss: 0.771\n"
     ]
    }
   ],
   "source": [
    "losses = [x[\"loss\"] for x in trainer.state.log_history if \"loss\" in x]\n",
    "\n",
    "for step, loss in enumerate(losses, 1):\n",
    "    print(f\"Step {step} - Training Loss: {loss}\")"
   ]
  },
  {
   "cell_type": "code",
   "execution_count": 8,
   "metadata": {
    "colab": {
     "base_uri": "https://localhost:8080/"
    },
    "id": "JvTbfbU8ggZ2",
    "outputId": "72d97277-37c6-44fb-979a-da0fdef42b7c"
   },
   "outputs": [
    {
     "name": "stderr",
     "output_type": "stream",
     "text": [
      "\r",
      "Generating summary:   0%|          | 0/1000 [00:00<?, ?it/s]/usr/local/lib/python3.12/dist-packages/transformers/generation/utils.py:1636: UserWarning: Unfeasible length constraints: `min_length` (400) is larger than the maximum possible length (257). Generation will stop at the defined maximum length. You should decrease the minimum length and/or increase the maximum length.\n",
      "  warnings.warn(\n",
      "Generating summary: 100%|██████████| 1000/1000 [41:15<00:00,  2.48s/it]\n"
     ]
    },
    {
     "name": "stdout",
     "output_type": "stream",
     "text": [
      "Number of inferences: 1000\n"
     ]
    }
   ],
   "source": [
    "from transformers import pipeline, logging\n",
    "from tqdm import tqdm\n",
    "\n",
    "# Disable warnings\n",
    "logging.set_verbosity_error()\n",
    "\n",
    "# Disable gradient checkpointing\n",
    "model_clear.gradient_checkpointing_disable()\n",
    "\n",
    "# Summarization pipeline\n",
    "summarizer_clear = pipeline(\"summarization\", model=model_clear, tokenizer=tokenizer, device=0)\n",
    "\n",
    "# Test set\n",
    "test_texts = [ex[\"full_note\"] for ex in test_data]\n",
    "\n",
    "# List to store the generated summaries\n",
    "generated_summaries = []\n",
    "\n",
    "# Progress bar with tqdm\n",
    "for text in tqdm(test_texts, desc=\"Generating summary\"):\n",
    "    summary = summarizer_clear(\n",
    "        text,\n",
    "        max_length=512,\n",
    "        min_length=400,\n",
    "        truncation=True\n",
    "    )[0][\"summary_text\"]\n",
    "    generated_summaries.append(summary)\n",
    "\n",
    "# Number of inferences\n",
    "num_inferenze = len(generated_summaries)\n",
    "print(f\"Number of inferences: {num_inferenze}\")\n",
    "\n",
    "# Reference summaries\n",
    "references = [ex[\"summary\"] for ex in test_data]"
   ]
  },
  {
   "cell_type": "code",
   "execution_count": 9,
   "metadata": {
    "colab": {
     "base_uri": "https://localhost:8080/",
     "height": 200
    },
    "id": "M-YRJkpB92Zh",
    "outputId": "71270bd9-72e6-4c81-c2c1-4706c6b94eca"
   },
   "outputs": [
    {
     "data": {
      "application/vnd.google.colaboratory.intrinsic+json": {
       "type": "string"
      },
      "text/plain": [
       "\"The patient was an adult who presented with a swelling of the posterior surface of the left leg. The patient's prior history included a prolonged stay in hospital for treatment of a bacterial infection, which was performed. The patient had also previously undergone multiple surgical procedures to treat an intestinal tumor and varicose veins surgery. Physical examination revealed a pulsating mass in the posterior region of the left leg. Femoral, popliteal, and dorsal pedal pulses were palpable and normal in both lower limbs. The posterior tibial artery pulse was absent, whereas the posterior tibial artery pulse was palpable in the right lower limb. Magnetic resonance angiography showed a saccular dilatation in the tibioperoneal trunk with a large diameter, at the level of the origin of the posterior tibial artery. The posterior tibial artery was also occluded. Investigation was supplemented with laboratory tests, which all returned normal results, in addition to blood cultures, which were negative. Having ruled out other probable etiologies and active infections, in view of the history of bacterial endocarditis, it was decided to perform a less invasive treatment, considering the inflammatory/infectious pathophysiology and the size and site of the pseudoaneurysm. A\""
      ]
     },
     "execution_count": 9,
     "metadata": {},
     "output_type": "execute_result"
    }
   ],
   "source": [
    "generated_summaries[0]"
   ]
  },
  {
   "cell_type": "code",
   "execution_count": 15,
   "metadata": {
    "colab": {
     "base_uri": "https://localhost:8080/",
     "height": 140,
     "referenced_widgets": [
      "172c10ada4294a06bb87032d82752ddb",
      "89e382d0a8524882974fead440c8ba88",
      "b1b47c526b324e838cffb38a7aef2e85",
      "17898f7e1d944318acdbcd018f78c7d7",
      "e30aad1ef6464ed59775671c6be5a68f",
      "4f74ea779b3242aaaa53dadc355ae4c9",
      "cc12a193371140738434518189826756",
      "4583df3d14354c18848f4c120935496f",
      "d861a9dec3bf4d6984e1d1d72069c6b3",
      "378aaf9a642f4d219e23e7f8cd205a3e",
      "fdeb22bfce444efca94ddd5035c158a8"
     ]
    },
    "id": "YKmb-6WLP4h_",
    "outputId": "6ca17c49-bb03-48be-e865-66a1a2c55df6"
   },
   "outputs": [
    {
     "data": {
      "application/vnd.jupyter.widget-view+json": {
       "model_id": "172c10ada4294a06bb87032d82752ddb",
       "version_major": 2,
       "version_minor": 0
      },
      "text/plain": [
       "Downloading builder script: 0.00B [00:00, ?B/s]"
      ]
     },
     "metadata": {},
     "output_type": "display_data"
    },
    {
     "name": "stdout",
     "output_type": "stream",
     "text": [
      "ROUGE - Model on randomized data:\n",
      "rouge1: 0.5687\n",
      "rouge2: 0.3418\n",
      "rougeL: 0.4565\n",
      "rougeLsum: 0.4566\n"
     ]
    }
   ],
   "source": [
    "# Evaluations\n",
    "import evaluate\n",
    "\n",
    "# ROUGE\n",
    "rouge = evaluate.load(\"rouge\")\n",
    "\n",
    "results_clear = rouge.compute(predictions=generated_summaries, references=references)\n",
    "print(\"ROUGE - Model on randomized data:\")\n",
    "for k, v in results_clear.items():\n",
    "    print(f\"{k}: {v:.4f}\")"
   ]
  },
  {
   "cell_type": "code",
   "execution_count": 16,
   "metadata": {
    "colab": {
     "base_uri": "https://localhost:8080/",
     "height": 131,
     "referenced_widgets": [
      "3b4d5c40db4e4f0ab19b5ee4bed2f508",
      "afe806767f00459593c74d6a1f43ff0b",
      "737b5590c2014fb78ac8df6e94c6f7ca",
      "b732a53ae3764f209017b46ff24f6889",
      "b5723b222a9a4d3db6f3ce14b4ba134f",
      "4ba441117a9b472e8bb388875871377f",
      "fda964cd901144fb9758aecd9bdb258d",
      "022cb9527ef34cc09f7ea409adc7273b",
      "436a17603ff043df9548e16bf818cc59",
      "218ec738fcaa40a9a6bcc1860536b236",
      "2a302da87dca4d9f9e89ef54b29e4205",
      "dc723aad293646b186641095c05dc989",
      "013088de3376408f8c79a838cad6e3ae",
      "38940663d64a4162bff8e62265ffa6c0",
      "fe9308d2017546fea4b51ba29c0cb33c",
      "1e0ca7fab2a347c88ffffc9d4c7774e2",
      "32cecfd2210343c29db86b42b4bda9e3",
      "6e75737cc51b419789e53ddf4fd08bfb",
      "fb7b1fc7d85945e0a978aefdca6406e2",
      "2fefc1bdc9a24095adf9b9c389a94171",
      "e88c34e0b16a4571a26a33232edfac42",
      "e59c2f59380140f989fc9ca246573c3a",
      "871376a4e10d4e7aa3056812e213922b",
      "72303f466ca84d67a7966397cec5ebfe",
      "f65064afad384a99baa3196a3424091f",
      "7444e45b74724fea963d7c3b0c111e06",
      "e497dcca02a544d5aa9de5bcb7b731fc",
      "1d77ecca0dfd454ebdf13431e745e602",
      "fd12567c31ef42e38d7da10009dfea62",
      "ad0487d1423f4a538e9d316b6c9ea0ca",
      "ca8a6d8d61aa469abc6b6a72e72edb60",
      "ad629f52041b4ffeb1177cf7f5a41dec",
      "637ceb8f4c5643eda5f74aca1715de61"
     ]
    },
    "id": "qPybKrDg9Q0C",
    "outputId": "5fdc3887-db7f-42d4-8107-3684745617b4"
   },
   "outputs": [
    {
     "data": {
      "application/vnd.jupyter.widget-view+json": {
       "model_id": "3b4d5c40db4e4f0ab19b5ee4bed2f508",
       "version_major": 2,
       "version_minor": 0
      },
      "text/plain": [
       "Downloading builder script: 0.00B [00:00, ?B/s]"
      ]
     },
     "metadata": {},
     "output_type": "display_data"
    },
    {
     "data": {
      "application/vnd.jupyter.widget-view+json": {
       "model_id": "dc723aad293646b186641095c05dc989",
       "version_major": 2,
       "version_minor": 0
      },
      "text/plain": [
       "Downloading extra modules:   0%|          | 0.00/1.55k [00:00<?, ?B/s]"
      ]
     },
     "metadata": {},
     "output_type": "display_data"
    },
    {
     "data": {
      "application/vnd.jupyter.widget-view+json": {
       "model_id": "871376a4e10d4e7aa3056812e213922b",
       "version_major": 2,
       "version_minor": 0
      },
      "text/plain": [
       "Downloading extra modules: 0.00B [00:00, ?B/s]"
      ]
     },
     "metadata": {},
     "output_type": "display_data"
    },
    {
     "name": "stdout",
     "output_type": "stream",
     "text": [
      "BLEU score: 0.2960\n"
     ]
    }
   ],
   "source": [
    "# BLEU\n",
    "bleu = evaluate.load(\"bleu\")\n",
    "\n",
    "references_bleu = [[ref] for ref in references]\n",
    "\n",
    "results_bleu = bleu.compute(predictions=generated_summaries, references=references_bleu)\n",
    "\n",
    "print(f\"BLEU score: {results_bleu['bleu']:.4f}\")"
   ]
  },
  {
   "cell_type": "code",
   "execution_count": 17,
   "metadata": {
    "colab": {
     "base_uri": "https://localhost:8080/",
     "height": 401,
     "referenced_widgets": [
      "bb4d6ce00acc4d7da82b75b27580de96",
      "b6a8ef80b9644bd9a2d9504028af6445",
      "b794047d4f5d468d9bf2b9e6ef74be54",
      "ac3be61ebc3b4070bb44f04252798e8b",
      "c40c3a0cd1bb46b1b89f9500477b8bd7",
      "cd8fa9336c1541328469fed6c4b5d75d",
      "fd445811030444b59742d4bbf40b2d3e",
      "1569948a5a254d45bc263b9d41e5e4e0",
      "1577b3e0b0c146ec9b98e9c2a0fd07f3",
      "1fb98e56237343e985b86eaf676f4d56",
      "d82b6ce277044420832f7dbb28ba9525",
      "955e34b03ef54092a9fd6d4aa08ad229",
      "1987503997cd49248f2fbb99df58c770",
      "854ecfa4265547fe9c40ff65789e6f2f",
      "9b1c661aaddb4c3f9e39d11daa63fdfe",
      "2c9b0b2bf825449d9361ecf86c9b30a1",
      "8a12c412771745bb8a70ee23c827b7a4",
      "331e83163d964e13bd33a598110d117b",
      "882957053c0c4ef5861f5fc0dc987804",
      "8f8a5bcee2184817b4b00be1f4842425",
      "d3a0950f69a144a685a338d5dc594037",
      "1493506022c948fca7379cb6b55ab01d",
      "9fe733e448994f3baa61a4b29d1d845e",
      "9f097a1540aa475ba127b16aa6e1d42a",
      "ae900d70dcd74acca7a55cfb399bcf3e",
      "638a76104e754eefbe08a8ec68f267f3",
      "f7eb8c9fff1f400d9d26d6288b6d535d",
      "d2825007fae84f79a8fe39460b5bef3d",
      "ed2ce607cf6a4e1fafffa72cc897624c",
      "37001e8870bb450184f38f2c9f0275af",
      "e6ca97c3a46a4b039ffff070f67c3438",
      "d04f56f9e2824b719e798b64235c5b08",
      "896c474bd45a4654a3b1904017b1641f",
      "2f1615089d0a475faa755c94b8407124",
      "c1a19825425b481d893a17d47705579e",
      "a44c61f7a821466ebacc2a7bae4038a3",
      "5de8d46ccdcd4ed386b06b931295296f",
      "ecf8e3e141204862bade72765645776a",
      "e5971988995c4383834ad031c17a12aa",
      "360ab70716c24ae68a5b319f4708a0dd",
      "f31843e71b2c4d59af19e86e5b1a7f91",
      "fd8bdc7c7e044f37b4ec3de608ad186d",
      "49c8bf170bfd48939644b97602911570",
      "f0383d3da1ae45a9adcf8d3756838c08",
      "06f584baee12453aaefe9e1c7e963595",
      "c9df44e964e04564a2dc98fe0ef262ef",
      "2cd5140fca154bb68baf68ddca2c3fb8",
      "fe5e4959e89448f6a29e106d700322fa",
      "ad6779e5392048f4a40b570a6bdfdf0f",
      "1edb139e24394267943f50fbc52f86f5",
      "432a408d57404f0494edc7c07d4100d1",
      "1cc4d1a265914b21a4cfee3ed80b2708",
      "e7d5e6c27f224eddafee8b94179cfa0f",
      "8944001b53cd4ac891ccdba86043fb80",
      "0286157401cf4062932b1410030ff680",
      "dd708b9b83a14b0ca9280985e448555a",
      "ea0cf50285b44368b8d5680ca3c0d1ef",
      "24fcba427c624eaf94bd6ad5041b42d3",
      "fc1ad354191b4647a6a60dfe8a00e8f6",
      "58086448043b4d56baceb26450656422",
      "6f84cf075866481b82a80614b654b34d",
      "2e4a84cce5aa4a7aa83a584c1b2b4f11",
      "7e92d058be144cfba71c2752c711ec65",
      "db5b1c36e39a4706aacd9ac75d15ca14",
      "feb678f9a2694136a7552ee0dab3423a",
      "b9f11590767d4b3fab858d81cb167ff8",
      "0e82e18a47e44df4bd376b6b6406bd57",
      "a94ebb5fd040446eadd0cd3af4560d2e",
      "4b21c4f39a4949baae4abed96e2e79d8",
      "4af10974b2814195a3d0dd2fa32897dd",
      "c772e97151124781abc908ee4f6af6fe",
      "355b8971353144258994f6a172ae4b57",
      "3ec56ab392bf4889a9ac26677ec7dc6a",
      "2dd044a1acb84e07acb42635b17962a1",
      "fde9040400ef4b8a858936146bd65713",
      "ca894399264d4548b3fe2b32adc4d3b3",
      "5cb4e0bf0d18442980a9fab0a40f1b8e",
      "4ec952d0142e4b0db3c1e09adee30272",
      "b5e5b52ede4b43698e125e10985cb102",
      "a5293ec542e742f795fa51136f66c84f",
      "9dc6c6c5e8aa425897798b6cfbd19cf0",
      "ff0ab5548d834049b31f67c05c593e84",
      "75566143681a42bd9aff88c60e03dbc0",
      "140b1163b9dc473ea8f1f39b2706ddc7",
      "716ff8c2cfa344a7a57df639b10e8f6d",
      "2bdf02907ec34e99af50a051b0a2aa3f",
      "b6ea782293874e9990367beb2c538078",
      "74dc9e9d88be495eabeae6f17e797528"
     ]
    },
    "id": "3JJXLNFJBvcS",
    "outputId": "e14268e6-f118-42f7-840b-3fe70f17e564"
   },
   "outputs": [
    {
     "data": {
      "application/vnd.jupyter.widget-view+json": {
       "model_id": "bb4d6ce00acc4d7da82b75b27580de96",
       "version_major": 2,
       "version_minor": 0
      },
      "text/plain": [
       "tokenizer_config.json:   0%|          | 0.00/25.0 [00:00<?, ?B/s]"
      ]
     },
     "metadata": {},
     "output_type": "display_data"
    },
    {
     "data": {
      "application/vnd.jupyter.widget-view+json": {
       "model_id": "955e34b03ef54092a9fd6d4aa08ad229",
       "version_major": 2,
       "version_minor": 0
      },
      "text/plain": [
       "config.json:   0%|          | 0.00/482 [00:00<?, ?B/s]"
      ]
     },
     "metadata": {},
     "output_type": "display_data"
    },
    {
     "data": {
      "application/vnd.jupyter.widget-view+json": {
       "model_id": "9fe733e448994f3baa61a4b29d1d845e",
       "version_major": 2,
       "version_minor": 0
      },
      "text/plain": [
       "vocab.json:   0%|          | 0.00/899k [00:00<?, ?B/s]"
      ]
     },
     "metadata": {},
     "output_type": "display_data"
    },
    {
     "data": {
      "application/vnd.jupyter.widget-view+json": {
       "model_id": "2f1615089d0a475faa755c94b8407124",
       "version_major": 2,
       "version_minor": 0
      },
      "text/plain": [
       "merges.txt:   0%|          | 0.00/456k [00:00<?, ?B/s]"
      ]
     },
     "metadata": {},
     "output_type": "display_data"
    },
    {
     "data": {
      "application/vnd.jupyter.widget-view+json": {
       "model_id": "06f584baee12453aaefe9e1c7e963595",
       "version_major": 2,
       "version_minor": 0
      },
      "text/plain": [
       "tokenizer.json:   0%|          | 0.00/1.36M [00:00<?, ?B/s]"
      ]
     },
     "metadata": {},
     "output_type": "display_data"
    },
    {
     "data": {
      "application/vnd.jupyter.widget-view+json": {
       "model_id": "dd708b9b83a14b0ca9280985e448555a",
       "version_major": 2,
       "version_minor": 0
      },
      "text/plain": [
       "model.safetensors:   0%|          | 0.00/1.42G [00:00<?, ?B/s]"
      ]
     },
     "metadata": {},
     "output_type": "display_data"
    },
    {
     "name": "stdout",
     "output_type": "stream",
     "text": [
      "calculating scores...\n",
      "computing bert embedding.\n"
     ]
    },
    {
     "data": {
      "application/vnd.jupyter.widget-view+json": {
       "model_id": "0e82e18a47e44df4bd376b6b6406bd57",
       "version_major": 2,
       "version_minor": 0
      },
      "text/plain": [
       "  0%|          | 0/32 [00:00<?, ?it/s]"
      ]
     },
     "metadata": {},
     "output_type": "display_data"
    },
    {
     "name": "stdout",
     "output_type": "stream",
     "text": [
      "computing greedy matching.\n"
     ]
    },
    {
     "data": {
      "application/vnd.jupyter.widget-view+json": {
       "model_id": "4ec952d0142e4b0db3c1e09adee30272",
       "version_major": 2,
       "version_minor": 0
      },
      "text/plain": [
       "  0%|          | 0/16 [00:00<?, ?it/s]"
      ]
     },
     "metadata": {},
     "output_type": "display_data"
    },
    {
     "name": "stdout",
     "output_type": "stream",
     "text": [
      "done in 87.90 seconds, 11.38 sentences/sec\n",
      "Precision: 0.8973\n",
      "Recall: 0.8938\n",
      "F1: 0.8954\n"
     ]
    }
   ],
   "source": [
    "from bert_score import score\n",
    "\n",
    "# BERTScore\n",
    "P, R, F1 = score(generated_summaries, references, lang=\"en\", verbose=True)\n",
    "\n",
    "print(f\"Precision: {P.mean().item():.4f}\")\n",
    "print(f\"Recall: {R.mean().item():.4f}\")\n",
    "print(f\"F1: {F1.mean().item():.4f}\")"
   ]
  },
  {
   "cell_type": "code",
   "execution_count": 10,
   "metadata": {
    "colab": {
     "base_uri": "https://localhost:8080/",
     "height": 17
    },
    "id": "ULcQPFtqCgEC",
    "outputId": "8c8d19f5-fbbf-4c8a-f312-65baa79db549"
   },
   "outputs": [
    {
     "data": {
      "application/javascript": [
       "\n",
       "    async function download(id, filename, size) {\n",
       "      if (!google.colab.kernel.accessAllowed) {\n",
       "        return;\n",
       "      }\n",
       "      const div = document.createElement('div');\n",
       "      const label = document.createElement('label');\n",
       "      label.textContent = `Downloading \"${filename}\": `;\n",
       "      div.appendChild(label);\n",
       "      const progress = document.createElement('progress');\n",
       "      progress.max = size;\n",
       "      div.appendChild(progress);\n",
       "      document.body.appendChild(div);\n",
       "\n",
       "      const buffers = [];\n",
       "      let downloaded = 0;\n",
       "\n",
       "      const channel = await google.colab.kernel.comms.open(id);\n",
       "      // Send a message to notify the kernel that we're ready.\n",
       "      channel.send({})\n",
       "\n",
       "      for await (const message of channel.messages) {\n",
       "        // Send a message to notify the kernel that we're ready.\n",
       "        channel.send({})\n",
       "        if (message.buffers) {\n",
       "          for (const buffer of message.buffers) {\n",
       "            buffers.push(buffer);\n",
       "            downloaded += buffer.byteLength;\n",
       "            progress.value = downloaded;\n",
       "          }\n",
       "        }\n",
       "      }\n",
       "      const blob = new Blob(buffers, {type: 'application/binary'});\n",
       "      const a = document.createElement('a');\n",
       "      a.href = window.URL.createObjectURL(blob);\n",
       "      a.download = filename;\n",
       "      div.appendChild(a);\n",
       "      a.click();\n",
       "      div.remove();\n",
       "    }\n",
       "  "
      ],
      "text/plain": [
       "<IPython.core.display.Javascript object>"
      ]
     },
     "metadata": {},
     "output_type": "display_data"
    },
    {
     "data": {
      "application/javascript": [
       "download(\"download_368800f8-d0be-40e9-857b-95703e5629de\", \"summaries_randomized.csv\", 4680380)"
      ],
      "text/plain": [
       "<IPython.core.display.Javascript object>"
      ]
     },
     "metadata": {},
     "output_type": "display_data"
    }
   ],
   "source": [
    "import csv\n",
    "from google.colab import files\n",
    "\n",
    "with open(\"summaries_generalization.csv\", \"w\", newline=\"\", encoding=\"utf-8\") as f:\n",
    "    writer = csv.writer(f)\n",
    "    writer.writerow([\"full_note\", \"summary\"])\n",
    "    for full_note, summary in zip(test_texts, generated_summaries):\n",
    "        writer.writerow([full_note, summary])\n",
    "\n",
    "# Download file CSV\n",
    "files.download(\"summaries_generalization.csv\")"
   ]
  },
  {
   "cell_type": "code",
   "execution_count": 11,
   "metadata": {
    "colab": {
     "base_uri": "https://localhost:8080/"
    },
    "id": "CIzA_1c8qxHq",
    "outputId": "bf252cf6-ce18-4d54-f570-d3c7327200e3"
   },
   "outputs": [
    {
     "name": "stdout",
     "output_type": "stream",
     "text": [
      "Average token per entry in train set: 307.49\n"
     ]
    }
   ],
   "source": [
    "from statistics import mean\n",
    "\n",
    "texts = [ex[\"summary\"] for ex in train_data]\n",
    "token_lengths = [len(tokenizer(text)[\"input_ids\"]) for text in texts]\n",
    "avg_tokens = mean(token_lengths)\n",
    "\n",
    "print(f\"Average token per entry in train set: {avg_tokens:.2f}\")"
   ]
  },
  {
   "metadata": {
    "ExecuteTime": {
     "end_time": "2025-09-02T12:59:39.023879Z",
     "start_time": "2025-09-02T12:59:39.014880Z"
    }
   },
   "cell_type": "code",
   "source": [
    "from statistics import mean\n",
    "\n",
    "texts = [ex[\"full_note\"] for ex in train_data]\n",
    "token_lengths = [len(tokenizer(text)[\"input_ids\"]) for text in texts]\n",
    "max_token_length = max(token_lengths)\n",
    "avg_tokens = mean(token_lengths)\n",
    "\n",
    "print(f\"Average token per entry in train set: {avg_tokens:.2f}\")\n",
    "print(f\"Max token per entry in train set: {max_token_length:.2f}\")\n",
    "\n",
    "print(len([token for token in token_lengths if token > 4096]))"
   ],
   "outputs": [
    {
     "name": "stdout",
     "output_type": "stream",
     "text": [
      "Average token per entry in train set: 739.61\n",
      "Max token per entry in train set: 5454.00\n",
      "2\n"
     ]
    }
   ],
   "execution_count": 3
  }
 ],
 "metadata": {
  "accelerator": "GPU",
  "colab": {
   "gpuType": "T4",
   "provenance": []
  },
  "kernelspec": {
   "display_name": "Python 3 (ipykernel)",
   "language": "python",
   "name": "python3"
  },
  "language_info": {
   "name": "python"
  }
 },
 "nbformat": 4,
 "nbformat_minor": 0
}
