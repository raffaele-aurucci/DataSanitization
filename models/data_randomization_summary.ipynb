{
 "cells": [
  {
   "cell_type": "markdown",
   "metadata": {
    "id": "BsAfz2vUCl8N"
   },
   "source": [
    "### **Text Summarization on randomized data**"
   ]
  },
  {
   "cell_type": "code",
   "execution_count": null,
   "metadata": {
    "colab": {
     "base_uri": "https://localhost:8080/"
    },
    "id": "k7vZIpestvW-",
    "outputId": "d433758a-5250-475a-9966-fd65d9591e21"
   },
   "outputs": [
    {
     "name": "stdout",
     "output_type": "stream",
     "text": [
      "Requirement already satisfied: transformers in /usr/local/lib/python3.12/dist-packages (4.55.2)\n",
      "Requirement already satisfied: datasets in /usr/local/lib/python3.12/dist-packages (4.0.0)\n",
      "Requirement already satisfied: accelerate in /usr/local/lib/python3.12/dist-packages (1.10.0)\n",
      "Requirement already satisfied: filelock in /usr/local/lib/python3.12/dist-packages (from transformers) (3.19.1)\n",
      "Requirement already satisfied: huggingface-hub<1.0,>=0.34.0 in /usr/local/lib/python3.12/dist-packages (from transformers) (0.34.4)\n",
      "Requirement already satisfied: numpy>=1.17 in /usr/local/lib/python3.12/dist-packages (from transformers) (2.0.2)\n",
      "Requirement already satisfied: packaging>=20.0 in /usr/local/lib/python3.12/dist-packages (from transformers) (25.0)\n",
      "Requirement already satisfied: pyyaml>=5.1 in /usr/local/lib/python3.12/dist-packages (from transformers) (6.0.2)\n",
      "Requirement already satisfied: regex!=2019.12.17 in /usr/local/lib/python3.12/dist-packages (from transformers) (2024.11.6)\n",
      "Requirement already satisfied: requests in /usr/local/lib/python3.12/dist-packages (from transformers) (2.32.4)\n",
      "Requirement already satisfied: tokenizers<0.22,>=0.21 in /usr/local/lib/python3.12/dist-packages (from transformers) (0.21.4)\n",
      "Requirement already satisfied: safetensors>=0.4.3 in /usr/local/lib/python3.12/dist-packages (from transformers) (0.6.2)\n",
      "Requirement already satisfied: tqdm>=4.27 in /usr/local/lib/python3.12/dist-packages (from transformers) (4.67.1)\n",
      "Requirement already satisfied: pyarrow>=15.0.0 in /usr/local/lib/python3.12/dist-packages (from datasets) (18.1.0)\n",
      "Requirement already satisfied: dill<0.3.9,>=0.3.0 in /usr/local/lib/python3.12/dist-packages (from datasets) (0.3.8)\n",
      "Requirement already satisfied: pandas in /usr/local/lib/python3.12/dist-packages (from datasets) (2.2.2)\n",
      "Requirement already satisfied: xxhash in /usr/local/lib/python3.12/dist-packages (from datasets) (3.5.0)\n",
      "Requirement already satisfied: multiprocess<0.70.17 in /usr/local/lib/python3.12/dist-packages (from datasets) (0.70.16)\n",
      "Requirement already satisfied: fsspec<=2025.3.0,>=2023.1.0 in /usr/local/lib/python3.12/dist-packages (from fsspec[http]<=2025.3.0,>=2023.1.0->datasets) (2025.3.0)\n",
      "Requirement already satisfied: psutil in /usr/local/lib/python3.12/dist-packages (from accelerate) (5.9.5)\n",
      "Requirement already satisfied: torch>=2.0.0 in /usr/local/lib/python3.12/dist-packages (from accelerate) (2.8.0+cu126)\n",
      "Requirement already satisfied: aiohttp!=4.0.0a0,!=4.0.0a1 in /usr/local/lib/python3.12/dist-packages (from fsspec[http]<=2025.3.0,>=2023.1.0->datasets) (3.12.15)\n",
      "Requirement already satisfied: typing-extensions>=3.7.4.3 in /usr/local/lib/python3.12/dist-packages (from huggingface-hub<1.0,>=0.34.0->transformers) (4.14.1)\n",
      "Requirement already satisfied: hf-xet<2.0.0,>=1.1.3 in /usr/local/lib/python3.12/dist-packages (from huggingface-hub<1.0,>=0.34.0->transformers) (1.1.7)\n",
      "Requirement already satisfied: charset_normalizer<4,>=2 in /usr/local/lib/python3.12/dist-packages (from requests->transformers) (3.4.3)\n",
      "Requirement already satisfied: idna<4,>=2.5 in /usr/local/lib/python3.12/dist-packages (from requests->transformers) (3.10)\n",
      "Requirement already satisfied: urllib3<3,>=1.21.1 in /usr/local/lib/python3.12/dist-packages (from requests->transformers) (2.5.0)\n",
      "Requirement already satisfied: certifi>=2017.4.17 in /usr/local/lib/python3.12/dist-packages (from requests->transformers) (2025.8.3)\n",
      "Requirement already satisfied: setuptools in /usr/local/lib/python3.12/dist-packages (from torch>=2.0.0->accelerate) (75.2.0)\n",
      "Requirement already satisfied: sympy>=1.13.3 in /usr/local/lib/python3.12/dist-packages (from torch>=2.0.0->accelerate) (1.13.3)\n",
      "Requirement already satisfied: networkx in /usr/local/lib/python3.12/dist-packages (from torch>=2.0.0->accelerate) (3.5)\n",
      "Requirement already satisfied: jinja2 in /usr/local/lib/python3.12/dist-packages (from torch>=2.0.0->accelerate) (3.1.6)\n",
      "Requirement already satisfied: nvidia-cuda-nvrtc-cu12==12.6.77 in /usr/local/lib/python3.12/dist-packages (from torch>=2.0.0->accelerate) (12.6.77)\n",
      "Requirement already satisfied: nvidia-cuda-runtime-cu12==12.6.77 in /usr/local/lib/python3.12/dist-packages (from torch>=2.0.0->accelerate) (12.6.77)\n",
      "Requirement already satisfied: nvidia-cuda-cupti-cu12==12.6.80 in /usr/local/lib/python3.12/dist-packages (from torch>=2.0.0->accelerate) (12.6.80)\n",
      "Requirement already satisfied: nvidia-cudnn-cu12==9.10.2.21 in /usr/local/lib/python3.12/dist-packages (from torch>=2.0.0->accelerate) (9.10.2.21)\n",
      "Requirement already satisfied: nvidia-cublas-cu12==12.6.4.1 in /usr/local/lib/python3.12/dist-packages (from torch>=2.0.0->accelerate) (12.6.4.1)\n",
      "Requirement already satisfied: nvidia-cufft-cu12==11.3.0.4 in /usr/local/lib/python3.12/dist-packages (from torch>=2.0.0->accelerate) (11.3.0.4)\n",
      "Requirement already satisfied: nvidia-curand-cu12==10.3.7.77 in /usr/local/lib/python3.12/dist-packages (from torch>=2.0.0->accelerate) (10.3.7.77)\n",
      "Requirement already satisfied: nvidia-cusolver-cu12==11.7.1.2 in /usr/local/lib/python3.12/dist-packages (from torch>=2.0.0->accelerate) (11.7.1.2)\n",
      "Requirement already satisfied: nvidia-cusparse-cu12==12.5.4.2 in /usr/local/lib/python3.12/dist-packages (from torch>=2.0.0->accelerate) (12.5.4.2)\n",
      "Requirement already satisfied: nvidia-cusparselt-cu12==0.7.1 in /usr/local/lib/python3.12/dist-packages (from torch>=2.0.0->accelerate) (0.7.1)\n",
      "Requirement already satisfied: nvidia-nccl-cu12==2.27.3 in /usr/local/lib/python3.12/dist-packages (from torch>=2.0.0->accelerate) (2.27.3)\n",
      "Requirement already satisfied: nvidia-nvtx-cu12==12.6.77 in /usr/local/lib/python3.12/dist-packages (from torch>=2.0.0->accelerate) (12.6.77)\n",
      "Requirement already satisfied: nvidia-nvjitlink-cu12==12.6.85 in /usr/local/lib/python3.12/dist-packages (from torch>=2.0.0->accelerate) (12.6.85)\n",
      "Requirement already satisfied: nvidia-cufile-cu12==1.11.1.6 in /usr/local/lib/python3.12/dist-packages (from torch>=2.0.0->accelerate) (1.11.1.6)\n",
      "Requirement already satisfied: triton==3.4.0 in /usr/local/lib/python3.12/dist-packages (from torch>=2.0.0->accelerate) (3.4.0)\n",
      "Requirement already satisfied: python-dateutil>=2.8.2 in /usr/local/lib/python3.12/dist-packages (from pandas->datasets) (2.9.0.post0)\n",
      "Requirement already satisfied: pytz>=2020.1 in /usr/local/lib/python3.12/dist-packages (from pandas->datasets) (2025.2)\n",
      "Requirement already satisfied: tzdata>=2022.7 in /usr/local/lib/python3.12/dist-packages (from pandas->datasets) (2025.2)\n",
      "Requirement already satisfied: aiohappyeyeballs>=2.5.0 in /usr/local/lib/python3.12/dist-packages (from aiohttp!=4.0.0a0,!=4.0.0a1->fsspec[http]<=2025.3.0,>=2023.1.0->datasets) (2.6.1)\n",
      "Requirement already satisfied: aiosignal>=1.4.0 in /usr/local/lib/python3.12/dist-packages (from aiohttp!=4.0.0a0,!=4.0.0a1->fsspec[http]<=2025.3.0,>=2023.1.0->datasets) (1.4.0)\n",
      "Requirement already satisfied: attrs>=17.3.0 in /usr/local/lib/python3.12/dist-packages (from aiohttp!=4.0.0a0,!=4.0.0a1->fsspec[http]<=2025.3.0,>=2023.1.0->datasets) (25.3.0)\n",
      "Requirement already satisfied: frozenlist>=1.1.1 in /usr/local/lib/python3.12/dist-packages (from aiohttp!=4.0.0a0,!=4.0.0a1->fsspec[http]<=2025.3.0,>=2023.1.0->datasets) (1.7.0)\n",
      "Requirement already satisfied: multidict<7.0,>=4.5 in /usr/local/lib/python3.12/dist-packages (from aiohttp!=4.0.0a0,!=4.0.0a1->fsspec[http]<=2025.3.0,>=2023.1.0->datasets) (6.6.4)\n",
      "Requirement already satisfied: propcache>=0.2.0 in /usr/local/lib/python3.12/dist-packages (from aiohttp!=4.0.0a0,!=4.0.0a1->fsspec[http]<=2025.3.0,>=2023.1.0->datasets) (0.3.2)\n",
      "Requirement already satisfied: yarl<2.0,>=1.17.0 in /usr/local/lib/python3.12/dist-packages (from aiohttp!=4.0.0a0,!=4.0.0a1->fsspec[http]<=2025.3.0,>=2023.1.0->datasets) (1.20.1)\n",
      "Requirement already satisfied: six>=1.5 in /usr/local/lib/python3.12/dist-packages (from python-dateutil>=2.8.2->pandas->datasets) (1.17.0)\n",
      "Requirement already satisfied: mpmath<1.4,>=1.1.0 in /usr/local/lib/python3.12/dist-packages (from sympy>=1.13.3->torch>=2.0.0->accelerate) (1.3.0)\n",
      "Requirement already satisfied: MarkupSafe>=2.0 in /usr/local/lib/python3.12/dist-packages (from jinja2->torch>=2.0.0->accelerate) (3.0.2)\n"
     ]
    }
   ],
   "source": [
    "!pip install --upgrade --no-cache-dir transformers datasets accelerate"
   ]
  },
  {
   "cell_type": "code",
   "execution_count": null,
   "metadata": {
    "colab": {
     "base_uri": "https://localhost:8080/"
    },
    "id": "wm96sdvprasH",
    "outputId": "ed2124f0-ec27-468b-ab4f-db179c8cb0e7"
   },
   "outputs": [
    {
     "name": "stdout",
     "output_type": "stream",
     "text": [
      "Collecting evaluate\n",
      "  Downloading evaluate-0.4.5-py3-none-any.whl.metadata (9.5 kB)\n",
      "Requirement already satisfied: datasets>=2.0.0 in /usr/local/lib/python3.12/dist-packages (from evaluate) (4.0.0)\n",
      "Requirement already satisfied: numpy>=1.17 in /usr/local/lib/python3.12/dist-packages (from evaluate) (2.0.2)\n",
      "Requirement already satisfied: dill in /usr/local/lib/python3.12/dist-packages (from evaluate) (0.3.8)\n",
      "Requirement already satisfied: pandas in /usr/local/lib/python3.12/dist-packages (from evaluate) (2.2.2)\n",
      "Requirement already satisfied: requests>=2.19.0 in /usr/local/lib/python3.12/dist-packages (from evaluate) (2.32.4)\n",
      "Requirement already satisfied: tqdm>=4.62.1 in /usr/local/lib/python3.12/dist-packages (from evaluate) (4.67.1)\n",
      "Requirement already satisfied: xxhash in /usr/local/lib/python3.12/dist-packages (from evaluate) (3.5.0)\n",
      "Requirement already satisfied: multiprocess in /usr/local/lib/python3.12/dist-packages (from evaluate) (0.70.16)\n",
      "Requirement already satisfied: fsspec>=2021.05.0 in /usr/local/lib/python3.12/dist-packages (from fsspec[http]>=2021.05.0->evaluate) (2025.3.0)\n",
      "Requirement already satisfied: huggingface-hub>=0.7.0 in /usr/local/lib/python3.12/dist-packages (from evaluate) (0.34.4)\n",
      "Requirement already satisfied: packaging in /usr/local/lib/python3.12/dist-packages (from evaluate) (25.0)\n",
      "Requirement already satisfied: filelock in /usr/local/lib/python3.12/dist-packages (from datasets>=2.0.0->evaluate) (3.19.1)\n",
      "Requirement already satisfied: pyarrow>=15.0.0 in /usr/local/lib/python3.12/dist-packages (from datasets>=2.0.0->evaluate) (18.1.0)\n",
      "Requirement already satisfied: pyyaml>=5.1 in /usr/local/lib/python3.12/dist-packages (from datasets>=2.0.0->evaluate) (6.0.2)\n",
      "Requirement already satisfied: aiohttp!=4.0.0a0,!=4.0.0a1 in /usr/local/lib/python3.12/dist-packages (from fsspec[http]>=2021.05.0->evaluate) (3.12.15)\n",
      "Requirement already satisfied: typing-extensions>=3.7.4.3 in /usr/local/lib/python3.12/dist-packages (from huggingface-hub>=0.7.0->evaluate) (4.14.1)\n",
      "Requirement already satisfied: hf-xet<2.0.0,>=1.1.3 in /usr/local/lib/python3.12/dist-packages (from huggingface-hub>=0.7.0->evaluate) (1.1.7)\n",
      "Requirement already satisfied: charset_normalizer<4,>=2 in /usr/local/lib/python3.12/dist-packages (from requests>=2.19.0->evaluate) (3.4.3)\n",
      "Requirement already satisfied: idna<4,>=2.5 in /usr/local/lib/python3.12/dist-packages (from requests>=2.19.0->evaluate) (3.10)\n",
      "Requirement already satisfied: urllib3<3,>=1.21.1 in /usr/local/lib/python3.12/dist-packages (from requests>=2.19.0->evaluate) (2.5.0)\n",
      "Requirement already satisfied: certifi>=2017.4.17 in /usr/local/lib/python3.12/dist-packages (from requests>=2.19.0->evaluate) (2025.8.3)\n",
      "Requirement already satisfied: python-dateutil>=2.8.2 in /usr/local/lib/python3.12/dist-packages (from pandas->evaluate) (2.9.0.post0)\n",
      "Requirement already satisfied: pytz>=2020.1 in /usr/local/lib/python3.12/dist-packages (from pandas->evaluate) (2025.2)\n",
      "Requirement already satisfied: tzdata>=2022.7 in /usr/local/lib/python3.12/dist-packages (from pandas->evaluate) (2025.2)\n",
      "Requirement already satisfied: aiohappyeyeballs>=2.5.0 in /usr/local/lib/python3.12/dist-packages (from aiohttp!=4.0.0a0,!=4.0.0a1->fsspec[http]>=2021.05.0->evaluate) (2.6.1)\n",
      "Requirement already satisfied: aiosignal>=1.4.0 in /usr/local/lib/python3.12/dist-packages (from aiohttp!=4.0.0a0,!=4.0.0a1->fsspec[http]>=2021.05.0->evaluate) (1.4.0)\n",
      "Requirement already satisfied: attrs>=17.3.0 in /usr/local/lib/python3.12/dist-packages (from aiohttp!=4.0.0a0,!=4.0.0a1->fsspec[http]>=2021.05.0->evaluate) (25.3.0)\n",
      "Requirement already satisfied: frozenlist>=1.1.1 in /usr/local/lib/python3.12/dist-packages (from aiohttp!=4.0.0a0,!=4.0.0a1->fsspec[http]>=2021.05.0->evaluate) (1.7.0)\n",
      "Requirement already satisfied: multidict<7.0,>=4.5 in /usr/local/lib/python3.12/dist-packages (from aiohttp!=4.0.0a0,!=4.0.0a1->fsspec[http]>=2021.05.0->evaluate) (6.6.4)\n",
      "Requirement already satisfied: propcache>=0.2.0 in /usr/local/lib/python3.12/dist-packages (from aiohttp!=4.0.0a0,!=4.0.0a1->fsspec[http]>=2021.05.0->evaluate) (0.3.2)\n",
      "Requirement already satisfied: yarl<2.0,>=1.17.0 in /usr/local/lib/python3.12/dist-packages (from aiohttp!=4.0.0a0,!=4.0.0a1->fsspec[http]>=2021.05.0->evaluate) (1.20.1)\n",
      "Requirement already satisfied: six>=1.5 in /usr/local/lib/python3.12/dist-packages (from python-dateutil>=2.8.2->pandas->evaluate) (1.17.0)\n",
      "Downloading evaluate-0.4.5-py3-none-any.whl (84 kB)\n",
      "\u001B[2K   \u001B[90m━━━━━━━━━━━━━━━━━━━━━━━━━━━━━━━━━━━━━━━━\u001B[0m \u001B[32m84.1/84.1 kB\u001B[0m \u001B[31m8.5 MB/s\u001B[0m eta \u001B[36m0:00:00\u001B[0m\n",
      "\u001B[?25hInstalling collected packages: evaluate\n",
      "Successfully installed evaluate-0.4.5\n"
     ]
    }
   ],
   "source": [
    "!pip install evaluate"
   ]
  },
  {
   "cell_type": "code",
   "execution_count": null,
   "metadata": {
    "colab": {
     "base_uri": "https://localhost:8080/"
    },
    "id": "BzN_BWigso3L",
    "outputId": "96a0969f-4679-494a-ae8f-1a0d44679027"
   },
   "outputs": [
    {
     "name": "stdout",
     "output_type": "stream",
     "text": [
      "Collecting rouge_score\n",
      "  Downloading rouge_score-0.1.2.tar.gz (17 kB)\n",
      "  Preparing metadata (setup.py) ... \u001B[?25l\u001B[?25hdone\n",
      "Requirement already satisfied: absl-py in /usr/local/lib/python3.12/dist-packages (from rouge_score) (1.4.0)\n",
      "Requirement already satisfied: nltk in /usr/local/lib/python3.12/dist-packages (from rouge_score) (3.9.1)\n",
      "Requirement already satisfied: numpy in /usr/local/lib/python3.12/dist-packages (from rouge_score) (2.0.2)\n",
      "Requirement already satisfied: six>=1.14.0 in /usr/local/lib/python3.12/dist-packages (from rouge_score) (1.17.0)\n",
      "Requirement already satisfied: click in /usr/local/lib/python3.12/dist-packages (from nltk->rouge_score) (8.2.1)\n",
      "Requirement already satisfied: joblib in /usr/local/lib/python3.12/dist-packages (from nltk->rouge_score) (1.5.1)\n",
      "Requirement already satisfied: regex>=2021.8.3 in /usr/local/lib/python3.12/dist-packages (from nltk->rouge_score) (2024.11.6)\n",
      "Requirement already satisfied: tqdm in /usr/local/lib/python3.12/dist-packages (from nltk->rouge_score) (4.67.1)\n",
      "Building wheels for collected packages: rouge_score\n",
      "  Building wheel for rouge_score (setup.py) ... \u001B[?25l\u001B[?25hdone\n",
      "  Created wheel for rouge_score: filename=rouge_score-0.1.2-py3-none-any.whl size=24934 sha256=d556b0b299c8b7130c6a0e508c50bc095593480ab8c5ce946fe73945fd100055\n",
      "  Stored in directory: /root/.cache/pip/wheels/85/9d/af/01feefbe7d55ef5468796f0c68225b6788e85d9d0a281e7a70\n",
      "Successfully built rouge_score\n",
      "Installing collected packages: rouge_score\n",
      "Successfully installed rouge_score-0.1.2\n"
     ]
    }
   ],
   "source": [
    "!pip install rouge_score"
   ]
  },
  {
   "cell_type": "code",
   "execution_count": null,
   "metadata": {
    "colab": {
     "base_uri": "https://localhost:8080/"
    },
    "id": "U_B6GbW00RC5",
    "outputId": "1b53bf14-a7ce-4b3f-d342-a569257dcf9d"
   },
   "outputs": [
    {
     "name": "stdout",
     "output_type": "stream",
     "text": [
      "Collecting bert-score\n",
      "  Downloading bert_score-0.3.13-py3-none-any.whl.metadata (15 kB)\n",
      "Requirement already satisfied: torch>=1.0.0 in /usr/local/lib/python3.12/dist-packages (from bert-score) (2.8.0+cu126)\n",
      "Requirement already satisfied: pandas>=1.0.1 in /usr/local/lib/python3.12/dist-packages (from bert-score) (2.2.2)\n",
      "Requirement already satisfied: transformers>=3.0.0 in /usr/local/lib/python3.12/dist-packages (from bert-score) (4.55.2)\n",
      "Requirement already satisfied: numpy in /usr/local/lib/python3.12/dist-packages (from bert-score) (2.0.2)\n",
      "Requirement already satisfied: requests in /usr/local/lib/python3.12/dist-packages (from bert-score) (2.32.4)\n",
      "Requirement already satisfied: tqdm>=4.31.1 in /usr/local/lib/python3.12/dist-packages (from bert-score) (4.67.1)\n",
      "Requirement already satisfied: matplotlib in /usr/local/lib/python3.12/dist-packages (from bert-score) (3.10.0)\n",
      "Requirement already satisfied: packaging>=20.9 in /usr/local/lib/python3.12/dist-packages (from bert-score) (25.0)\n",
      "Requirement already satisfied: python-dateutil>=2.8.2 in /usr/local/lib/python3.12/dist-packages (from pandas>=1.0.1->bert-score) (2.9.0.post0)\n",
      "Requirement already satisfied: pytz>=2020.1 in /usr/local/lib/python3.12/dist-packages (from pandas>=1.0.1->bert-score) (2025.2)\n",
      "Requirement already satisfied: tzdata>=2022.7 in /usr/local/lib/python3.12/dist-packages (from pandas>=1.0.1->bert-score) (2025.2)\n",
      "Requirement already satisfied: filelock in /usr/local/lib/python3.12/dist-packages (from torch>=1.0.0->bert-score) (3.19.1)\n",
      "Requirement already satisfied: typing-extensions>=4.10.0 in /usr/local/lib/python3.12/dist-packages (from torch>=1.0.0->bert-score) (4.14.1)\n",
      "Requirement already satisfied: setuptools in /usr/local/lib/python3.12/dist-packages (from torch>=1.0.0->bert-score) (75.2.0)\n",
      "Requirement already satisfied: sympy>=1.13.3 in /usr/local/lib/python3.12/dist-packages (from torch>=1.0.0->bert-score) (1.13.3)\n",
      "Requirement already satisfied: networkx in /usr/local/lib/python3.12/dist-packages (from torch>=1.0.0->bert-score) (3.5)\n",
      "Requirement already satisfied: jinja2 in /usr/local/lib/python3.12/dist-packages (from torch>=1.0.0->bert-score) (3.1.6)\n",
      "Requirement already satisfied: fsspec in /usr/local/lib/python3.12/dist-packages (from torch>=1.0.0->bert-score) (2025.3.0)\n",
      "Requirement already satisfied: nvidia-cuda-nvrtc-cu12==12.6.77 in /usr/local/lib/python3.12/dist-packages (from torch>=1.0.0->bert-score) (12.6.77)\n",
      "Requirement already satisfied: nvidia-cuda-runtime-cu12==12.6.77 in /usr/local/lib/python3.12/dist-packages (from torch>=1.0.0->bert-score) (12.6.77)\n",
      "Requirement already satisfied: nvidia-cuda-cupti-cu12==12.6.80 in /usr/local/lib/python3.12/dist-packages (from torch>=1.0.0->bert-score) (12.6.80)\n",
      "Requirement already satisfied: nvidia-cudnn-cu12==9.10.2.21 in /usr/local/lib/python3.12/dist-packages (from torch>=1.0.0->bert-score) (9.10.2.21)\n",
      "Requirement already satisfied: nvidia-cublas-cu12==12.6.4.1 in /usr/local/lib/python3.12/dist-packages (from torch>=1.0.0->bert-score) (12.6.4.1)\n",
      "Requirement already satisfied: nvidia-cufft-cu12==11.3.0.4 in /usr/local/lib/python3.12/dist-packages (from torch>=1.0.0->bert-score) (11.3.0.4)\n",
      "Requirement already satisfied: nvidia-curand-cu12==10.3.7.77 in /usr/local/lib/python3.12/dist-packages (from torch>=1.0.0->bert-score) (10.3.7.77)\n",
      "Requirement already satisfied: nvidia-cusolver-cu12==11.7.1.2 in /usr/local/lib/python3.12/dist-packages (from torch>=1.0.0->bert-score) (11.7.1.2)\n",
      "Requirement already satisfied: nvidia-cusparse-cu12==12.5.4.2 in /usr/local/lib/python3.12/dist-packages (from torch>=1.0.0->bert-score) (12.5.4.2)\n",
      "Requirement already satisfied: nvidia-cusparselt-cu12==0.7.1 in /usr/local/lib/python3.12/dist-packages (from torch>=1.0.0->bert-score) (0.7.1)\n",
      "Requirement already satisfied: nvidia-nccl-cu12==2.27.3 in /usr/local/lib/python3.12/dist-packages (from torch>=1.0.0->bert-score) (2.27.3)\n",
      "Requirement already satisfied: nvidia-nvtx-cu12==12.6.77 in /usr/local/lib/python3.12/dist-packages (from torch>=1.0.0->bert-score) (12.6.77)\n",
      "Requirement already satisfied: nvidia-nvjitlink-cu12==12.6.85 in /usr/local/lib/python3.12/dist-packages (from torch>=1.0.0->bert-score) (12.6.85)\n",
      "Requirement already satisfied: nvidia-cufile-cu12==1.11.1.6 in /usr/local/lib/python3.12/dist-packages (from torch>=1.0.0->bert-score) (1.11.1.6)\n",
      "Requirement already satisfied: triton==3.4.0 in /usr/local/lib/python3.12/dist-packages (from torch>=1.0.0->bert-score) (3.4.0)\n",
      "Requirement already satisfied: huggingface-hub<1.0,>=0.34.0 in /usr/local/lib/python3.12/dist-packages (from transformers>=3.0.0->bert-score) (0.34.4)\n",
      "Requirement already satisfied: pyyaml>=5.1 in /usr/local/lib/python3.12/dist-packages (from transformers>=3.0.0->bert-score) (6.0.2)\n",
      "Requirement already satisfied: regex!=2019.12.17 in /usr/local/lib/python3.12/dist-packages (from transformers>=3.0.0->bert-score) (2024.11.6)\n",
      "Requirement already satisfied: tokenizers<0.22,>=0.21 in /usr/local/lib/python3.12/dist-packages (from transformers>=3.0.0->bert-score) (0.21.4)\n",
      "Requirement already satisfied: safetensors>=0.4.3 in /usr/local/lib/python3.12/dist-packages (from transformers>=3.0.0->bert-score) (0.6.2)\n",
      "Requirement already satisfied: contourpy>=1.0.1 in /usr/local/lib/python3.12/dist-packages (from matplotlib->bert-score) (1.3.3)\n",
      "Requirement already satisfied: cycler>=0.10 in /usr/local/lib/python3.12/dist-packages (from matplotlib->bert-score) (0.12.1)\n",
      "Requirement already satisfied: fonttools>=4.22.0 in /usr/local/lib/python3.12/dist-packages (from matplotlib->bert-score) (4.59.1)\n",
      "Requirement already satisfied: kiwisolver>=1.3.1 in /usr/local/lib/python3.12/dist-packages (from matplotlib->bert-score) (1.4.9)\n",
      "Requirement already satisfied: pillow>=8 in /usr/local/lib/python3.12/dist-packages (from matplotlib->bert-score) (11.3.0)\n",
      "Requirement already satisfied: pyparsing>=2.3.1 in /usr/local/lib/python3.12/dist-packages (from matplotlib->bert-score) (3.2.3)\n",
      "Requirement already satisfied: charset_normalizer<4,>=2 in /usr/local/lib/python3.12/dist-packages (from requests->bert-score) (3.4.3)\n",
      "Requirement already satisfied: idna<4,>=2.5 in /usr/local/lib/python3.12/dist-packages (from requests->bert-score) (3.10)\n",
      "Requirement already satisfied: urllib3<3,>=1.21.1 in /usr/local/lib/python3.12/dist-packages (from requests->bert-score) (2.5.0)\n",
      "Requirement already satisfied: certifi>=2017.4.17 in /usr/local/lib/python3.12/dist-packages (from requests->bert-score) (2025.8.3)\n",
      "Requirement already satisfied: hf-xet<2.0.0,>=1.1.3 in /usr/local/lib/python3.12/dist-packages (from huggingface-hub<1.0,>=0.34.0->transformers>=3.0.0->bert-score) (1.1.7)\n",
      "Requirement already satisfied: six>=1.5 in /usr/local/lib/python3.12/dist-packages (from python-dateutil>=2.8.2->pandas>=1.0.1->bert-score) (1.17.0)\n",
      "Requirement already satisfied: mpmath<1.4,>=1.1.0 in /usr/local/lib/python3.12/dist-packages (from sympy>=1.13.3->torch>=1.0.0->bert-score) (1.3.0)\n",
      "Requirement already satisfied: MarkupSafe>=2.0 in /usr/local/lib/python3.12/dist-packages (from jinja2->torch>=1.0.0->bert-score) (3.0.2)\n",
      "Downloading bert_score-0.3.13-py3-none-any.whl (61 kB)\n",
      "\u001B[2K   \u001B[90m━━━━━━━━━━━━━━━━━━━━━━━━━━━━━━━━━━━━━━━━\u001B[0m \u001B[32m61.1/61.1 kB\u001B[0m \u001B[31m5.7 MB/s\u001B[0m eta \u001B[36m0:00:00\u001B[0m\n",
      "\u001B[?25hInstalling collected packages: bert-score\n",
      "Successfully installed bert-score-0.3.13\n"
     ]
    }
   ],
   "source": [
    "!pip install bert-score"
   ]
  },
  {
   "cell_type": "markdown",
   "metadata": {
    "id": "g1gAIXMpGYpj"
   },
   "source": [
    "#### **TRAINING**"
   ]
  },
  {
   "cell_type": "code",
   "metadata": {
    "colab": {
     "base_uri": "https://localhost:8080/",
     "height": 453,
     "referenced_widgets": [
      "29d18c71b081495698b2447f7f86da82",
      "5a844611dc5a4451bf748756d54cfe0e",
      "cbedfd834b9b4c1f9450b82b3d10ee29",
      "ec96470b7e7b43388a96fc9f87593f4d",
      "4866d921d5e64d90935694b1e21a6888",
      "e3f5c0653bdd48cb91698704f17b99ce",
      "4d43b349c92b40ae970549db1ceb5bc0",
      "3907272942aa4e69a012d2fb63e47242",
      "e74ce2a24c69479d96ee46206c641777",
      "2549d53866564583846da818788e3b5c",
      "8e40dcafe66547c7bc2d959097d3134b",
      "2df17857a4d94c6a9bbcfa9f5194d30a",
      "f0ed16c2a5c545968defea31b37dc014",
      "a267a6e8105a43219873f2b1a0c8bf39",
      "3e548039d86d4345b25ea86e6ca029c6",
      "bcd1a19b216449bb953ef7e04a989ba9",
      "0f79e15d46404481a1e9ddd4c4033bc7",
      "082f71fcb80e4db48a1283feb990887d",
      "7ab3b2f92b5e47b09c3d6bbc6d5fe484",
      "90eba517b7d34b1eb772aa747ae4d10e",
      "96886c63f7594dfd9cce1ca87ac1f49a",
      "4e7ec633d05f4135a73fecbaa216676a",
      "7e5a40bb6a66490f9783026c45119eae",
      "0e73b8fb9443406bb5b2b3877a007fea",
      "0a899171cc4c4cc5a1784273c585c499",
      "ce48d3c5694741848461226392dd86bd",
      "4e4a268133b947f78f3fada07243c8ce",
      "2bc616fcc0da46729b90b974a2132d04",
      "3b44b6545ce84cd99f660b93252d1e8b",
      "dc7f6c44295243bcb90fac1091021810",
      "ec83dda1b6fc4378bfbf356b397a8c47",
      "c35caba1a4ee47ea943148b3ab12e475",
      "ec7b8988cb52499fb5cba6de118352d4",
      "3416636a49d345779083e94cc6a7acac",
      "151ecea1627943188c06814c37976ac4",
      "b0a1d1018856493f9367721a2636e2fd",
      "9c0265302b7a48c0844829b0a45d4f59",
      "d03d016c59fa4ed68a79840a55991fc8",
      "1c9cb43b72fe4ea58cc5fc62e8e826d9",
      "4a5f8a2a5e244dfb9563bfc2d2e90463",
      "38326a0a9bce4bc3a4282ae491685e8c",
      "be18882dc1b64d9e95c26bcae69403b6",
      "760c96ca6ede481381f7ea4b953cf10f",
      "1b646568310946efb9f25c2c34ff1185",
      "ff2d246c85874ed99ae1e230ee5beb98",
      "a802c6f11e7d423588add0ecca1a7fc5",
      "0c8c13d4719d4b418022984b59448e79",
      "f921d2369b7a4def9959181bb0dcf1b0",
      "d33bccf813874bcca1af66153511936d",
      "a5745b95dee44493b018649509472e6b",
      "eb14c5e5eede4ae49ce6a1e6bc44ea2f",
      "ee66643de8714593af9c1619e296e5f6",
      "3db4a22b8e7b432a8f5fccbc2524542d",
      "fe6f3109adc149fbb5e122131ed5306b",
      "257ea76f8f8d4afab5a5732a4149ea6c",
      "928722bddc8e463e977473b74839ebb9",
      "8720e7b06c3641a5bb89c504068b3d62",
      "ad0e629bc5ed44768efed6b5e3899ddb",
      "30b5789b52e94c459e199a9af407c9fd",
      "7977eff755284dd89aa1530a4a81304f",
      "0cc71d624a664fa99a7bc220a8d385e2",
      "8dbc087651d14df4bca258a3e4aca2ff",
      "8844111902754f249e4d1fac4c9c18d2",
      "55eaa1657d17468d8478e9120c83ea49",
      "dd027d15bf564506bdfdd31daf4c59ff",
      "38301e3ff8504bf0ba63bd66ff43d0c1",
      "e306432d1b3e4a68ad2218a7e8bd2047",
      "ef50d593091945e280f9cc7afc5d92d7",
      "8d1b56a2d30341f1ae99f1c2928b8942",
      "87b15d271bd24d3fa86ef8885a691787",
      "9b175b086a5f4b6e8e4efc05842daa84",
      "d39d070645504010af3e731f8d02c544",
      "aff8c78c722b4fa4946a62d1ad5d861e",
      "36c2cc99a398496f87e72d61ae9133af",
      "20bef2c446e34ee7811f032d0bc7d013",
      "b159929cdb004d3cb7524e0a442c86ae",
      "55a695cdf0f848938f5c8c8c286d9ebc",
      "b09e42b6838d43c083320554d1483ad3",
      "55afd2ab3a6a4a0c89df4bd3c25225bd",
      "d49a6a0e4d6e41288f9783331c092743",
      "ebe0892c41f442229eeb352a74066372",
      "b1b7b53ab9c14e559a5427333b0232c1",
      "e2df99a8ef174f12bf10943e0e438004",
      "3995b41ee10d49ddbf096eb699ab2f51",
      "f6cb8e21188a4530aa7d0112c4e0df82",
      "f3abdf9f6cb64d908bacb3a7aac46d89",
      "00db2e1e67e74d2db422154dbd97d38c",
      "6bb7fabab3ad466ab20a8af4c1b4231c",
      "34a1837359e3484e954bffb2a7b5c683",
      "c46d48acce694fffa74f95c638a829c0",
      "d300d5c664894a718f2b174ad63c54d8",
      "5e58d7e2e5184283948f6592b56a0a1b",
      "46736966cd01444e99219bd9bd764bd9",
      "80c1cf3ea53e424fad57661460a6a4a1",
      "ead5ec0717044953970d1bfcdc37d65b",
      "3c42fde933094eccbee6f2db842001ab",
      "76cb6b0b8de94024b934a8148366277a",
      "727f84d0701240d1a44ac6576c6a9d8d",
      "d18e807abb994911a68c7c920a369732"
     ]
    },
    "id": "SaCwqAenNwvy",
    "outputId": "cbe94a63-84b9-4dab-cd8b-354ad870436a",
    "ExecuteTime": {
     "end_time": "2025-08-30T18:30:24.047403Z",
     "start_time": "2025-08-30T18:28:30.807997Z"
    }
   },
   "source": [
    "# Hugging Face Transformers\n",
    "from transformers import Trainer, TrainingArguments\n",
    "from datasets import load_dataset\n",
    "from transformers import LEDTokenizer, LEDForConditionalGeneration\n",
    "\n",
    "\n",
    "# Loading datasets\n",
    "dataset = load_dataset(\"csv\", data_files=\"../datasets/sample/randomized_dataset_sample.csv\", sep=',', split='train')\n",
    "print(dataset.column_names)\n",
    "\n",
    "dataset = dataset.map(lambda x: {\"full_note\": x[\"full_note\"], \"summary\": x[\"random_note\"]})\n",
    "dataset_split = dataset.train_test_split(test_size=0.2, seed=42)\n",
    "train_data = dataset_split[\"train\"]\n",
    "test_data = dataset_split[\"test\"]\n",
    "\n",
    "# Tokenization\n",
    "tokenizer = LEDTokenizer.from_pretrained(\"allenai/led-base-16384\")\n",
    "\n",
    "def preprocess(example):\n",
    "    inputs = tokenizer(example[\"full_note\"], truncation=True, padding=\"max_length\", max_length=4096)\n",
    "    targets = tokenizer(example[\"summary\"], truncation=True, padding=\"max_length\", max_length=512)\n",
    "    inputs[\"labels\"] = targets[\"input_ids\"]\n",
    "    return inputs\n",
    "\n",
    "train_data = train_data.map(preprocess, batched=True)\n",
    "test_data = test_data.map(preprocess, batched=True)"
   ],
   "outputs": [
    {
     "name": "stderr",
     "output_type": "stream",
     "text": [
      "C:\\Users\\rafau\\Documents\\PythonProjects\\DataSanitization\\venv\\Lib\\site-packages\\tqdm\\auto.py:21: TqdmWarning: IProgress not found. Please update jupyter and ipywidgets. See https://ipywidgets.readthedocs.io/en/stable/user_install.html\n",
      "  from .autonotebook import tqdm as notebook_tqdm\n",
      "Generating train split: 5000 examples [00:01, 4509.02 examples/s]\n"
     ]
    },
    {
     "name": "stdout",
     "output_type": "stream",
     "text": [
      "['index', 'note', 'random_note', 'sensitive_entity_note', 'full_note', 'random_full_note', 'sensitive_entity_full_note']\n"
     ]
    },
    {
     "name": "stderr",
     "output_type": "stream",
     "text": [
      "Map: 100%|██████████| 5000/5000 [00:00<00:00, 5078.55 examples/s]\n",
      "Map: 100%|██████████| 4000/4000 [01:18<00:00, 51.03 examples/s]\n",
      "Map: 100%|██████████| 1000/1000 [00:15<00:00, 64.27 examples/s]\n"
     ]
    }
   ],
   "execution_count": 1
  },
  {
   "cell_type": "code",
   "execution_count": 6,
   "metadata": {
    "colab": {
     "base_uri": "https://localhost:8080/",
     "height": 81,
     "referenced_widgets": [
      "c5aa07a48ea6403d95777d224dc874f9",
      "f6a0bf7c4f4547fab33caacb16dc213f",
      "83042f3172e34242b7db355015510e71",
      "bb7f6169035840acb9cd0e5641fdf926",
      "350ab047abf946858a6d37996a783ecd",
      "08fedbac373a4a7d943c61dba8047286",
      "3025470e4b0a4224bab306607f02f9c3",
      "50bd9ec189cb4a0c9ff264af2099a57f",
      "af27daae840f4e76beba7f16f4fa83ab",
      "3e776483941049c496fdf2f0d699152c",
      "e3ab454773804f92b633a80e116e2a0a",
      "c3a6a601b322488cbaba629c7e05e554",
      "47cef1bdf5624fdfaec8f842f38e0384",
      "dd4364b4428c4c02a501d50321d5d545",
      "ad8718f63b9242178a5242288c4bc2e4",
      "964c377031b9497c84ae469a33cf29e4",
      "ba55aaf65694492bb5bb0cf41f1c9f87",
      "bb618ac2e1a2458f8efec2206141e0ee",
      "7144f6bd660e44739925a10733472f3a",
      "178a3e5ad6e54e79b335489e0154e12d",
      "8bdbd631e07947318aef729220bc11fd",
      "573b6864145c426582bdc8a866870c45"
     ]
    },
    "id": "6rrviDImPnXJ",
    "outputId": "85c04a31-8524-44df-da41-5552aded0d6c"
   },
   "outputs": [
    {
     "data": {
      "application/vnd.jupyter.widget-view+json": {
       "model_id": "c5aa07a48ea6403d95777d224dc874f9",
       "version_major": 2,
       "version_minor": 0
      },
      "text/plain": [
       "pytorch_model.bin:   0%|          | 0.00/648M [00:00<?, ?B/s]"
      ]
     },
     "metadata": {},
     "output_type": "display_data"
    },
    {
     "data": {
      "application/vnd.jupyter.widget-view+json": {
       "model_id": "c3a6a601b322488cbaba629c7e05e554",
       "version_major": 2,
       "version_minor": 0
      },
      "text/plain": [
       "generation_config.json:   0%|          | 0.00/168 [00:00<?, ?B/s]"
      ]
     },
     "metadata": {},
     "output_type": "display_data"
    }
   ],
   "source": [
    "# Training Arguments\n",
    "from transformers import LongformerForSequenceClassification\n",
    "model_clear = LEDForConditionalGeneration.from_pretrained(\"allenai/led-base-16384\")\n",
    "\n",
    "# Enable gradient checkpointing on the model\n",
    "model_clear.gradient_checkpointing_enable()\n",
    "\n",
    "training_args = TrainingArguments(\n",
    "    output_dir=\"./results_randomization_summary\",        # folder for checkpoints\n",
    "    per_device_train_batch_size=2,\n",
    "    per_device_eval_batch_size=2,\n",
    "    gradient_accumulation_steps=8,                # effectively larger batch size\n",
    "    fp16=True,                                    # mixed precision training\n",
    "    save_strategy=\"epoch\",                        # save checkpoint at every epoch\n",
    "    num_train_epochs=2,\n",
    "\n",
    "    # Logging\n",
    "    logging_dir=\"./logs\",\n",
    "    logging_steps=50,                             # more frequent logging\n",
    "    report_to=[\"tensorboard\",\"wandb\"],            # log to TensorBoard and W&B\n",
    "\n",
    "    # Learning rate and optimization\n",
    "    learning_rate=2e-5,                           # more stable LR for small batches\n",
    "    weight_decay=0.01,                            # regularization\n",
    "    adam_beta1=0.9,\n",
    "    adam_beta2=0.999,\n",
    "    adam_epsilon=1e-8,\n",
    "    lr_scheduler_type=\"linear\",\n",
    "    warmup_steps=100                              # warmup during first steps\n",
    ")"
   ]
  },
  {
   "cell_type": "code",
   "execution_count": 7,
   "metadata": {
    "colab": {
     "base_uri": "https://localhost:8080/",
     "height": 696
    },
    "id": "PJVf3qkRPukk",
    "outputId": "364df141-5630-44b9-9c44-c45debae5ba8"
   },
   "outputs": [
    {
     "name": "stderr",
     "output_type": "stream",
     "text": [
      "/usr/local/lib/python3.12/dist-packages/notebook/notebookapp.py:191: SyntaxWarning: invalid escape sequence '\\/'\n",
      "  | |_| | '_ \\/ _` / _` |  _/ -_)\n"
     ]
    },
    {
     "data": {
      "application/javascript": [
       "\n",
       "        window._wandbApiKey = new Promise((resolve, reject) => {\n",
       "            function loadScript(url) {\n",
       "            return new Promise(function(resolve, reject) {\n",
       "                let newScript = document.createElement(\"script\");\n",
       "                newScript.onerror = reject;\n",
       "                newScript.onload = resolve;\n",
       "                document.body.appendChild(newScript);\n",
       "                newScript.src = url;\n",
       "            });\n",
       "            }\n",
       "            loadScript(\"https://cdn.jsdelivr.net/npm/postmate/build/postmate.min.js\").then(() => {\n",
       "            const iframe = document.createElement('iframe')\n",
       "            iframe.style.cssText = \"width:0;height:0;border:none\"\n",
       "            document.body.appendChild(iframe)\n",
       "            const handshake = new Postmate({\n",
       "                container: iframe,\n",
       "                url: 'https://wandb.ai/authorize'\n",
       "            });\n",
       "            const timeout = setTimeout(() => reject(\"Couldn't auto authenticate\"), 5000)\n",
       "            handshake.then(function(child) {\n",
       "                child.on('authorize', data => {\n",
       "                    clearTimeout(timeout)\n",
       "                    resolve(data)\n",
       "                });\n",
       "            });\n",
       "            })\n",
       "        });\n",
       "    "
      ],
      "text/plain": [
       "<IPython.core.display.Javascript object>"
      ]
     },
     "metadata": {},
     "output_type": "display_data"
    },
    {
     "name": "stderr",
     "output_type": "stream",
     "text": [
      "\u001B[34m\u001B[1mwandb\u001B[0m: \u001B[33mWARNING\u001B[0m If you're specifying your api key in code, ensure this code is not shared publicly.\n",
      "\u001B[34m\u001B[1mwandb\u001B[0m: \u001B[33mWARNING\u001B[0m Consider setting the WANDB_API_KEY environment variable, or running `wandb login` from the command line.\n",
      "\u001B[34m\u001B[1mwandb\u001B[0m: No netrc file found, creating one.\n",
      "\u001B[34m\u001B[1mwandb\u001B[0m: Appending key for api.wandb.ai to your netrc file: /root/.netrc\n",
      "\u001B[34m\u001B[1mwandb\u001B[0m: Currently logged in as: \u001B[33mraffaeleaurucci\u001B[0m (\u001B[33mraffaeleaurucci-universit-degli-studi-di-salerno\u001B[0m) to \u001B[32mhttps://api.wandb.ai\u001B[0m. Use \u001B[1m`wandb login --relogin`\u001B[0m to force relogin\n"
     ]
    },
    {
     "data": {
      "text/html": [
       "Tracking run with wandb version 0.21.1"
      ],
      "text/plain": [
       "<IPython.core.display.HTML object>"
      ]
     },
     "metadata": {},
     "output_type": "display_data"
    },
    {
     "data": {
      "text/html": [
       "Run data is saved locally in <code>/content/wandb/run-20250821_094323-1hfa9v58</code>"
      ],
      "text/plain": [
       "<IPython.core.display.HTML object>"
      ]
     },
     "metadata": {},
     "output_type": "display_data"
    },
    {
     "data": {
      "text/html": [
       "Syncing run <strong><a href='https://wandb.ai/raffaeleaurucci-universit-degli-studi-di-salerno/huggingface/runs/1hfa9v58' target=\"_blank\">cool-vortex-30</a></strong> to <a href='https://wandb.ai/raffaeleaurucci-universit-degli-studi-di-salerno/huggingface' target=\"_blank\">Weights & Biases</a> (<a href='https://wandb.me/developer-guide' target=\"_blank\">docs</a>)<br>"
      ],
      "text/plain": [
       "<IPython.core.display.HTML object>"
      ]
     },
     "metadata": {},
     "output_type": "display_data"
    },
    {
     "data": {
      "text/html": [
       " View project at <a href='https://wandb.ai/raffaeleaurucci-universit-degli-studi-di-salerno/huggingface' target=\"_blank\">https://wandb.ai/raffaeleaurucci-universit-degli-studi-di-salerno/huggingface</a>"
      ],
      "text/plain": [
       "<IPython.core.display.HTML object>"
      ]
     },
     "metadata": {},
     "output_type": "display_data"
    },
    {
     "data": {
      "text/html": [
       " View run at <a href='https://wandb.ai/raffaeleaurucci-universit-degli-studi-di-salerno/huggingface/runs/1hfa9v58' target=\"_blank\">https://wandb.ai/raffaeleaurucci-universit-degli-studi-di-salerno/huggingface/runs/1hfa9v58</a>"
      ],
      "text/plain": [
       "<IPython.core.display.HTML object>"
      ]
     },
     "metadata": {},
     "output_type": "display_data"
    },
    {
     "data": {
      "text/html": [
       "\n",
       "    <div>\n",
       "      \n",
       "      <progress value='500' max='500' style='width:300px; height:20px; vertical-align: middle;'></progress>\n",
       "      [500/500 2:26:38, Epoch 2/2]\n",
       "    </div>\n",
       "    <table border=\"1\" class=\"dataframe\">\n",
       "  <thead>\n",
       " <tr style=\"text-align: left;\">\n",
       "      <th>Step</th>\n",
       "      <th>Training Loss</th>\n",
       "    </tr>\n",
       "  </thead>\n",
       "  <tbody>\n",
       "    <tr>\n",
       "      <td>50</td>\n",
       "      <td>4.344000</td>\n",
       "    </tr>\n",
       "    <tr>\n",
       "      <td>100</td>\n",
       "      <td>3.488200</td>\n",
       "    </tr>\n",
       "    <tr>\n",
       "      <td>150</td>\n",
       "      <td>3.328600</td>\n",
       "    </tr>\n",
       "    <tr>\n",
       "      <td>200</td>\n",
       "      <td>3.250100</td>\n",
       "    </tr>\n",
       "    <tr>\n",
       "      <td>250</td>\n",
       "      <td>3.193500</td>\n",
       "    </tr>\n",
       "    <tr>\n",
       "      <td>300</td>\n",
       "      <td>3.158500</td>\n",
       "    </tr>\n",
       "    <tr>\n",
       "      <td>350</td>\n",
       "      <td>3.116700</td>\n",
       "    </tr>\n",
       "    <tr>\n",
       "      <td>400</td>\n",
       "      <td>3.104300</td>\n",
       "    </tr>\n",
       "    <tr>\n",
       "      <td>450</td>\n",
       "      <td>3.090300</td>\n",
       "    </tr>\n",
       "    <tr>\n",
       "      <td>500</td>\n",
       "      <td>3.086400</td>\n",
       "    </tr>\n",
       "  </tbody>\n",
       "</table><p>"
      ],
      "text/plain": [
       "<IPython.core.display.HTML object>"
      ]
     },
     "metadata": {},
     "output_type": "display_data"
    },
    {
     "data": {
      "text/plain": [
       "TrainOutput(global_step=500, training_loss=3.3160644836425783, metrics={'train_runtime': 8824.9094, 'train_samples_per_second': 0.907, 'train_steps_per_second': 0.057, 'total_flos': 2.1601638678528e+16, 'train_loss': 3.3160644836425783, 'epoch': 2.0})"
      ]
     },
     "execution_count": 7,
     "metadata": {},
     "output_type": "execute_result"
    }
   ],
   "source": [
    "# Trainer\n",
    "trainer = Trainer(\n",
    "    model=model_clear,\n",
    "    args=training_args,\n",
    "    train_dataset=train_data,\n",
    "    eval_dataset=test_data,\n",
    ")\n",
    "trainer.train()"
   ]
  },
  {
   "cell_type": "code",
   "execution_count": 8,
   "metadata": {
    "colab": {
     "base_uri": "https://localhost:8080/"
    },
    "id": "vBoYW0N9Hotv",
    "outputId": "ee455abb-92c5-41c2-a287-6dae1bff1bca"
   },
   "outputs": [
    {
     "name": "stdout",
     "output_type": "stream",
     "text": [
      "  adding: results_randomization_summary/checkpoint-500/ (stored 0%)\n",
      "  adding: results_randomization_summary/checkpoint-500/trainer_state.json (deflated 70%)\n",
      "  adding: results_randomization_summary/checkpoint-500/optimizer.pt (deflated 13%)\n",
      "  adding: results_randomization_summary/checkpoint-500/config.json (deflated 61%)\n",
      "  adding: results_randomization_summary/checkpoint-500/scheduler.pt (deflated 62%)\n",
      "  adding: results_randomization_summary/checkpoint-500/generation_config.json (deflated 33%)\n",
      "  adding: results_randomization_summary/checkpoint-500/model.safetensors (deflated 11%)\n",
      "  adding: results_randomization_summary/checkpoint-500/scaler.pt (deflated 64%)\n",
      "  adding: results_randomization_summary/checkpoint-500/rng_state.pth (deflated 26%)\n",
      "  adding: results_randomization_summary/checkpoint-500/training_args.bin (deflated 53%)\n"
     ]
    }
   ],
   "source": [
    "!zip -r results_randomization_summary.zip results_randomization_summary/checkpoint-500/"
   ]
  },
  {
   "cell_type": "code",
   "execution_count": null,
   "metadata": {
    "colab": {
     "base_uri": "https://localhost:8080/",
     "height": 17
    },
    "id": "A8JsKlc54wMw",
    "outputId": "4bef1aad-5203-4bce-f344-fbd3dae9f265"
   },
   "outputs": [
    {
     "data": {
      "application/javascript": [
       "\n",
       "    async function download(id, filename, size) {\n",
       "      if (!google.colab.kernel.accessAllowed) {\n",
       "        return;\n",
       "      }\n",
       "      const div = document.createElement('div');\n",
       "      const label = document.createElement('label');\n",
       "      label.textContent = `Downloading \"${filename}\": `;\n",
       "      div.appendChild(label);\n",
       "      const progress = document.createElement('progress');\n",
       "      progress.max = size;\n",
       "      div.appendChild(progress);\n",
       "      document.body.appendChild(div);\n",
       "\n",
       "      const buffers = [];\n",
       "      let downloaded = 0;\n",
       "\n",
       "      const channel = await google.colab.kernel.comms.open(id);\n",
       "      // Send a message to notify the kernel that we're ready.\n",
       "      channel.send({})\n",
       "\n",
       "      for await (const message of channel.messages) {\n",
       "        // Send a message to notify the kernel that we're ready.\n",
       "        channel.send({})\n",
       "        if (message.buffers) {\n",
       "          for (const buffer of message.buffers) {\n",
       "            buffers.push(buffer);\n",
       "            downloaded += buffer.byteLength;\n",
       "            progress.value = downloaded;\n",
       "          }\n",
       "        }\n",
       "      }\n",
       "      const blob = new Blob(buffers, {type: 'application/binary'});\n",
       "      const a = document.createElement('a');\n",
       "      a.href = window.URL.createObjectURL(blob);\n",
       "      a.download = filename;\n",
       "      div.appendChild(a);\n",
       "      a.click();\n",
       "      div.remove();\n",
       "    }\n",
       "  "
      ],
      "text/plain": [
       "<IPython.core.display.Javascript object>"
      ]
     },
     "metadata": {},
     "output_type": "display_data"
    },
    {
     "data": {
      "application/javascript": [
       "download(\"download_5fc614df-9e40-4b4c-ae77-d370703025ad\", \"results_encryption_summary.zip\", 1622361968)"
      ],
      "text/plain": [
       "<IPython.core.display.Javascript object>"
      ]
     },
     "metadata": {},
     "output_type": "display_data"
    }
   ],
   "source": [
    "from google.colab import files\n",
    "\n",
    "# Download file CSV\n",
    "files.download(\"results_randomization_summary.zip\")"
   ]
  },
  {
   "cell_type": "code",
   "execution_count": 9,
   "metadata": {
    "colab": {
     "base_uri": "https://localhost:8080/"
    },
    "id": "JIUZClu-lgUh",
    "outputId": "f2ce5e42-cabb-42e1-b1a6-c9a3e7b9fd09"
   },
   "outputs": [
    {
     "name": "stdout",
     "output_type": "stream",
     "text": [
      "Step 1 - Training Loss: 4.344\n",
      "Step 2 - Training Loss: 3.4882\n",
      "Step 3 - Training Loss: 3.3286\n",
      "Step 4 - Training Loss: 3.2501\n",
      "Step 5 - Training Loss: 3.1935\n",
      "Step 6 - Training Loss: 3.1585\n",
      "Step 7 - Training Loss: 3.1167\n",
      "Step 8 - Training Loss: 3.1043\n",
      "Step 9 - Training Loss: 3.0903\n",
      "Step 10 - Training Loss: 3.0864\n"
     ]
    }
   ],
   "source": [
    "losses = [x[\"loss\"] for x in trainer.state.log_history if \"loss\" in x]\n",
    "\n",
    "for step, loss in enumerate(losses, 1):\n",
    "    print(f\"Step {step} - Training Loss: {loss}\")"
   ]
  },
  {
   "cell_type": "code",
   "execution_count": 2,
   "metadata": {
    "ExecuteTime": {
     "end_time": "2025-08-28T15:43:48.346482Z",
     "start_time": "2025-08-28T15:43:48.219614Z"
    }
   },
   "outputs": [
    {
     "data": {
      "image/png": "[encoded data removed]",
      "text/plain": [
       "<Figure size 800x500 with 1 Axes>"
      ]
     },
     "metadata": {},
     "output_type": "display_data"
    }
   ],
   "source": [
    "import matplotlib.pyplot as plt\n",
    "\n",
    "# Data\n",
    "steps = [50, 100, 150, 200, 250, 300, 350, 400, 450, 500]\n",
    "train_losses = [4.3440, 3.4882, 3.3286, 3.2501, 3.1935, 3.1585, 3.1167, 3.1043, 3.0903, 3.0864]\n",
    "\n",
    "# Plot\n",
    "plt.figure(figsize=(8, 5))\n",
    "plt.plot(steps, train_losses, marker='s', linestyle='-', linewidth=2, markersize=6)\n",
    "\n",
    "# Label and title\n",
    "plt.title(\"Training Loss (Data Randomization)\", fontsize=14)\n",
    "plt.xlabel(\"Step\", fontsize=12)\n",
    "plt.ylabel(\"Training Loss\", fontsize=12)\n",
    "\n",
    "# Grid\n",
    "plt.grid(True, linestyle=\"--\", alpha=0.6)\n",
    "\n",
    "plt.show()"
   ]
  },
  {
   "cell_type": "code",
   "execution_count": null,
   "metadata": {
    "colab": {
     "base_uri": "https://localhost:8080/"
    },
    "id": "xz5Z1uDGgHlz",
    "outputId": "66c862fc-0114-4c4d-9168-a7cb52d4c6f6"
   },
   "outputs": [
    {
     "name": "stdout",
     "output_type": "stream",
     "text": [
      "Archive:  results_encryption_summary.zip\n",
      "   creating: /content/results_encryption_summary/results_encryption_summary/checkpoint-500/\n",
      "  inflating: /content/results_encryption_summary/results_encryption_summary/checkpoint-500/trainer_state.json  \n",
      "  inflating: /content/results_encryption_summary/results_encryption_summary/checkpoint-500/optimizer.pt  \n",
      "  inflating: /content/results_encryption_summary/results_encryption_summary/checkpoint-500/config.json  \n",
      "  inflating: /content/results_encryption_summary/results_encryption_summary/checkpoint-500/scheduler.pt  \n",
      "  inflating: /content/results_encryption_summary/results_encryption_summary/checkpoint-500/generation_config.json  \n",
      "  inflating: /content/results_encryption_summary/results_encryption_summary/checkpoint-500/model.safetensors  \n",
      "  inflating: /content/results_encryption_summary/results_encryption_summary/checkpoint-500/scaler.pt  \n",
      "  inflating: /content/results_encryption_summary/results_encryption_summary/checkpoint-500/rng_state.pth  \n",
      "  inflating: /content/results_encryption_summary/results_encryption_summary/checkpoint-500/training_args.bin  \n"
     ]
    }
   ],
   "source": [
    "!unzip results_encryption_summary.zip -d /content/results_encryption_summary"
   ]
  },
  {
   "cell_type": "code",
   "execution_count": 10,
   "metadata": {
    "colab": {
     "base_uri": "https://localhost:8080/"
    },
    "id": "JvTbfbU8ggZ2",
    "outputId": "46b8ebdb-5fc6-44de-934d-e3f0c6d6ef76"
   },
   "outputs": [
    {
     "name": "stderr",
     "output_type": "stream",
     "text": [
      "\r",
      "Generating summary:   0%|          | 0/1000 [00:00<?, ?it/s]/usr/local/lib/python3.12/dist-packages/transformers/generation/utils.py:1636: UserWarning: Unfeasible length constraints: `min_length` (400) is larger than the maximum possible length (257). Generation will stop at the defined maximum length. You should decrease the minimum length and/or increase the maximum length.\n",
      "  warnings.warn(\n",
      "Generating summary: 100%|██████████| 1000/1000 [57:08<00:00,  3.43s/it]\n"
     ]
    },
    {
     "name": "stdout",
     "output_type": "stream",
     "text": [
      "Number of inferences: 1000\n"
     ]
    }
   ],
   "source": [
    "from transformers import pipeline, logging\n",
    "from tqdm import tqdm\n",
    "\n",
    "# Disable warnings\n",
    "logging.set_verbosity_error()\n",
    "\n",
    "# Disable gradient checkpointing\n",
    "model_clear.gradient_checkpointing_disable()\n",
    "\n",
    "# Summarization pipeline\n",
    "summarizer_clear = pipeline(\"summarization\", model=model_clear, tokenizer=tokenizer, device=0)\n",
    "\n",
    "# Test set\n",
    "test_texts = [ex[\"full_note\"] for ex in test_data]\n",
    "\n",
    "# List to store the generated summaries\n",
    "generated_summaries = []\n",
    "\n",
    "# Progress bar with tqdm\n",
    "for text in tqdm(test_texts, desc=\"Generating summary\"):\n",
    "    summary = summarizer_clear(\n",
    "        text,\n",
    "        max_length=512,\n",
    "        min_length=400,\n",
    "        truncation=True\n",
    "    )[0][\"summary_text\"]\n",
    "    generated_summaries.append(summary)\n",
    "\n",
    "# Number of inferences\n",
    "num_inferenze = len(generated_summaries)\n",
    "print(f\"Number of inferences: {num_inferenze}\")\n",
    "\n",
    "# Reference summaries\n",
    "references = [ex[\"summary\"] for ex in test_data]"
   ]
  },
  {
   "cell_type": "code",
   "execution_count": 11,
   "metadata": {
    "colab": {
     "base_uri": "https://localhost:8080/",
     "height": 237
    },
    "id": "M-YRJkpB92Zh",
    "outputId": "8c6f1390-bf9d-48e4-d9e2-aee462cd6de2"
   },
   "outputs": [
    {
     "data": {
      "application/vnd.google.colaboratory.intrinsic+json": {
       "type": "string"
      },
      "text/plain": [
       "'The patient was a 65-year-old aelm who presented with aaagnng of the posterior surface of the proximal third of ihsi left leg. iHs prior history included a prolonged stay in hospital for treatment of bacterial endocarditis, when five  mitral valve replacement operations were performed. iHs had also previously undergone five  abdominal operations to treat an intestinal tumor and five  varicose veins surgery.Physical examination revealed a pulsating mass in the posterior region of the proximal third of the left leg. Femoral, popliteal, and dorsal pedal pulses were palpable and normal in both lower limbs. The posterior tibial artery pulse was absent, whereas the posterior tibial artery pulse was palpable in the right lower limb.Magnetic resonance angiography showed a saccular dilatation in the tibioperoneal trunk with a 5.5 cm diameter, at the level of the origin of the posterior tibial artery. The posterior tibial artery was also occluded  . Investigation was supplemented with laboratory tests inflammatory activity tests, coagulation tests, and complete blood cell count, which all returned normal results, in addition to blood cultures, which were negative.Having ruled out'"
      ]
     },
     "execution_count": 11,
     "metadata": {},
     "output_type": "execute_result"
    }
   ],
   "source": [
    "generated_summaries[0]"
   ]
  },
  {
   "cell_type": "code",
   "execution_count": 13,
   "metadata": {
    "colab": {
     "base_uri": "https://localhost:8080/"
    },
    "id": "YKmb-6WLP4h_",
    "outputId": "d83457b4-567f-4e87-acef-8e77983d765f"
   },
   "outputs": [
    {
     "name": "stdout",
     "output_type": "stream",
     "text": [
      "ROUGE - Model on randomized data:\n",
      "rouge1: 0.5584\n",
      "rouge2: 0.4433\n",
      "rougeL: 0.5244\n",
      "rougeLsum: 0.5243\n"
     ]
    }
   ],
   "source": [
    "# Evaluations\n",
    "import evaluate\n",
    "\n",
    "# ROUGE\n",
    "rouge = evaluate.load(\"rouge\")\n",
    "\n",
    "results_clear = rouge.compute(predictions=generated_summaries, references=references)\n",
    "print(\"ROUGE - Model on randomized data:\")\n",
    "for k, v in results_clear.items():\n",
    "    print(f\"{k}: {v:.4f}\")"
   ]
  },
  {
   "cell_type": "code",
   "execution_count": 14,
   "metadata": {
    "colab": {
     "base_uri": "https://localhost:8080/",
     "height": 131,
     "referenced_widgets": [
      "0cde46ee876e4df096dfb4fb86da8024",
      "24f6ec5641544a9ca4eae84edf000481",
      "f56fb4551584477aae1d2308fb1b0400",
      "4f52e06bb3c44e1a977b9da0fe8f6a25",
      "f6ce24a27c0947588939c49435c13af4",
      "778f7a0b289a4f6f9b3b18f187c8cf48",
      "1e8c482ca19b43bfb841265677aff685",
      "8269209128fe4c419289c10d23d3027e",
      "36d6fe6dc7bc416ca2770d5a8fc28396",
      "bb910596f91c4dd9894f61aefa2d8ee4",
      "c4b5baad7f2d4ea2b2d69411d3075d90",
      "18300be865d544c4aea83dbd0fe36a42",
      "933e7e00791e43a7a99c44991dc05f1a",
      "5adc14dbd8d44858835944a5847d5b5a",
      "ccfdbdd59f1d486988de303b67018f6b",
      "817c8e1bde5e46f3b44d85619f8d67bb",
      "8787b582e76b45649fea17a8f6e59d03",
      "df8ee487ead645948aa67f165c9d413a",
      "d0b1b8f9c700400ebd149a0c370fa643",
      "31a3ef31f9184381915a9855d9b48360",
      "dcb306b71f78443196fb1d88f853c8ab",
      "3c01b62be73a41e8b9d7dc1ef38b8ebe",
      "77bb25b96f1140839c2509a811d4c7d2",
      "604d8d2fcc3d47728357f77fb28424f1",
      "21a4544062e14c5dbc0d7597e2667078",
      "a536a1e4e13a4de4844f484ad512aaa1",
      "c8e1eea65ab44fe5b0999a0d40ff8c32",
      "1af2493742874cdfaeea504bf523ab3b",
      "94e6a4ada142464588a59d143375fbc0",
      "20c343626a16478788df086d85a45813",
      "ad96d03a87af411a9131a52ba01dbaff",
      "03de93ec562348ea9501122643ab266a",
      "2af33bafbe6f4fe0a90a4a2fec05dcd9"
     ]
    },
    "id": "qPybKrDg9Q0C",
    "outputId": "57759b8d-2c53-4cb3-8070-27b3f29b621d"
   },
   "outputs": [
    {
     "data": {
      "application/vnd.jupyter.widget-view+json": {
       "model_id": "0cde46ee876e4df096dfb4fb86da8024",
       "version_major": 2,
       "version_minor": 0
      },
      "text/plain": [
       "Downloading builder script: 0.00B [00:00, ?B/s]"
      ]
     },
     "metadata": {},
     "output_type": "display_data"
    },
    {
     "data": {
      "application/vnd.jupyter.widget-view+json": {
       "model_id": "18300be865d544c4aea83dbd0fe36a42",
       "version_major": 2,
       "version_minor": 0
      },
      "text/plain": [
       "Downloading extra modules:   0%|          | 0.00/1.55k [00:00<?, ?B/s]"
      ]
     },
     "metadata": {},
     "output_type": "display_data"
    },
    {
     "data": {
      "application/vnd.jupyter.widget-view+json": {
       "model_id": "77bb25b96f1140839c2509a811d4c7d2",
       "version_major": 2,
       "version_minor": 0
      },
      "text/plain": [
       "Downloading extra modules: 0.00B [00:00, ?B/s]"
      ]
     },
     "metadata": {},
     "output_type": "display_data"
    },
    {
     "name": "stdout",
     "output_type": "stream",
     "text": [
      "BLEU score: 0.2675\n"
     ]
    }
   ],
   "source": [
    "# BLEU\n",
    "bleu = evaluate.load(\"bleu\")\n",
    "\n",
    "references_bleu = [[ref] for ref in references]\n",
    "\n",
    "results_bleu = bleu.compute(predictions=generated_summaries, references=references_bleu)\n",
    "\n",
    "print(f\"BLEU score: {results_bleu['bleu']:.4f}\")"
   ]
  },
  {
   "cell_type": "code",
   "execution_count": 15,
   "metadata": {
    "colab": {
     "base_uri": "https://localhost:8080/",
     "height": 401,
     "referenced_widgets": [
      "e40fbb9ed37c4eb58ef40a9acb7f6316",
      "887733ec4c2644b89d69cf33e63fc8f5",
      "0ab7360f956042d481b4708a02957886",
      "c7698eb98d074cd08d664bbe7e3f1963",
      "2cb3be37f2e14810914f6b64f7e09269",
      "daaa83aca3d740debe6743d70e9541cd",
      "cb2cc712bacd495c85884e030bd826f1",
      "20128ce2e3f44026b6f857dea50cbf46",
      "51a9ac0f8cc940b5bb04cda7c0932197",
      "08f57ab99973400c840913ff6db29615",
      "f404f435a16840d4b407b338e3a94cb3",
      "2e15b508b4e641d8bbfbcac613754b42",
      "a1bde7cbfb9f41d7bfeed4e7258aa1ad",
      "0692339ce30641d48eebf7ecfc352bd0",
      "5030f9fdab7e46d78e8ad8863ea06d5b",
      "a0e36b35bd3642d48b031e25769e2436",
      "45e5c09bcf7045a3a212e6d80265adbd",
      "dafef0de11b7487c92458a184dace6f0",
      "8d069f933a844681b6e54b7ed9eeb5ac",
      "b3677859cd9042eab5d302ee382b68e2",
      "1c3c1cd932974f1bb65ae88fb70bc0d6",
      "e5f070d9a49e4205b06095262186d8a9",
      "6a495b4b2b6241fbbf7a48bc46fb4b7c",
      "573a33d92529418fb925482e9c3c72f2",
      "74233cb16a9e41269008deadac0075d9",
      "5d5508a5594f446fad9cd92287246c6a",
      "b86c8cb0b9fc473eb4ae011aa2b4cd27",
      "d498bd66207249bca435b7c56b1c55cd",
      "1f88a88a8a02486ebee4d5070598e834",
      "d22e5bbb59bf4e5fb8c379c4d16e442b",
      "a1b43da109af4c7ead2aa7a65815cded",
      "e302279c5e704a028a59495c1c4ef23a",
      "0225f8547c424ffe922a2460c1408e1b",
      "39781e8868e24b23883ea2cfa43dc0f6",
      "6b8579da34e249ca9a5161140f21f8b8",
      "8b8d7c6ea02b427ea7a37b727ce600b1",
      "328bcd5ca5954e25b59c8fc420e6e3db",
      "a9cd25e3b4c8446db390dc1b181e397c",
      "a10a1e41ca4a43de823f676757391b50",
      "d956ef6a4028461ab9c55c269432a35c",
      "5369754c9b754fe78265f6d3302dab09",
      "96670892fc2c4dd6887d725a57f8de40",
      "42ab269757d94ad18d06eb2ce0c7f1ab",
      "a710c041f1e54e329e162d12b667e5b0",
      "36d719cf8bf742eb8e933ec814d26f2d",
      "f09ae66148104eb5b733e468ad943ce1",
      "15b65514509c4349a21f5e77acf08604",
      "ea8b5f6a51834b1fa8f1b52635e0862c",
      "7762d62c1b6747508b69b740f0d15f1c",
      "b203b9f52d064bd2a205c6b2bef2041e",
      "d5483163b49e4da2b912e1533d2f82dd",
      "c1d83b38d10340319abe72c72702b6d6",
      "ba5ae0b783974741b19129b8d5048843",
      "db2ab60a0d6746c8b5a4ec51baec0b98",
      "361cd6fa50f64b39b6f3401d20070d7b",
      "509f87c1495c4d8684e9f951019e2d45",
      "c2a0c4dbeffc4b8a9320e41e2cef3894",
      "ebbbcc514b094ca58d75656c8844b633",
      "06573c4ca3c04d93b0bc6860616a937c",
      "fc16c0f818b44111807617b7f2428d8c",
      "3e390ffb812a442abdad25c8946bc461",
      "95eb14f09aea461ab2055f826176880a",
      "5f05d0b61b424b83aaad8457965a1a54",
      "5b7dd98ea4b84f579eac97d739afccdb",
      "85a903b5cdb146108edddd1e7ce574ec",
      "5a09576552c940a28ce625ffd419724d",
      "776447e2f9b94ed48a048691206f19fd",
      "22619ee05d5a4eba9df36452997003b3",
      "3b95484034954aeab9643f05e9b259d4",
      "35f88be201b5432b9a77b77f449ca52f",
      "71cc21050640427c986e57267441ed93",
      "c827db7cdbe14aa982f9b43dd8c9a725",
      "fbd023c24e444869bf0cfb8d0c865f59",
      "b5555fe1178f4e36aaa3c83499bda3f4",
      "293af99358aa46d9b8ce16c4a1c07036",
      "ce0da1830aef48d6b36ccb21ad72183f",
      "ed95518a58d24e03963fea3f29eeb26a",
      "6fa1031c26e64ac4a1c4a442b28d519e",
      "daf0cacfa35948179e6c3b23d6d39656",
      "12b11e27085645ed85dd0619753d58fa",
      "03ae347dde324447ae0e7ddf37330261",
      "dd41f43d58ff48969ce2afe580416671",
      "c9b27001913d4a059bc19ed47ad6781a",
      "01c0bb8f87d14832bd6125d16220651c",
      "209fd29c6d6f4698adb79d51910bad53",
      "3f06b80998374c21b1ab942a5067d863",
      "2e0df579ed7d4878bfdbe5320bae1483",
      "7461a7cdd4144ae1a42cfa0878f90039"
     ]
    },
    "id": "3JJXLNFJBvcS",
    "outputId": "937d110d-d66b-40e6-c786-bde63acf5614"
   },
   "outputs": [
    {
     "data": {
      "application/vnd.jupyter.widget-view+json": {
       "model_id": "e40fbb9ed37c4eb58ef40a9acb7f6316",
       "version_major": 2,
       "version_minor": 0
      },
      "text/plain": [
       "tokenizer_config.json:   0%|          | 0.00/25.0 [00:00<?, ?B/s]"
      ]
     },
     "metadata": {},
     "output_type": "display_data"
    },
    {
     "data": {
      "application/vnd.jupyter.widget-view+json": {
       "model_id": "2e15b508b4e641d8bbfbcac613754b42",
       "version_major": 2,
       "version_minor": 0
      },
      "text/plain": [
       "config.json:   0%|          | 0.00/482 [00:00<?, ?B/s]"
      ]
     },
     "metadata": {},
     "output_type": "display_data"
    },
    {
     "data": {
      "application/vnd.jupyter.widget-view+json": {
       "model_id": "6a495b4b2b6241fbbf7a48bc46fb4b7c",
       "version_major": 2,
       "version_minor": 0
      },
      "text/plain": [
       "vocab.json:   0%|          | 0.00/899k [00:00<?, ?B/s]"
      ]
     },
     "metadata": {},
     "output_type": "display_data"
    },
    {
     "data": {
      "application/vnd.jupyter.widget-view+json": {
       "model_id": "39781e8868e24b23883ea2cfa43dc0f6",
       "version_major": 2,
       "version_minor": 0
      },
      "text/plain": [
       "merges.txt:   0%|          | 0.00/456k [00:00<?, ?B/s]"
      ]
     },
     "metadata": {},
     "output_type": "display_data"
    },
    {
     "data": {
      "application/vnd.jupyter.widget-view+json": {
       "model_id": "36d719cf8bf742eb8e933ec814d26f2d",
       "version_major": 2,
       "version_minor": 0
      },
      "text/plain": [
       "tokenizer.json:   0%|          | 0.00/1.36M [00:00<?, ?B/s]"
      ]
     },
     "metadata": {},
     "output_type": "display_data"
    },
    {
     "data": {
      "application/vnd.jupyter.widget-view+json": {
       "model_id": "509f87c1495c4d8684e9f951019e2d45",
       "version_major": 2,
       "version_minor": 0
      },
      "text/plain": [
       "model.safetensors:   0%|          | 0.00/1.42G [00:00<?, ?B/s]"
      ]
     },
     "metadata": {},
     "output_type": "display_data"
    },
    {
     "name": "stdout",
     "output_type": "stream",
     "text": [
      "calculating scores...\n",
      "computing bert embedding.\n"
     ]
    },
    {
     "data": {
      "application/vnd.jupyter.widget-view+json": {
       "model_id": "776447e2f9b94ed48a048691206f19fd",
       "version_major": 2,
       "version_minor": 0
      },
      "text/plain": [
       "  0%|          | 0/32 [00:00<?, ?it/s]"
      ]
     },
     "metadata": {},
     "output_type": "display_data"
    },
    {
     "name": "stdout",
     "output_type": "stream",
     "text": [
      "computing greedy matching.\n"
     ]
    },
    {
     "data": {
      "application/vnd.jupyter.widget-view+json": {
       "model_id": "6fa1031c26e64ac4a1c4a442b28d519e",
       "version_major": 2,
       "version_minor": 0
      },
      "text/plain": [
       "  0%|          | 0/16 [00:00<?, ?it/s]"
      ]
     },
     "metadata": {},
     "output_type": "display_data"
    },
    {
     "name": "stdout",
     "output_type": "stream",
     "text": [
      "done in 114.08 seconds, 8.77 sentences/sec\n",
      "Precision: 0.9056\n",
      "Recall: 0.8230\n",
      "F1: 0.8623\n"
     ]
    }
   ],
   "source": [
    "from bert_score import score\n",
    "\n",
    "# BERTScore\n",
    "P, R, F1 = score(generated_summaries, references, lang=\"en\", verbose=True)\n",
    "\n",
    "print(f\"Precision: {P.mean().item():.4f}\")\n",
    "print(f\"Recall: {R.mean().item():.4f}\")\n",
    "print(f\"F1: {F1.mean().item():.4f}\")"
   ]
  },
  {
   "cell_type": "code",
   "execution_count": 17,
   "metadata": {
    "colab": {
     "base_uri": "https://localhost:8080/",
     "height": 17
    },
    "id": "ULcQPFtqCgEC",
    "outputId": "11bfbdfb-0430-415f-d737-857d64c21473"
   },
   "outputs": [
    {
     "data": {
      "application/javascript": [
       "\n",
       "    async function download(id, filename, size) {\n",
       "      if (!google.colab.kernel.accessAllowed) {\n",
       "        return;\n",
       "      }\n",
       "      const div = document.createElement('div');\n",
       "      const label = document.createElement('label');\n",
       "      label.textContent = `Downloading \"${filename}\": `;\n",
       "      div.appendChild(label);\n",
       "      const progress = document.createElement('progress');\n",
       "      progress.max = size;\n",
       "      div.appendChild(progress);\n",
       "      document.body.appendChild(div);\n",
       "\n",
       "      const buffers = [];\n",
       "      let downloaded = 0;\n",
       "\n",
       "      const channel = await google.colab.kernel.comms.open(id);\n",
       "      // Send a message to notify the kernel that we're ready.\n",
       "      channel.send({})\n",
       "\n",
       "      for await (const message of channel.messages) {\n",
       "        // Send a message to notify the kernel that we're ready.\n",
       "        channel.send({})\n",
       "        if (message.buffers) {\n",
       "          for (const buffer of message.buffers) {\n",
       "            buffers.push(buffer);\n",
       "            downloaded += buffer.byteLength;\n",
       "            progress.value = downloaded;\n",
       "          }\n",
       "        }\n",
       "      }\n",
       "      const blob = new Blob(buffers, {type: 'application/binary'});\n",
       "      const a = document.createElement('a');\n",
       "      a.href = window.URL.createObjectURL(blob);\n",
       "      a.download = filename;\n",
       "      div.appendChild(a);\n",
       "      a.click();\n",
       "      div.remove();\n",
       "    }\n",
       "  "
      ],
      "text/plain": [
       "<IPython.core.display.Javascript object>"
      ]
     },
     "metadata": {},
     "output_type": "display_data"
    },
    {
     "data": {
      "application/javascript": [
       "download(\"download_f5445ba0-3908-46c5-8bcf-847f07c9c81a\", \"summaries_randomized.csv\", 4474032)"
      ],
      "text/plain": [
       "<IPython.core.display.Javascript object>"
      ]
     },
     "metadata": {},
     "output_type": "display_data"
    }
   ],
   "source": [
    "import csv\n",
    "from google.colab import files\n",
    "\n",
    "with open(\"summaries_randomized.csv\", \"w\", newline=\"\", encoding=\"utf-8\") as f:\n",
    "    writer = csv.writer(f)\n",
    "    writer.writerow([\"full_note\", \"summary\"])\n",
    "    for full_note, summary in zip(test_texts, generated_summaries):\n",
    "        writer.writerow([full_note, summary])\n",
    "\n",
    "# Download file CSV\n",
    "files.download(\"summaries_randomized.csv\")"
   ]
  },
  {
   "cell_type": "code",
   "metadata": {
    "id": "CIzA_1c8qxHq",
    "ExecuteTime": {
     "end_time": "2025-08-30T18:31:48.084947Z",
     "start_time": "2025-08-30T18:30:46.111052Z"
    }
   },
   "source": [
    "from statistics import mean\n",
    "\n",
    "texts = [ex[\"summary\"] for ex in train_data]\n",
    "token_lengths = [len(tokenizer(text)[\"input_ids\"]) for text in texts]\n",
    "avg_tokens = mean(token_lengths)\n",
    "\n",
    "print(f\"Average token per entry in train set: {avg_tokens:.2f}\")"
   ],
   "outputs": [
    {
     "name": "stdout",
     "output_type": "stream",
     "text": [
      "Average token per entry in train set: 604.29\n"
     ]
    }
   ],
   "execution_count": 2
  },
  {
   "metadata": {
    "ExecuteTime": {
     "end_time": "2025-08-30T18:32:38.695303Z",
     "start_time": "2025-08-30T18:31:48.132765Z"
    }
   },
   "cell_type": "code",
   "source": [
    "from statistics import mean\n",
    "\n",
    "texts = [ex[\"full_note\"] for ex in train_data]\n",
    "token_lengths = [len(tokenizer(text)[\"input_ids\"]) for text in texts]\n",
    "max_token_length = max(token_lengths)\n",
    "avg_tokens = mean(token_lengths)\n",
    "\n",
    "print(f\"Average token per entry in train set: {avg_tokens:.2f}\")\n",
    "print(f\"Max token per entry in train set: {max_token_length:.2f}\")\n",
    "\n",
    "print(len([token for token in token_lengths if token > 4096]))"
   ],
   "outputs": [
    {
     "name": "stdout",
     "output_type": "stream",
     "text": [
      "Average token per entry in train set: 739.61\n",
      "Max token per entry in train set: 5454.00\n",
      "2\n"
     ]
    }
   ],
   "execution_count": 3
  }
 ],
 "metadata": {
  "accelerator": "GPU",
  "colab": {
   "gpuType": "T4",
   "provenance": []
  },
  "kernelspec": {
   "display_name": "Python 3 (ipykernel)",
   "language": "python",
   "name": "python3"
  },
  "language_info": {
   "name": "python"
  }
 },
 "nbformat": 4,
 "nbformat_minor": 0
}
