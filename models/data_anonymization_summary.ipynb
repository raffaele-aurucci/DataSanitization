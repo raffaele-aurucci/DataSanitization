{
 "cells": [
  {
   "cell_type": "markdown",
   "metadata": {
    "id": "BsAfz2vUCl8N"
   },
   "source": [
    "### **Text Summarization on anonymized data**"
   ]
  },
  {
   "cell_type": "code",
   "execution_count": 1,
   "metadata": {
    "colab": {
     "base_uri": "https://localhost:8080/"
    },
    "id": "k7vZIpestvW-",
    "outputId": "e65a21da-6dab-4af8-d421-9ba05a616b07"
   },
   "outputs": [
    {
     "name": "stdout",
     "output_type": "stream",
     "text": [
      "Requirement already satisfied: transformers in /usr/local/lib/python3.12/dist-packages (4.55.2)\n",
      "Requirement already satisfied: datasets in /usr/local/lib/python3.12/dist-packages (4.0.0)\n",
      "Requirement already satisfied: accelerate in /usr/local/lib/python3.12/dist-packages (1.10.0)\n",
      "Requirement already satisfied: filelock in /usr/local/lib/python3.12/dist-packages (from transformers) (3.19.1)\n",
      "Requirement already satisfied: huggingface-hub<1.0,>=0.34.0 in /usr/local/lib/python3.12/dist-packages (from transformers) (0.34.4)\n",
      "Requirement already satisfied: numpy>=1.17 in /usr/local/lib/python3.12/dist-packages (from transformers) (2.0.2)\n",
      "Requirement already satisfied: packaging>=20.0 in /usr/local/lib/python3.12/dist-packages (from transformers) (25.0)\n",
      "Requirement already satisfied: pyyaml>=5.1 in /usr/local/lib/python3.12/dist-packages (from transformers) (6.0.2)\n",
      "Requirement already satisfied: regex!=2019.12.17 in /usr/local/lib/python3.12/dist-packages (from transformers) (2024.11.6)\n",
      "Requirement already satisfied: requests in /usr/local/lib/python3.12/dist-packages (from transformers) (2.32.4)\n",
      "Requirement already satisfied: tokenizers<0.22,>=0.21 in /usr/local/lib/python3.12/dist-packages (from transformers) (0.21.4)\n",
      "Requirement already satisfied: safetensors>=0.4.3 in /usr/local/lib/python3.12/dist-packages (from transformers) (0.6.2)\n",
      "Requirement already satisfied: tqdm>=4.27 in /usr/local/lib/python3.12/dist-packages (from transformers) (4.67.1)\n",
      "Requirement already satisfied: pyarrow>=15.0.0 in /usr/local/lib/python3.12/dist-packages (from datasets) (18.1.0)\n",
      "Requirement already satisfied: dill<0.3.9,>=0.3.0 in /usr/local/lib/python3.12/dist-packages (from datasets) (0.3.8)\n",
      "Requirement already satisfied: pandas in /usr/local/lib/python3.12/dist-packages (from datasets) (2.2.2)\n",
      "Requirement already satisfied: xxhash in /usr/local/lib/python3.12/dist-packages (from datasets) (3.5.0)\n",
      "Requirement already satisfied: multiprocess<0.70.17 in /usr/local/lib/python3.12/dist-packages (from datasets) (0.70.16)\n",
      "Requirement already satisfied: fsspec<=2025.3.0,>=2023.1.0 in /usr/local/lib/python3.12/dist-packages (from fsspec[http]<=2025.3.0,>=2023.1.0->datasets) (2025.3.0)\n",
      "Requirement already satisfied: psutil in /usr/local/lib/python3.12/dist-packages (from accelerate) (5.9.5)\n",
      "Requirement already satisfied: torch>=2.0.0 in /usr/local/lib/python3.12/dist-packages (from accelerate) (2.8.0+cu126)\n",
      "Requirement already satisfied: aiohttp!=4.0.0a0,!=4.0.0a1 in /usr/local/lib/python3.12/dist-packages (from fsspec[http]<=2025.3.0,>=2023.1.0->datasets) (3.12.15)\n",
      "Requirement already satisfied: typing-extensions>=3.7.4.3 in /usr/local/lib/python3.12/dist-packages (from huggingface-hub<1.0,>=0.34.0->transformers) (4.14.1)\n",
      "Requirement already satisfied: hf-xet<2.0.0,>=1.1.3 in /usr/local/lib/python3.12/dist-packages (from huggingface-hub<1.0,>=0.34.0->transformers) (1.1.7)\n",
      "Requirement already satisfied: charset_normalizer<4,>=2 in /usr/local/lib/python3.12/dist-packages (from requests->transformers) (3.4.3)\n",
      "Requirement already satisfied: idna<4,>=2.5 in /usr/local/lib/python3.12/dist-packages (from requests->transformers) (3.10)\n",
      "Requirement already satisfied: urllib3<3,>=1.21.1 in /usr/local/lib/python3.12/dist-packages (from requests->transformers) (2.5.0)\n",
      "Requirement already satisfied: certifi>=2017.4.17 in /usr/local/lib/python3.12/dist-packages (from requests->transformers) (2025.8.3)\n",
      "Requirement already satisfied: setuptools in /usr/local/lib/python3.12/dist-packages (from torch>=2.0.0->accelerate) (75.2.0)\n",
      "Requirement already satisfied: sympy>=1.13.3 in /usr/local/lib/python3.12/dist-packages (from torch>=2.0.0->accelerate) (1.13.3)\n",
      "Requirement already satisfied: networkx in /usr/local/lib/python3.12/dist-packages (from torch>=2.0.0->accelerate) (3.5)\n",
      "Requirement already satisfied: jinja2 in /usr/local/lib/python3.12/dist-packages (from torch>=2.0.0->accelerate) (3.1.6)\n",
      "Requirement already satisfied: nvidia-cuda-nvrtc-cu12==12.6.77 in /usr/local/lib/python3.12/dist-packages (from torch>=2.0.0->accelerate) (12.6.77)\n",
      "Requirement already satisfied: nvidia-cuda-runtime-cu12==12.6.77 in /usr/local/lib/python3.12/dist-packages (from torch>=2.0.0->accelerate) (12.6.77)\n",
      "Requirement already satisfied: nvidia-cuda-cupti-cu12==12.6.80 in /usr/local/lib/python3.12/dist-packages (from torch>=2.0.0->accelerate) (12.6.80)\n",
      "Requirement already satisfied: nvidia-cudnn-cu12==9.10.2.21 in /usr/local/lib/python3.12/dist-packages (from torch>=2.0.0->accelerate) (9.10.2.21)\n",
      "Requirement already satisfied: nvidia-cublas-cu12==12.6.4.1 in /usr/local/lib/python3.12/dist-packages (from torch>=2.0.0->accelerate) (12.6.4.1)\n",
      "Requirement already satisfied: nvidia-cufft-cu12==11.3.0.4 in /usr/local/lib/python3.12/dist-packages (from torch>=2.0.0->accelerate) (11.3.0.4)\n",
      "Requirement already satisfied: nvidia-curand-cu12==10.3.7.77 in /usr/local/lib/python3.12/dist-packages (from torch>=2.0.0->accelerate) (10.3.7.77)\n",
      "Requirement already satisfied: nvidia-cusolver-cu12==11.7.1.2 in /usr/local/lib/python3.12/dist-packages (from torch>=2.0.0->accelerate) (11.7.1.2)\n",
      "Requirement already satisfied: nvidia-cusparse-cu12==12.5.4.2 in /usr/local/lib/python3.12/dist-packages (from torch>=2.0.0->accelerate) (12.5.4.2)\n",
      "Requirement already satisfied: nvidia-cusparselt-cu12==0.7.1 in /usr/local/lib/python3.12/dist-packages (from torch>=2.0.0->accelerate) (0.7.1)\n",
      "Requirement already satisfied: nvidia-nccl-cu12==2.27.3 in /usr/local/lib/python3.12/dist-packages (from torch>=2.0.0->accelerate) (2.27.3)\n",
      "Requirement already satisfied: nvidia-nvtx-cu12==12.6.77 in /usr/local/lib/python3.12/dist-packages (from torch>=2.0.0->accelerate) (12.6.77)\n",
      "Requirement already satisfied: nvidia-nvjitlink-cu12==12.6.85 in /usr/local/lib/python3.12/dist-packages (from torch>=2.0.0->accelerate) (12.6.85)\n",
      "Requirement already satisfied: nvidia-cufile-cu12==1.11.1.6 in /usr/local/lib/python3.12/dist-packages (from torch>=2.0.0->accelerate) (1.11.1.6)\n",
      "Requirement already satisfied: triton==3.4.0 in /usr/local/lib/python3.12/dist-packages (from torch>=2.0.0->accelerate) (3.4.0)\n",
      "Requirement already satisfied: python-dateutil>=2.8.2 in /usr/local/lib/python3.12/dist-packages (from pandas->datasets) (2.9.0.post0)\n",
      "Requirement already satisfied: pytz>=2020.1 in /usr/local/lib/python3.12/dist-packages (from pandas->datasets) (2025.2)\n",
      "Requirement already satisfied: tzdata>=2022.7 in /usr/local/lib/python3.12/dist-packages (from pandas->datasets) (2025.2)\n",
      "Requirement already satisfied: aiohappyeyeballs>=2.5.0 in /usr/local/lib/python3.12/dist-packages (from aiohttp!=4.0.0a0,!=4.0.0a1->fsspec[http]<=2025.3.0,>=2023.1.0->datasets) (2.6.1)\n",
      "Requirement already satisfied: aiosignal>=1.4.0 in /usr/local/lib/python3.12/dist-packages (from aiohttp!=4.0.0a0,!=4.0.0a1->fsspec[http]<=2025.3.0,>=2023.1.0->datasets) (1.4.0)\n",
      "Requirement already satisfied: attrs>=17.3.0 in /usr/local/lib/python3.12/dist-packages (from aiohttp!=4.0.0a0,!=4.0.0a1->fsspec[http]<=2025.3.0,>=2023.1.0->datasets) (25.3.0)\n",
      "Requirement already satisfied: frozenlist>=1.1.1 in /usr/local/lib/python3.12/dist-packages (from aiohttp!=4.0.0a0,!=4.0.0a1->fsspec[http]<=2025.3.0,>=2023.1.0->datasets) (1.7.0)\n",
      "Requirement already satisfied: multidict<7.0,>=4.5 in /usr/local/lib/python3.12/dist-packages (from aiohttp!=4.0.0a0,!=4.0.0a1->fsspec[http]<=2025.3.0,>=2023.1.0->datasets) (6.6.4)\n",
      "Requirement already satisfied: propcache>=0.2.0 in /usr/local/lib/python3.12/dist-packages (from aiohttp!=4.0.0a0,!=4.0.0a1->fsspec[http]<=2025.3.0,>=2023.1.0->datasets) (0.3.2)\n",
      "Requirement already satisfied: yarl<2.0,>=1.17.0 in /usr/local/lib/python3.12/dist-packages (from aiohttp!=4.0.0a0,!=4.0.0a1->fsspec[http]<=2025.3.0,>=2023.1.0->datasets) (1.20.1)\n",
      "Requirement already satisfied: six>=1.5 in /usr/local/lib/python3.12/dist-packages (from python-dateutil>=2.8.2->pandas->datasets) (1.17.0)\n",
      "Requirement already satisfied: mpmath<1.4,>=1.1.0 in /usr/local/lib/python3.12/dist-packages (from sympy>=1.13.3->torch>=2.0.0->accelerate) (1.3.0)\n",
      "Requirement already satisfied: MarkupSafe>=2.0 in /usr/local/lib/python3.12/dist-packages (from jinja2->torch>=2.0.0->accelerate) (3.0.2)\n"
     ]
    }
   ],
   "source": [
    "!pip install --upgrade --no-cache-dir transformers datasets accelerate"
   ]
  },
  {
   "cell_type": "code",
   "execution_count": 2,
   "metadata": {
    "colab": {
     "base_uri": "https://localhost:8080/"
    },
    "id": "wm96sdvprasH",
    "outputId": "19e32603-cfad-4063-9916-9fe33bb9a962"
   },
   "outputs": [
    {
     "name": "stdout",
     "output_type": "stream",
     "text": [
      "Collecting evaluate\n",
      "  Downloading evaluate-0.4.5-py3-none-any.whl.metadata (9.5 kB)\n",
      "Requirement already satisfied: datasets>=2.0.0 in /usr/local/lib/python3.12/dist-packages (from evaluate) (4.0.0)\n",
      "Requirement already satisfied: numpy>=1.17 in /usr/local/lib/python3.12/dist-packages (from evaluate) (2.0.2)\n",
      "Requirement already satisfied: dill in /usr/local/lib/python3.12/dist-packages (from evaluate) (0.3.8)\n",
      "Requirement already satisfied: pandas in /usr/local/lib/python3.12/dist-packages (from evaluate) (2.2.2)\n",
      "Requirement already satisfied: requests>=2.19.0 in /usr/local/lib/python3.12/dist-packages (from evaluate) (2.32.4)\n",
      "Requirement already satisfied: tqdm>=4.62.1 in /usr/local/lib/python3.12/dist-packages (from evaluate) (4.67.1)\n",
      "Requirement already satisfied: xxhash in /usr/local/lib/python3.12/dist-packages (from evaluate) (3.5.0)\n",
      "Requirement already satisfied: multiprocess in /usr/local/lib/python3.12/dist-packages (from evaluate) (0.70.16)\n",
      "Requirement already satisfied: fsspec>=2021.05.0 in /usr/local/lib/python3.12/dist-packages (from fsspec[http]>=2021.05.0->evaluate) (2025.3.0)\n",
      "Requirement already satisfied: huggingface-hub>=0.7.0 in /usr/local/lib/python3.12/dist-packages (from evaluate) (0.34.4)\n",
      "Requirement already satisfied: packaging in /usr/local/lib/python3.12/dist-packages (from evaluate) (25.0)\n",
      "Requirement already satisfied: filelock in /usr/local/lib/python3.12/dist-packages (from datasets>=2.0.0->evaluate) (3.19.1)\n",
      "Requirement already satisfied: pyarrow>=15.0.0 in /usr/local/lib/python3.12/dist-packages (from datasets>=2.0.0->evaluate) (18.1.0)\n",
      "Requirement already satisfied: pyyaml>=5.1 in /usr/local/lib/python3.12/dist-packages (from datasets>=2.0.0->evaluate) (6.0.2)\n",
      "Requirement already satisfied: aiohttp!=4.0.0a0,!=4.0.0a1 in /usr/local/lib/python3.12/dist-packages (from fsspec[http]>=2021.05.0->evaluate) (3.12.15)\n",
      "Requirement already satisfied: typing-extensions>=3.7.4.3 in /usr/local/lib/python3.12/dist-packages (from huggingface-hub>=0.7.0->evaluate) (4.14.1)\n",
      "Requirement already satisfied: hf-xet<2.0.0,>=1.1.3 in /usr/local/lib/python3.12/dist-packages (from huggingface-hub>=0.7.0->evaluate) (1.1.7)\n",
      "Requirement already satisfied: charset_normalizer<4,>=2 in /usr/local/lib/python3.12/dist-packages (from requests>=2.19.0->evaluate) (3.4.3)\n",
      "Requirement already satisfied: idna<4,>=2.5 in /usr/local/lib/python3.12/dist-packages (from requests>=2.19.0->evaluate) (3.10)\n",
      "Requirement already satisfied: urllib3<3,>=1.21.1 in /usr/local/lib/python3.12/dist-packages (from requests>=2.19.0->evaluate) (2.5.0)\n",
      "Requirement already satisfied: certifi>=2017.4.17 in /usr/local/lib/python3.12/dist-packages (from requests>=2.19.0->evaluate) (2025.8.3)\n",
      "Requirement already satisfied: python-dateutil>=2.8.2 in /usr/local/lib/python3.12/dist-packages (from pandas->evaluate) (2.9.0.post0)\n",
      "Requirement already satisfied: pytz>=2020.1 in /usr/local/lib/python3.12/dist-packages (from pandas->evaluate) (2025.2)\n",
      "Requirement already satisfied: tzdata>=2022.7 in /usr/local/lib/python3.12/dist-packages (from pandas->evaluate) (2025.2)\n",
      "Requirement already satisfied: aiohappyeyeballs>=2.5.0 in /usr/local/lib/python3.12/dist-packages (from aiohttp!=4.0.0a0,!=4.0.0a1->fsspec[http]>=2021.05.0->evaluate) (2.6.1)\n",
      "Requirement already satisfied: aiosignal>=1.4.0 in /usr/local/lib/python3.12/dist-packages (from aiohttp!=4.0.0a0,!=4.0.0a1->fsspec[http]>=2021.05.0->evaluate) (1.4.0)\n",
      "Requirement already satisfied: attrs>=17.3.0 in /usr/local/lib/python3.12/dist-packages (from aiohttp!=4.0.0a0,!=4.0.0a1->fsspec[http]>=2021.05.0->evaluate) (25.3.0)\n",
      "Requirement already satisfied: frozenlist>=1.1.1 in /usr/local/lib/python3.12/dist-packages (from aiohttp!=4.0.0a0,!=4.0.0a1->fsspec[http]>=2021.05.0->evaluate) (1.7.0)\n",
      "Requirement already satisfied: multidict<7.0,>=4.5 in /usr/local/lib/python3.12/dist-packages (from aiohttp!=4.0.0a0,!=4.0.0a1->fsspec[http]>=2021.05.0->evaluate) (6.6.4)\n",
      "Requirement already satisfied: propcache>=0.2.0 in /usr/local/lib/python3.12/dist-packages (from aiohttp!=4.0.0a0,!=4.0.0a1->fsspec[http]>=2021.05.0->evaluate) (0.3.2)\n",
      "Requirement already satisfied: yarl<2.0,>=1.17.0 in /usr/local/lib/python3.12/dist-packages (from aiohttp!=4.0.0a0,!=4.0.0a1->fsspec[http]>=2021.05.0->evaluate) (1.20.1)\n",
      "Requirement already satisfied: six>=1.5 in /usr/local/lib/python3.12/dist-packages (from python-dateutil>=2.8.2->pandas->evaluate) (1.17.0)\n",
      "Downloading evaluate-0.4.5-py3-none-any.whl (84 kB)\n",
      "\u001B[2K   \u001B[90m━━━━━━━━━━━━━━━━━━━━━━━━━━━━━━━━━━━━━━━━\u001B[0m \u001B[32m84.1/84.1 kB\u001B[0m \u001B[31m7.3 MB/s\u001B[0m eta \u001B[36m0:00:00\u001B[0m\n",
      "\u001B[?25hInstalling collected packages: evaluate\n",
      "Successfully installed evaluate-0.4.5\n"
     ]
    }
   ],
   "source": [
    "!pip install evaluate"
   ]
  },
  {
   "cell_type": "code",
   "execution_count": 3,
   "metadata": {
    "colab": {
     "base_uri": "https://localhost:8080/"
    },
    "id": "BzN_BWigso3L",
    "outputId": "91aa840c-898f-4d05-995d-e92e551fd2cd"
   },
   "outputs": [
    {
     "name": "stdout",
     "output_type": "stream",
     "text": [
      "Collecting rouge_score\n",
      "  Downloading rouge_score-0.1.2.tar.gz (17 kB)\n",
      "  Preparing metadata (setup.py) ... \u001B[?25l\u001B[?25hdone\n",
      "Requirement already satisfied: absl-py in /usr/local/lib/python3.12/dist-packages (from rouge_score) (1.4.0)\n",
      "Requirement already satisfied: nltk in /usr/local/lib/python3.12/dist-packages (from rouge_score) (3.9.1)\n",
      "Requirement already satisfied: numpy in /usr/local/lib/python3.12/dist-packages (from rouge_score) (2.0.2)\n",
      "Requirement already satisfied: six>=1.14.0 in /usr/local/lib/python3.12/dist-packages (from rouge_score) (1.17.0)\n",
      "Requirement already satisfied: click in /usr/local/lib/python3.12/dist-packages (from nltk->rouge_score) (8.2.1)\n",
      "Requirement already satisfied: joblib in /usr/local/lib/python3.12/dist-packages (from nltk->rouge_score) (1.5.1)\n",
      "Requirement already satisfied: regex>=2021.8.3 in /usr/local/lib/python3.12/dist-packages (from nltk->rouge_score) (2024.11.6)\n",
      "Requirement already satisfied: tqdm in /usr/local/lib/python3.12/dist-packages (from nltk->rouge_score) (4.67.1)\n",
      "Building wheels for collected packages: rouge_score\n",
      "  Building wheel for rouge_score (setup.py) ... \u001B[?25l\u001B[?25hdone\n",
      "  Created wheel for rouge_score: filename=rouge_score-0.1.2-py3-none-any.whl size=24934 sha256=d3073c9d58c33f627950cc90cf6400f976cb6a8b74ecf64707c303bbcc8d9e85\n",
      "  Stored in directory: /root/.cache/pip/wheels/85/9d/af/01feefbe7d55ef5468796f0c68225b6788e85d9d0a281e7a70\n",
      "Successfully built rouge_score\n",
      "Installing collected packages: rouge_score\n",
      "Successfully installed rouge_score-0.1.2\n"
     ]
    }
   ],
   "source": [
    "!pip install rouge_score"
   ]
  },
  {
   "cell_type": "code",
   "execution_count": 4,
   "metadata": {
    "colab": {
     "base_uri": "https://localhost:8080/"
    },
    "id": "U_B6GbW00RC5",
    "outputId": "f391d240-bee6-462c-cb29-8acddf912001"
   },
   "outputs": [
    {
     "name": "stdout",
     "output_type": "stream",
     "text": [
      "Collecting bert-score\n",
      "  Downloading bert_score-0.3.13-py3-none-any.whl.metadata (15 kB)\n",
      "Requirement already satisfied: torch>=1.0.0 in /usr/local/lib/python3.12/dist-packages (from bert-score) (2.8.0+cu126)\n",
      "Requirement already satisfied: pandas>=1.0.1 in /usr/local/lib/python3.12/dist-packages (from bert-score) (2.2.2)\n",
      "Requirement already satisfied: transformers>=3.0.0 in /usr/local/lib/python3.12/dist-packages (from bert-score) (4.55.2)\n",
      "Requirement already satisfied: numpy in /usr/local/lib/python3.12/dist-packages (from bert-score) (2.0.2)\n",
      "Requirement already satisfied: requests in /usr/local/lib/python3.12/dist-packages (from bert-score) (2.32.4)\n",
      "Requirement already satisfied: tqdm>=4.31.1 in /usr/local/lib/python3.12/dist-packages (from bert-score) (4.67.1)\n",
      "Requirement already satisfied: matplotlib in /usr/local/lib/python3.12/dist-packages (from bert-score) (3.10.0)\n",
      "Requirement already satisfied: packaging>=20.9 in /usr/local/lib/python3.12/dist-packages (from bert-score) (25.0)\n",
      "Requirement already satisfied: python-dateutil>=2.8.2 in /usr/local/lib/python3.12/dist-packages (from pandas>=1.0.1->bert-score) (2.9.0.post0)\n",
      "Requirement already satisfied: pytz>=2020.1 in /usr/local/lib/python3.12/dist-packages (from pandas>=1.0.1->bert-score) (2025.2)\n",
      "Requirement already satisfied: tzdata>=2022.7 in /usr/local/lib/python3.12/dist-packages (from pandas>=1.0.1->bert-score) (2025.2)\n",
      "Requirement already satisfied: filelock in /usr/local/lib/python3.12/dist-packages (from torch>=1.0.0->bert-score) (3.19.1)\n",
      "Requirement already satisfied: typing-extensions>=4.10.0 in /usr/local/lib/python3.12/dist-packages (from torch>=1.0.0->bert-score) (4.14.1)\n",
      "Requirement already satisfied: setuptools in /usr/local/lib/python3.12/dist-packages (from torch>=1.0.0->bert-score) (75.2.0)\n",
      "Requirement already satisfied: sympy>=1.13.3 in /usr/local/lib/python3.12/dist-packages (from torch>=1.0.0->bert-score) (1.13.3)\n",
      "Requirement already satisfied: networkx in /usr/local/lib/python3.12/dist-packages (from torch>=1.0.0->bert-score) (3.5)\n",
      "Requirement already satisfied: jinja2 in /usr/local/lib/python3.12/dist-packages (from torch>=1.0.0->bert-score) (3.1.6)\n",
      "Requirement already satisfied: fsspec in /usr/local/lib/python3.12/dist-packages (from torch>=1.0.0->bert-score) (2025.3.0)\n",
      "Requirement already satisfied: nvidia-cuda-nvrtc-cu12==12.6.77 in /usr/local/lib/python3.12/dist-packages (from torch>=1.0.0->bert-score) (12.6.77)\n",
      "Requirement already satisfied: nvidia-cuda-runtime-cu12==12.6.77 in /usr/local/lib/python3.12/dist-packages (from torch>=1.0.0->bert-score) (12.6.77)\n",
      "Requirement already satisfied: nvidia-cuda-cupti-cu12==12.6.80 in /usr/local/lib/python3.12/dist-packages (from torch>=1.0.0->bert-score) (12.6.80)\n",
      "Requirement already satisfied: nvidia-cudnn-cu12==9.10.2.21 in /usr/local/lib/python3.12/dist-packages (from torch>=1.0.0->bert-score) (9.10.2.21)\n",
      "Requirement already satisfied: nvidia-cublas-cu12==12.6.4.1 in /usr/local/lib/python3.12/dist-packages (from torch>=1.0.0->bert-score) (12.6.4.1)\n",
      "Requirement already satisfied: nvidia-cufft-cu12==11.3.0.4 in /usr/local/lib/python3.12/dist-packages (from torch>=1.0.0->bert-score) (11.3.0.4)\n",
      "Requirement already satisfied: nvidia-curand-cu12==10.3.7.77 in /usr/local/lib/python3.12/dist-packages (from torch>=1.0.0->bert-score) (10.3.7.77)\n",
      "Requirement already satisfied: nvidia-cusolver-cu12==11.7.1.2 in /usr/local/lib/python3.12/dist-packages (from torch>=1.0.0->bert-score) (11.7.1.2)\n",
      "Requirement already satisfied: nvidia-cusparse-cu12==12.5.4.2 in /usr/local/lib/python3.12/dist-packages (from torch>=1.0.0->bert-score) (12.5.4.2)\n",
      "Requirement already satisfied: nvidia-cusparselt-cu12==0.7.1 in /usr/local/lib/python3.12/dist-packages (from torch>=1.0.0->bert-score) (0.7.1)\n",
      "Requirement already satisfied: nvidia-nccl-cu12==2.27.3 in /usr/local/lib/python3.12/dist-packages (from torch>=1.0.0->bert-score) (2.27.3)\n",
      "Requirement already satisfied: nvidia-nvtx-cu12==12.6.77 in /usr/local/lib/python3.12/dist-packages (from torch>=1.0.0->bert-score) (12.6.77)\n",
      "Requirement already satisfied: nvidia-nvjitlink-cu12==12.6.85 in /usr/local/lib/python3.12/dist-packages (from torch>=1.0.0->bert-score) (12.6.85)\n",
      "Requirement already satisfied: nvidia-cufile-cu12==1.11.1.6 in /usr/local/lib/python3.12/dist-packages (from torch>=1.0.0->bert-score) (1.11.1.6)\n",
      "Requirement already satisfied: triton==3.4.0 in /usr/local/lib/python3.12/dist-packages (from torch>=1.0.0->bert-score) (3.4.0)\n",
      "Requirement already satisfied: huggingface-hub<1.0,>=0.34.0 in /usr/local/lib/python3.12/dist-packages (from transformers>=3.0.0->bert-score) (0.34.4)\n",
      "Requirement already satisfied: pyyaml>=5.1 in /usr/local/lib/python3.12/dist-packages (from transformers>=3.0.0->bert-score) (6.0.2)\n",
      "Requirement already satisfied: regex!=2019.12.17 in /usr/local/lib/python3.12/dist-packages (from transformers>=3.0.0->bert-score) (2024.11.6)\n",
      "Requirement already satisfied: tokenizers<0.22,>=0.21 in /usr/local/lib/python3.12/dist-packages (from transformers>=3.0.0->bert-score) (0.21.4)\n",
      "Requirement already satisfied: safetensors>=0.4.3 in /usr/local/lib/python3.12/dist-packages (from transformers>=3.0.0->bert-score) (0.6.2)\n",
      "Requirement already satisfied: contourpy>=1.0.1 in /usr/local/lib/python3.12/dist-packages (from matplotlib->bert-score) (1.3.3)\n",
      "Requirement already satisfied: cycler>=0.10 in /usr/local/lib/python3.12/dist-packages (from matplotlib->bert-score) (0.12.1)\n",
      "Requirement already satisfied: fonttools>=4.22.0 in /usr/local/lib/python3.12/dist-packages (from matplotlib->bert-score) (4.59.1)\n",
      "Requirement already satisfied: kiwisolver>=1.3.1 in /usr/local/lib/python3.12/dist-packages (from matplotlib->bert-score) (1.4.9)\n",
      "Requirement already satisfied: pillow>=8 in /usr/local/lib/python3.12/dist-packages (from matplotlib->bert-score) (11.3.0)\n",
      "Requirement already satisfied: pyparsing>=2.3.1 in /usr/local/lib/python3.12/dist-packages (from matplotlib->bert-score) (3.2.3)\n",
      "Requirement already satisfied: charset_normalizer<4,>=2 in /usr/local/lib/python3.12/dist-packages (from requests->bert-score) (3.4.3)\n",
      "Requirement already satisfied: idna<4,>=2.5 in /usr/local/lib/python3.12/dist-packages (from requests->bert-score) (3.10)\n",
      "Requirement already satisfied: urllib3<3,>=1.21.1 in /usr/local/lib/python3.12/dist-packages (from requests->bert-score) (2.5.0)\n",
      "Requirement already satisfied: certifi>=2017.4.17 in /usr/local/lib/python3.12/dist-packages (from requests->bert-score) (2025.8.3)\n",
      "Requirement already satisfied: hf-xet<2.0.0,>=1.1.3 in /usr/local/lib/python3.12/dist-packages (from huggingface-hub<1.0,>=0.34.0->transformers>=3.0.0->bert-score) (1.1.7)\n",
      "Requirement already satisfied: six>=1.5 in /usr/local/lib/python3.12/dist-packages (from python-dateutil>=2.8.2->pandas>=1.0.1->bert-score) (1.17.0)\n",
      "Requirement already satisfied: mpmath<1.4,>=1.1.0 in /usr/local/lib/python3.12/dist-packages (from sympy>=1.13.3->torch>=1.0.0->bert-score) (1.3.0)\n",
      "Requirement already satisfied: MarkupSafe>=2.0 in /usr/local/lib/python3.12/dist-packages (from jinja2->torch>=1.0.0->bert-score) (3.0.2)\n",
      "Downloading bert_score-0.3.13-py3-none-any.whl (61 kB)\n",
      "\u001B[2K   \u001B[90m━━━━━━━━━━━━━━━━━━━━━━━━━━━━━━━━━━━━━━━━\u001B[0m \u001B[32m61.1/61.1 kB\u001B[0m \u001B[31m3.7 MB/s\u001B[0m eta \u001B[36m0:00:00\u001B[0m\n",
      "\u001B[?25hInstalling collected packages: bert-score\n",
      "Successfully installed bert-score-0.3.13\n"
     ]
    }
   ],
   "source": [
    "!pip install bert-score"
   ]
  },
  {
   "cell_type": "markdown",
   "metadata": {
    "id": "g1gAIXMpGYpj"
   },
   "source": [
    "#### **TRAINING**"
   ]
  },
  {
   "cell_type": "code",
   "metadata": {
    "colab": {
     "base_uri": "https://localhost:8080/",
     "height": 421,
     "referenced_widgets": [
      "100d12754b6f411f8817e74be334cef3",
      "a0e5d078d97d4a42822fe5f8c04aaed3",
      "f6f3dd50de724e18ad4eeeb616289804",
      "391484cca3594a41bc37a76bf1ee265a",
      "b1256e202a8643919c83517708b7005a",
      "b231df667857425fa509b0003bdd9197",
      "dcc596acc82844889c25e9a20e0e0289",
      "7b73dbe2aeac47a29a625d93d11734e8",
      "26ad2c69ddd74aafadd7db16a17e9622",
      "8fa13512c39c45759521100d0dd46bbc",
      "6b56669a7f0148baa289a399b1179686",
      "d76a7cd04fc54076b848dcb9dcd0d6f5",
      "2f15a34a680b4d4087067b5533e65c62",
      "755ccd7f4e124d22aa5ec4f0e01c496d",
      "6c8e342562dd472fb19f6b60eecb1cf7",
      "29e829aabd4e4c5f90032f78d83e5290",
      "44b24f9890104cdd9bbc280964a9623d",
      "be830853eef343278ff0e7f0fe98bc7d",
      "3ee61f98550f40e288ad3d0783ba97e8",
      "2e1ee8f79fb846308612c8557b613434",
      "90e35a57dea24f84bae7d461c9781f5a",
      "5efdcf9f07064544bc6cec7378c7db7e",
      "9c3453701c6145b3b61408cee26119a8",
      "5eb3a40e3e7244dfba2bbce38cadf3c6",
      "244f0519056643fe944792845d1698de",
      "f67e266724df463f9161019b60891891",
      "c2ef6fe30b7443ad8233862b8739a757",
      "b33345c8e2da4917876401323cd6200f",
      "b1c1449c5924438989432e0b4fc528c3",
      "5abbe3af96ec4dc5908af7e3c4202d50",
      "42f721409a04499b8a4ca3182f8e7542",
      "1c7e0e73e7494b1e889cd442fb0aa571",
      "82bea072123741a8afa3d3177fb7e108",
      "eb7ab8cab8be4d4385946fbc0412ffb6",
      "75106751d9fe4b3c8ad1eda978e5e5b1",
      "02e518c3f49b4123a8346e3a55762b80",
      "9cb5e0d75f7e4478a490442f4233b899",
      "c1e6f9500a5540deb272facc10634a2c",
      "db63afb7f6c940e994222f1f27bb9924",
      "9f97001d628d4418b2c3fb3fd679fe0c",
      "387601b12f11491597f6b95db10b8baa",
      "df26f34dfe68479aa18110946a4e35dc",
      "189994c499534f6ebe9c5347fa735932",
      "e0aa61fdfbd04b4a9c9e80872f154b93",
      "8dce3130a7a44c14b8eec652c84b8d74",
      "d2e41ae2f3b6481180e91db2592dcf24",
      "eab80f41ab5547f3a2c12450e6f2158d",
      "41584aa8067a4ecc9fb576211dd04e27",
      "c56a6714f3a54128bd51dd8a66142e36",
      "b7cee7198a2344699c573d047f5f2810",
      "ef2e8f138aa141ef8321595183d1d190",
      "949cde0b5f9e42e4b58c4e817e9b49d9",
      "b6df84c14aea49c28270319d5614dfb6",
      "7f1a970bef5a452da5bbe80121d17490",
      "b28926ecfb5546d1ae4b7c88ad327ebf",
      "a170c442e3fa49b1b3b443b0f57d6290",
      "ee40db6ac6604253a111f40f01cc84dd",
      "aad80490711a4ace82307ff0fda897de",
      "6854db4f863448b3ae1d230c5a9b7769",
      "ab1389e37e8848d4968b740deaf80f47",
      "af4e5d0a831e45d8837fac9b27733f2c",
      "23ab4b78df4c4cd185683d5507928057",
      "29d7187786e1466d89791f7430856fdd",
      "ee494bd3066e431bb409243dd192aaa5",
      "df0e5178ec094a26bc820ded67f358f1",
      "ab9bc38c20ce43519e43658c42a143d6",
      "a4b5a5fe0c114c19aebd4167fce0d57b",
      "2120c1bc7544428d9229afe0e35991db",
      "36063f9678314cd593a2709b17234c61",
      "222508ea22f34f82a31a7d7af7a297c8",
      "ee12ea6092c442eb9912e260f1a51e44",
      "3f678db67cb3427488cd5a38a206abd0",
      "4ad6714547174d0bbf88f06fcb652cf7",
      "b9ecd4d0e23c4f298a1aa272fe722d18",
      "72a24a671ae94f21aa0474b32b40ff81",
      "4424de608c68488e89d241e2bcc61482",
      "0398fd69f34f4e9488f044ec6e2e3f9a",
      "d4c3d0cb0ec94ef8983aa8fdd830154c",
      "34fac7b1c6e048b5b13e8e64e0fb43cd",
      "348c133f3c2145dab3134e0d2154b934",
      "614056d9d6394bc2ac4673ec2a3038bd",
      "7d2bf9abb25b47ad95628bac521faed0",
      "18840afdf64f4fe49c69357126d94cd6",
      "18c7c37afad84b76b670ad245eadb403",
      "8c08a8ac900549efbc88040498b4638e",
      "9a795b6e478b416fa4fbe3479f10b7c7",
      "21322f0db2434cb69203b3c9de72d745",
      "f5f2f2b0d2ac45f98a8e934465f2f273"
     ]
    },
    "id": "SaCwqAenNwvy",
    "outputId": "80c3bd6b-ac65-4218-a53f-9dcd747ad238",
    "ExecuteTime": {
     "end_time": "2025-08-30T11:18:02.331883Z",
     "start_time": "2025-08-30T11:16:50.486658Z"
    }
   },
   "source": [
    "# Hugging Face Transformers\n",
    "from transformers import Trainer, TrainingArguments\n",
    "from datasets import load_dataset\n",
    "from transformers import LEDTokenizer, LEDForConditionalGeneration\n",
    "\n",
    "\n",
    "# Loading datasets\n",
    "dataset = load_dataset(\"csv\", data_files=\"../datasets/sample/anonymized_dataset_sample.csv\", sep=',', split='train')\n",
    "print(dataset.column_names)\n",
    "\n",
    "dataset = dataset.map(lambda x: {\"full_note\": x[\"full_note\"], \"summary\": x[\"anonym_note\"]})\n",
    "dataset_split = dataset.train_test_split(test_size=0.2, seed=42)\n",
    "train_data = dataset_split[\"train\"]\n",
    "test_data = dataset_split[\"test\"]\n",
    "\n",
    "# Tokenization\n",
    "tokenizer = LEDTokenizer.from_pretrained(\"allenai/led-base-16384\")\n",
    "\n",
    "def preprocess(example):\n",
    "    inputs = tokenizer(example[\"full_note\"], truncation=True, padding=\"max_length\", max_length=4096)\n",
    "    targets = tokenizer(example[\"summary\"], truncation=True, padding=\"max_length\", max_length=512)\n",
    "    inputs[\"labels\"] = targets[\"input_ids\"]\n",
    "    return inputs\n",
    "\n",
    "train_data = train_data.map(preprocess, batched=True)\n",
    "test_data = test_data.map(preprocess, batched=True)"
   ],
   "outputs": [
    {
     "name": "stderr",
     "output_type": "stream",
     "text": [
      "Generating train split: 5000 examples [00:01, 4142.82 examples/s]\n"
     ]
    },
    {
     "name": "stdout",
     "output_type": "stream",
     "text": [
      "['index', 'note', 'anonym_note', 'sensitive_entity_note', 'full_note', 'anonym_full_note', 'sensitive_entity_full_note']\n"
     ]
    },
    {
     "name": "stderr",
     "output_type": "stream",
     "text": [
      "Map: 100%|██████████| 5000/5000 [00:00<00:00, 5842.70 examples/s]\n",
      "Map: 100%|██████████| 4000/4000 [00:49<00:00, 80.78 examples/s]\n",
      "Map: 100%|██████████| 1000/1000 [00:12<00:00, 78.98 examples/s]\n"
     ]
    }
   ],
   "execution_count": 2
  },
  {
   "cell_type": "code",
   "execution_count": 8,
   "metadata": {
    "colab": {
     "base_uri": "https://localhost:8080/",
     "height": 113,
     "referenced_widgets": [
      "bfe3e7e8ab434a2dbb9945de835380df",
      "f7e17ec6df7e4b4caf0ce28739212455",
      "291a4c38db414ff181fab60cae4f9253",
      "aec20d0ae1954d3e8426fa5d471a6fd3",
      "1b13303f50584c1dabd1a368b8f68ec9",
      "277b143a732444f89f28fc11bb738dda",
      "47b25199e6514f2fbbcb4e3267ae13bf",
      "302460f849cb4baa81f081cf5f060f26",
      "d4b11c3a812946d1bd9666f4a98846b2",
      "c0471ba3ede6459ca90ae727581a83d4",
      "bb541b27e3cb4bfab717d96be1701aeb",
      "82a3f88be7de465da3855fe3dc50881c",
      "f0e6053a56ab4ac0b8db1f3b229ebe82",
      "f3830b9618ba498a8d03d4172f6ae04b",
      "1c811a12c9c742b6aa5c7378d231329d",
      "9b8f3a611cf84cdcab93a8cf62d07a1b",
      "98e39d5a0bcb4ea69ac9d57af6d7be0c",
      "ab438beaaf7c4b5dadc05535e50bd01f",
      "d8373b0247b94b0fbb390803ab478625",
      "f29071b0a24a4b9c89947702c0b1a724",
      "66736e7b5c104e8eaf44ea1ec6340f07",
      "d12cc3a446564b5a86a9c26edf193472",
      "55982ef52ff441c9877601a7e3222388",
      "a43f3dcf567946ec86569b7bab3a5ecc",
      "00bbeed26e8c4eeeb78c4956e8564f35",
      "5ccf54ad564b443fa3caedfbf7e7be8d",
      "a4c2432b8f7a4519a3f622f7ae0e1a42",
      "1eda6582d7d247bfab13b9314544c669",
      "a7e93de27c914863adc81ff0e01c716a",
      "9f88e74dd0444d2a923233afe7566d7f",
      "8e0824f35bd149caac634744c8357ac3",
      "3289796df5d54b6a91b3cddee9dde3ac",
      "043f99e872974fd98fb35c71e61da746"
     ]
    },
    "id": "6rrviDImPnXJ",
    "outputId": "39f1483c-b78a-41a2-99de-ce78113de1a3"
   },
   "outputs": [
    {
     "data": {
      "application/vnd.jupyter.widget-view+json": {
       "model_id": "bfe3e7e8ab434a2dbb9945de835380df",
       "version_major": 2,
       "version_minor": 0
      },
      "text/plain": [
       "pytorch_model.bin:   0%|          | 0.00/648M [00:00<?, ?B/s]"
      ]
     },
     "metadata": {},
     "output_type": "display_data"
    },
    {
     "data": {
      "application/vnd.jupyter.widget-view+json": {
       "model_id": "82a3f88be7de465da3855fe3dc50881c",
       "version_major": 2,
       "version_minor": 0
      },
      "text/plain": [
       "model.safetensors:   0%|          | 0.00/648M [00:00<?, ?B/s]"
      ]
     },
     "metadata": {},
     "output_type": "display_data"
    },
    {
     "data": {
      "application/vnd.jupyter.widget-view+json": {
       "model_id": "55982ef52ff441c9877601a7e3222388",
       "version_major": 2,
       "version_minor": 0
      },
      "text/plain": [
       "generation_config.json:   0%|          | 0.00/168 [00:00<?, ?B/s]"
      ]
     },
     "metadata": {},
     "output_type": "display_data"
    }
   ],
   "source": [
    "# Training Arguments\n",
    "from transformers import LongformerForSequenceClassification\n",
    "model_clear = LEDForConditionalGeneration.from_pretrained(\"allenai/led-base-16384\")\n",
    "\n",
    "# Enable gradient checkpointing on the model\n",
    "model_clear.gradient_checkpointing_enable()\n",
    "\n",
    "training_args = TrainingArguments(\n",
    "    output_dir=\"./results_anonymized_summary\",        # folder for checkpoints\n",
    "    per_device_train_batch_size=2,\n",
    "    per_device_eval_batch_size=2,\n",
    "    gradient_accumulation_steps=8,                # effectively larger batch size\n",
    "    fp16=True,                                    # mixed precision training\n",
    "    save_strategy=\"epoch\",                        # save checkpoint at every epoch\n",
    "    num_train_epochs=2,\n",
    "\n",
    "    # Logging\n",
    "    logging_dir=\"./logs\",\n",
    "    logging_steps=50,                             # more frequent logging\n",
    "    report_to=[\"tensorboard\",\"wandb\"],            # log to TensorBoard and W&B\n",
    "\n",
    "    # Learning rate and optimization\n",
    "    learning_rate=2e-5,                           # more stable LR for small batches\n",
    "    weight_decay=0.01,                            # regularization\n",
    "    adam_beta1=0.9,\n",
    "    adam_beta2=0.999,\n",
    "    adam_epsilon=1e-8,\n",
    "    lr_scheduler_type=\"linear\",\n",
    "    warmup_steps=100                              # warmup during first steps\n",
    ")"
   ]
  },
  {
   "cell_type": "code",
   "execution_count": 9,
   "metadata": {
    "colab": {
     "base_uri": "https://localhost:8080/",
     "height": 751
    },
    "id": "PJVf3qkRPukk",
    "outputId": "ed0a7c30-da48-482d-cca3-b196ddf4eb33"
   },
   "outputs": [
    {
     "name": "stderr",
     "output_type": "stream",
     "text": [
      "/usr/local/lib/python3.12/dist-packages/notebook/notebookapp.py:191: SyntaxWarning: invalid escape sequence '\\/'\n",
      "  | |_| | '_ \\/ _` / _` |  _/ -_)\n"
     ]
    },
    {
     "data": {
      "application/javascript": [
       "\n",
       "        window._wandbApiKey = new Promise((resolve, reject) => {\n",
       "            function loadScript(url) {\n",
       "            return new Promise(function(resolve, reject) {\n",
       "                let newScript = document.createElement(\"script\");\n",
       "                newScript.onerror = reject;\n",
       "                newScript.onload = resolve;\n",
       "                document.body.appendChild(newScript);\n",
       "                newScript.src = url;\n",
       "            });\n",
       "            }\n",
       "            loadScript(\"https://cdn.jsdelivr.net/npm/postmate/build/postmate.min.js\").then(() => {\n",
       "            const iframe = document.createElement('iframe')\n",
       "            iframe.style.cssText = \"width:0;height:0;border:none\"\n",
       "            document.body.appendChild(iframe)\n",
       "            const handshake = new Postmate({\n",
       "                container: iframe,\n",
       "                url: 'https://wandb.ai/authorize'\n",
       "            });\n",
       "            const timeout = setTimeout(() => reject(\"Couldn't auto authenticate\"), 5000)\n",
       "            handshake.then(function(child) {\n",
       "                child.on('authorize', data => {\n",
       "                    clearTimeout(timeout)\n",
       "                    resolve(data)\n",
       "                });\n",
       "            });\n",
       "            })\n",
       "        });\n",
       "    "
      ],
      "text/plain": [
       "<IPython.core.display.Javascript object>"
      ]
     },
     "metadata": {},
     "output_type": "display_data"
    },
    {
     "name": "stderr",
     "output_type": "stream",
     "text": [
      "\u001B[34m\u001B[1mwandb\u001B[0m: Logging into wandb.ai. (Learn how to deploy a W&B server locally: https://wandb.me/wandb-server)\n",
      "\u001B[34m\u001B[1mwandb\u001B[0m: You can find your API key in your browser here: https://wandb.ai/authorize?ref=models\n",
      "wandb: Paste an API key from your profile and hit enter:"
     ]
    },
    {
     "name": "stdout",
     "output_type": "stream",
     "text": [
      " ··········\n"
     ]
    },
    {
     "name": "stderr",
     "output_type": "stream",
     "text": [
      "\u001B[34m\u001B[1mwandb\u001B[0m: \u001B[33mWARNING\u001B[0m If you're specifying your api key in code, ensure this code is not shared publicly.\n",
      "\u001B[34m\u001B[1mwandb\u001B[0m: \u001B[33mWARNING\u001B[0m Consider setting the WANDB_API_KEY environment variable, or running `wandb login` from the command line.\n",
      "\u001B[34m\u001B[1mwandb\u001B[0m: No netrc file found, creating one.\n",
      "\u001B[34m\u001B[1mwandb\u001B[0m: Appending key for api.wandb.ai to your netrc file: /root/.netrc\n",
      "\u001B[34m\u001B[1mwandb\u001B[0m: Currently logged in as: \u001B[33mraffaeleaurucci\u001B[0m (\u001B[33mraffaeleaurucci-universit-degli-studi-di-salerno\u001B[0m) to \u001B[32mhttps://api.wandb.ai\u001B[0m. Use \u001B[1m`wandb login --relogin`\u001B[0m to force relogin\n"
     ]
    },
    {
     "data": {
      "text/html": [
       "Tracking run with wandb version 0.21.1"
      ],
      "text/plain": [
       "<IPython.core.display.HTML object>"
      ]
     },
     "metadata": {},
     "output_type": "display_data"
    },
    {
     "data": {
      "text/html": [
       "Run data is saved locally in <code>/content/wandb/run-20250820_200848-kbjsnl1k</code>"
      ],
      "text/plain": [
       "<IPython.core.display.HTML object>"
      ]
     },
     "metadata": {},
     "output_type": "display_data"
    },
    {
     "data": {
      "text/html": [
       "Syncing run <strong><a href='https://wandb.ai/raffaeleaurucci-universit-degli-studi-di-salerno/huggingface/runs/kbjsnl1k' target=\"_blank\">elated-snowflake-28</a></strong> to <a href='https://wandb.ai/raffaeleaurucci-universit-degli-studi-di-salerno/huggingface' target=\"_blank\">Weights & Biases</a> (<a href='https://wandb.me/developer-guide' target=\"_blank\">docs</a>)<br>"
      ],
      "text/plain": [
       "<IPython.core.display.HTML object>"
      ]
     },
     "metadata": {},
     "output_type": "display_data"
    },
    {
     "data": {
      "text/html": [
       " View project at <a href='https://wandb.ai/raffaeleaurucci-universit-degli-studi-di-salerno/huggingface' target=\"_blank\">https://wandb.ai/raffaeleaurucci-universit-degli-studi-di-salerno/huggingface</a>"
      ],
      "text/plain": [
       "<IPython.core.display.HTML object>"
      ]
     },
     "metadata": {},
     "output_type": "display_data"
    },
    {
     "data": {
      "text/html": [
       " View run at <a href='https://wandb.ai/raffaeleaurucci-universit-degli-studi-di-salerno/huggingface/runs/kbjsnl1k' target=\"_blank\">https://wandb.ai/raffaeleaurucci-universit-degli-studi-di-salerno/huggingface/runs/kbjsnl1k</a>"
      ],
      "text/plain": [
       "<IPython.core.display.HTML object>"
      ]
     },
     "metadata": {},
     "output_type": "display_data"
    },
    {
     "data": {
      "text/html": [
       "\n",
       "    <div>\n",
       "      \n",
       "      <progress value='500' max='500' style='width:300px; height:20px; vertical-align: middle;'></progress>\n",
       "      [500/500 2:25:00, Epoch 2/2]\n",
       "    </div>\n",
       "    <table border=\"1\" class=\"dataframe\">\n",
       "  <thead>\n",
       " <tr style=\"text-align: left;\">\n",
       "      <th>Step</th>\n",
       "      <th>Training Loss</th>\n",
       "    </tr>\n",
       "  </thead>\n",
       "  <tbody>\n",
       "    <tr>\n",
       "      <td>50</td>\n",
       "      <td>1.395500</td>\n",
       "    </tr>\n",
       "    <tr>\n",
       "      <td>100</td>\n",
       "      <td>0.438800</td>\n",
       "    </tr>\n",
       "    <tr>\n",
       "      <td>150</td>\n",
       "      <td>0.273700</td>\n",
       "    </tr>\n",
       "    <tr>\n",
       "      <td>200</td>\n",
       "      <td>0.206700</td>\n",
       "    </tr>\n",
       "    <tr>\n",
       "      <td>250</td>\n",
       "      <td>0.189900</td>\n",
       "    </tr>\n",
       "    <tr>\n",
       "      <td>300</td>\n",
       "      <td>0.168100</td>\n",
       "    </tr>\n",
       "    <tr>\n",
       "      <td>350</td>\n",
       "      <td>0.159600</td>\n",
       "    </tr>\n",
       "    <tr>\n",
       "      <td>400</td>\n",
       "      <td>0.155300</td>\n",
       "    </tr>\n",
       "    <tr>\n",
       "      <td>450</td>\n",
       "      <td>0.155900</td>\n",
       "    </tr>\n",
       "    <tr>\n",
       "      <td>500</td>\n",
       "      <td>0.151200</td>\n",
       "    </tr>\n",
       "  </tbody>\n",
       "</table><p>"
      ],
      "text/plain": [
       "<IPython.core.display.HTML object>"
      ]
     },
     "metadata": {},
     "output_type": "display_data"
    },
    {
     "data": {
      "text/plain": [
       "TrainOutput(global_step=500, training_loss=0.3294643249511719, metrics={'train_runtime': 8733.3816, 'train_samples_per_second': 0.916, 'train_steps_per_second': 0.057, 'total_flos': 2.1601638678528e+16, 'train_loss': 0.3294643249511719, 'epoch': 2.0})"
      ]
     },
     "execution_count": 9,
     "metadata": {},
     "output_type": "execute_result"
    }
   ],
   "source": [
    "# Trainer\n",
    "trainer = Trainer(\n",
    "    model=model_clear,\n",
    "    args=training_args,\n",
    "    train_dataset=train_data,\n",
    "    eval_dataset=test_data,\n",
    ")\n",
    "trainer.train()"
   ]
  },
  {
   "cell_type": "code",
   "execution_count": 10,
   "metadata": {
    "colab": {
     "base_uri": "https://localhost:8080/"
    },
    "id": "vBoYW0N9Hotv",
    "outputId": "6f03b358-d49a-4ed0-d058-d3c4efe585c3"
   },
   "outputs": [
    {
     "name": "stdout",
     "output_type": "stream",
     "text": [
      "  adding: results_anonymized_summary/checkpoint-500/ (stored 0%)\n",
      "  adding: results_anonymized_summary/checkpoint-500/trainer_state.json (deflated 70%)\n",
      "  adding: results_anonymized_summary/checkpoint-500/optimizer.pt (deflated 14%)\n",
      "  adding: results_anonymized_summary/checkpoint-500/config.json (deflated 61%)\n",
      "  adding: results_anonymized_summary/checkpoint-500/scheduler.pt (deflated 62%)\n",
      "  adding: results_anonymized_summary/checkpoint-500/generation_config.json (deflated 33%)\n",
      "  adding: results_anonymized_summary/checkpoint-500/model.safetensors (deflated 11%)\n",
      "  adding: results_anonymized_summary/checkpoint-500/scaler.pt (deflated 64%)\n",
      "  adding: results_anonymized_summary/checkpoint-500/rng_state.pth (deflated 26%)\n",
      "  adding: results_anonymized_summary/checkpoint-500/training_args.bin (deflated 53%)\n"
     ]
    }
   ],
   "source": [
    "!zip -r results_anonymized_summary.zip results_anonymized_summary/checkpoint-500/"
   ]
  },
  {
   "cell_type": "code",
   "execution_count": 11,
   "metadata": {
    "colab": {
     "base_uri": "https://localhost:8080/"
    },
    "id": "JIUZClu-lgUh",
    "outputId": "5cb95b96-b034-4a59-d1eb-88c503a6a734"
   },
   "outputs": [
    {
     "name": "stdout",
     "output_type": "stream",
     "text": [
      "Step 1 - Training Loss: 1.3955\n",
      "Step 2 - Training Loss: 0.4388\n",
      "Step 3 - Training Loss: 0.2737\n",
      "Step 4 - Training Loss: 0.2067\n",
      "Step 5 - Training Loss: 0.1899\n",
      "Step 6 - Training Loss: 0.1681\n",
      "Step 7 - Training Loss: 0.1596\n",
      "Step 8 - Training Loss: 0.1553\n",
      "Step 9 - Training Loss: 0.1559\n",
      "Step 10 - Training Loss: 0.1512\n"
     ]
    }
   ],
   "source": [
    "losses = [x[\"loss\"] for x in trainer.state.log_history if \"loss\" in x]\n",
    "\n",
    "for step, loss in enumerate(losses, 1):\n",
    "    print(f\"Step {step} - Training Loss: {loss}\")"
   ]
  },
  {
   "cell_type": "code",
   "execution_count": 4,
   "metadata": {
    "ExecuteTime": {
     "end_time": "2025-08-28T14:17:11.619857Z",
     "start_time": "2025-08-28T14:17:11.283705Z"
    }
   },
   "outputs": [
    {
     "data": {
      "image/png": "[encoded data removed]",
      "text/plain": [
       "<Figure size 800x500 with 1 Axes>"
      ]
     },
     "metadata": {},
     "output_type": "display_data"
    }
   ],
   "source": [
    "import matplotlib.pyplot as plt\n",
    "\n",
    "# Data\n",
    "steps = [50, 100, 150, 200, 250, 300, 350, 400, 450, 500]\n",
    "losses = [1.3955, 0.4388, 0.2737, 0.2067, 0.1899, 0.1681, 0.1596, 0.1553, 0.1559, 0.1512]\n",
    "\n",
    "# Plot\n",
    "plt.figure(figsize=(8, 5))\n",
    "plt.plot(steps, losses, marker='o', linestyle='-', linewidth=2, markersize=6)\n",
    "\n",
    "# Label e title\n",
    "plt.title(\"Training Loss (Data Anonymization)\", fontsize=14)\n",
    "plt.xlabel(\"Step\", fontsize=12)\n",
    "plt.ylabel(\"Training Loss\", fontsize=12)\n",
    "\n",
    "# Grid\n",
    "plt.grid(True, linestyle=\"--\", alpha=0.6)\n",
    "\n",
    "plt.show()"
   ]
  },
  {
   "cell_type": "code",
   "execution_count": 12,
   "metadata": {
    "colab": {
     "base_uri": "https://localhost:8080/"
    },
    "id": "JvTbfbU8ggZ2",
    "outputId": "84f0a53e-412a-4158-d371-ff021223737d"
   },
   "outputs": [
    {
     "name": "stderr",
     "output_type": "stream",
     "text": [
      "\r",
      "Generating summary:   0%|          | 0/1000 [00:00<?, ?it/s]/usr/local/lib/python3.12/dist-packages/transformers/generation/utils.py:1636: UserWarning: Unfeasible length constraints: `min_length` (400) is larger than the maximum possible length (257). Generation will stop at the defined maximum length. You should decrease the minimum length and/or increase the maximum length.\n",
      "  warnings.warn(\n",
      "Generating summary: 100%|██████████| 1000/1000 [56:27<00:00,  3.39s/it]\n"
     ]
    },
    {
     "name": "stdout",
     "output_type": "stream",
     "text": [
      "Number of inferences: 1000\n"
     ]
    }
   ],
   "source": [
    "from transformers import pipeline, logging\n",
    "from tqdm import tqdm\n",
    "\n",
    "# Disable warnings\n",
    "logging.set_verbosity_error()\n",
    "\n",
    "# Disable gradient checkpointing\n",
    "model_clear.gradient_checkpointing_disable()\n",
    "\n",
    "# Summarization pipeline\n",
    "summarizer_clear = pipeline(\"summarization\", model=model_clear, tokenizer=tokenizer, device=0)\n",
    "\n",
    "# Test set\n",
    "test_texts = [ex[\"full_note\"] for ex in test_data]\n",
    "\n",
    "# List to store the generated summaries\n",
    "generated_summaries = []\n",
    "\n",
    "# Progress bar with tqdm\n",
    "for text in tqdm(test_texts, desc=\"Generating summary\"):\n",
    "    summary = summarizer_clear(\n",
    "        text,\n",
    "        max_length=512,\n",
    "        min_length=400,\n",
    "        truncation=True\n",
    "    )[0][\"summary_text\"]\n",
    "    generated_summaries.append(summary)\n",
    "\n",
    "# Number of inferences\n",
    "num_inferenze = len(generated_summaries)\n",
    "print(f\"Number of inferences: {num_inferenze}\")\n",
    "\n",
    "# Reference summaries\n",
    "references = [ex[\"summary\"] for ex in test_data]"
   ]
  },
  {
   "cell_type": "code",
   "execution_count": 13,
   "metadata": {
    "colab": {
     "base_uri": "https://localhost:8080/",
     "height": 200
    },
    "id": "M-YRJkpB92Zh",
    "outputId": "b958a533-acb4-4b74-db53-514879ab0687"
   },
   "outputs": [
    {
     "data": {
      "application/vnd.google.colaboratory.intrinsic+json": {
       "type": "string"
      },
      "text/plain": [
       "'The patient was a [DATE] [GENDER] who presented with [PROBLEM] of the proximal third of [GENDER] left leg. [GENDER] prior history included a prolonged stay in hospital for [TREATMENT] of [PROBLEM], when [TREATMENT] were performed. [GENDER] had also previously undergone [TREATMENT] to treat [PROBLEM] and [TREATMENT].\\r\\nPhysical examination revealed [PROBLEM] of the proximal third of the left leg. Femoral, popliteal, and dorsal pedal pulses were palpable and normal in both lower limbs. The posterior tibial artery pulse was absent, whereas the posterior tibial artery pulse was palpable in the right lower limb.\\r\\nMagnetic resonance angiography showed [PROBLEM] with a [QUANTITY] diameter, at the level of the origin of the posterior tibial artery. The posterior tibial artery was also occluded ( ). Investigation was supplemented with laboratory tests (inflammatory activity tests, coagulation tests, and complete blood cell count), which all returned normal results, in addition to blood cultures,'"
      ]
     },
     "execution_count": 13,
     "metadata": {},
     "output_type": "execute_result"
    }
   ],
   "source": [
    "generated_summaries[0]"
   ]
  },
  {
   "cell_type": "code",
   "execution_count": 14,
   "metadata": {
    "colab": {
     "base_uri": "https://localhost:8080/",
     "height": 140,
     "referenced_widgets": [
      "cba9d2d13d714bf29f898eed3b506b99",
      "95cb760119ac4b49a757325dd53b0c45",
      "3fa8ae9783b342208edbe5a9dc0f9c76",
      "5135d1d02bda479fa3b2c757ff54544f",
      "3816501c88814c7f897da66dc69de341",
      "83f6558919da4b519065046fe9c5bc36",
      "bed259031d43454195179e5b02f38f06",
      "7c9629c14e534a13a81935df2a3f3a36",
      "fc207106973f4302bf12a745978158cc",
      "eabc0ec4bc8e4ed39251672e4ea15022",
      "5d2ddaef0d8b4bdc989f9330f2a08180"
     ]
    },
    "id": "YKmb-6WLP4h_",
    "outputId": "2c60b5e4-1f4c-40dd-d2f0-d6fbc1d2d1c3"
   },
   "outputs": [
    {
     "data": {
      "application/vnd.jupyter.widget-view+json": {
       "model_id": "cba9d2d13d714bf29f898eed3b506b99",
       "version_major": 2,
       "version_minor": 0
      },
      "text/plain": [
       "Downloading builder script: 0.00B [00:00, ?B/s]"
      ]
     },
     "metadata": {},
     "output_type": "display_data"
    },
    {
     "name": "stdout",
     "output_type": "stream",
     "text": [
      "ROUGE - Model on anonymized data:\n",
      "rouge1: 0.6109\n",
      "rouge2: 0.5771\n",
      "rougeL: 0.5958\n",
      "rougeLsum: 0.6045\n"
     ]
    }
   ],
   "source": [
    "# Evaluations\n",
    "import evaluate\n",
    "\n",
    "# ROUGE\n",
    "rouge = evaluate.load(\"rouge\")\n",
    "\n",
    "results_clear = rouge.compute(predictions=generated_summaries, references=references)\n",
    "print(\"ROUGE - Model on anonymized data:\")\n",
    "for k, v in results_clear.items():\n",
    "    print(f\"{k}: {v:.4f}\")"
   ]
  },
  {
   "cell_type": "code",
   "execution_count": 15,
   "metadata": {
    "colab": {
     "base_uri": "https://localhost:8080/",
     "height": 131,
     "referenced_widgets": [
      "842982a5b79441b985e2bc2b5ba86f62",
      "a18827774daf437bbea97b187a839e22",
      "3565195192de46cd90d4d09b05152417",
      "c4664452f35e45f48ef12875ab9d5d0a",
      "fc192995573f49ed8dd0c90b5760c448",
      "935e81a209cd4507962ed7a73c119bbc",
      "c605e837b3d84e73bceb0e711d6d2f8a",
      "32ae7d516e724da7ae86e109dc028866",
      "ead57465676e4f838e4b6962002b75fc",
      "55c5e27b328a4226966af71c7ef5f4b1",
      "996f9a637f6f4500b58c9cb2cefd4678",
      "45b1779209764c928831063d3fb5f8ba",
      "c8877d0e223941ef927d44f301fc7fef",
      "f9204f7de18445129e76614de9a39556",
      "0540e7daa67646cdb33e5439c645e85b",
      "b22cfe1ff45c4a968c479abd7810ed5e",
      "86b9785c7f4947b6bf693121817de804",
      "8f814b0ae48f49f38269a1690c7cd96d",
      "4474e9ad2d6d40a0935d7d494c11eaf0",
      "8e1a4c3185f0402fb79b7291e91a4a06",
      "8b6b3659ca9d4291a472b4fcbe5dd068",
      "1784ae134fa745be8f85e8b4ad2de8ae",
      "146c270bc1f94bf6a8d474f8bf075671",
      "f32d9829d3744e29919870e4c8d1b4a6",
      "a11a0d83aa74422997c070e03f0e1369",
      "cd45f9db824c43359b99c18d168a0b2b",
      "1217a2e440c74a328e468e6aa573132b",
      "96e31f83174f46c496274eb11685fe22",
      "f1f2a7750e1144f5a4d0b753c6805ab9",
      "6309ef8d2a0d4276875be8b3bcf3cf00",
      "694aadb908554941b750a6a408c4e3be",
      "3263d73f467d485f9e63f9bde78cc226",
      "de6a4aae018b4410b3e1250c1f9b79c0"
     ]
    },
    "id": "qPybKrDg9Q0C",
    "outputId": "f97a556e-c108-40f1-fcdd-685c5dd0b328"
   },
   "outputs": [
    {
     "data": {
      "application/vnd.jupyter.widget-view+json": {
       "model_id": "842982a5b79441b985e2bc2b5ba86f62",
       "version_major": 2,
       "version_minor": 0
      },
      "text/plain": [
       "Downloading builder script: 0.00B [00:00, ?B/s]"
      ]
     },
     "metadata": {},
     "output_type": "display_data"
    },
    {
     "data": {
      "application/vnd.jupyter.widget-view+json": {
       "model_id": "45b1779209764c928831063d3fb5f8ba",
       "version_major": 2,
       "version_minor": 0
      },
      "text/plain": [
       "Downloading extra modules:   0%|          | 0.00/1.55k [00:00<?, ?B/s]"
      ]
     },
     "metadata": {},
     "output_type": "display_data"
    },
    {
     "data": {
      "application/vnd.jupyter.widget-view+json": {
       "model_id": "146c270bc1f94bf6a8d474f8bf075671",
       "version_major": 2,
       "version_minor": 0
      },
      "text/plain": [
       "Downloading extra modules: 0.00B [00:00, ?B/s]"
      ]
     },
     "metadata": {},
     "output_type": "display_data"
    },
    {
     "name": "stdout",
     "output_type": "stream",
     "text": [
      "BLEU score: 0.2922\n"
     ]
    }
   ],
   "source": [
    "# BLEU\n",
    "bleu = evaluate.load(\"bleu\")\n",
    "\n",
    "references_bleu = [[ref] for ref in references]\n",
    "\n",
    "results_bleu = bleu.compute(predictions=generated_summaries, references=references_bleu)\n",
    "\n",
    "print(f\"BLEU score: {results_bleu['bleu']:.4f}\")"
   ]
  },
  {
   "cell_type": "code",
   "execution_count": 16,
   "metadata": {
    "colab": {
     "base_uri": "https://localhost:8080/",
     "height": 401,
     "referenced_widgets": [
      "6ad109230c044ff5afb8d487d6e6a5b8",
      "79a0238dc3ac4994ad0af387d0e3a699",
      "2f07ce2fea794cbbb82bcc505f8bf891",
      "33cee91ac4ff42b4b377fa89c538aff6",
      "c242731cd80a4f529e9effe50f596a56",
      "643cd0c3766e4e64a3e4f482a956023f",
      "2232587cea16418aa1429590dbcb8120",
      "8af0dde6391c4927882cf0600eca7c59",
      "63f72f67b51d46f78fe73ade5704153f",
      "7b65aee7ef0c47039de373340b69bfad",
      "3298e1345daf4f939a1d14efa6808435",
      "0015e095b5d74d9bb9e7d65e89016749",
      "77398fd5b6c74711a8565cd57387c67a",
      "950ff8141afa4cf589540fa0cadc597a",
      "fce3112147764f4abff39285d2520023",
      "3c3523cfc52f43b583c812732b82c5df",
      "5c02f87d533746c595220e5a79511a70",
      "08ec5b124c77495b9088c2bd5c408782",
      "3273a77ff026441891e423d126fc31ac",
      "f05c7cabf0b04adc95ec0b54f1b1e065",
      "72cd832a368d47d9bd24bd768458b74a",
      "e41f6bd2fc69441080e8c2467480d2c2",
      "92dee523af414ebb99eca9040c59321b",
      "2c0e151ac9d74527bb806f47913f1061",
      "1a851a3dd06d48a79546f0e73db98512",
      "f0e275656ea4410f8f97a4dfad587eee",
      "6e087c332f424eaa85c19b6efb6ca928",
      "7b278be60e974073805c5a96b0dde424",
      "6af95ddbb4e34116a2a1a149700be63a",
      "b740a037b5e242dfbbbb55175c179553",
      "c0f8ebd464284418966bbf43c1d1809a",
      "3ad0230e69e24acdbfbc8c39b26319c1",
      "cde2475a0fa54a798ae6aaf9d2d3ba3a",
      "96732c048e584ca99c96d389cafaabec",
      "36af1d735e5f4fecaa3e9014ee87ad96",
      "c3940dc253c543af9b34182bb918334b",
      "88bbc6fb3d8a4312b68175ce3fd87389",
      "a6eb9fa0a8314c4d956d4a4b80e641b6",
      "cd9a20e10b114578becc87a815689b25",
      "8445cc4963584115b87f87be6911a908",
      "0a7bd3441ea44d5cb4f8047aaa7e33d5",
      "e2febef1b1a544f9a09e7d1a04efb34f",
      "00979a711cc6443082e648154520d01e",
      "fa442727688e4119a843e6a4ca1ba94c",
      "314ae8d64b4d400299efc05dea8c9389",
      "ede56073f6ea419fafa47c4d95730588",
      "cb54db1b8fdd4b58a16316a19cde421c",
      "9a8f42af84894a2eba0db1576c90fb3e",
      "a9c4cd50ca9e43ffb58f8e4d5c7e4873",
      "6f1d2402a2cf40978429fdfcc238ab30",
      "8f0c7254b80048808c303f4829c7b4ea",
      "2ef9f3de627e4374be7489ce2aad9140",
      "e219fc132e43451ab43c1e3ef34d10cc",
      "c18f679fd01141ecaf66d79a6f28d4ee",
      "ce8191b8961142f2a0039704c0504601",
      "367b8d44492844168f0e9427cdf19775",
      "d6075611391d48e59cfb14fe7432c653",
      "bd1e7f48bc874b07995961e3d8bb4879",
      "08f2bdf14b564651a48ba4357f380d4d",
      "29799f4fbf8f4e6eaca5bb2bbf2803c4",
      "1bd2aa8bc17a478dae12904d26685c93",
      "2940701a094b4aff843e86e57b8f421d",
      "8d2c013ef4bd4687b9a4310345ab8101",
      "42157593544d4ffe85e6b2515ac30914",
      "62a73a1335614623bd1f877b26172042",
      "9d383a32f51d45e298cd221cb314b3ce",
      "ffeb60160d464cda95c1352276a50edb",
      "f114fe9584704cf9bfe4dd57a4eb643a",
      "f76e96e7cfcc4adeb7d6e3b0e0fcd564",
      "fcbfe674aaa14a2b8895451797222148",
      "5847d90a4b2d48458270ba74f95e5655",
      "7490d45510c3484f8198260424749015",
      "655efd04e5c74f31b0706b4c96c7c20e",
      "9862bfc9f838419daa4868e41f363485",
      "6a43b188b8d64651a0408cfdc909eca4",
      "92242c2f206247029c34e65929f814ca",
      "90bc91fc313949b49ded1332f2661d71",
      "092c78e38b714a17834fee4afe0da886",
      "cbfd0244aeeb48af8bda932911a33ae3",
      "675220d501614f399b1fc81fc5a05a57",
      "d28315cad3714611a597b54c34327531",
      "63521d9eaf994c189496b73a9d7ef23a",
      "82a9cc23ec89486a9b9f600e4204a4b4",
      "7f6d6a9d51434277a1177204b302246d",
      "700edd173494437db27f25ee83509cef",
      "e30b6a79ce104d16b8e2b1a545ddf7fa",
      "558fe1607bf14679b220df4ccf423463",
      "d2ce1ea8935e4c5f81b2cd46d3076694"
     ]
    },
    "id": "3JJXLNFJBvcS",
    "outputId": "5a7d1fcb-1c87-421d-b785-ce8b42bd9f78"
   },
   "outputs": [
    {
     "data": {
      "application/vnd.jupyter.widget-view+json": {
       "model_id": "6ad109230c044ff5afb8d487d6e6a5b8",
       "version_major": 2,
       "version_minor": 0
      },
      "text/plain": [
       "tokenizer_config.json:   0%|          | 0.00/25.0 [00:00<?, ?B/s]"
      ]
     },
     "metadata": {},
     "output_type": "display_data"
    },
    {
     "data": {
      "application/vnd.jupyter.widget-view+json": {
       "model_id": "0015e095b5d74d9bb9e7d65e89016749",
       "version_major": 2,
       "version_minor": 0
      },
      "text/plain": [
       "config.json:   0%|          | 0.00/482 [00:00<?, ?B/s]"
      ]
     },
     "metadata": {},
     "output_type": "display_data"
    },
    {
     "data": {
      "application/vnd.jupyter.widget-view+json": {
       "model_id": "92dee523af414ebb99eca9040c59321b",
       "version_major": 2,
       "version_minor": 0
      },
      "text/plain": [
       "vocab.json:   0%|          | 0.00/899k [00:00<?, ?B/s]"
      ]
     },
     "metadata": {},
     "output_type": "display_data"
    },
    {
     "data": {
      "application/vnd.jupyter.widget-view+json": {
       "model_id": "96732c048e584ca99c96d389cafaabec",
       "version_major": 2,
       "version_minor": 0
      },
      "text/plain": [
       "merges.txt:   0%|          | 0.00/456k [00:00<?, ?B/s]"
      ]
     },
     "metadata": {},
     "output_type": "display_data"
    },
    {
     "data": {
      "application/vnd.jupyter.widget-view+json": {
       "model_id": "314ae8d64b4d400299efc05dea8c9389",
       "version_major": 2,
       "version_minor": 0
      },
      "text/plain": [
       "tokenizer.json:   0%|          | 0.00/1.36M [00:00<?, ?B/s]"
      ]
     },
     "metadata": {},
     "output_type": "display_data"
    },
    {
     "data": {
      "application/vnd.jupyter.widget-view+json": {
       "model_id": "367b8d44492844168f0e9427cdf19775",
       "version_major": 2,
       "version_minor": 0
      },
      "text/plain": [
       "model.safetensors:   0%|          | 0.00/1.42G [00:00<?, ?B/s]"
      ]
     },
     "metadata": {},
     "output_type": "display_data"
    },
    {
     "name": "stdout",
     "output_type": "stream",
     "text": [
      "calculating scores...\n",
      "computing bert embedding.\n"
     ]
    },
    {
     "data": {
      "application/vnd.jupyter.widget-view+json": {
       "model_id": "ffeb60160d464cda95c1352276a50edb",
       "version_major": 2,
       "version_minor": 0
      },
      "text/plain": [
       "  0%|          | 0/32 [00:00<?, ?it/s]"
      ]
     },
     "metadata": {},
     "output_type": "display_data"
    },
    {
     "name": "stdout",
     "output_type": "stream",
     "text": [
      "computing greedy matching.\n"
     ]
    },
    {
     "data": {
      "application/vnd.jupyter.widget-view+json": {
       "model_id": "092c78e38b714a17834fee4afe0da886",
       "version_major": 2,
       "version_minor": 0
      },
      "text/plain": [
       "  0%|          | 0/16 [00:00<?, ?it/s]"
      ]
     },
     "metadata": {},
     "output_type": "display_data"
    },
    {
     "name": "stdout",
     "output_type": "stream",
     "text": [
      "done in 107.46 seconds, 9.31 sentences/sec\n",
      "Precision: 0.9588\n",
      "Recall: 0.8994\n",
      "F1: 0.9281\n"
     ]
    }
   ],
   "source": [
    "from bert_score import score\n",
    "\n",
    "# BERTScore\n",
    "P, R, F1 = score(generated_summaries, references, lang=\"en\", verbose=True)\n",
    "\n",
    "print(f\"Precision: {P.mean().item():.4f}\")\n",
    "print(f\"Recall: {R.mean().item():.4f}\")\n",
    "print(f\"F1: {F1.mean().item():.4f}\")"
   ]
  },
  {
   "cell_type": "code",
   "execution_count": null,
   "metadata": {
    "colab": {
     "base_uri": "https://localhost:8080/"
    },
    "id": "CIzA_1c8qxHq",
    "outputId": "9e606202-a1b8-433e-b14a-faf018f54dc9"
   },
   "outputs": [
    {
     "name": "stdout",
     "output_type": "stream",
     "text": [
      "Average token per entry in train set: 444.89\n"
     ]
    }
   ],
   "source": [
    "from statistics import mean\n",
    "\n",
    "texts = [ex[\"summary\"] for ex in train_data]\n",
    "token_lengths = [len(tokenizer(text)[\"input_ids\"]) for text in texts]\n",
    "avg_tokens = mean(token_lengths)\n",
    "\n",
    "print(f\"Average token per entry in train set: {avg_tokens:.2f}\")"
   ]
  },
  {
   "metadata": {
    "ExecuteTime": {
     "end_time": "2025-08-30T11:58:32.044646Z",
     "start_time": "2025-08-30T11:57:40.616284Z"
    }
   },
   "cell_type": "code",
   "source": [
    "from statistics import mean\n",
    "\n",
    "texts = [ex[\"full_note\"] for ex in train_data]\n",
    "token_lengths = [len(tokenizer(text)[\"input_ids\"]) for text in texts]\n",
    "max_token_length = max(token_lengths)\n",
    "avg_tokens = mean(token_lengths)\n",
    "\n",
    "print(f\"Average token per entry in train set: {avg_tokens:.2f}\")\n",
    "print(f\"Max token per entry in train set: {max_token_length:.2f}\")\n",
    "\n",
    "print(len([token for token in token_lengths if token > 4096]))"
   ],
   "outputs": [
    {
     "name": "stdout",
     "output_type": "stream",
     "text": [
      "Average token per entry in train set: 757.14\n",
      "Max token per entry in train set: 5576.00\n",
      "2\n"
     ]
    }
   ],
   "execution_count": 6
  },
  {
   "cell_type": "code",
   "execution_count": 17,
   "metadata": {
    "colab": {
     "base_uri": "https://localhost:8080/",
     "height": 17
    },
    "id": "ULcQPFtqCgEC",
    "outputId": "c678abe6-7c47-491b-a059-fac5f152f66a"
   },
   "outputs": [
    {
     "data": {
      "application/javascript": [
       "\n",
       "    async function download(id, filename, size) {\n",
       "      if (!google.colab.kernel.accessAllowed) {\n",
       "        return;\n",
       "      }\n",
       "      const div = document.createElement('div');\n",
       "      const label = document.createElement('label');\n",
       "      label.textContent = `Downloading \"${filename}\": `;\n",
       "      div.appendChild(label);\n",
       "      const progress = document.createElement('progress');\n",
       "      progress.max = size;\n",
       "      div.appendChild(progress);\n",
       "      document.body.appendChild(div);\n",
       "\n",
       "      const buffers = [];\n",
       "      let downloaded = 0;\n",
       "\n",
       "      const channel = await google.colab.kernel.comms.open(id);\n",
       "      // Send a message to notify the kernel that we're ready.\n",
       "      channel.send({})\n",
       "\n",
       "      for await (const message of channel.messages) {\n",
       "        // Send a message to notify the kernel that we're ready.\n",
       "        channel.send({})\n",
       "        if (message.buffers) {\n",
       "          for (const buffer of message.buffers) {\n",
       "            buffers.push(buffer);\n",
       "            downloaded += buffer.byteLength;\n",
       "            progress.value = downloaded;\n",
       "          }\n",
       "        }\n",
       "      }\n",
       "      const blob = new Blob(buffers, {type: 'application/binary'});\n",
       "      const a = document.createElement('a');\n",
       "      a.href = window.URL.createObjectURL(blob);\n",
       "      a.download = filename;\n",
       "      div.appendChild(a);\n",
       "      a.click();\n",
       "      div.remove();\n",
       "    }\n",
       "  "
      ],
      "text/plain": [
       "<IPython.core.display.Javascript object>"
      ]
     },
     "metadata": {},
     "output_type": "display_data"
    },
    {
     "data": {
      "application/javascript": [
       "download(\"download_cbcd8c40-bf98-4a86-84c6-c77f4ab4b658\", \"summaries_anonymized.csv\", 4247806)"
      ],
      "text/plain": [
       "<IPython.core.display.Javascript object>"
      ]
     },
     "metadata": {},
     "output_type": "display_data"
    }
   ],
   "source": [
    "import csv\n",
    "from google.colab import files\n",
    "\n",
    "with open(\"../datasets/summaries/summaries_anonymized.csv\", \"w\", newline=\"\", encoding=\"utf-8\") as f:\n",
    "    writer = csv.writer(f)\n",
    "    writer.writerow([\"full_note\", \"summary\"])\n",
    "    for full_note, summary in zip(test_texts, generated_summaries):\n",
    "        writer.writerow([full_note, summary])\n",
    "\n",
    "files.download(\"summaries_anonymized.csv\")"
   ]
  }
 ],
 "metadata": {
  "accelerator": "GPU",
  "colab": {
   "gpuType": "T4",
   "provenance": []
  },
  "kernelspec": {
   "display_name": "Python 3 (ipykernel)",
   "language": "python",
   "name": "python3"
  },
  "language_info": {
   "name": "python"
  }
 },
 "nbformat": 4,
 "nbformat_minor": 0
}
