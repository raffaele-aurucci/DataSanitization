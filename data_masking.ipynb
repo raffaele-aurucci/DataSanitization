{
 "nbformat": 4,
 "nbformat_minor": 0,
 "metadata": {
  "colab": {
   "provenance": [],
   "gpuType": "T4"
  },
  "kernelspec": {
   "name": "python3",
   "display_name": "Python 3 (ipykernel)",
   "language": "python"
  },
  "language_info": {
   "name": "python"
  },
  "accelerator": "GPU"
 },
 "cells": [
  {
   "cell_type": "markdown",
   "source": [
    "## **Data Masking**"
   ],
   "metadata": {
    "id": "-ax3t641WR_5"
   }
  },
  {
   "cell_type": "code",
   "metadata": {
    "id": "1ZSpfjx701H-"
   },
   "source": [
    "# %pip install transformers torch"
   ],
   "outputs": [],
   "execution_count": null
  },
  {
   "cell_type": "code",
   "source": [
    "import pandas as pd\n",
    "import re\n",
    "from transformers import AutoTokenizer, AutoModelForTokenClassification, pipeline\n",
    "from tqdm import tqdm\n",
    "import spacy\n",
    "import torch"
   ],
   "metadata": {
    "id": "_QZktNg4ayNd",
    "executionInfo": {
     "status": "ok",
     "timestamp": 1753801094858,
     "user_tz": -120,
     "elapsed": 10,
     "user": {
      "displayName": "RAFFAELE AURUCCI",
      "userId": "09236868691828213278"
     }
    }
   },
   "outputs": [],
   "execution_count": null
  },
  {
   "cell_type": "markdown",
   "source": [
    "#### Reading dataset"
   ],
   "metadata": {
    "id": "J8HQzX5JPdfV"
   }
  },
  {
   "cell_type": "code",
   "source": [
    "df = pd.read_json(\"hf://datasets/AGBonnet/augmented-clinical-notes/augmented_notes_30K.jsonl\", lines=True)"
   ],
   "metadata": {
    "id": "Uz4QGKmYPZpf",
    "executionInfo": {
     "status": "ok",
     "timestamp": 1753801118585,
     "user_tz": -120,
     "elapsed": 3154,
     "user": {
      "displayName": "RAFFAELE AURUCCI",
      "userId": "09236868691828213278"
     }
    }
   },
   "outputs": [],
   "execution_count": null
  },
  {
   "cell_type": "code",
   "source": [
    "df.head()"
   ],
   "metadata": {
    "colab": {
     "base_uri": "https://localhost:8080/",
     "height": 293
    },
    "id": "UVwNRnkMRREc",
    "executionInfo": {
     "status": "ok",
     "timestamp": 1753801125652,
     "user_tz": -120,
     "elapsed": 2382,
     "user": {
      "displayName": "RAFFAELE AURUCCI",
      "userId": "09236868691828213278"
     }
    },
    "outputId": "70c5a9fa-0060-4811-f6a6-c2e0a0453e56"
   },
   "outputs": [],
   "execution_count": null
  },
  {
   "cell_type": "code",
   "source": [
    "df.dropna(inplace=True)"
   ],
   "metadata": {
    "id": "HEOMR03VYPeZ",
    "executionInfo": {
     "status": "ok",
     "timestamp": 1753801128969,
     "user_tz": -120,
     "elapsed": 10,
     "user": {
      "displayName": "RAFFAELE AURUCCI",
      "userId": "09236868691828213278"
     }
    }
   },
   "outputs": [],
   "execution_count": null
  },
  {
   "cell_type": "code",
   "source": [
    "len(df)"
   ],
   "metadata": {
    "colab": {
     "base_uri": "https://localhost:8080/"
    },
    "id": "UvPuMLCZYUx6",
    "executionInfo": {
     "status": "ok",
     "timestamp": 1753801130597,
     "user_tz": -120,
     "elapsed": 12,
     "user": {
      "displayName": "RAFFAELE AURUCCI",
      "userId": "09236868691828213278"
     }
    },
    "outputId": "3a7f9c9c-427c-4b71-ba83-2fda900efec8"
   },
   "outputs": [],
   "execution_count": null
  },
  {
   "cell_type": "markdown",
   "source": [
    "### **CLINICAL-BERT NER**"
   ],
   "metadata": {
    "id": "7iO1EyrV30T8"
   }
  },
  {
   "cell_type": "code",
   "source": [
    "exclude_tokens = [\"a\", \"an\", \"the\", \"this\", \"that\", \"these\", \"those\"]\n",
    "\n",
    "# Function to mask words mantaining first two letter (eg. nack --> na**)\n",
    "def mask_word(word):\n",
    "    if word.lower() in exclude_tokens:\n",
    "        return word\n",
    "    if len(word) <= 2:\n",
    "        return word\n",
    "    return word[:2] + \"*\" * (len(word) - 2)"
   ],
   "metadata": {
    "id": "XAafJyx2bK2m",
    "executionInfo": {
     "status": "ok",
     "timestamp": 1753801133760,
     "user_tz": -120,
     "elapsed": 9,
     "user": {
      "displayName": "RAFFAELE AURUCCI",
      "userId": "09236868691828213278"
     }
    }
   },
   "outputs": [],
   "execution_count": null
  },
  {
   "cell_type": "code",
   "source": [
    "model_name = \"samrawal/bert-base-uncased_clinical-ner\"\n",
    "tokenizer = AutoTokenizer.from_pretrained(model_name)\n",
    "model = AutoModelForTokenClassification.from_pretrained(model_name)\n",
    "\n",
    "# GPU if available\n",
    "if torch.cuda.is_available():\n",
    "    device = torch.device('cuda')\n",
    "else:\n",
    "    device = torch.device('cpu')\n",
    "\n",
    "ner_pipeline = pipeline(\"ner\", model=model, tokenizer=tokenizer, aggregation_strategy=\"simple\", device=device)\n",
    "df_masked_text = {'index': [], 'note': [], 'masked_note': [], 'full_note': [], 'masked_full_note': []}\n",
    "\n",
    "# Iterate over all dataset\n",
    "for index, row in tqdm(df.iterrows(), total=len(df), desc=\"Masked dataset\"):\n",
    "    note = row[\"note\"]\n",
    "    full_note = row[\"full_note\"]\n",
    "\n",
    "    df_masked_text['index'].append(index)\n",
    "    df_masked_text['note'].append(note)\n",
    "    df_masked_text['full_note'].append(full_note)\n",
    "\n",
    "    for idx, text in enumerate([note, full_note]):\n",
    "        ner_results = ner_pipeline(text)\n",
    "\n",
    "        # Map of masked intervals\n",
    "        to_mask = []\n",
    "        for entity in ner_results:\n",
    "            if entity[\"entity_group\"] in {\"problem\", \"treatment\"}:\n",
    "                to_mask.append((entity[\"start\"], entity[\"end\"]))\n",
    "\n",
    "        # Mask words in specif ranges\n",
    "        masked_text = \"\"\n",
    "        i = 0\n",
    "        for start, end in sorted(to_mask):\n",
    "            masked_text += text[i:start]\n",
    "            original = text[start:end]\n",
    "            masked = re.sub(r'\\b\\w+\\b', lambda m: mask_word(m.group()), original)\n",
    "            masked_text += masked\n",
    "            i = end\n",
    "\n",
    "        masked_text += text[i:]\n",
    "\n",
    "        if idx == 0:\n",
    "            df_masked_text['masked_note'].append(masked_text)\n",
    "        else:\n",
    "            df_masked_text['masked_full_note'].append(masked_text)\n",
    "\n",
    "        # print(\"\\nMasked text (first two letter are visible for PROBLEM/TREATMENT):\\n\")\n",
    "        # print(masked_text)"
   ],
   "metadata": {
    "colab": {
     "base_uri": "https://localhost:8080/"
    },
    "id": "uDiybVSk3muU",
    "outputId": "71571611-3483-412a-91da-cf2672242902",
    "executionInfo": {
     "status": "ok",
     "timestamp": 1753803994022,
     "user_tz": -120,
     "elapsed": 391347,
     "user": {
      "displayName": "RAFFAELE AURUCCI",
      "userId": "09236868691828213278"
     }
    }
   },
   "outputs": [],
   "execution_count": null
  },
  {
   "cell_type": "code",
   "source": [
    "df_masked = pd.DataFrame(df_masked_text)"
   ],
   "metadata": {
    "id": "_USB17NicYlC",
    "executionInfo": {
     "status": "ok",
     "timestamp": 1753804058237,
     "user_tz": -120,
     "elapsed": 43,
     "user": {
      "displayName": "RAFFAELE AURUCCI",
      "userId": "09236868691828213278"
     }
    }
   },
   "outputs": [],
   "execution_count": null
  },
  {
   "cell_type": "code",
   "source": [
    "print(df_masked['masked_note'][0])"
   ],
   "metadata": {
    "colab": {
     "base_uri": "https://localhost:8080/"
    },
    "id": "chFzXLxQYVAD",
    "executionInfo": {
     "status": "ok",
     "timestamp": 1753804063659,
     "user_tz": -120,
     "elapsed": 14,
     "user": {
      "displayName": "RAFFAELE AURUCCI",
      "userId": "09236868691828213278"
     }
    },
    "outputId": "0679197e-5cb0-4c9c-c862-913e3b9070c1"
   },
   "outputs": [],
   "execution_count": null
  },
  {
   "cell_type": "markdown",
   "source": [
    "### **SPACY NER**"
   ],
   "metadata": {
    "id": "Nkx4WFaqDpRh"
   }
  },
  {
   "cell_type": "code",
   "source": [
    "spacy.cli.download(\"en_core_web_lg\")\n",
    "\n",
    "# spaCy model\n",
    "nlp = spacy.load(\"en_core_web_lg\")"
   ],
   "metadata": {
    "id": "MB6kKSJM-9VF",
    "colab": {
     "base_uri": "https://localhost:8080/"
    },
    "executionInfo": {
     "status": "ok",
     "timestamp": 1753804095633,
     "user_tz": -120,
     "elapsed": 26156,
     "user": {
      "displayName": "RAFFAELE AURUCCI",
      "userId": "09236868691828213278"
     }
    },
    "outputId": "6679eaec-3ddb-4d88-d701-16dd892754bb"
   },
   "outputs": [],
   "execution_count": null
  },
  {
   "cell_type": "code",
   "source": [
    "# Entity type to mask\n",
    "entities_to_mask = {\"PERSON\", \"NORP\", \"DATE\", \"CARDINAL\", \"QUANTITY\", \"FAC\", \"ORG\",\n",
    "                    \"GPE\", \"LOC\", \"LANGUAGE\", \"TIME\"}\n",
    "\n",
    "# gender to mask\n",
    "gender_terms = {\n",
    "    \"male\", \"female\", \"man\", \"woman\", \"boy\", \"girl\",\n",
    "    \"he\", \"she\", \"his\", \"her\", \"him\", \"hers\", \"himself\", \"herself\"\n",
    "}\n",
    "\n",
    "for index, row in tqdm(df_masked.iterrows(), total=len(df_masked), desc=\"Masked dataset\"):\n",
    "    for col in [\"masked_note\", \"masked_full_note\"]:\n",
    "        text = row[col]\n",
    "\n",
    "        to_mask = []\n",
    "        other_to_mask = []\n",
    "\n",
    "        doc = nlp(text)\n",
    "\n",
    "        for ent in doc.ents:\n",
    "            if ent.label_ in entities_to_mask:\n",
    "                to_mask.append((ent.start_char, ent.end_char))\n",
    "            if ent.label_ in [\"CARDINAL\", \"QUANTITY\", \"TIME\"]:\n",
    "                other_to_mask.append((ent.start_char, ent.end_char))\n",
    "\n",
    "        masked_text_new = \"\"\n",
    "        i = 0\n",
    "        for start, end in sorted(to_mask):\n",
    "            if (start, end) in other_to_mask:\n",
    "                masked_text_new += text[i:start]\n",
    "                masked_text_new += '*'\n",
    "                i = end\n",
    "                continue\n",
    "            masked_text_new += text[i:start]\n",
    "            original = text[start:end]\n",
    "            masked = re.sub(r'\\b\\w+\\b', lambda m: mask_word(m.group()), original)\n",
    "            masked_text_new += masked\n",
    "            i = end\n",
    "\n",
    "        masked_text_new += text[i:]\n",
    "\n",
    "        def mask_gender_terms(match):\n",
    "            word = match.group()\n",
    "            if word.lower() in gender_terms:\n",
    "                return mask_word(word)\n",
    "            return word\n",
    "\n",
    "        masked_text_new = re.sub(r'\\b\\w+\\b', mask_gender_terms, masked_text_new)\n",
    "\n",
    "        df_masked.at[index, col] = masked_text_new"
   ],
   "metadata": {
    "id": "Ha144X9_p2lt",
    "colab": {
     "base_uri": "https://localhost:8080/"
    },
    "outputId": "f253ecd2-8ec9-4022-e64e-38ac64eb5b51"
   },
   "outputs": [],
   "execution_count": null
  },
  {
   "metadata": {},
   "cell_type": "code",
   "source": [
    "import os\n",
    "os.makedirs(\"data\", exist_ok=True)\n",
    "df_masked.to_csv(\"data/masked_dataset.csv\", index=False)"
   ],
   "outputs": [],
   "execution_count": null
  },
  {
   "metadata": {
    "id": "9TBmm2BRcl7h"
   },
   "cell_type": "code",
   "source": [
    "# from google.colab import files\n",
    "#\n",
    "# df_masked.to_csv('masked_dataset.csv', index=False)\n",
    "# files.download('masked_dataset.csv')"
   ],
   "outputs": [],
   "execution_count": null
  },
  {
   "cell_type": "markdown",
   "source": [
    "Reading masked dataset"
   ],
   "metadata": {
    "id": "mVxXMPaTWT2O"
   }
  },
  {
   "cell_type": "code",
   "source": [
    "# import pandas as pd\n",
    "# import gdown\n",
    "#\n",
    "# # File ID Google Drive\n",
    "# file_id = \"1_9VFIupqIF22FrAaFUDIfq26oZmCEjqF\"\n",
    "# # URL download\n",
    "# url = f\"https://drive.google.com/uc?id={file_id}\"\n",
    "#\n",
    "# output = 'masked_dataset.csv'\n",
    "# gdown.download(url, output, quiet=False)\n",
    "#\n",
    "# df_masked = pd.read_csv(output)"
   ],
   "metadata": {
    "colab": {
     "base_uri": "https://localhost:8080/",
     "height": 200
    },
    "id": "kP03uQowV5KS",
    "executionInfo": {
     "status": "ok",
     "timestamp": 1753787417167,
     "user_tz": -120,
     "elapsed": 14921,
     "user": {
      "displayName": "RAFFAELE AURUCCI",
      "userId": "09236868691828213278"
     }
    },
    "outputId": "abe5ec3b-dcb9-4bc9-aa9c-34a6fcef4878"
   },
   "outputs": [],
   "execution_count": null
  },
  {
   "cell_type": "code",
   "source": [
    "print(df_masked['masked_note'][0])"
   ],
   "metadata": {
    "colab": {
     "base_uri": "https://localhost:8080/"
    },
    "id": "Ne1Ms648Y6ct",
    "executionInfo": {
     "status": "ok",
     "timestamp": 1753798924158,
     "user_tz": -120,
     "elapsed": 9,
     "user": {
      "displayName": "RAFFAELE AURUCCI",
      "userId": "09236868691828213278"
     }
    },
    "outputId": "0bcc3d9d-6bd6-401b-9e87-e54476a709b9"
   },
   "outputs": [],
   "execution_count": null
  },
  {
   "cell_type": "code",
   "source": [
    "print(df_masked['masked_full_note'][0])"
   ],
   "metadata": {
    "colab": {
     "base_uri": "https://localhost:8080/"
    },
    "id": "GgZaGX6mbolQ",
    "executionInfo": {
     "status": "ok",
     "timestamp": 1753796767296,
     "user_tz": -120,
     "elapsed": 7,
     "user": {
      "displayName": "RAFFAELE AURUCCI",
      "userId": "09236868691828213278"
     }
    },
    "outputId": "a40c6540-7c44-417e-cec0-3fdfd538925e"
   },
   "outputs": [],
   "execution_count": null
  }
 ]
}
