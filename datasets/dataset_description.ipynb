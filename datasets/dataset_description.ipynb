{
 "nbformat": 4,
 "nbformat_minor": 0,
 "metadata": {
  "colab": {
   "provenance": [],
   "gpuType": "T4"
  },
  "kernelspec": {
   "name": "python3",
   "display_name": "Python 3 (ipykernel)",
   "language": "python"
  },
  "language_info": {
   "name": "python"
  },
  "accelerator": "GPU"
 },
 "cells": [
  {
   "cell_type": "markdown",
   "source": [
    "## **Data Anonymization**"
   ],
   "metadata": {
    "id": "-ax3t641WR_5"
   }
  },
  {
   "cell_type": "code",
   "execution_count": null,
   "metadata": {
    "id": "1ZSpfjx701H-",
    "colab": {
     "base_uri": "https://localhost:8080/"
    },
    "outputId": "71a8a815-b24a-4b93-974f-f603d9d85b22"
   },
   "outputs": [
    {
     "output_type": "stream",
     "name": "stdout",
     "text": [
      "Requirement already satisfied: transformers in /usr/local/lib/python3.11/dist-packages (4.54.0)\n",
      "Requirement already satisfied: torch in /usr/local/lib/python3.11/dist-packages (2.6.0+cu124)\n",
      "Requirement already satisfied: filelock in /usr/local/lib/python3.11/dist-packages (from transformers) (3.18.0)\n",
      "Requirement already satisfied: huggingface-hub<1.0,>=0.34.0 in /usr/local/lib/python3.11/dist-packages (from transformers) (0.34.1)\n",
      "Requirement already satisfied: numpy>=1.17 in /usr/local/lib/python3.11/dist-packages (from transformers) (2.0.2)\n",
      "Requirement already satisfied: packaging>=20.0 in /usr/local/lib/python3.11/dist-packages (from transformers) (25.0)\n",
      "Requirement already satisfied: pyyaml>=5.1 in /usr/local/lib/python3.11/dist-packages (from transformers) (6.0.2)\n",
      "Requirement already satisfied: regex!=2019.12.17 in /usr/local/lib/python3.11/dist-packages (from transformers) (2024.11.6)\n",
      "Requirement already satisfied: requests in /usr/local/lib/python3.11/dist-packages (from transformers) (2.32.3)\n",
      "Requirement already satisfied: tokenizers<0.22,>=0.21 in /usr/local/lib/python3.11/dist-packages (from transformers) (0.21.2)\n",
      "Requirement already satisfied: safetensors>=0.4.3 in /usr/local/lib/python3.11/dist-packages (from transformers) (0.5.3)\n",
      "Requirement already satisfied: tqdm>=4.27 in /usr/local/lib/python3.11/dist-packages (from transformers) (4.67.1)\n",
      "Requirement already satisfied: typing-extensions>=4.10.0 in /usr/local/lib/python3.11/dist-packages (from torch) (4.14.1)\n",
      "Requirement already satisfied: networkx in /usr/local/lib/python3.11/dist-packages (from torch) (3.5)\n",
      "Requirement already satisfied: jinja2 in /usr/local/lib/python3.11/dist-packages (from torch) (3.1.6)\n",
      "Requirement already satisfied: fsspec in /usr/local/lib/python3.11/dist-packages (from torch) (2025.3.0)\n",
      "Collecting nvidia-cuda-nvrtc-cu12==12.4.127 (from torch)\n",
      "  Downloading nvidia_cuda_nvrtc_cu12-12.4.127-py3-none-manylinux2014_x86_64.whl.metadata (1.5 kB)\n",
      "Collecting nvidia-cuda-runtime-cu12==12.4.127 (from torch)\n",
      "  Downloading nvidia_cuda_runtime_cu12-12.4.127-py3-none-manylinux2014_x86_64.whl.metadata (1.5 kB)\n",
      "Collecting nvidia-cuda-cupti-cu12==12.4.127 (from torch)\n",
      "  Downloading nvidia_cuda_cupti_cu12-12.4.127-py3-none-manylinux2014_x86_64.whl.metadata (1.6 kB)\n",
      "Collecting nvidia-cudnn-cu12==9.1.0.70 (from torch)\n",
      "  Downloading nvidia_cudnn_cu12-9.1.0.70-py3-none-manylinux2014_x86_64.whl.metadata (1.6 kB)\n",
      "Collecting nvidia-cublas-cu12==12.4.5.8 (from torch)\n",
      "  Downloading nvidia_cublas_cu12-12.4.5.8-py3-none-manylinux2014_x86_64.whl.metadata (1.5 kB)\n",
      "Collecting nvidia-cufft-cu12==11.2.1.3 (from torch)\n",
      "  Downloading nvidia_cufft_cu12-11.2.1.3-py3-none-manylinux2014_x86_64.whl.metadata (1.5 kB)\n",
      "Collecting nvidia-curand-cu12==10.3.5.147 (from torch)\n",
      "  Downloading nvidia_curand_cu12-10.3.5.147-py3-none-manylinux2014_x86_64.whl.metadata (1.5 kB)\n",
      "Collecting nvidia-cusolver-cu12==11.6.1.9 (from torch)\n",
      "  Downloading nvidia_cusolver_cu12-11.6.1.9-py3-none-manylinux2014_x86_64.whl.metadata (1.6 kB)\n",
      "Collecting nvidia-cusparse-cu12==12.3.1.170 (from torch)\n",
      "  Downloading nvidia_cusparse_cu12-12.3.1.170-py3-none-manylinux2014_x86_64.whl.metadata (1.6 kB)\n",
      "Requirement already satisfied: nvidia-cusparselt-cu12==0.6.2 in /usr/local/lib/python3.11/dist-packages (from torch) (0.6.2)\n",
      "Requirement already satisfied: nvidia-nccl-cu12==2.21.5 in /usr/local/lib/python3.11/dist-packages (from torch) (2.21.5)\n",
      "Requirement already satisfied: nvidia-nvtx-cu12==12.4.127 in /usr/local/lib/python3.11/dist-packages (from torch) (12.4.127)\n",
      "Collecting nvidia-nvjitlink-cu12==12.4.127 (from torch)\n",
      "  Downloading nvidia_nvjitlink_cu12-12.4.127-py3-none-manylinux2014_x86_64.whl.metadata (1.5 kB)\n",
      "Requirement already satisfied: triton==3.2.0 in /usr/local/lib/python3.11/dist-packages (from torch) (3.2.0)\n",
      "Requirement already satisfied: sympy==1.13.1 in /usr/local/lib/python3.11/dist-packages (from torch) (1.13.1)\n",
      "Requirement already satisfied: mpmath<1.4,>=1.1.0 in /usr/local/lib/python3.11/dist-packages (from sympy==1.13.1->torch) (1.3.0)\n",
      "Requirement already satisfied: hf-xet<2.0.0,>=1.1.3 in /usr/local/lib/python3.11/dist-packages (from huggingface-hub<1.0,>=0.34.0->transformers) (1.1.5)\n",
      "Requirement already satisfied: MarkupSafe>=2.0 in /usr/local/lib/python3.11/dist-packages (from jinja2->torch) (3.0.2)\n",
      "Requirement already satisfied: charset-normalizer<4,>=2 in /usr/local/lib/python3.11/dist-packages (from requests->transformers) (3.4.2)\n",
      "Requirement already satisfied: idna<4,>=2.5 in /usr/local/lib/python3.11/dist-packages (from requests->transformers) (3.10)\n",
      "Requirement already satisfied: urllib3<3,>=1.21.1 in /usr/local/lib/python3.11/dist-packages (from requests->transformers) (2.5.0)\n",
      "Requirement already satisfied: certifi>=2017.4.17 in /usr/local/lib/python3.11/dist-packages (from requests->transformers) (2025.7.14)\n",
      "Downloading nvidia_cublas_cu12-12.4.5.8-py3-none-manylinux2014_x86_64.whl (363.4 MB)\n",
      "\u001B[2K   \u001B[90m━━━━━━━━━━━━━━━━━━━━━━━━━━━━━━━━━━━━━━━━\u001B[0m \u001B[32m363.4/363.4 MB\u001B[0m \u001B[31m3.8 MB/s\u001B[0m eta \u001B[36m0:00:00\u001B[0m\n",
      "\u001B[?25hDownloading nvidia_cuda_cupti_cu12-12.4.127-py3-none-manylinux2014_x86_64.whl (13.8 MB)\n",
      "\u001B[2K   \u001B[90m━━━━━━━━━━━━━━━━━━━━━━━━━━━━━━━━━━━━━━━━\u001B[0m \u001B[32m13.8/13.8 MB\u001B[0m \u001B[31m44.9 MB/s\u001B[0m eta \u001B[36m0:00:00\u001B[0m\n",
      "\u001B[?25hDownloading nvidia_cuda_nvrtc_cu12-12.4.127-py3-none-manylinux2014_x86_64.whl (24.6 MB)\n",
      "\u001B[2K   \u001B[90m━━━━━━━━━━━━━━━━━━━━━━━━━━━━━━━━━━━━━━━━\u001B[0m \u001B[32m24.6/24.6 MB\u001B[0m \u001B[31m41.6 MB/s\u001B[0m eta \u001B[36m0:00:00\u001B[0m\n",
      "\u001B[?25hDownloading nvidia_cuda_runtime_cu12-12.4.127-py3-none-manylinux2014_x86_64.whl (883 kB)\n",
      "\u001B[2K   \u001B[90m━━━━━━━━━━━━━━━━━━━━━━━━━━━━━━━━━━━━━━━━\u001B[0m \u001B[32m883.7/883.7 kB\u001B[0m \u001B[31m32.2 MB/s\u001B[0m eta \u001B[36m0:00:00\u001B[0m\n",
      "\u001B[?25hDownloading nvidia_cudnn_cu12-9.1.0.70-py3-none-manylinux2014_x86_64.whl (664.8 MB)\n",
      "\u001B[2K   \u001B[90m━━━━━━━━━━━━━━━━━━━━━━━━━━━━━━━━━━━━━━━━\u001B[0m \u001B[32m664.8/664.8 MB\u001B[0m \u001B[31m2.1 MB/s\u001B[0m eta \u001B[36m0:00:00\u001B[0m\n",
      "\u001B[?25hDownloading nvidia_cufft_cu12-11.2.1.3-py3-none-manylinux2014_x86_64.whl (211.5 MB)\n",
      "\u001B[2K   \u001B[90m━━━━━━━━━━━━━━━━━━━━━━━━━━━━━━━━━━━━━━━━\u001B[0m \u001B[32m211.5/211.5 MB\u001B[0m \u001B[31m4.2 MB/s\u001B[0m eta \u001B[36m0:00:00\u001B[0m\n",
      "\u001B[?25hDownloading nvidia_curand_cu12-10.3.5.147-py3-none-manylinux2014_x86_64.whl (56.3 MB)\n",
      "\u001B[2K   \u001B[90m━━━━━━━━━━━━━━━━━━━━━━━━━━━━━━━━━━━━━━━━\u001B[0m \u001B[32m56.3/56.3 MB\u001B[0m \u001B[31m7.5 MB/s\u001B[0m eta \u001B[36m0:00:00\u001B[0m\n",
      "\u001B[?25hDownloading nvidia_cusolver_cu12-11.6.1.9-py3-none-manylinux2014_x86_64.whl (127.9 MB)\n",
      "\u001B[2K   \u001B[90m━━━━━━━━━━━━━━━━━━━━━━━━━━━━━━━━━━━━━━━━\u001B[0m \u001B[32m127.9/127.9 MB\u001B[0m \u001B[31m7.9 MB/s\u001B[0m eta \u001B[36m0:00:00\u001B[0m\n",
      "\u001B[?25hDownloading nvidia_cusparse_cu12-12.3.1.170-py3-none-manylinux2014_x86_64.whl (207.5 MB)\n",
      "\u001B[2K   \u001B[90m━━━━━━━━━━━━━━━━━━━━━━━━━━━━━━━━━━━━━━━━\u001B[0m \u001B[32m207.5/207.5 MB\u001B[0m \u001B[31m6.2 MB/s\u001B[0m eta \u001B[36m0:00:00\u001B[0m\n",
      "\u001B[?25hDownloading nvidia_nvjitlink_cu12-12.4.127-py3-none-manylinux2014_x86_64.whl (21.1 MB)\n",
      "\u001B[2K   \u001B[90m━━━━━━━━━━━━━━━━━━━━━━━━━━━━━━━━━━━━━━━━\u001B[0m \u001B[32m21.1/21.1 MB\u001B[0m \u001B[31m69.2 MB/s\u001B[0m eta \u001B[36m0:00:00\u001B[0m\n",
      "\u001B[?25hInstalling collected packages: nvidia-nvjitlink-cu12, nvidia-curand-cu12, nvidia-cufft-cu12, nvidia-cuda-runtime-cu12, nvidia-cuda-nvrtc-cu12, nvidia-cuda-cupti-cu12, nvidia-cublas-cu12, nvidia-cusparse-cu12, nvidia-cudnn-cu12, nvidia-cusolver-cu12\n",
      "  Attempting uninstall: nvidia-nvjitlink-cu12\n",
      "    Found existing installation: nvidia-nvjitlink-cu12 12.5.82\n",
      "    Uninstalling nvidia-nvjitlink-cu12-12.5.82:\n",
      "      Successfully uninstalled nvidia-nvjitlink-cu12-12.5.82\n",
      "  Attempting uninstall: nvidia-curand-cu12\n",
      "    Found existing installation: nvidia-curand-cu12 10.3.6.82\n",
      "    Uninstalling nvidia-curand-cu12-10.3.6.82:\n",
      "      Successfully uninstalled nvidia-curand-cu12-10.3.6.82\n",
      "  Attempting uninstall: nvidia-cufft-cu12\n",
      "    Found existing installation: nvidia-cufft-cu12 11.2.3.61\n",
      "    Uninstalling nvidia-cufft-cu12-11.2.3.61:\n",
      "      Successfully uninstalled nvidia-cufft-cu12-11.2.3.61\n",
      "  Attempting uninstall: nvidia-cuda-runtime-cu12\n",
      "    Found existing installation: nvidia-cuda-runtime-cu12 12.5.82\n",
      "    Uninstalling nvidia-cuda-runtime-cu12-12.5.82:\n",
      "      Successfully uninstalled nvidia-cuda-runtime-cu12-12.5.82\n",
      "  Attempting uninstall: nvidia-cuda-nvrtc-cu12\n",
      "    Found existing installation: nvidia-cuda-nvrtc-cu12 12.5.82\n",
      "    Uninstalling nvidia-cuda-nvrtc-cu12-12.5.82:\n",
      "      Successfully uninstalled nvidia-cuda-nvrtc-cu12-12.5.82\n",
      "  Attempting uninstall: nvidia-cuda-cupti-cu12\n",
      "    Found existing installation: nvidia-cuda-cupti-cu12 12.5.82\n",
      "    Uninstalling nvidia-cuda-cupti-cu12-12.5.82:\n",
      "      Successfully uninstalled nvidia-cuda-cupti-cu12-12.5.82\n",
      "  Attempting uninstall: nvidia-cublas-cu12\n",
      "    Found existing installation: nvidia-cublas-cu12 12.5.3.2\n",
      "    Uninstalling nvidia-cublas-cu12-12.5.3.2:\n",
      "      Successfully uninstalled nvidia-cublas-cu12-12.5.3.2\n",
      "  Attempting uninstall: nvidia-cusparse-cu12\n",
      "    Found existing installation: nvidia-cusparse-cu12 12.5.1.3\n",
      "    Uninstalling nvidia-cusparse-cu12-12.5.1.3:\n",
      "      Successfully uninstalled nvidia-cusparse-cu12-12.5.1.3\n",
      "  Attempting uninstall: nvidia-cudnn-cu12\n",
      "    Found existing installation: nvidia-cudnn-cu12 9.3.0.75\n",
      "    Uninstalling nvidia-cudnn-cu12-9.3.0.75:\n",
      "      Successfully uninstalled nvidia-cudnn-cu12-9.3.0.75\n",
      "  Attempting uninstall: nvidia-cusolver-cu12\n",
      "    Found existing installation: nvidia-cusolver-cu12 11.6.3.83\n",
      "    Uninstalling nvidia-cusolver-cu12-11.6.3.83:\n",
      "      Successfully uninstalled nvidia-cusolver-cu12-11.6.3.83\n",
      "Successfully installed nvidia-cublas-cu12-12.4.5.8 nvidia-cuda-cupti-cu12-12.4.127 nvidia-cuda-nvrtc-cu12-12.4.127 nvidia-cuda-runtime-cu12-12.4.127 nvidia-cudnn-cu12-9.1.0.70 nvidia-cufft-cu12-11.2.1.3 nvidia-curand-cu12-10.3.5.147 nvidia-cusolver-cu12-11.6.1.9 nvidia-cusparse-cu12-12.3.1.170 nvidia-nvjitlink-cu12-12.4.127\n"
     ]
    }
   ],
   "source": [
    "%pip install transformers torch"
   ]
  },
  {
   "cell_type": "code",
   "source": [
    "import pandas as pd\n",
    "import re\n",
    "from transformers import AutoTokenizer, AutoModelForTokenClassification, pipeline\n",
    "from tqdm import tqdm\n",
    "import spacy\n",
    "import torch"
   ],
   "metadata": {
    "id": "_QZktNg4ayNd",
    "ExecuteTime": {
     "end_time": "2025-08-25T07:42:57.968360Z",
     "start_time": "2025-08-25T07:42:21.583302Z"
    }
   },
   "outputs": [
    {
     "name": "stderr",
     "output_type": "stream",
     "text": [
      "C:\\Users\\rafau\\Documents\\PythonProjects\\DataSanitization\\venv\\Lib\\site-packages\\tqdm\\auto.py:21: TqdmWarning: IProgress not found. Please update jupyter and ipywidgets. See https://ipywidgets.readthedocs.io/en/stable/user_install.html\n",
      "  from .autonotebook import tqdm as notebook_tqdm\n"
     ]
    }
   ],
   "execution_count": 1
  },
  {
   "cell_type": "markdown",
   "source": [
    "#### Reading dataset"
   ],
   "metadata": {
    "id": "J8HQzX5JPdfV"
   }
  },
  {
   "cell_type": "code",
   "source": [
    "df = pd.read_json(\"hf://datasets/AGBonnet/augmented-clinical-notes/augmented_notes_30K.jsonl\", lines=True)"
   ],
   "metadata": {
    "id": "Uz4QGKmYPZpf",
    "colab": {
     "base_uri": "https://localhost:8080/"
    },
    "outputId": "3f5b2233-fa03-4590-c3b1-11dc35644818",
    "ExecuteTime": {
     "end_time": "2025-08-25T07:43:15.353957Z",
     "start_time": "2025-08-25T07:43:04.611454Z"
    }
   },
   "outputs": [],
   "execution_count": 2
  },
  {
   "cell_type": "code",
   "source": "df.head()",
   "metadata": {
    "colab": {
     "base_uri": "https://localhost:8080/",
     "height": 206
    },
    "id": "UVwNRnkMRREc",
    "outputId": "44b2557a-9e2a-4c25-d320-89a9a196354f",
    "ExecuteTime": {
     "end_time": "2025-08-25T07:43:15.415785Z",
     "start_time": "2025-08-25T07:43:15.382966Z"
    }
   },
   "outputs": [
    {
     "data": {
      "text/plain": [
       "                                                note  \\\n",
       "0  A a sixteen year-old girl, presented to our Ou...   \n",
       "1  This is the case of a 56-year-old man that was...   \n",
       "2  A 36-year old female patient visited our hospi...   \n",
       "3  A 49-year-old male presented with a complaint ...   \n",
       "4  A 47-year-old male patient was referred to the...   \n",
       "\n",
       "                                        conversation     idx  \\\n",
       "0  Doctor: Good morning, what brings you to the O...  155216   \n",
       "1  Doctor: Hi, how are you feeling today?\\nPatien...   77465   \n",
       "2  Doctor: Hello, what brings you to the hospital...  133948   \n",
       "3  Doctor: Good morning, Mr. [Patient's Name]. I'...   80176   \n",
       "4  Doctor: Good morning, how are you feeling toda...   72232   \n",
       "\n",
       "                                             summary  \\\n",
       "0  {\\n\"visit motivation\": \"Discomfort in the neck...   \n",
       "1  {\\n\"visit motivation\": \"Complaints of a dull p...   \n",
       "2  {\\n\"visit motivation\": \"Pain and restricted ra...   \n",
       "3  {\\n\"visit motivation\": \"Pain in the left proxi...   \n",
       "4  {\\n\"visit motivation\": \"Recurrent attacks of p...   \n",
       "\n",
       "                                           full_note  \n",
       "0  A a sixteen year-old girl, presented to our Ou...  \n",
       "1  This is the case of a 56-year-old man that was...  \n",
       "2  A 36-year old female patient visited our hospi...  \n",
       "3  A 49-year-old male presented with a complaint ...  \n",
       "4  A 47-year-old male patient was referred to the...  "
      ],
      "text/html": [
       "<div>\n",
       "<style scoped>\n",
       "    .dataframe tbody tr th:only-of-type {\n",
       "        vertical-align: middle;\n",
       "    }\n",
       "\n",
       "    .dataframe tbody tr th {\n",
       "        vertical-align: top;\n",
       "    }\n",
       "\n",
       "    .dataframe thead th {\n",
       "        text-align: right;\n",
       "    }\n",
       "</style>\n",
       "<table border=\"1\" class=\"dataframe\">\n",
       "  <thead>\n",
       "    <tr style=\"text-align: right;\">\n",
       "      <th></th>\n",
       "      <th>note</th>\n",
       "      <th>conversation</th>\n",
       "      <th>idx</th>\n",
       "      <th>summary</th>\n",
       "      <th>full_note</th>\n",
       "    </tr>\n",
       "  </thead>\n",
       "  <tbody>\n",
       "    <tr>\n",
       "      <th>0</th>\n",
       "      <td>A a sixteen year-old girl, presented to our Ou...</td>\n",
       "      <td>Doctor: Good morning, what brings you to the O...</td>\n",
       "      <td>155216</td>\n",
       "      <td>{\\n\"visit motivation\": \"Discomfort in the neck...</td>\n",
       "      <td>A a sixteen year-old girl, presented to our Ou...</td>\n",
       "    </tr>\n",
       "    <tr>\n",
       "      <th>1</th>\n",
       "      <td>This is the case of a 56-year-old man that was...</td>\n",
       "      <td>Doctor: Hi, how are you feeling today?\\nPatien...</td>\n",
       "      <td>77465</td>\n",
       "      <td>{\\n\"visit motivation\": \"Complaints of a dull p...</td>\n",
       "      <td>This is the case of a 56-year-old man that was...</td>\n",
       "    </tr>\n",
       "    <tr>\n",
       "      <th>2</th>\n",
       "      <td>A 36-year old female patient visited our hospi...</td>\n",
       "      <td>Doctor: Hello, what brings you to the hospital...</td>\n",
       "      <td>133948</td>\n",
       "      <td>{\\n\"visit motivation\": \"Pain and restricted ra...</td>\n",
       "      <td>A 36-year old female patient visited our hospi...</td>\n",
       "    </tr>\n",
       "    <tr>\n",
       "      <th>3</th>\n",
       "      <td>A 49-year-old male presented with a complaint ...</td>\n",
       "      <td>Doctor: Good morning, Mr. [Patient's Name]. I'...</td>\n",
       "      <td>80176</td>\n",
       "      <td>{\\n\"visit motivation\": \"Pain in the left proxi...</td>\n",
       "      <td>A 49-year-old male presented with a complaint ...</td>\n",
       "    </tr>\n",
       "    <tr>\n",
       "      <th>4</th>\n",
       "      <td>A 47-year-old male patient was referred to the...</td>\n",
       "      <td>Doctor: Good morning, how are you feeling toda...</td>\n",
       "      <td>72232</td>\n",
       "      <td>{\\n\"visit motivation\": \"Recurrent attacks of p...</td>\n",
       "      <td>A 47-year-old male patient was referred to the...</td>\n",
       "    </tr>\n",
       "  </tbody>\n",
       "</table>\n",
       "</div>"
      ]
     },
     "execution_count": 3,
     "metadata": {},
     "output_type": "execute_result"
    }
   ],
   "execution_count": 3
  },
  {
   "cell_type": "code",
   "source": [
    "df.dropna(inplace=True)"
   ],
   "metadata": {
    "id": "HEOMR03VYPeZ",
    "ExecuteTime": {
     "end_time": "2025-08-25T07:43:15.556734Z",
     "start_time": "2025-08-25T07:43:15.507315Z"
    }
   },
   "outputs": [],
   "execution_count": 4
  },
  {
   "metadata": {
    "id": "3gYcCg_nZYDB",
    "ExecuteTime": {
     "end_time": "2025-08-25T07:43:17.154744Z",
     "start_time": "2025-08-25T07:43:15.610152Z"
    }
   },
   "cell_type": "code",
   "source": [
    "# Remove unwanted characters from the 'note' and 'full note' columns\n",
    "df['note'] = df['note'].astype(str).str.replace(r'(\\\\n|\\n|\\r|\\[|\\]|\\(|\\))', '', regex=True)\n",
    "df['full_note'] = df['full_note'].astype(str).str.replace(r'(\\\\n|\\n|\\r|\\[|\\]|\\(|\\))', '', regex=True)"
   ],
   "outputs": [],
   "execution_count": 5
  },
  {
   "metadata": {
    "colab": {
     "base_uri": "https://localhost:8080/"
    },
    "id": "UvPuMLCZYUx6",
    "outputId": "183a57d7-a7bc-417b-d58a-3ab4f93173ad",
    "ExecuteTime": {
     "end_time": "2025-08-25T07:43:17.220330Z",
     "start_time": "2025-08-25T07:43:17.215091Z"
    }
   },
   "cell_type": "code",
   "source": "len(df)",
   "outputs": [
    {
     "data": {
      "text/plain": [
       "30000"
      ]
     },
     "execution_count": 6,
     "metadata": {},
     "output_type": "execute_result"
    }
   ],
   "execution_count": 6
  },
  {
   "metadata": {
    "ExecuteTime": {
     "end_time": "2025-08-25T07:43:40.758372Z",
     "start_time": "2025-08-25T07:43:17.309343Z"
    }
   },
   "cell_type": "code",
   "source": [
    "import tiktoken\n",
    "\n",
    "# tokenizer GPT-3.5/GPT-4\n",
    "enc = tiktoken.encoding_for_model(\"gpt-3.5-turbo\")\n",
    "\n",
    "df[\"token_count_note\"] = df[\"note\"].apply(lambda x: len(enc.encode(x)))\n",
    "df[\"word_count_note\"] = df[\"note\"].apply(lambda x: len(x.split()))\n",
    "\n",
    "df[\"token_count_full_note\"] = df[\"full_note\"].apply(lambda x: len(enc.encode(x)))\n",
    "df[\"word_count_full_note\"] = df[\"full_note\"].apply(lambda x: len(x.split()))\n",
    "\n",
    "max_row_note = df.loc[df[\"token_count_note\"].idxmax()]\n",
    "longest_note = max_row_note[\"note\"]\n",
    "longest_tokens_note = max_row_note[\"token_count_note\"]\n",
    "longest_words_note = max_row_note[\"word_count_note\"]\n",
    "\n",
    "max_row_full_note = df.loc[df[\"token_count_full_note\"].idxmax()]\n",
    "longest_full_note = max_row_note[\"full_note\"]\n",
    "longest_tokens_full_note = max_row_note[\"token_count_full_note\"]\n",
    "longest_words_full_note = max_row_note[\"word_count_full_note\"]\n",
    "\n",
    "print(\"# Max tokens note:\", longest_tokens_note)\n",
    "print(\"# Max words note:\", longest_words_note)\n",
    "\n",
    "print(\"# Max tokens full note:\", longest_tokens_full_note)\n",
    "print(\"# Max words full note:\", longest_words_full_note)"
   ],
   "outputs": [
    {
     "name": "stdout",
     "output_type": "stream",
     "text": [
      "# Max tokens note: 524\n",
      "# Max words note: 328\n",
      "# Max tokens full note: 1042\n",
      "# Max words full note: 659\n"
     ]
    }
   ],
   "execution_count": 7
  },
  {
   "metadata": {
    "ExecuteTime": {
     "end_time": "2025-08-25T07:43:57.031029Z",
     "start_time": "2025-08-25T07:43:57.022511Z"
    }
   },
   "cell_type": "code",
   "source": [
    "import tiktoken\n",
    "\n",
    "# tokenizer GPT-3.5/GPT-4\n",
    "enc = tiktoken.encoding_for_model(\"gpt-3.5-turbo\")\n",
    "\n",
    "mean_tokens_note = df[\"token_count_note\"].mean()\n",
    "mean_words_note = df[\"word_count_note\"].mean()\n",
    "mean_tokens_full_note = df[\"token_count_full_note\"].mean()\n",
    "mean_words_full_note = df[\"word_count_full_note\"].mean()\n",
    "\n",
    "print(\"# Mean tokens note:\", round(mean_tokens_note, 2))\n",
    "print(\"# Mean words note:\", round(mean_words_note, 2))\n",
    "\n",
    "print(\"# Mean tokens full note:\", round(mean_tokens_full_note, 2))\n",
    "print(\"# Mean words full note:\", round(mean_words_full_note, 2))"
   ],
   "outputs": [
    {
     "name": "stdout",
     "output_type": "stream",
     "text": [
      "# Mean tokens note: 428.68\n",
      "# Mean words note: 315.0\n",
      "# Mean tokens full note: 725.2\n",
      "# Mean words full note: 524.88\n"
     ]
    }
   ],
   "execution_count": 8
  },
  {
   "metadata": {
    "ExecuteTime": {
     "end_time": "2025-08-23T18:48:35.056333Z",
     "start_time": "2025-08-23T18:48:13.219078Z"
    }
   },
   "cell_type": "code",
   "source": [
    "from collections import Counter\n",
    "\n",
    "all_notes = \" \".join(df[\"full_note\"].tolist())\n",
    "\n",
    "enc = tiktoken.encoding_for_model(\"gpt-3.5-turbo\")\n",
    "tokens = enc.encode(all_notes)\n",
    "token_counts = Counter(tokens)\n",
    "\n",
    "print(\"\\nMost 10 token frequencies:\")\n",
    "for tok, freq in token_counts.most_common(10):\n",
    "    print(enc.decode([tok]), \"→\", freq)\n",
    "\n",
    "words = all_notes.split()\n",
    "word_counts = Counter(words)\n",
    "\n",
    "print(\"\\nMost 10 words frequencies:\")\n",
    "for word, freq in word_counts.most_common(10):\n",
    "    print(repr(word), \"→\", freq)"
   ],
   "outputs": [
    {
     "name": "stdout",
     "output_type": "stream",
     "text": [
      "\n",
      "Most 10 token frequencies:\n",
      " the → 887493\n",
      ". → 717873\n",
      ", → 680847\n",
      " and → 576315\n",
      " of → 569023\n",
      " was → 508831\n",
      "  → 412772\n",
      " a → 311006\n",
      " to → 290373\n",
      " with → 250820\n",
      "\n",
      "Most 10 words frequencies:\n",
      "'the' → 887302\n",
      "'and' → 574528\n",
      "'of' → 568885\n",
      "'was' → 508564\n",
      "'a' → 294743\n",
      "'to' → 289914\n",
      "'with' → 250717\n",
      "'in' → 214066\n",
      "'The' → 163937\n",
      "'for' → 127999\n"
     ]
    }
   ],
   "execution_count": 19
  }
 ]
}
