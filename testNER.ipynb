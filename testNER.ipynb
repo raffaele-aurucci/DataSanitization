{
 "nbformat": 4,
 "nbformat_minor": 0,
 "metadata": {
  "colab": {
   "provenance": []
  },
  "kernelspec": {
   "name": "python3",
   "display_name": "Python 3"
  },
  "language_info": {
   "name": "python"
  }
 },
 "cells": [
  {
   "cell_type": "code",
   "execution_count": null,
   "metadata": {
    "id": "1ZSpfjx701H-"
   },
   "outputs": [],
   "source": "# %pip install transformers torch"
  },
  {
   "cell_type": "code",
   "source": [
    "text = \"\"\"A sixteen year-old girl, presented to our Outpatient department with the complaints of discomfort in the neck and lower back as well as restriction of body movements.\n",
    "She was not able to maintain an erect posture and would tend to fall on either side while standing up from a sitting position. She would keep her head turned to the\n",
    "right and upwards due to the sustained contraction of the neck muscles. There was a sideways bending of the back in the lumbar region. To counter the abnormal positioning\n",
    "of the back and neck, she would keep her limbs in a specific position to allow her body weight to be supported. Due to the restrictions with the body movements at the neck\n",
    "and in the lumbar region, she would require assistance in standing and walking. She would require her parents to help her with daily chores, including all activities of self-care.\n",
    "She had been experiencing these difficulties for the past four months since when she was introduced to olanzapine tablets for the control of her exacerbated mental illness.\n",
    "This was not her first experience with this drug over the past seven years since she had been diagnosed with bipolar affective disorder.\n",
    "Her first episode of the affective disorder was that of mania at the age of eleven which was managed with the use of olanzapine tablets in 2.5–10 mg doses per day at different times.\n",
    "The patient developed pain and discomfort in her neck within the second week of being put on tablet olanzapine at a dose of 5 mg per day.\n",
    "This was associated with a sustained and abnormal contraction of the neck muscles that would pull her head to the right in an upward direction.\n",
    "These features had persisted for the first three years of her illness with a varying intensity, distress, and dysfunction which would tend to correlate with the dose of olanzapine.\n",
    "Apart from a brief period of around three weeks when she was given tablet trihexyphenidyl 4 mg per day for rigidity in her upper limbs, she was not prescribed any other psychotropic medication.\n",
    "The rigidity showed good response to this medication which was subsequently\"\"\""
   ],
   "metadata": {
    "id": "jKJ83qr-2McC"
   },
   "execution_count": 31,
   "outputs": []
  },
  {
   "cell_type": "markdown",
   "source": [
    "**CLINICAL-BERT NER + SPACY**"
   ],
   "metadata": {
    "id": "7iO1EyrV30T8"
   }
  },
  {
   "cell_type": "code",
   "source": [
    "import re\n",
    "from transformers import AutoTokenizer, AutoModelForTokenClassification, pipeline\n",
    "\n",
    "model_name = \"samrawal/bert-base-uncased_clinical-ner\"\n",
    "tokenizer = AutoTokenizer.from_pretrained(model_name)\n",
    "model = AutoModelForTokenClassification.from_pretrained(model_name)\n",
    "\n",
    "ner_pipeline = pipeline(\"ner\", model=model, tokenizer=tokenizer, aggregation_strategy=\"simple\")\n",
    "\n",
    "ner_results = ner_pipeline(text)\n",
    "\n",
    "# Print results\n",
    "for entity in ner_results:\n",
    "    print(f\"{entity['word']} ({entity['entity_group']}) → score: {entity['score']:.2f}\")\n",
    "\n",
    "# Map of masked intervals\n",
    "to_mask = []\n",
    "for entity in ner_results:\n",
    "    if entity[\"entity_group\"] in {\"problem\", \"treatment\"}:\n",
    "        to_mask.append((entity[\"start\"], entity[\"end\"]))\n",
    "\n",
    "# Function to mask words mantaining first two letter (eg. nack --> na**)\n",
    "def mask_word(word):\n",
    "    if len(word) <= 2:\n",
    "        return word\n",
    "    return word[:2] + \"*\" * (len(word) - 2)\n",
    "\n",
    "# Mask words in specif ranges\n",
    "masked_text = \"\"\n",
    "i = 0\n",
    "for start, end in sorted(to_mask):\n",
    "    masked_text += text[i:start]\n",
    "    original = text[start:end]\n",
    "    masked = re.sub(r'\\b\\w+\\b', lambda m: mask_word(m.group()), original)\n",
    "    masked_text += masked\n",
    "    i = end\n",
    "\n",
    "masked_text += text[i:]\n",
    "\n",
    "print(\"\\nMasked text (first two letter are visible for PROBLEM/TREATMENT):\\n\")\n",
    "print(masked_text)"
   ],
   "metadata": {
    "colab": {
     "base_uri": "https://localhost:8080/"
    },
    "id": "uDiybVSk3muU",
    "outputId": "295154c0-0987-45e7-982a-c6e7d822006f"
   },
   "execution_count": 32,
   "outputs": [
    {
     "output_type": "stream",
     "name": "stderr",
     "text": [
      "Device set to use cpu\n"
     ]
    },
    {
     "output_type": "stream",
     "name": "stdout",
     "text": [
      "discomfort in the neck and lower back (problem) → score: 1.00\n",
      "restriction of body movements (problem) → score: 0.71\n",
      "the sustained contraction of the neck muscles (problem) → score: 1.00\n",
      "a sideways bending of the back (problem) → score: 0.96\n",
      "the abnormal positioning of the back and neck (problem) → score: 0.98\n",
      "the restrictions (problem) → score: 0.55\n",
      "the body (problem) → score: 0.60\n",
      "these difficulties (problem) → score: 0.99\n",
      "olanza (treatment) → score: 0.84\n",
      "##pine tablets (treatment) → score: 0.76\n",
      "her exacerbated mental illness (problem) → score: 0.99\n",
      "this drug (treatment) → score: 0.95\n",
      "bipolar affective disorder (problem) → score: 1.00\n",
      "the affective disorder (problem) → score: 1.00\n",
      "mania (problem) → score: 1.00\n",
      "olanzapine tablets (treatment) → score: 1.00\n",
      "pain and (problem) → score: 0.94\n",
      "discomfort in her neck (problem) → score: 0.88\n",
      "tablet olanzapine (treatment) → score: 0.99\n",
      "a sustained and abnormal contraction of the neck muscles (problem) → score: 1.00\n",
      "these features (problem) → score: 0.92\n",
      "her illness (problem) → score: 0.92\n",
      "intensity (problem) → score: 0.57\n",
      "distress (problem) → score: 0.97\n",
      "dysfunction (problem) → score: 0.77\n",
      "olanzapine (treatment) → score: 0.98\n",
      "tablet trihexyphenidyl (treatment) → score: 0.99\n",
      "rigidity in her upper limbs (problem) → score: 0.99\n",
      "any other psychotropic medication (treatment) → score: 0.95\n",
      "the rigidity (problem) → score: 1.00\n",
      "this medication (treatment) → score: 0.99\n",
      "\n",
      "Testo mascherato (prime due lettere visibili per PROBLEM/TREATMENT):\n",
      "\n",
      "A sixteen year-old girl, presented to our Outpatient department with the complaints of di******** in th* ne** an* lo*** ba** as well as re********* of bo** mo*******.\n",
      "She was not able to maintain an erect posture and would tend to fall on either side while standing up from a sitting position. She would keep her head turned to the\n",
      "right and upwards due to th* su******* co********* of th* ne** mu*****. There was a si****** be***** of th* ba** in the lumbar region. To counter th* ab****** po*********\n",
      "of th* ba** an* ne**, she would keep her limbs in a specific position to allow her body weight to be supported. Due to th* re********** with th* bo** movements at the neck\n",
      "and in the lumbar region, she would require assistance in standing and walking. She would require her parents to help her with daily chores, including all activities of self-care.\n",
      "She had been experiencing th*** di********** for the past four months since when she was introduced to ol****pi** ta***** for the control of he* ex********* me**** il*****.\n",
      "This was not her first experience with th** dr** over the past seven years since she had been diagnosed with bi***** af******* di******.\n",
      "Her first episode of th* af******* di****** was that of ma*** at the age of eleven which was managed with the use of ol******** ta***** in 2.5–10 mg doses per day at different times.\n",
      "The patient developed pa** an* di******** in he* ne** within the second week of being put on ta**** ol******** at a dose of 5 mg per day.\n",
      "This was associated with a su******* an* ab****** co********* of th* ne** mu***** that would pull her head to the right in an upward direction.\n",
      "Th*** fe****** had persisted for the first three years of he* il***** with a varying in*******, di******, and dy********* which would tend to correlate with the dose of ol********.\n",
      "Apart from a brief period of around three weeks when she was given ta**** tr************* 4 mg per day for ri****** in he* up*** li***, she was not prescribed an* ot*** ps********** me********.\n",
      "Th* ri****** showed good response to th** me******** which was subsequently\n"
     ]
    }
   ]
  },
  {
   "cell_type": "code",
   "source": [
    "import spacy\n",
    "spacy.cli.download(\"en_core_web_lg\")"
   ],
   "metadata": {
    "id": "MB6kKSJM-9VF"
   },
   "execution_count": null,
   "outputs": []
  },
  {
   "cell_type": "code",
   "source": [
    "nlp = spacy.load(\"en_core_web_lg\")\n",
    "\n",
    "text = masked_text\n",
    "\n",
    "doc = nlp(text)\n",
    "\n",
    "print(\"Entity found:\")\n",
    "for ent in doc.ents:\n",
    "    print(f\"Text: '{ent.text}' - Type: {ent.label_} - Start: {ent.start_char}, End: {ent.end_char}\")\n",
    "\n",
    "# Entity type to mask\n",
    "entities_to_mask = {\"PERSON\", \"NORP\", \"DATE\", \"CARDINAL\", \"QUANTITY\"}\n",
    "\n",
    "# List of masked intervals\n",
    "to_mask = []\n",
    "other_to_mask = []\n",
    "for ent in doc.ents:\n",
    "    if ent.label_ in entities_to_mask:\n",
    "        to_mask.append((ent.start_char, ent.end_char))\n",
    "    if ent.label_ in [\"CARDINAL\", \"QUANTITY\"]:\n",
    "        other_to_mask.append((ent.start_char, ent.end_char))\n",
    "\n",
    "# Mask words in specif ranges\n",
    "masked_text_new = \"\"\n",
    "i = 0\n",
    "for start, end in sorted(to_mask):\n",
    "    if (start, end) in other_to_mask:\n",
    "        masked_text_new += text[i:start]\n",
    "        masked_text_new += '*'\n",
    "        i = end\n",
    "        continue\n",
    "    masked_text_new += text[i:start]\n",
    "    original = text[start:end]\n",
    "    masked = re.sub(r'\\b\\w+\\b', lambda m: mask_word(m.group()), original)\n",
    "    masked_text_new += masked\n",
    "    i = end\n",
    "\n",
    "masked_text_new += text[i:]\n",
    "\n",
    "print(\"\\nMasked text (PERSON, NORP, DATE, CARDINAL, QUANTITY):\\n\")\n",
    "print(masked_text_new)"
   ],
   "metadata": {
    "colab": {
     "base_uri": "https://localhost:8080/"
    },
    "id": "ujbtgrHv5dW9",
    "outputId": "b60cd826-1077-44b2-e7fd-af7d99dbdcae"
   },
   "execution_count": 40,
   "outputs": [
    {
     "output_type": "stream",
     "name": "stdout",
     "text": [
      "Entità trovate:\n",
      "Testo: 'sixteen year-old' - Tipo: DATE - Inizio: 2, Fine: 18\n",
      "Testo: 'Outpatient' - Tipo: DATE - Inizio: 42, Fine: 52\n",
      "Testo: 'the past four months' - Tipo: DATE - Inizio: 904, Fine: 924\n",
      "Testo: 'first' - Tipo: ORDINAL - Inizio: 1045, Fine: 1050\n",
      "Testo: 'the past seven years' - Tipo: DATE - Inizio: 1082, Fine: 1102\n",
      "Testo: 'first' - Tipo: ORDINAL - Inizio: 1169, Fine: 1174\n",
      "Testo: 'the age of eleven' - Tipo: DATE - Inizio: 1230, Fine: 1247\n",
      "Testo: '2.5–10' - Tipo: CARDINAL - Inizio: 1304, Fine: 1310\n",
      "Testo: 'the second week' - Tipo: DATE - Inizio: 1409, Fine: 1424\n",
      "Testo: '5 mg' - Tipo: QUANTITY - Inizio: 1472, Fine: 1476\n",
      "Testo: 'the first three years' - Tipo: DATE - Inizio: 1663, Fine: 1684\n",
      "Testo: 'around three weeks' - Tipo: DATE - Inizio: 1840, Fine: 1858\n",
      "Testo: '4 mg' - Tipo: QUANTITY - Inizio: 1901, Fine: 1905\n",
      "\n",
      "Testo mascherato (PERSON, NORP, DATE, CARDINAL, QUANTITY):\n",
      "\n",
      "A si***** ye**-ol* girl, presented to our Ou******** department with the complaints of di******** in th* ne** an* lo*** ba** as well as re********* of bo** mo*******.\n",
      "She was not able to maintain an erect posture and would tend to fall on either side while standing up from a sitting position. She would keep her head turned to the\n",
      "right and upwards due to th* su******* co********* of th* ne** mu*****. There was a si****** be***** of th* ba** in the lumbar region. To counter th* ab****** po*********\n",
      "of th* ba** an* ne**, she would keep her limbs in a specific position to allow her body weight to be supported. Due to th* re********** with th* bo** movements at the neck\n",
      "and in the lumbar region, she would require assistance in standing and walking. She would require her parents to help her with daily chores, including all activities of self-care.\n",
      "She had been experiencing th*** di********** for th* pa** fo** mo**** since when she was introduced to ol****pi** ta***** for the control of he* ex********* me**** il*****.\n",
      "This was not her first experience with th** dr** over th* pa** se*** ye*** since she had been diagnosed with bi***** af******* di******.\n",
      "Her first episode of th* af******* di****** was that of ma*** at th* ag* of el**** which was managed with the use of ol******** ta***** in * mg doses per day at different times.\n",
      "The patient developed pa** an* di******** in he* ne** within th* se**** we** of being put on ta**** ol******** at a dose of * per day.\n",
      "This was associated with a su******* an* ab****** co********* of th* ne** mu***** that would pull her head to the right in an upward direction.\n",
      "Th*** fe****** had persisted for th* fi*** th*** ye*** of he* il***** with a varying in*******, di******, and dy********* which would tend to correlate with the dose of ol********.\n",
      "Apart from a brief period of ar**** th*** we*** when she was given ta**** tr************* * per day for ri****** in he* up*** li***, she was not prescribed an* ot*** ps********** me********.\n",
      "Th* ri****** showed good response to th** me******** which was subsequently\n"
     ]
    }
   ]
  },
  {
   "cell_type": "markdown",
   "source": [
    "**GPT 4o**"
   ],
   "metadata": {
    "id": "K2KHHcDlJR0m"
   }
  },
  {
   "cell_type": "markdown",
   "source": [
    "**PROMPT**\n",
    "\n",
    "Sei un assistente AI specializzato nell'anonimizzare le informazioni sensibili in ambito medico secondo gli standard imposti dal GDPR rispetto alle leggi 4 e 9.\n",
    "\n",
    "Dato il seguente testo:\n",
    "\n",
    "\"A sixteen year-old girl, presented to our Outpatient department with the complaints of discomfort in the neck and lower back as well as restriction of body movements. She was not able to maintain an erect posture and would tend to fall on either side while standing up from a sitting position. She would keep her head turned to the right and upwards due to the sustained contraction of the neck muscles. There was a sideways bending of the back in the lumbar region. To counter the abnormal positioning of the back and neck, she would keep her limbs in a specific position to allow her body weight to be supported. Due to the restrictions with the body movements at the neck and in the lumbar region, she would require assistance in standing and walking. She would require her parents to help her with daily chores, including all activities of self-care.\n",
    "She had been experiencing these difficulties for the past four months since when she was introduced to olanzapine tablets for the control of her exacerbated mental illness. This was not her first experience with this drug over the past seven years since she had been diagnosed with bipolar affective disorder. Her first episode of the affective disorder was that of mania at the age of eleven which was managed with the use of olanzapine tablets in 2.5–10 mg doses per day at different times. The patient developed pain and discomfort in her neck within the second week of being put on tablet olanzapine at a dose of 5 mg per day. This was associated with a sustained and abnormal contraction of the neck muscles that would pull her head to the right in an upward direction. These features had persisted for the first three years of her illness with a varying intensity, distress, and dysfunction which would tend to correlate with the dose of olanzapine. Apart from a brief period of around three weeks when she was given tablet trihexyphenidyl 4 mg per day for rigidity in her upper limbs, she was not prescribed any other psychotropic medication. The rigidity showed good response to this medication which was subsequently\"\n",
    "\n",
    "Applica la tecnica del Data Masking (mascheramento parziale delle entità sensibili). Le entità sensibili riguardano:\n",
    "- Età, nome e sesso del paziente\n",
    "- Diagnosi psichiatrica e storia clinica dettagliata\n",
    "- Terapie farmacologiche specifiche (olanzapina, trihexyphenidyl) e relative quantità\n",
    "- Effetti collaterali e sintomi neurologici/motori\n",
    "- Dati funzionali e relativi all’autonomia personale\n",
    "- Cronologia clinica e terapeutica dettagliata\n",
    "\n",
    "Ad esempio data la frase:\n",
    "\n",
    "\"A sixteen year-old girl, presented to our Outpatient department with the complaints of discomfort in the neck and lower back as well as restriction of body movements. Her first episode of the affective disorder was that of mania at the age of eleven which was managed with the use of olanzapine tablets in 2.5–10 mg doses per day at different times.\"\n",
    "\n",
    "Diventa:\n",
    "\n",
    "```A si***** ye**-ol* girl, presented to our Ou******** department with the complaints of di******** in th* ne** an* lo*** ba** as well as re********* of bo** mo*******.Her first episode of th* af******* di****** was that of ma*** at th* ag* of el**** which was managed with the use of ol******** ta***** in * mg doses per day at different times.```"
   ],
   "metadata": {
    "id": "IaanAW_qJgyU"
   }
  },
  {
   "cell_type": "markdown",
   "source": [
    "**RESULT**\n",
    "\n",
    "```A si****** ye**-ol* gi**, presented to our Ou******** department with the complaints of di******** in th* ne** an* lo*** ba** as well as re********* of bo** mo*******. She was not able to maintain an er*** po****** and would tend to fall on either side while standing up from a sitting position. She would keep her head turned to the ri*** and up***** due to the su******* co******** of the ne** mu******. There was a si****** be****** of the ba** in the lu****re*****. To counter the ab****** po********* of the ba** and ne**, she would keep her li*** in a sp****** po****** to allow her bo** we**** to be supported. Due to the re********* with the bo** mo******* at the ne** and in the lu**** re*****, she would require assistance in standing and walking. She would require her pa****** to help her with da** ch****, including all ac********* of se**-ca**. She had been experiencing these difficulties for the past fo** mo**** since when she was introduced to ol******** ta***** for the control of her ex********* me**** ill****. This was not her first experience with this dr** over the past se*** ye*** since she had been diagnosed with bi***** af******* di******. Her first episode of th* af******* di****** was that of ma*** at th* ag* of el**** which was managed with the use of ol******** ta***** in –* mg doses per day at different times. The patient developed pa** and di******** in her ne** within the se**** we** of being put on tablet ol******** at a dose of * mg per day. This was associated with a su******* and ab****** co******** of the ne** mu****** that would pull her head to the ri*** in an up***** di*******. These features had persisted for the first th*** ye*** of her ill**** with a varying intensity, distress, and dysfunction which would tend to correlate with the dose of ol********. Apart from a brief period of around th*** we*** when she was given tablet tr************* * mg per day for ri****** in her up*** li***, she was not prescribed any other ps********* me********. The ri****** showed good response to this me******** which was subsequently.```"
   ],
   "metadata": {
    "id": "ivBWgbFtK-DI"
   }
  },
  {
   "metadata": {},
   "cell_type": "markdown",
   "source": ""
  },
  {
   "metadata": {},
   "cell_type": "markdown",
   "source": ""
  }
 ]
}
